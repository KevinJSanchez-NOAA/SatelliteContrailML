{
 "cells": [
  {
   "cell_type": "markdown",
   "id": "d4ea7090-2a21-46f5-ae21-e3e50b2f77f2",
   "metadata": {},
   "source": [
    "<a name='1'></a>\n",
    "## Import Packages and load data"
   ]
  },
  {
   "cell_type": "code",
   "execution_count": 1,
   "id": "deb437a0-ae1e-4c58-83f8-4f78626be60d",
   "metadata": {},
   "outputs": [
    {
     "name": "stdout",
     "output_type": "stream",
     "text": [
      "OrderedDict([('cpu_compiler', '/home/builder/ktietz/aggregate/tensorflow_recipes/ci_cpu/tensorflow-base_1614583966145/_build_env/bin/x86_64-conda_cos6-linux-gnu-gcc'), ('cuda_compute_capabilities', ['compute_35', 'compute_52', 'compute_60', 'compute_61', 'compute_70', 'compute_75']), ('cuda_version', '10.1'), ('cudnn_version', '7'), ('is_cuda_build', True), ('is_rocm_build', False)])\n",
      "cuda version:  10.1\n",
      "cudNN version:  7\n",
      "TF version:  2.4.1\n",
      "5924\n",
      "5924\n"
     ]
    }
   ],
   "source": [
    "### -*- coding: utf-8 -*-\n",
    "\"\"\"\n",
    "Created on Mon May 24 13:26:13 2021\n",
    "\n",
    "@author: kjsanche\n",
    "\n",
    "Description: \n",
    "A function to load the 5 minute granules from MODIS channel 1 \n",
    "(0.65 microns) and the contrail mask for ML with a CNN.\n",
    "\n",
    "To do:\n",
    "ASAP:\n",
    "-create blacklist of images to exclude (if images are to big)\n",
    "-separate testing data\n",
    "-plot testing data vs mask\n",
    "\n",
    "\n",
    "\n",
    "lower priority:\n",
    "-optimize image shape by transforming back to original satellite swath projection\n",
    "-save and set up to load data as tfrecord\n",
    "-organize/markdown/comment code\n",
    "\n",
    "\n",
    "Input:\n",
    "Path   (string)\n",
    "\n",
    "        \n",
    "        \n",
    "Output:\n",
    "MODISCh1 (2D uint32)\n",
    "MASK     (2D uint16)\n",
    "\"\"\"\n",
    "\n",
    "\n",
    "from matplotlib import pyplot as plt\n",
    "%matplotlib inline\n",
    "import numpy as np\n",
    "import struct\n",
    "import os\n",
    "import glob\n",
    "import cv2\n",
    "from UNET_Functions import unet_model, summary\n",
    "from Sat_contrail_read import Extract_RawDef, extract_img, extract_mask, extract_imglist, get_model_memory_usage\n",
    "from scipy.spatial import ConvexHull\n",
    "from scipy.ndimage import rotate\n",
    "from format_input import *\n",
    "import tensorflow as tf\n",
    "\n",
    "sys_details = tf.sysconfig.get_build_info()\n",
    "print(sys_details)\n",
    "cudnn_version = sys_details[\"cudnn_version\"]\n",
    "cuda_version = sys_details[\"cuda_version\"]\n",
    "\n",
    "print('cuda version: ', cuda_version)\n",
    "print('cudNN version: ',cudnn_version)\n",
    "print('TF version: ', tf.version.VERSION)\n",
    "\n",
    "\n",
    "\n",
    "#tf.compat.v1.disable_eager_execution()\n",
    "#tf.compat.v1.experimental.output_all_intermediates(True) \n",
    "path = os.getcwd()\n",
    "proj_path = os.path.normpath(path + os.sep + os.pardir) #get parent directory\n",
    "image_path = '/home/kjsanche/Desktop/ExternalSSD/SatContrailData/' #os.path.join(proj_path, 'data/')\n",
    "save_TFrecord_path = '/home/kjsanche/Desktop/ExternalSSD/SatContrailData/TFrecords/' \n",
    "\n",
    "\n",
    "image0065, image0380, image0680, image0850, image1100, image1200, image1330, AUX_list, mask_list = extract_imglist(image_path)\n",
    "\n",
    "N = len(image0065)\n",
    "print(N)\n",
    "print(len(image0380))"
   ]
  },
  {
   "cell_type": "markdown",
   "id": "3b38ec73-a0fb-44a8-9c96-c15a6e094d7d",
   "metadata": {},
   "source": [
    "## extract image dimensions"
   ]
  },
  {
   "cell_type": "code",
   "execution_count": 2,
   "id": "559d3ea0-5d48-4dd4-95d3-0a2a01463fb6",
   "metadata": {},
   "outputs": [],
   "source": [
    "dim = Extract_RawDef(AUX_list)"
   ]
  },
  {
   "cell_type": "raw",
   "id": "a37d8304-004f-48f0-8f6f-3d3d00aeb60c",
   "metadata": {},
   "source": [
    "for path in zip(img1100_list_ds.take(3), mask_list_ds.take(3)):\n",
    "    print(path)"
   ]
  },
  {
   "cell_type": "markdown",
   "id": "c2d5b6aa-f366-4cd9-b425-6357a187da43",
   "metadata": {},
   "source": [
    "## make dataset"
   ]
  },
  {
   "cell_type": "code",
   "execution_count": 3,
   "id": "b6e7d274-a27b-4cae-a890-740e141c1323",
   "metadata": {},
   "outputs": [
    {
     "name": "stdout",
     "output_type": "stream",
     "text": [
      "(5924,)\n",
      "(5924,)\n"
     ]
    }
   ],
   "source": [
    "img0065_filenames = tf.constant(image0065)\n",
    "img0380_filenames = tf.constant(image0380)\n",
    "img0680_filenames = tf.constant(image0680)\n",
    "img0850_filenames = tf.constant(image0850)\n",
    "img1100_filenames = tf.constant(image1100)\n",
    "img1200_filenames = tf.constant(image1200)\n",
    "img1330_filenames = tf.constant(image1330)\n",
    "\n",
    "masks_filenames = tf.constant(mask_list)\n",
    "print(img1100_filenames.shape)\n",
    "print(masks_filenames.shape)\n",
    "dataset = tf.data.Dataset.from_tensor_slices((img0065_filenames, img0380_filenames, img0680_filenames, img0850_filenames, img1100_filenames, img1200_filenames, img1330_filenames, masks_filenames, dim))\n",
    "#print(dataset)"
   ]
  },
  {
   "cell_type": "code",
   "execution_count": 4,
   "id": "4c91ac33-4329-4868-a728-f8fbd8c41682",
   "metadata": {},
   "outputs": [
    {
     "name": "stdout",
     "output_type": "stream",
     "text": [
      "<MapDataset shapes: ((4096, 4096, 7), (4096, 4096, 1)), types: (tf.float16, tf.int8)>\n"
     ]
    }
   ],
   "source": [
    "def process_path(img0065_path, img0380_path, img0680_path, img0850_path, img1100_path, img1200_path, img1330_path, mask_path,dim):\n",
    "# convert binary files to matrix of integers\n",
    "\n",
    "    img1 = extract_img(str(img0065_path.numpy().decode('ascii')),int(dim[0].numpy()),int(dim[1].numpy()))\n",
    "    img2 = extract_img(str(img0380_path.numpy().decode('ascii')),int(dim[0].numpy()),int(dim[1].numpy()))\n",
    "    img3 = extract_img(str(img0680_path.numpy().decode('ascii')),int(dim[0].numpy()),int(dim[1].numpy()))\n",
    "    img4 = extract_img(str(img0850_path.numpy().decode('ascii')),int(dim[0].numpy()),int(dim[1].numpy()))\n",
    "    img5 = extract_img(str(img1100_path.numpy().decode('ascii')),int(dim[0].numpy()),int(dim[1].numpy()))\n",
    "    img6 = extract_img(str(img1200_path.numpy().decode('ascii')),int(dim[0].numpy()),int(dim[1].numpy()))\n",
    "    img7 = extract_img(str(img1330_path.numpy().decode('ascii')),int(dim[0].numpy()),int(dim[1].numpy()))\n",
    "\n",
    "    img = np.concatenate((img1, img2, img3, img4, img5, img6, img7), axis=2)\n",
    "    \n",
    "    mask = extract_mask(str(mask_path.numpy().decode('ascii')),int(dim[0].numpy()),int(dim[1].numpy()))\n",
    "   \n",
    "    return tf.convert_to_tensor(img,dtype=tf.float16), tf.convert_to_tensor(mask,dtype=tf.int8)\n",
    "\n",
    "def preprocess(image, mask):\n",
    "    input_image = tf.image.resize(image, (2048, 4096), method='nearest')\n",
    "    #print(img)\n",
    "    input_mask = tf.image.resize(mask, (2048, 4096), method='nearest')\n",
    "    #input_image(input_image>0) = 1\n",
    "    input_image = (input_image-25500) / np.float16(7500) # assuming range of 180-330 K (BT is multiplied by 100)\n",
    "\n",
    "    return input_image, input_mask\n",
    "\n",
    "def _set_shapes(img, mask):\n",
    "    img.set_shape([4096, 4096, 7])\n",
    "    mask.set_shape([4096, 4096, 1])\n",
    "\n",
    "    return img, mask \n",
    "\n",
    "#print(dataset)\n",
    "image_ds = dataset.map(lambda aa, bb, cc, dd, ee, ff, gg, hh, ii: tf.py_function(process_path, [aa, bb, cc, dd, ee, ff, gg, hh, ii], [tf.float16, tf.int8]))\n",
    "image_ds = image_ds.map(_set_shapes)\n",
    "print(image_ds)\n",
    "#processed_image_ds = image_ds.map(preprocess)\n",
    "\n",
    "#print(processed_image_ds)"
   ]
  },
  {
   "cell_type": "code",
   "execution_count": 5,
   "id": "c4073e92-44b2-451c-ab1a-3173fb9b4c7b",
   "metadata": {},
   "outputs": [],
   "source": [
    "def display(display_list):\n",
    "    plt.figure(figsize=(15, 15))\n",
    "\n",
    "    title = ['Input Image', 'True Mask', 'Predicted Mask']\n",
    "\n",
    "    for i in range(len(display_list)):\n",
    "        plt.subplot(1, len(display_list), i+1)\n",
    "        plt.title(title[i])\n",
    "        print(i)\n",
    "        print(display_list[i].shape)\n",
    "        if i == 0:\n",
    "            plt.imshow(np.float32(display_list[i][:,:,0]-display_list[i][:,:,1]))\n",
    "        else:\n",
    "            plt.imshow(np.float32(1*display_list[i]))\n",
    "        plt.axis('off')\n",
    "    plt.show()"
   ]
  },
  {
   "cell_type": "markdown",
   "id": "95823e8e-cea2-4843-a8a1-88d23a1950da",
   "metadata": {},
   "source": [
    "The below code cell uses a lot of memory and therefore should not be used during training."
   ]
  },
  {
   "cell_type": "raw",
   "id": "0b19460a-73a7-4864-9525-8a2ae348e154",
   "metadata": {},
   "source": [
    "for image, mask in image_ds.take(1):\n",
    "    sample_image, sample_mask = image, mask\n",
    "    #print(mask.shape)\n",
    "display([sample_image, sample_mask])\n",
    "print('mem usage: ', tf.config.experimental.get_memory_usage(\"GPU:0\"))"
   ]
  },
  {
   "cell_type": "code",
   "execution_count": 6,
   "id": "eb5a0955-6d0d-4d04-9121-699b51606b3c",
   "metadata": {},
   "outputs": [
    {
     "name": "stdout",
     "output_type": "stream",
     "text": [
      "(4096, 4096, 7)\n"
     ]
    }
   ],
   "source": [
    "for image, mask in image_ds.take(1):\n",
    "    sample_image, sample_mask = image, mask\n",
    "print(sample_image.shape)\n",
    "\n"
   ]
  },
  {
   "cell_type": "code",
   "execution_count": 7,
   "id": "3fd1a6d0-4c97-4d47-ace8-0ba0acb10ede",
   "metadata": {},
   "outputs": [],
   "source": [
    "def rotate_img(image, angle):\n",
    "    rotated_image =  rotate(np.float32(image), angle=angle, reshape=True, order=0)\n",
    "    #zoom into minimum bounding rectangle\n",
    "    y_min, y_max, x_min, x_max = [np.min(np.nonzero(rotated_image)[0][:]), np.max(np.nonzero(rotated_image)[0][:]), np.min(np.nonzero(rotated_image)[1][:]), np.max(np.nonzero(rotated_image)[1][:])]\n",
    "\n",
    "    return rotated_image, y_min, y_max, x_min, x_max"
   ]
  },
  {
   "cell_type": "code",
   "execution_count": 8,
   "id": "eee85e54-e92a-4148-b2d6-4c3437997231",
   "metadata": {},
   "outputs": [],
   "source": [
    "def Rng_Extremes(x, rng):\n",
    "    mx = np.max(np.max(x))\n",
    "    x[x==0]=99999\n",
    "    mn = np.min(np.min(x))\n",
    "    x[x==99999]=0\n",
    "    if rng == []:\n",
    "        return [mn, mx]\n",
    "    if mn<rng[0]: \n",
    "        mn = mn\n",
    "    else:\n",
    "        mn = rng[0]\n",
    "    if mx>rng[1]: \n",
    "        mx = mx\n",
    "    else:\n",
    "        mx = rng[1]\n",
    "    return [mn, mx]\n",
    "        \n",
    "c1rng =[]\n",
    "c2rng =[]\n",
    "c3rng =[]\n",
    "c4rng =[]\n",
    "c5rng =[]\n",
    "c6rng =[]\n",
    "c7rng =[]"
   ]
  },
  {
   "cell_type": "code",
   "execution_count": null,
   "id": "ce536e82-71cc-4b32-92f1-10c709f95c06",
   "metadata": {},
   "outputs": [
    {
     "name": "stdout",
     "output_type": "stream",
     "text": [
      "MYD021KM-A2018100.0350\n",
      "(1, 512, 1024)\n",
      "(1, 512, 1024, 8)\n",
      "\n",
      "Using 1 shard(s) for 1 files, with up to 1 samples per shard\n"
     ]
    },
    {
     "name": "stderr",
     "output_type": "stream",
     "text": [
      "100%|██████████| 1/1 [00:00<00:00, 36.82it/s]"
     ]
    },
    {
     "name": "stdout",
     "output_type": "stream",
     "text": [
      "\n",
      "Wrote 1 elements to TFRecord\n"
     ]
    },
    {
     "name": "stderr",
     "output_type": "stream",
     "text": [
      "\n"
     ]
    },
    {
     "name": "stdout",
     "output_type": "stream",
     "text": [
      "MYD021KM-A2018100.0845\n",
      "(1, 512, 1024)\n",
      "(1, 512, 1024, 8)\n",
      "\n",
      "Using 1 shard(s) for 1 files, with up to 1 samples per shard\n"
     ]
    },
    {
     "name": "stderr",
     "output_type": "stream",
     "text": [
      "100%|██████████| 1/1 [00:00<00:00, 49.23it/s]"
     ]
    },
    {
     "name": "stdout",
     "output_type": "stream",
     "text": [
      "\n",
      "Wrote 1 elements to TFRecord\n"
     ]
    },
    {
     "name": "stderr",
     "output_type": "stream",
     "text": [
      "\n"
     ]
    },
    {
     "name": "stdout",
     "output_type": "stream",
     "text": [
      "MYD021KM-A2018100.0710\n",
      "(1, 512, 1024)\n",
      "(1, 512, 1024, 8)\n",
      "\n",
      "Using 1 shard(s) for 1 files, with up to 1 samples per shard\n"
     ]
    },
    {
     "name": "stderr",
     "output_type": "stream",
     "text": [
      "100%|██████████| 1/1 [00:00<00:00, 38.58it/s]"
     ]
    },
    {
     "name": "stdout",
     "output_type": "stream",
     "text": [
      "\n",
      "Wrote 1 elements to TFRecord\n"
     ]
    },
    {
     "name": "stderr",
     "output_type": "stream",
     "text": [
      "\n"
     ]
    },
    {
     "name": "stdout",
     "output_type": "stream",
     "text": [
      "MYD021KM-A2018100.2345\n",
      "(1, 512, 1024)\n",
      "(1, 512, 1024, 8)\n",
      "\n",
      "Using 1 shard(s) for 1 files, with up to 1 samples per shard\n"
     ]
    },
    {
     "name": "stderr",
     "output_type": "stream",
     "text": [
      "100%|██████████| 1/1 [00:00<00:00, 48.82it/s]"
     ]
    },
    {
     "name": "stdout",
     "output_type": "stream",
     "text": [
      "\n",
      "Wrote 1 elements to TFRecord\n"
     ]
    },
    {
     "name": "stderr",
     "output_type": "stream",
     "text": [
      "\n"
     ]
    },
    {
     "name": "stdout",
     "output_type": "stream",
     "text": [
      "MYD021KM-A2018100.0605\n",
      "MYD021KM-A2018100.1040\n",
      "MYD021KM-A2018100.0700\n",
      "(1, 512, 1024)\n",
      "(1, 512, 1024, 8)\n",
      "\n",
      "Using 1 shard(s) for 1 files, with up to 1 samples per shard\n"
     ]
    },
    {
     "name": "stderr",
     "output_type": "stream",
     "text": [
      "100%|██████████| 1/1 [00:00<00:00, 42.23it/s]"
     ]
    },
    {
     "name": "stdout",
     "output_type": "stream",
     "text": [
      "\n",
      "Wrote 1 elements to TFRecord\n"
     ]
    },
    {
     "name": "stderr",
     "output_type": "stream",
     "text": [
      "\n"
     ]
    },
    {
     "name": "stdout",
     "output_type": "stream",
     "text": [
      "MYD021KM-A2018100.2015\n",
      "(1, 512, 1024)\n",
      "(1, 512, 1024, 8)\n",
      "\n",
      "Using 1 shard(s) for 1 files, with up to 1 samples per shard\n"
     ]
    },
    {
     "name": "stderr",
     "output_type": "stream",
     "text": [
      "100%|██████████| 1/1 [00:00<00:00, 52.67it/s]"
     ]
    },
    {
     "name": "stdout",
     "output_type": "stream",
     "text": [
      "\n",
      "Wrote 1 elements to TFRecord\n"
     ]
    },
    {
     "name": "stderr",
     "output_type": "stream",
     "text": [
      "\n"
     ]
    },
    {
     "name": "stdout",
     "output_type": "stream",
     "text": [
      "MYD021KM-A2018100.1200\n",
      "(1, 512, 1024)\n",
      "(1, 512, 1024, 8)\n",
      "\n",
      "Using 1 shard(s) for 1 files, with up to 1 samples per shard\n"
     ]
    },
    {
     "name": "stderr",
     "output_type": "stream",
     "text": [
      "100%|██████████| 1/1 [00:00<00:00, 40.42it/s]"
     ]
    },
    {
     "name": "stdout",
     "output_type": "stream",
     "text": [
      "\n",
      "Wrote 1 elements to TFRecord\n"
     ]
    },
    {
     "name": "stderr",
     "output_type": "stream",
     "text": [
      "\n"
     ]
    },
    {
     "name": "stdout",
     "output_type": "stream",
     "text": [
      "MYD021KM-A2018100.0025\n",
      "(1, 512, 1024)\n",
      "(1, 512, 1024, 8)\n",
      "\n",
      "Using 1 shard(s) for 1 files, with up to 1 samples per shard\n"
     ]
    },
    {
     "name": "stderr",
     "output_type": "stream",
     "text": [
      "100%|██████████| 1/1 [00:00<00:00, 53.93it/s]"
     ]
    },
    {
     "name": "stdout",
     "output_type": "stream",
     "text": [
      "\n",
      "Wrote 1 elements to TFRecord\n"
     ]
    },
    {
     "name": "stderr",
     "output_type": "stream",
     "text": [
      "\n"
     ]
    },
    {
     "name": "stdout",
     "output_type": "stream",
     "text": [
      "MYD021KM-A2018100.1350\n",
      "(1, 512, 1024)\n",
      "(1, 512, 1024, 8)\n",
      "\n",
      "Using 1 shard(s) for 1 files, with up to 1 samples per shard\n"
     ]
    },
    {
     "name": "stderr",
     "output_type": "stream",
     "text": [
      "100%|██████████| 1/1 [00:00<00:00, 42.66it/s]"
     ]
    },
    {
     "name": "stdout",
     "output_type": "stream",
     "text": [
      "\n",
      "Wrote 1 elements to TFRecord\n"
     ]
    },
    {
     "name": "stderr",
     "output_type": "stream",
     "text": [
      "\n"
     ]
    },
    {
     "name": "stdout",
     "output_type": "stream",
     "text": [
      "MYD021KM-A2018100.1900\n",
      "MYD021KM-A2018100.1730\n",
      "MYD021KM-A2018100.1340\n",
      "(1, 512, 1024)\n",
      "(1, 512, 1024, 8)\n",
      "\n",
      "Using 1 shard(s) for 1 files, with up to 1 samples per shard\n"
     ]
    },
    {
     "name": "stderr",
     "output_type": "stream",
     "text": [
      "100%|██████████| 1/1 [00:00<00:00, 52.32it/s]"
     ]
    },
    {
     "name": "stdout",
     "output_type": "stream",
     "text": [
      "\n",
      "Wrote 1 elements to TFRecord\n"
     ]
    },
    {
     "name": "stderr",
     "output_type": "stream",
     "text": [
      "\n"
     ]
    },
    {
     "name": "stdout",
     "output_type": "stream",
     "text": [
      "MYD021KM-A2018100.1835\n",
      "(1, 512, 1024)\n",
      "(1, 512, 1024, 8)\n",
      "\n",
      "Using 1 shard(s) for 1 files, with up to 1 samples per shard\n"
     ]
    },
    {
     "name": "stderr",
     "output_type": "stream",
     "text": [
      "100%|██████████| 1/1 [00:00<00:00, 52.65it/s]"
     ]
    },
    {
     "name": "stdout",
     "output_type": "stream",
     "text": [
      "\n",
      "Wrote 1 elements to TFRecord\n"
     ]
    },
    {
     "name": "stderr",
     "output_type": "stream",
     "text": [
      "\n"
     ]
    },
    {
     "name": "stdout",
     "output_type": "stream",
     "text": [
      "MYD021KM-A2018100.1405\n",
      "MYD021KM-A2018100.1650\n",
      "(1, 512, 1024)\n",
      "(1, 512, 1024, 8)\n",
      "\n",
      "Using 1 shard(s) for 1 files, with up to 1 samples per shard\n"
     ]
    },
    {
     "name": "stderr",
     "output_type": "stream",
     "text": [
      "100%|██████████| 1/1 [00:00<00:00, 53.55it/s]"
     ]
    },
    {
     "name": "stdout",
     "output_type": "stream",
     "text": [
      "\n",
      "Wrote 1 elements to TFRecord\n"
     ]
    },
    {
     "name": "stderr",
     "output_type": "stream",
     "text": [
      "\n"
     ]
    },
    {
     "name": "stdout",
     "output_type": "stream",
     "text": [
      "MYD021KM-A2018100.0205\n",
      "(1, 512, 1024)\n",
      "(1, 512, 1024, 8)\n",
      "\n",
      "Using 1 shard(s) for 1 files, with up to 1 samples per shard\n"
     ]
    },
    {
     "name": "stderr",
     "output_type": "stream",
     "text": [
      "100%|██████████| 1/1 [00:00<00:00, 49.78it/s]"
     ]
    },
    {
     "name": "stdout",
     "output_type": "stream",
     "text": [
      "\n",
      "Wrote 1 elements to TFRecord\n"
     ]
    },
    {
     "name": "stderr",
     "output_type": "stream",
     "text": [
      "\n"
     ]
    },
    {
     "name": "stdout",
     "output_type": "stream",
     "text": [
      "MYD021KM-A2018100.0235\n",
      "MYD021KM-A2018100.1850\n",
      "(1, 512, 1024)\n",
      "(1, 512, 1024, 8)\n",
      "\n",
      "Using 1 shard(s) for 1 files, with up to 1 samples per shard\n"
     ]
    },
    {
     "name": "stderr",
     "output_type": "stream",
     "text": [
      "100%|██████████| 1/1 [00:00<00:00, 47.43it/s]"
     ]
    },
    {
     "name": "stdout",
     "output_type": "stream",
     "text": [
      "\n",
      "Wrote 1 elements to TFRecord\n"
     ]
    },
    {
     "name": "stderr",
     "output_type": "stream",
     "text": [
      "\n"
     ]
    },
    {
     "name": "stdout",
     "output_type": "stream",
     "text": [
      "MYD021KM-A2018100.0745\n",
      "MYD021KM-A2018100.0110\n",
      "MYD021KM-A2018100.1055\n",
      "MYD021KM-A2018100.1030\n",
      "(1, 512, 1024)\n",
      "(1, 512, 1024, 8)\n",
      "\n",
      "Using 1 shard(s) for 1 files, with up to 1 samples per shard\n"
     ]
    },
    {
     "name": "stderr",
     "output_type": "stream",
     "text": [
      "100%|██████████| 1/1 [00:00<00:00, 45.29it/s]"
     ]
    },
    {
     "name": "stdout",
     "output_type": "stream",
     "text": [
      "\n",
      "Wrote 1 elements to TFRecord\n"
     ]
    },
    {
     "name": "stderr",
     "output_type": "stream",
     "text": [
      "\n"
     ]
    },
    {
     "name": "stdout",
     "output_type": "stream",
     "text": [
      "MYD021KM-A2018100.0855\n",
      "(1, 512, 1024)\n",
      "(1, 512, 1024, 8)\n",
      "\n",
      "Using 1 shard(s) for 1 files, with up to 1 samples per shard\n"
     ]
    },
    {
     "name": "stderr",
     "output_type": "stream",
     "text": [
      "100%|██████████| 1/1 [00:00<00:00, 53.74it/s]"
     ]
    },
    {
     "name": "stdout",
     "output_type": "stream",
     "text": [
      "\n",
      "Wrote 1 elements to TFRecord\n"
     ]
    },
    {
     "name": "stderr",
     "output_type": "stream",
     "text": [
      "\n"
     ]
    },
    {
     "name": "stdout",
     "output_type": "stream",
     "text": [
      "MYD021KM-A2018100.0030\n",
      "(1, 512, 1024)\n",
      "(1, 512, 1024, 8)\n",
      "\n",
      "Using 1 shard(s) for 1 files, with up to 1 samples per shard\n"
     ]
    },
    {
     "name": "stderr",
     "output_type": "stream",
     "text": [
      "100%|██████████| 1/1 [00:00<00:00, 52.34it/s]"
     ]
    },
    {
     "name": "stdout",
     "output_type": "stream",
     "text": [
      "\n",
      "Wrote 1 elements to TFRecord\n"
     ]
    },
    {
     "name": "stderr",
     "output_type": "stream",
     "text": [
      "\n"
     ]
    },
    {
     "name": "stdout",
     "output_type": "stream",
     "text": [
      "MYD021KM-A2018100.2230\n",
      "MYD021KM-A2018100.0055\n",
      "MYD021KM-A2018100.0105\n",
      "MYD021KM-A2018100.0220\n",
      "(1, 512, 1024)\n",
      "(1, 512, 1024, 8)\n",
      "\n",
      "Using 1 shard(s) for 1 files, with up to 1 samples per shard\n"
     ]
    },
    {
     "name": "stderr",
     "output_type": "stream",
     "text": [
      "100%|██████████| 1/1 [00:00<00:00, 56.79it/s]"
     ]
    },
    {
     "name": "stdout",
     "output_type": "stream",
     "text": [
      "\n",
      "Wrote 1 elements to TFRecord\n"
     ]
    },
    {
     "name": "stderr",
     "output_type": "stream",
     "text": [
      "\n"
     ]
    },
    {
     "name": "stdout",
     "output_type": "stream",
     "text": [
      "MYD021KM-A2018100.0840\n",
      "MYD021KM-A2018100.1400\n",
      "MYD021KM-A2018100.1910\n",
      "MYD021KM-A2018100.0410\n",
      "MYD021KM-A2018100.1825\n",
      "(1, 512, 1024)\n",
      "(1, 512, 1024, 8)\n",
      "\n",
      "Using 1 shard(s) for 1 files, with up to 1 samples per shard\n"
     ]
    },
    {
     "name": "stderr",
     "output_type": "stream",
     "text": [
      "100%|██████████| 1/1 [00:00<00:00, 44.60it/s]"
     ]
    },
    {
     "name": "stdout",
     "output_type": "stream",
     "text": [
      "\n",
      "Wrote 1 elements to TFRecord\n"
     ]
    },
    {
     "name": "stderr",
     "output_type": "stream",
     "text": [
      "\n"
     ]
    },
    {
     "name": "stdout",
     "output_type": "stream",
     "text": [
      "MYD021KM-A2018100.1010\n",
      "(1, 512, 1024)\n",
      "(1, 512, 1024, 8)\n",
      "\n",
      "Using 1 shard(s) for 1 files, with up to 1 samples per shard\n"
     ]
    },
    {
     "name": "stderr",
     "output_type": "stream",
     "text": [
      "100%|██████████| 1/1 [00:00<00:00, 53.53it/s]"
     ]
    },
    {
     "name": "stdout",
     "output_type": "stream",
     "text": [
      "\n",
      "Wrote 1 elements to TFRecord\n"
     ]
    },
    {
     "name": "stderr",
     "output_type": "stream",
     "text": [
      "\n"
     ]
    },
    {
     "name": "stdout",
     "output_type": "stream",
     "text": [
      "MYD021KM-A2018100.1335\n",
      "(1, 512, 1024)\n",
      "(1, 512, 1024, 8)\n",
      "\n",
      "Using 1 shard(s) for 1 files, with up to 1 samples per shard\n"
     ]
    },
    {
     "name": "stderr",
     "output_type": "stream",
     "text": [
      "100%|██████████| 1/1 [00:00<00:00, 54.95it/s]"
     ]
    },
    {
     "name": "stdout",
     "output_type": "stream",
     "text": [
      "\n",
      "Wrote 1 elements to TFRecord\n"
     ]
    },
    {
     "name": "stderr",
     "output_type": "stream",
     "text": [
      "\n"
     ]
    },
    {
     "name": "stdout",
     "output_type": "stream",
     "text": [
      "MYD021KM-A2018100.0355\n",
      "(1, 512, 1024)\n",
      "(1, 512, 1024, 8)\n",
      "\n",
      "Using 1 shard(s) for 1 files, with up to 1 samples per shard\n"
     ]
    },
    {
     "name": "stderr",
     "output_type": "stream",
     "text": [
      "100%|██████████| 1/1 [00:00<00:00, 52.54it/s]"
     ]
    },
    {
     "name": "stdout",
     "output_type": "stream",
     "text": [
      "\n",
      "Wrote 1 elements to TFRecord\n"
     ]
    },
    {
     "name": "stderr",
     "output_type": "stream",
     "text": [
      "\n"
     ]
    },
    {
     "name": "stdout",
     "output_type": "stream",
     "text": [
      "MYD021KM-A2018100.0705\n",
      "(1, 512, 1024)\n",
      "(1, 512, 1024, 8)\n",
      "\n",
      "Using 1 shard(s) for 1 files, with up to 1 samples per shard\n"
     ]
    },
    {
     "name": "stderr",
     "output_type": "stream",
     "text": [
      "100%|██████████| 1/1 [00:00<00:00, 50.88it/s]"
     ]
    },
    {
     "name": "stdout",
     "output_type": "stream",
     "text": [
      "\n",
      "Wrote 1 elements to TFRecord\n"
     ]
    },
    {
     "name": "stderr",
     "output_type": "stream",
     "text": [
      "\n"
     ]
    },
    {
     "name": "stdout",
     "output_type": "stream",
     "text": [
      "MYD021KM-A2018100.2330\n",
      "(1, 512, 1024)\n",
      "(1, 512, 1024, 8)\n",
      "\n",
      "Using 1 shard(s) for 1 files, with up to 1 samples per shard\n"
     ]
    },
    {
     "name": "stderr",
     "output_type": "stream",
     "text": [
      "100%|██████████| 1/1 [00:00<00:00, 52.20it/s]"
     ]
    },
    {
     "name": "stdout",
     "output_type": "stream",
     "text": [
      "\n",
      "Wrote 1 elements to TFRecord\n"
     ]
    },
    {
     "name": "stderr",
     "output_type": "stream",
     "text": [
      "\n"
     ]
    },
    {
     "name": "stdout",
     "output_type": "stream",
     "text": [
      "MYD021KM-A2018100.1540\n",
      "MYD021KM-A2018100.0725\n",
      "MYD021KM-A2018100.0515\n",
      "(1, 512, 1024)\n",
      "(1, 512, 1024, 8)\n",
      "\n",
      "Using 1 shard(s) for 1 files, with up to 1 samples per shard\n"
     ]
    },
    {
     "name": "stderr",
     "output_type": "stream",
     "text": [
      "100%|██████████| 1/1 [00:00<00:00, 54.42it/s]"
     ]
    },
    {
     "name": "stdout",
     "output_type": "stream",
     "text": [
      "\n",
      "Wrote 1 elements to TFRecord\n"
     ]
    },
    {
     "name": "stderr",
     "output_type": "stream",
     "text": [
      "\n"
     ]
    },
    {
     "name": "stdout",
     "output_type": "stream",
     "text": [
      "MYD021KM-A2018100.2355\n",
      "MYD021KM-A2018100.1645\n",
      "(1, 512, 1024)\n",
      "(1, 512, 1024, 8)\n",
      "\n",
      "Using 1 shard(s) for 1 files, with up to 1 samples per shard\n"
     ]
    },
    {
     "name": "stderr",
     "output_type": "stream",
     "text": [
      "100%|██████████| 1/1 [00:00<00:00, 49.34it/s]"
     ]
    },
    {
     "name": "stdout",
     "output_type": "stream",
     "text": [
      "\n",
      "Wrote 1 elements to TFRecord\n"
     ]
    },
    {
     "name": "stderr",
     "output_type": "stream",
     "text": [
      "\n"
     ]
    },
    {
     "name": "stdout",
     "output_type": "stream",
     "text": [
      "MYD021KM-A2018100.1205\n",
      "(1, 512, 1024)\n",
      "(1, 512, 1024, 8)\n",
      "\n",
      "Using 1 shard(s) for 1 files, with up to 1 samples per shard\n"
     ]
    },
    {
     "name": "stderr",
     "output_type": "stream",
     "text": [
      "100%|██████████| 1/1 [00:00<00:00, 53.85it/s]"
     ]
    },
    {
     "name": "stdout",
     "output_type": "stream",
     "text": [
      "\n",
      "Wrote 1 elements to TFRecord\n"
     ]
    },
    {
     "name": "stderr",
     "output_type": "stream",
     "text": [
      "\n"
     ]
    },
    {
     "name": "stdout",
     "output_type": "stream",
     "text": [
      "MYD021KM-A2018100.1535\n",
      "MYD021KM-A2018100.2325\n",
      "(1, 512, 1024)\n",
      "(1, 512, 1024, 8)\n",
      "\n",
      "Using 1 shard(s) for 1 files, with up to 1 samples per shard\n"
     ]
    },
    {
     "name": "stderr",
     "output_type": "stream",
     "text": [
      "100%|██████████| 1/1 [00:00<00:00, 53.80it/s]"
     ]
    },
    {
     "name": "stdout",
     "output_type": "stream",
     "text": [
      "\n",
      "Wrote 1 elements to TFRecord\n"
     ]
    },
    {
     "name": "stderr",
     "output_type": "stream",
     "text": [
      "\n"
     ]
    },
    {
     "name": "stdout",
     "output_type": "stream",
     "text": [
      "MYD021KM-A2018100.2145\n",
      "(1, 512, 1024)\n",
      "(1, 512, 1024, 8)\n",
      "\n",
      "Using 1 shard(s) for 1 files, with up to 1 samples per shard\n"
     ]
    },
    {
     "name": "stderr",
     "output_type": "stream",
     "text": [
      "100%|██████████| 1/1 [00:00<00:00, 54.77it/s]"
     ]
    },
    {
     "name": "stdout",
     "output_type": "stream",
     "text": [
      "\n",
      "Wrote 1 elements to TFRecord\n"
     ]
    },
    {
     "name": "stderr",
     "output_type": "stream",
     "text": [
      "\n"
     ]
    },
    {
     "name": "stdout",
     "output_type": "stream",
     "text": [
      "MYD021KM-A2018100.1845\n",
      "(1, 512, 1024)\n",
      "(1, 512, 1024, 8)\n",
      "\n",
      "Using 1 shard(s) for 1 files, with up to 1 samples per shard\n"
     ]
    },
    {
     "name": "stderr",
     "output_type": "stream",
     "text": [
      "100%|██████████| 1/1 [00:00<00:00, 51.03it/s]"
     ]
    },
    {
     "name": "stdout",
     "output_type": "stream",
     "text": [
      "\n",
      "Wrote 1 elements to TFRecord\n"
     ]
    },
    {
     "name": "stderr",
     "output_type": "stream",
     "text": [
      "\n"
     ]
    },
    {
     "name": "stdout",
     "output_type": "stream",
     "text": [
      "MYD021KM-A2018100.2040\n",
      "MYD021KM-A2018100.1855\n",
      "MYD021KM-A2018100.1515\n",
      "(1, 512, 1024)\n",
      "(1, 512, 1024, 8)\n",
      "\n",
      "Using 1 shard(s) for 1 files, with up to 1 samples per shard\n"
     ]
    },
    {
     "name": "stderr",
     "output_type": "stream",
     "text": [
      "100%|██████████| 1/1 [00:00<00:00, 52.13it/s]"
     ]
    },
    {
     "name": "stdout",
     "output_type": "stream",
     "text": [
      "\n",
      "Wrote 1 elements to TFRecord\n"
     ]
    },
    {
     "name": "stderr",
     "output_type": "stream",
     "text": [
      "\n"
     ]
    },
    {
     "name": "stdout",
     "output_type": "stream",
     "text": [
      "MYD021KM-A2018100.1520\n",
      "(1, 512, 1024)\n",
      "(1, 512, 1024, 8)\n",
      "\n",
      "Using 1 shard(s) for 1 files, with up to 1 samples per shard\n"
     ]
    },
    {
     "name": "stderr",
     "output_type": "stream",
     "text": [
      "100%|██████████| 1/1 [00:00<00:00, 51.51it/s]"
     ]
    },
    {
     "name": "stdout",
     "output_type": "stream",
     "text": [
      "\n",
      "Wrote 1 elements to TFRecord\n"
     ]
    },
    {
     "name": "stderr",
     "output_type": "stream",
     "text": [
      "\n"
     ]
    },
    {
     "name": "stdout",
     "output_type": "stream",
     "text": [
      "MYD021KM-A2018100.1100\n",
      "MYD021KM-A2018100.1050\n",
      "MYD021KM-A2018100.0920\n",
      "MYD021KM-A2018100.1355\n",
      "(1, 512, 1024)\n",
      "(1, 512, 1024, 8)\n",
      "\n",
      "Using 1 shard(s) for 1 files, with up to 1 samples per shard\n"
     ]
    },
    {
     "name": "stderr",
     "output_type": "stream",
     "text": [
      "100%|██████████| 1/1 [00:00<00:00, 52.55it/s]"
     ]
    },
    {
     "name": "stdout",
     "output_type": "stream",
     "text": [
      "\n",
      "Wrote 1 elements to TFRecord\n"
     ]
    },
    {
     "name": "stderr",
     "output_type": "stream",
     "text": [
      "\n"
     ]
    },
    {
     "name": "stdout",
     "output_type": "stream",
     "text": [
      "MYD021KM-A2018100.1220\n",
      "MYD021KM-A2018100.0910\n",
      "MYD021KM-A2018100.1410\n",
      "MYD021KM-A2018100.0415\n",
      "MYD021KM-A2018100.0245\n",
      "MYD021KM-A2018100.0535\n",
      "(1, 512, 1024)\n",
      "(1, 512, 1024, 8)\n",
      "\n",
      "Using 1 shard(s) for 1 files, with up to 1 samples per shard\n"
     ]
    },
    {
     "name": "stderr",
     "output_type": "stream",
     "text": [
      "100%|██████████| 1/1 [00:00<00:00, 52.93it/s]"
     ]
    },
    {
     "name": "stdout",
     "output_type": "stream",
     "text": [
      "\n",
      "Wrote 1 elements to TFRecord\n"
     ]
    },
    {
     "name": "stderr",
     "output_type": "stream",
     "text": [
      "\n"
     ]
    },
    {
     "name": "stdout",
     "output_type": "stream",
     "text": [
      "MYD021KM-A2018100.1215\n",
      "(1, 512, 1024)\n",
      "(1, 512, 1024, 8)\n",
      "\n",
      "Using 1 shard(s) for 1 files, with up to 1 samples per shard\n"
     ]
    },
    {
     "name": "stderr",
     "output_type": "stream",
     "text": [
      "100%|██████████| 1/1 [00:00<00:00, 55.87it/s]"
     ]
    },
    {
     "name": "stdout",
     "output_type": "stream",
     "text": [
      "\n",
      "Wrote 1 elements to TFRecord\n"
     ]
    },
    {
     "name": "stderr",
     "output_type": "stream",
     "text": [
      "\n"
     ]
    },
    {
     "name": "stdout",
     "output_type": "stream",
     "text": [
      "MYD021KM-A2018100.1710\n",
      "(1, 512, 1024)\n",
      "(1, 512, 1024, 8)\n",
      "\n",
      "Using 1 shard(s) for 1 files, with up to 1 samples per shard\n"
     ]
    },
    {
     "name": "stderr",
     "output_type": "stream",
     "text": [
      "100%|██████████| 1/1 [00:00<00:00, 52.82it/s]"
     ]
    },
    {
     "name": "stdout",
     "output_type": "stream",
     "text": [
      "\n",
      "Wrote 1 elements to TFRecord\n"
     ]
    },
    {
     "name": "stderr",
     "output_type": "stream",
     "text": [
      "\n"
     ]
    },
    {
     "name": "stdout",
     "output_type": "stream",
     "text": [
      "MYD021KM-A2018100.1700\n",
      "(1, 512, 1024)\n",
      "(1, 512, 1024, 8)\n",
      "\n",
      "Using 1 shard(s) for 1 files, with up to 1 samples per shard\n"
     ]
    },
    {
     "name": "stderr",
     "output_type": "stream",
     "text": [
      "100%|██████████| 1/1 [00:00<00:00, 52.93it/s]"
     ]
    },
    {
     "name": "stdout",
     "output_type": "stream",
     "text": [
      "\n",
      "Wrote 1 elements to TFRecord\n"
     ]
    },
    {
     "name": "stderr",
     "output_type": "stream",
     "text": [
      "\n"
     ]
    },
    {
     "name": "stdout",
     "output_type": "stream",
     "text": [
      "MYD021KM-A2018100.0420\n",
      "MYD021KM-A2018100.1720\n",
      "MYD021KM-A2018100.0720\n",
      "MYD021KM-A2018100.1225\n",
      "MYD021KM-A2018100.0210\n",
      "(1, 512, 1024)\n",
      "(1, 512, 1024, 8)\n",
      "\n",
      "Using 1 shard(s) for 1 files, with up to 1 samples per shard\n"
     ]
    },
    {
     "name": "stderr",
     "output_type": "stream",
     "text": [
      "100%|██████████| 1/1 [00:00<00:00, 36.99it/s]"
     ]
    },
    {
     "name": "stdout",
     "output_type": "stream",
     "text": [
      "\n",
      "Wrote 1 elements to TFRecord\n"
     ]
    },
    {
     "name": "stderr",
     "output_type": "stream",
     "text": [
      "\n"
     ]
    },
    {
     "name": "stdout",
     "output_type": "stream",
     "text": [
      "MYD021KM-A2018100.1705\n",
      "(1, 512, 1024)\n",
      "(1, 512, 1024, 8)\n",
      "\n",
      "Using 1 shard(s) for 1 files, with up to 1 samples per shard\n"
     ]
    },
    {
     "name": "stderr",
     "output_type": "stream",
     "text": [
      "100%|██████████| 1/1 [00:00<00:00, 52.51it/s]"
     ]
    },
    {
     "name": "stdout",
     "output_type": "stream",
     "text": [
      "\n",
      "Wrote 1 elements to TFRecord\n"
     ]
    },
    {
     "name": "stderr",
     "output_type": "stream",
     "text": [
      "\n"
     ]
    },
    {
     "name": "stdout",
     "output_type": "stream",
     "text": [
      "MYD021KM-A2018100.2150\n",
      "(1, 512, 1024)\n",
      "(1, 512, 1024, 8)\n",
      "\n",
      "Using 1 shard(s) for 1 files, with up to 1 samples per shard\n"
     ]
    },
    {
     "name": "stderr",
     "output_type": "stream",
     "text": [
      "100%|██████████| 1/1 [00:00<00:00, 37.12it/s]"
     ]
    },
    {
     "name": "stdout",
     "output_type": "stream",
     "text": [
      "\n",
      "Wrote 1 elements to TFRecord\n"
     ]
    },
    {
     "name": "stderr",
     "output_type": "stream",
     "text": [
      "\n"
     ]
    },
    {
     "name": "stdout",
     "output_type": "stream",
     "text": [
      "MYD021KM-A2018100.0915\n",
      "MYD021KM-A2018100.2340\n",
      "(1, 512, 1024)\n",
      "(1, 512, 1024, 8)\n",
      "\n",
      "Using 1 shard(s) for 1 files, with up to 1 samples per shard\n"
     ]
    },
    {
     "name": "stderr",
     "output_type": "stream",
     "text": [
      "100%|██████████| 1/1 [00:00<00:00, 51.56it/s]"
     ]
    },
    {
     "name": "stdout",
     "output_type": "stream",
     "text": [
      "\n",
      "Wrote 1 elements to TFRecord\n"
     ]
    },
    {
     "name": "stderr",
     "output_type": "stream",
     "text": [
      "\n"
     ]
    },
    {
     "name": "stdout",
     "output_type": "stream",
     "text": [
      "MYD021KM-A2018100.0655\n",
      "(1, 512, 1024)\n",
      "(1, 512, 1024, 8)\n",
      "\n",
      "Using 1 shard(s) for 1 files, with up to 1 samples per shard\n"
     ]
    },
    {
     "name": "stderr",
     "output_type": "stream",
     "text": [
      "100%|██████████| 1/1 [00:00<00:00, 52.22it/s]"
     ]
    },
    {
     "name": "stdout",
     "output_type": "stream",
     "text": [
      "\n",
      "Wrote 1 elements to TFRecord\n"
     ]
    },
    {
     "name": "stderr",
     "output_type": "stream",
     "text": [
      "\n"
     ]
    },
    {
     "name": "stdout",
     "output_type": "stream",
     "text": [
      "MYD021KM-A2018100.2225\n",
      "MYD021KM-A2018100.0425\n",
      "MYD021KM-A2018100.0400\n",
      "(1, 512, 1024)\n",
      "(1, 512, 1024, 8)\n",
      "\n",
      "Using 1 shard(s) for 1 files, with up to 1 samples per shard\n"
     ]
    },
    {
     "name": "stderr",
     "output_type": "stream",
     "text": [
      "100%|██████████| 1/1 [00:00<00:00, 47.88it/s]"
     ]
    },
    {
     "name": "stdout",
     "output_type": "stream",
     "text": [
      "\n",
      "Wrote 1 elements to TFRecord\n"
     ]
    },
    {
     "name": "stderr",
     "output_type": "stream",
     "text": [
      "\n"
     ]
    },
    {
     "name": "stdout",
     "output_type": "stream",
     "text": [
      "MYD021KM-A2018100.1035\n",
      "(1, 512, 1024)\n",
      "(1, 512, 1024, 8)\n",
      "\n",
      "Using 1 shard(s) for 1 files, with up to 1 samples per shard\n"
     ]
    },
    {
     "name": "stderr",
     "output_type": "stream",
     "text": [
      "100%|██████████| 1/1 [00:00<00:00, 50.65it/s]"
     ]
    },
    {
     "name": "stdout",
     "output_type": "stream",
     "text": [
      "\n",
      "Wrote 1 elements to TFRecord\n"
     ]
    },
    {
     "name": "stderr",
     "output_type": "stream",
     "text": [
      "\n"
     ]
    },
    {
     "name": "stdout",
     "output_type": "stream",
     "text": [
      "MYD021KM-A2018100.1655\n",
      "(1, 512, 1024)\n",
      "(1, 512, 1024, 8)\n",
      "\n",
      "Using 1 shard(s) for 1 files, with up to 1 samples per shard\n"
     ]
    },
    {
     "name": "stderr",
     "output_type": "stream",
     "text": [
      "100%|██████████| 1/1 [00:00<00:00, 49.99it/s]"
     ]
    },
    {
     "name": "stdout",
     "output_type": "stream",
     "text": [
      "\n",
      "Wrote 1 elements to TFRecord\n"
     ]
    },
    {
     "name": "stderr",
     "output_type": "stream",
     "text": [
      "\n"
     ]
    },
    {
     "name": "stdout",
     "output_type": "stream",
     "text": [
      "MYD021KM-A2018100.1555\n",
      "MYD021KM-A2018100.0225\n",
      "MYD021KM-A2018100.0850\n",
      "(1, 512, 1024)\n",
      "(1, 512, 1024, 8)\n",
      "\n",
      "Using 1 shard(s) for 1 files, with up to 1 samples per shard\n"
     ]
    },
    {
     "name": "stderr",
     "output_type": "stream",
     "text": [
      "100%|██████████| 1/1 [00:00<00:00, 48.11it/s]"
     ]
    },
    {
     "name": "stdout",
     "output_type": "stream",
     "text": [
      "\n",
      "Wrote 1 elements to TFRecord\n"
     ]
    },
    {
     "name": "stderr",
     "output_type": "stream",
     "text": [
      "\n"
     ]
    },
    {
     "name": "stdout",
     "output_type": "stream",
     "text": [
      "MYD021KM-A2018100.0050\n",
      "MYD021KM-A2018100.0740\n",
      "MYD021KM-A2018100.0525\n",
      "(1, 512, 1024)\n",
      "(1, 512, 1024, 8)\n",
      "\n",
      "Using 1 shard(s) for 1 files, with up to 1 samples per shard\n"
     ]
    },
    {
     "name": "stderr",
     "output_type": "stream",
     "text": [
      "100%|██████████| 1/1 [00:00<00:00, 49.38it/s]"
     ]
    },
    {
     "name": "stdout",
     "output_type": "stream",
     "text": [
      "\n",
      "Wrote 1 elements to TFRecord\n"
     ]
    },
    {
     "name": "stderr",
     "output_type": "stream",
     "text": [
      "\n"
     ]
    },
    {
     "name": "stdout",
     "output_type": "stream",
     "text": [
      "MYD021KM-A2018100.1545\n",
      "MYD021KM-A2018100.2210\n",
      "MYD021KM-A2018100.2200\n",
      "MYD021KM-A2018100.1530\n",
      "(1, 512, 1024)\n",
      "(1, 512, 1024, 8)\n",
      "\n",
      "Using 1 shard(s) for 1 files, with up to 1 samples per shard\n"
     ]
    },
    {
     "name": "stderr",
     "output_type": "stream",
     "text": [
      "100%|██████████| 1/1 [00:00<00:00, 53.25it/s]"
     ]
    },
    {
     "name": "stdout",
     "output_type": "stream",
     "text": [
      "\n",
      "Wrote 1 elements to TFRecord\n"
     ]
    },
    {
     "name": "stderr",
     "output_type": "stream",
     "text": [
      "\n"
     ]
    },
    {
     "name": "stdout",
     "output_type": "stream",
     "text": [
      "MYD021KM-A2018100.2030\n",
      "(1, 512, 1024)\n",
      "(1, 512, 1024, 8)\n",
      "\n",
      "Using 1 shard(s) for 1 files, with up to 1 samples per shard\n"
     ]
    },
    {
     "name": "stderr",
     "output_type": "stream",
     "text": [
      "100%|██████████| 1/1 [00:00<00:00, 54.74it/s]"
     ]
    },
    {
     "name": "stdout",
     "output_type": "stream",
     "text": [
      "\n",
      "Wrote 1 elements to TFRecord\n"
     ]
    },
    {
     "name": "stderr",
     "output_type": "stream",
     "text": [
      "\n"
     ]
    },
    {
     "name": "stdout",
     "output_type": "stream",
     "text": [
      "MYD021KM-A2018100.0045\n",
      "MYD021KM-A2018100.0215\n",
      "(1, 512, 1024)\n",
      "(1, 512, 1024, 8)\n",
      "\n",
      "Using 1 shard(s) for 1 files, with up to 1 samples per shard\n"
     ]
    },
    {
     "name": "stderr",
     "output_type": "stream",
     "text": [
      "100%|██████████| 1/1 [00:00<00:00, 49.87it/s]"
     ]
    },
    {
     "name": "stdout",
     "output_type": "stream",
     "text": [
      "\n",
      "Wrote 1 elements to TFRecord\n"
     ]
    },
    {
     "name": "stderr",
     "output_type": "stream",
     "text": [
      "\n"
     ]
    },
    {
     "name": "stdout",
     "output_type": "stream",
     "text": [
      "MYD021KM-A2018100.1345\n",
      "(1, 512, 1024)\n",
      "(1, 512, 1024, 8)\n",
      "\n",
      "Using 1 shard(s) for 1 files, with up to 1 samples per shard\n"
     ]
    },
    {
     "name": "stderr",
     "output_type": "stream",
     "text": [
      "100%|██████████| 1/1 [00:00<00:00, 55.24it/s]"
     ]
    },
    {
     "name": "stdout",
     "output_type": "stream",
     "text": [
      "\n",
      "Wrote 1 elements to TFRecord\n"
     ]
    },
    {
     "name": "stderr",
     "output_type": "stream",
     "text": [
      "\n"
     ]
    },
    {
     "name": "stdout",
     "output_type": "stream",
     "text": [
      "MYD021KM-A2018100.2335\n",
      "MYD021KM-A2018100.1015\n",
      "MYD021KM-A2018100.0900\n",
      "MYD021KM-A2018100.0530\n",
      "(1, 512, 1024)\n",
      "(1, 512, 1024, 8)\n",
      "\n",
      "Using 1 shard(s) for 1 files, with up to 1 samples per shard\n"
     ]
    },
    {
     "name": "stderr",
     "output_type": "stream",
     "text": [
      "100%|██████████| 1/1 [00:00<00:00, 54.41it/s]"
     ]
    },
    {
     "name": "stdout",
     "output_type": "stream",
     "text": [
      "\n",
      "Wrote 1 elements to TFRecord\n"
     ]
    },
    {
     "name": "stderr",
     "output_type": "stream",
     "text": [
      "\n"
     ]
    },
    {
     "name": "stdout",
     "output_type": "stream",
     "text": [
      "MYD021KM-A2018100.1045\n",
      "MYD021KM-A2018100.2045\n",
      "MYD021KM-A2018100.1155\n",
      "MYD021KM-A2018100.1735\n",
      "MYD021KM-A2018100.2205\n",
      "(1, 512, 1024)\n",
      "(1, 512, 1024, 8)\n",
      "\n",
      "Using 1 shard(s) for 1 files, with up to 1 samples per shard\n"
     ]
    },
    {
     "name": "stderr",
     "output_type": "stream",
     "text": [
      "100%|██████████| 1/1 [00:00<00:00, 51.59it/s]"
     ]
    },
    {
     "name": "stdout",
     "output_type": "stream",
     "text": [
      "\n",
      "Wrote 1 elements to TFRecord\n"
     ]
    },
    {
     "name": "stderr",
     "output_type": "stream",
     "text": [
      "\n"
     ]
    },
    {
     "name": "stdout",
     "output_type": "stream",
     "text": [
      "MYD021KM-A2018100.0040\n",
      "(1, 512, 1024)\n",
      "(1, 512, 1024, 8)\n",
      "\n",
      "Using 1 shard(s) for 1 files, with up to 1 samples per shard\n"
     ]
    },
    {
     "name": "stderr",
     "output_type": "stream",
     "text": [
      "100%|██████████| 1/1 [00:00<00:00, 53.59it/s]"
     ]
    },
    {
     "name": "stdout",
     "output_type": "stream",
     "text": [
      "\n",
      "Wrote 1 elements to TFRecord\n"
     ]
    },
    {
     "name": "stderr",
     "output_type": "stream",
     "text": [
      "\n"
     ]
    },
    {
     "name": "stdout",
     "output_type": "stream",
     "text": [
      "MYD021KM-A2018100.2025\n",
      "(1, 512, 1024)\n",
      "(1, 512, 1024, 8)\n",
      "\n",
      "Using 1 shard(s) for 1 files, with up to 1 samples per shard\n"
     ]
    },
    {
     "name": "stderr",
     "output_type": "stream",
     "text": [
      "100%|██████████| 1/1 [00:00<00:00, 51.14it/s]"
     ]
    },
    {
     "name": "stdout",
     "output_type": "stream",
     "text": [
      "\n",
      "Wrote 1 elements to TFRecord\n"
     ]
    },
    {
     "name": "stderr",
     "output_type": "stream",
     "text": [
      "\n"
     ]
    },
    {
     "name": "stdout",
     "output_type": "stream",
     "text": [
      "MYD021KM-A2018100.2020\n",
      "(1, 512, 1024)\n",
      "(1, 512, 1024, 8)\n",
      "\n",
      "Using 1 shard(s) for 1 files, with up to 1 samples per shard\n"
     ]
    },
    {
     "name": "stderr",
     "output_type": "stream",
     "text": [
      "100%|██████████| 1/1 [00:00<00:00, 53.45it/s]"
     ]
    },
    {
     "name": "stdout",
     "output_type": "stream",
     "text": [
      "\n",
      "Wrote 1 elements to TFRecord\n"
     ]
    },
    {
     "name": "stderr",
     "output_type": "stream",
     "text": [
      "\n"
     ]
    },
    {
     "name": "stdout",
     "output_type": "stream",
     "text": [
      "MYD021KM-A2018100.2350\n",
      "MYD021KM-A2018100.1330\n",
      "(1, 512, 1024)\n",
      "(1, 512, 1024, 8)\n",
      "\n",
      "Using 1 shard(s) for 1 files, with up to 1 samples per shard\n"
     ]
    },
    {
     "name": "stderr",
     "output_type": "stream",
     "text": [
      "100%|██████████| 1/1 [00:00<00:00, 53.52it/s]"
     ]
    },
    {
     "name": "stdout",
     "output_type": "stream",
     "text": [
      "\n",
      "Wrote 1 elements to TFRecord\n"
     ]
    },
    {
     "name": "stderr",
     "output_type": "stream",
     "text": [
      "\n"
     ]
    },
    {
     "name": "stdout",
     "output_type": "stream",
     "text": [
      "MYD021KM-A2018100.2220\n",
      "MYD021KM-A2018100.2215\n",
      "MYD021KM-A2018100.0735\n",
      "MYD021KM-A2018100.2050\n",
      "MYD021KM-A2018100.1600\n",
      "MYD021KM-A2018100.0200\n",
      "(1, 512, 1024)\n",
      "(1, 512, 1024, 8)\n",
      "\n",
      "Using 1 shard(s) for 1 files, with up to 1 samples per shard\n"
     ]
    },
    {
     "name": "stderr",
     "output_type": "stream",
     "text": [
      "100%|██████████| 1/1 [00:00<00:00, 53.10it/s]"
     ]
    },
    {
     "name": "stdout",
     "output_type": "stream",
     "text": [
      "\n",
      "Wrote 1 elements to TFRecord\n"
     ]
    },
    {
     "name": "stderr",
     "output_type": "stream",
     "text": [
      "\n"
     ]
    },
    {
     "name": "stdout",
     "output_type": "stream",
     "text": [
      "MYD021KM-A2018100.0550\n",
      "MYD021KM-A2018100.1725\n",
      "MYD021KM-A2018100.1230\n",
      "MYD021KM-A2018100.0905\n",
      "MYD021KM-A2018100.0730\n",
      "MYD021KM-A2018100.2035\n",
      "MYD021KM-A2018100.0345\n",
      "(1, 512, 1024)\n",
      "(1, 512, 1024, 8)\n",
      "\n",
      "Using 1 shard(s) for 1 files, with up to 1 samples per shard\n"
     ]
    },
    {
     "name": "stderr",
     "output_type": "stream",
     "text": [
      "100%|██████████| 1/1 [00:00<00:00, 55.46it/s]"
     ]
    },
    {
     "name": "stdout",
     "output_type": "stream",
     "text": [
      "\n",
      "Wrote 1 elements to TFRecord\n"
     ]
    },
    {
     "name": "stderr",
     "output_type": "stream",
     "text": [
      "\n"
     ]
    },
    {
     "name": "stdout",
     "output_type": "stream",
     "text": [
      "MYD021KM-A2018100.1020\n",
      "(1, 512, 1024)\n",
      "(1, 512, 1024, 8)\n",
      "\n",
      "Using 1 shard(s) for 1 files, with up to 1 samples per shard\n"
     ]
    },
    {
     "name": "stderr",
     "output_type": "stream",
     "text": [
      "100%|██████████| 1/1 [00:00<00:00, 56.22it/s]"
     ]
    },
    {
     "name": "stdout",
     "output_type": "stream",
     "text": [
      "\n",
      "Wrote 1 elements to TFRecord\n"
     ]
    },
    {
     "name": "stderr",
     "output_type": "stream",
     "text": [
      "\n"
     ]
    },
    {
     "name": "stdout",
     "output_type": "stream",
     "text": [
      "MYD021KM-A2018100.1550\n",
      "MYD021KM-A2018100.0555\n",
      "MYD021KM-A2018100.1420\n",
      "MYD021KM-A2018100.1210\n",
      "(1, 512, 1024)\n",
      "(1, 512, 1024, 8)\n",
      "\n",
      "Using 1 shard(s) for 1 files, with up to 1 samples per shard\n"
     ]
    },
    {
     "name": "stderr",
     "output_type": "stream",
     "text": [
      "100%|██████████| 1/1 [00:00<00:00, 53.20it/s]"
     ]
    },
    {
     "name": "stdout",
     "output_type": "stream",
     "text": [
      "\n",
      "Wrote 1 elements to TFRecord\n"
     ]
    },
    {
     "name": "stderr",
     "output_type": "stream",
     "text": [
      "\n"
     ]
    },
    {
     "name": "stdout",
     "output_type": "stream",
     "text": [
      "MYD021KM-A2018100.1715\n",
      "MYD021KM-A2018100.1915\n",
      "MYD021KM-A2018100.0155\n",
      "(1, 512, 1024)\n",
      "(1, 512, 1024, 8)\n",
      "\n",
      "Using 1 shard(s) for 1 files, with up to 1 samples per shard\n"
     ]
    },
    {
     "name": "stderr",
     "output_type": "stream",
     "text": [
      "100%|██████████| 1/1 [00:00<00:00, 53.51it/s]"
     ]
    },
    {
     "name": "stdout",
     "output_type": "stream",
     "text": [
      "\n",
      "Wrote 1 elements to TFRecord\n"
     ]
    },
    {
     "name": "stderr",
     "output_type": "stream",
     "text": [
      "\n"
     ]
    },
    {
     "name": "stdout",
     "output_type": "stream",
     "text": [
      "MYD021KM-A2018100.1830\n",
      "(1, 512, 1024)\n",
      "(1, 512, 1024, 8)\n",
      "\n",
      "Using 1 shard(s) for 1 files, with up to 1 samples per shard\n"
     ]
    },
    {
     "name": "stderr",
     "output_type": "stream",
     "text": [
      "100%|██████████| 1/1 [00:00<00:00, 51.93it/s]"
     ]
    },
    {
     "name": "stdout",
     "output_type": "stream",
     "text": [
      "\n",
      "Wrote 1 elements to TFRecord\n"
     ]
    },
    {
     "name": "stderr",
     "output_type": "stream",
     "text": [
      "\n"
     ]
    },
    {
     "name": "stdout",
     "output_type": "stream",
     "text": [
      "MYD021KM-A2018100.1235\n",
      "MYD021KM-A2018100.0545\n",
      "MYD021KM-A2018100.0100\n",
      "MYD021KM-A2018100.2055\n",
      "MYD021KM-A2018100.1510\n",
      "(1, 512, 1024)\n",
      "(1, 512, 1024, 8)\n",
      "\n",
      "Using 1 shard(s) for 1 files, with up to 1 samples per shard\n"
     ]
    },
    {
     "name": "stderr",
     "output_type": "stream",
     "text": [
      "100%|██████████| 1/1 [00:00<00:00, 52.89it/s]"
     ]
    },
    {
     "name": "stdout",
     "output_type": "stream",
     "text": [
      "\n",
      "Wrote 1 elements to TFRecord\n"
     ]
    },
    {
     "name": "stderr",
     "output_type": "stream",
     "text": [
      "\n"
     ]
    },
    {
     "name": "stdout",
     "output_type": "stream",
     "text": [
      "MYD021KM-A2018100.1415\n",
      "MYD021KM-A2018100.1150\n",
      "(1, 512, 1024)\n",
      "(1, 512, 1024, 8)\n",
      "\n",
      "Using 1 shard(s) for 1 files, with up to 1 samples per shard\n"
     ]
    },
    {
     "name": "stderr",
     "output_type": "stream",
     "text": [
      "100%|██████████| 1/1 [00:00<00:00, 51.90it/s]"
     ]
    },
    {
     "name": "stdout",
     "output_type": "stream",
     "text": [
      "\n",
      "Wrote 1 elements to TFRecord\n"
     ]
    },
    {
     "name": "stderr",
     "output_type": "stream",
     "text": [
      "\n"
     ]
    },
    {
     "name": "stdout",
     "output_type": "stream",
     "text": [
      "MYD021KM-A2018100.1525\n",
      "(1, 512, 1024)\n",
      "(1, 512, 1024, 8)\n",
      "\n",
      "Using 1 shard(s) for 1 files, with up to 1 samples per shard\n"
     ]
    },
    {
     "name": "stderr",
     "output_type": "stream",
     "text": [
      "100%|██████████| 1/1 [00:00<00:00, 52.89it/s]"
     ]
    },
    {
     "name": "stdout",
     "output_type": "stream",
     "text": [
      "\n",
      "Wrote 1 elements to TFRecord\n"
     ]
    },
    {
     "name": "stderr",
     "output_type": "stream",
     "text": [
      "\n"
     ]
    },
    {
     "name": "stdout",
     "output_type": "stream",
     "text": [
      "MYD021KM-A2018100.2235\n",
      "MYD021KM-A2018100.0835\n",
      "(1, 512, 1024)\n",
      "(1, 512, 1024, 8)\n",
      "\n",
      "Using 1 shard(s) for 1 files, with up to 1 samples per shard\n"
     ]
    },
    {
     "name": "stderr",
     "output_type": "stream",
     "text": [
      "100%|██████████| 1/1 [00:00<00:00, 53.71it/s]"
     ]
    },
    {
     "name": "stdout",
     "output_type": "stream",
     "text": [
      "\n",
      "Wrote 1 elements to TFRecord\n"
     ]
    },
    {
     "name": "stderr",
     "output_type": "stream",
     "text": [
      "\n"
     ]
    },
    {
     "name": "stdout",
     "output_type": "stream",
     "text": [
      "MYD021KM-A2018100.0520\n",
      "(1, 512, 1024)\n",
      "(1, 512, 1024, 8)\n",
      "\n",
      "Using 1 shard(s) for 1 files, with up to 1 samples per shard\n"
     ]
    },
    {
     "name": "stderr",
     "output_type": "stream",
     "text": [
      "100%|██████████| 1/1 [00:00<00:00, 53.26it/s]"
     ]
    },
    {
     "name": "stdout",
     "output_type": "stream",
     "text": [
      "\n",
      "Wrote 1 elements to TFRecord\n"
     ]
    },
    {
     "name": "stderr",
     "output_type": "stream",
     "text": [
      "\n"
     ]
    },
    {
     "name": "stdout",
     "output_type": "stream",
     "text": [
      "MYD021KM-A2018100.2005\n",
      "(1, 512, 1024)\n",
      "(1, 512, 1024, 8)\n",
      "\n",
      "Using 1 shard(s) for 1 files, with up to 1 samples per shard\n"
     ]
    },
    {
     "name": "stderr",
     "output_type": "stream",
     "text": [
      "100%|██████████| 1/1 [00:00<00:00, 53.63it/s]"
     ]
    },
    {
     "name": "stdout",
     "output_type": "stream",
     "text": [
      "\n",
      "Wrote 1 elements to TFRecord\n"
     ]
    },
    {
     "name": "stderr",
     "output_type": "stream",
     "text": [
      "\n"
     ]
    },
    {
     "name": "stdout",
     "output_type": "stream",
     "text": [
      "MYD021KM-A2018100.0715\n",
      "(1, 512, 1024)\n",
      "(1, 512, 1024, 8)\n",
      "\n",
      "Using 1 shard(s) for 1 files, with up to 1 samples per shard\n"
     ]
    },
    {
     "name": "stderr",
     "output_type": "stream",
     "text": [
      "100%|██████████| 1/1 [00:00<00:00, 52.71it/s]"
     ]
    },
    {
     "name": "stdout",
     "output_type": "stream",
     "text": [
      "\n",
      "Wrote 1 elements to TFRecord\n"
     ]
    },
    {
     "name": "stderr",
     "output_type": "stream",
     "text": [
      "\n"
     ]
    },
    {
     "name": "stdout",
     "output_type": "stream",
     "text": [
      "MYD021KM-A2018100.1240\n",
      "MYD021KM-A2018100.2010\n",
      "MYD021KM-A2018100.0405\n",
      "MYD021KM-A2018100.0335\n",
      "(1, 512, 1024)\n",
      "(1, 512, 1024, 8)\n",
      "\n",
      "Using 1 shard(s) for 1 files, with up to 1 samples per shard\n"
     ]
    },
    {
     "name": "stderr",
     "output_type": "stream",
     "text": [
      "100%|██████████| 1/1 [00:00<00:00, 53.45it/s]"
     ]
    },
    {
     "name": "stdout",
     "output_type": "stream",
     "text": [
      "\n",
      "Wrote 1 elements to TFRecord\n"
     ]
    },
    {
     "name": "stderr",
     "output_type": "stream",
     "text": [
      "\n"
     ]
    },
    {
     "name": "stdout",
     "output_type": "stream",
     "text": [
      "MYD021KM-A2018100.0230\n",
      "MYD021KM-A2018100.0035\n",
      "(1, 512, 1024)\n",
      "(1, 512, 1024, 8)\n",
      "\n",
      "Using 1 shard(s) for 1 files, with up to 1 samples per shard\n"
     ]
    },
    {
     "name": "stderr",
     "output_type": "stream",
     "text": [
      "100%|██████████| 1/1 [00:00<00:00, 52.68it/s]"
     ]
    },
    {
     "name": "stdout",
     "output_type": "stream",
     "text": [
      "\n",
      "Wrote 1 elements to TFRecord\n"
     ]
    },
    {
     "name": "stderr",
     "output_type": "stream",
     "text": [
      "\n"
     ]
    },
    {
     "name": "stdout",
     "output_type": "stream",
     "text": [
      "MYD021KM-A2018100.0340\n",
      "(1, 512, 1024)\n",
      "(1, 512, 1024, 8)\n",
      "\n",
      "Using 1 shard(s) for 1 files, with up to 1 samples per shard\n"
     ]
    },
    {
     "name": "stderr",
     "output_type": "stream",
     "text": [
      "100%|██████████| 1/1 [00:00<00:00, 53.77it/s]"
     ]
    },
    {
     "name": "stdout",
     "output_type": "stream",
     "text": [
      "\n",
      "Wrote 1 elements to TFRecord\n"
     ]
    },
    {
     "name": "stderr",
     "output_type": "stream",
     "text": [
      "\n"
     ]
    },
    {
     "name": "stdout",
     "output_type": "stream",
     "text": [
      "MYD021KM-A2018100.0020\n",
      "MYD021KM-A2018100.1025\n",
      "(1, 512, 1024)\n",
      "(1, 512, 1024, 8)\n",
      "\n",
      "Using 1 shard(s) for 1 files, with up to 1 samples per shard\n"
     ]
    },
    {
     "name": "stderr",
     "output_type": "stream",
     "text": [
      "100%|██████████| 1/1 [00:00<00:00, 53.90it/s]"
     ]
    },
    {
     "name": "stdout",
     "output_type": "stream",
     "text": [
      "\n",
      "Wrote 1 elements to TFRecord\n"
     ]
    },
    {
     "name": "stderr",
     "output_type": "stream",
     "text": [
      "\n"
     ]
    },
    {
     "name": "stdout",
     "output_type": "stream",
     "text": [
      "MYD021KM-A2018100.1840\n",
      "(1, 512, 1024)\n",
      "(1, 512, 1024, 8)\n",
      "\n",
      "Using 1 shard(s) for 1 files, with up to 1 samples per shard\n"
     ]
    },
    {
     "name": "stderr",
     "output_type": "stream",
     "text": [
      "100%|██████████| 1/1 [00:00<00:00, 53.90it/s]"
     ]
    },
    {
     "name": "stdout",
     "output_type": "stream",
     "text": [
      "\n",
      "Wrote 1 elements to TFRecord\n"
     ]
    },
    {
     "name": "stderr",
     "output_type": "stream",
     "text": [
      "\n"
     ]
    },
    {
     "name": "stdout",
     "output_type": "stream",
     "text": [
      "MYD021KM-A2018100.0600\n",
      "MYD021KM-A2018100.0240\n",
      "MYD021KM-A2018100.2155\n",
      "(1, 512, 1024)\n",
      "(1, 512, 1024, 8)\n",
      "\n",
      "Using 1 shard(s) for 1 files, with up to 1 samples per shard\n"
     ]
    },
    {
     "name": "stderr",
     "output_type": "stream",
     "text": [
      "100%|██████████| 1/1 [00:00<00:00, 55.95it/s]"
     ]
    },
    {
     "name": "stdout",
     "output_type": "stream",
     "text": [
      "\n",
      "Wrote 1 elements to TFRecord\n"
     ]
    },
    {
     "name": "stderr",
     "output_type": "stream",
     "text": [
      "\n"
     ]
    },
    {
     "name": "stdout",
     "output_type": "stream",
     "text": [
      "MYD021KM-A2018100.0540\n",
      "(1, 512, 1024)\n",
      "(1, 512, 1024, 8)\n",
      "\n",
      "Using 1 shard(s) for 1 files, with up to 1 samples per shard\n"
     ]
    },
    {
     "name": "stderr",
     "output_type": "stream",
     "text": [
      "100%|██████████| 1/1 [00:00<00:00, 56.40it/s]"
     ]
    },
    {
     "name": "stdout",
     "output_type": "stream",
     "text": [
      "\n",
      "Wrote 1 elements to TFRecord\n"
     ]
    },
    {
     "name": "stderr",
     "output_type": "stream",
     "text": [
      "\n"
     ]
    },
    {
     "name": "stdout",
     "output_type": "stream",
     "text": [
      "MYD021KM-A2018100.1905\n",
      "MYD021KM-A2018091.2225\n",
      "MYD021KM-A2018091.1700\n",
      "(1, 512, 1024)\n",
      "(1, 512, 1024, 8)\n",
      "\n",
      "Using 1 shard(s) for 1 files, with up to 1 samples per shard\n"
     ]
    },
    {
     "name": "stderr",
     "output_type": "stream",
     "text": [
      "100%|██████████| 1/1 [00:00<00:00, 53.18it/s]"
     ]
    },
    {
     "name": "stdout",
     "output_type": "stream",
     "text": [
      "\n",
      "Wrote 1 elements to TFRecord\n"
     ]
    },
    {
     "name": "stderr",
     "output_type": "stream",
     "text": [
      "\n"
     ]
    },
    {
     "name": "stdout",
     "output_type": "stream",
     "text": [
      "MYD021KM-A2018091.1520\n",
      "MYD021KM-A2018091.1420\n",
      "MYD021KM-A2018091.0850\n",
      "(1, 512, 1024)\n",
      "(1, 512, 1024, 8)\n",
      "\n",
      "Using 1 shard(s) for 1 files, with up to 1 samples per shard\n"
     ]
    },
    {
     "name": "stderr",
     "output_type": "stream",
     "text": [
      "100%|██████████| 1/1 [00:00<00:00, 50.96it/s]"
     ]
    },
    {
     "name": "stdout",
     "output_type": "stream",
     "text": [
      "\n",
      "Wrote 1 elements to TFRecord\n"
     ]
    },
    {
     "name": "stderr",
     "output_type": "stream",
     "text": [
      "\n"
     ]
    },
    {
     "name": "stdout",
     "output_type": "stream",
     "text": [
      "MYD021KM-A2018091.0740\n",
      "MYD021KM-A2018091.1835\n",
      "(1, 512, 1024)\n",
      "(1, 512, 1024, 8)\n",
      "\n",
      "Using 1 shard(s) for 1 files, with up to 1 samples per shard\n"
     ]
    },
    {
     "name": "stderr",
     "output_type": "stream",
     "text": [
      "100%|██████████| 1/1 [00:00<00:00, 55.02it/s]"
     ]
    },
    {
     "name": "stdout",
     "output_type": "stream",
     "text": [
      "\n",
      "Wrote 1 elements to TFRecord\n"
     ]
    },
    {
     "name": "stderr",
     "output_type": "stream",
     "text": [
      "\n"
     ]
    },
    {
     "name": "stdout",
     "output_type": "stream",
     "text": [
      "MYD021KM-A2018091.1710\n",
      "(1, 512, 1024)\n",
      "(1, 512, 1024, 8)\n",
      "\n",
      "Using 1 shard(s) for 1 files, with up to 1 samples per shard\n"
     ]
    },
    {
     "name": "stderr",
     "output_type": "stream",
     "text": [
      "100%|██████████| 1/1 [00:00<00:00, 54.19it/s]"
     ]
    },
    {
     "name": "stdout",
     "output_type": "stream",
     "text": [
      "\n",
      "Wrote 1 elements to TFRecord\n"
     ]
    },
    {
     "name": "stderr",
     "output_type": "stream",
     "text": [
      "\n"
     ]
    },
    {
     "name": "stdout",
     "output_type": "stream",
     "text": [
      "MYD021KM-A2018091.1515\n",
      "(1, 512, 1024)\n",
      "(1, 512, 1024, 8)\n",
      "\n",
      "Using 1 shard(s) for 1 files, with up to 1 samples per shard\n"
     ]
    },
    {
     "name": "stderr",
     "output_type": "stream",
     "text": [
      "100%|██████████| 1/1 [00:00<00:00, 51.01it/s]"
     ]
    },
    {
     "name": "stdout",
     "output_type": "stream",
     "text": [
      "\n",
      "Wrote 1 elements to TFRecord\n"
     ]
    },
    {
     "name": "stderr",
     "output_type": "stream",
     "text": [
      "\n"
     ]
    },
    {
     "name": "stdout",
     "output_type": "stream",
     "text": [
      "MYD021KM-A2018091.1230\n",
      "MYD021KM-A2018091.1235\n",
      "MYD021KM-A2018091.0915\n",
      "MYD021KM-A2018091.0900\n",
      "(1, 512, 1024)\n",
      "(1, 512, 1024, 8)\n",
      "\n",
      "Using 1 shard(s) for 1 files, with up to 1 samples per shard\n"
     ]
    },
    {
     "name": "stderr",
     "output_type": "stream",
     "text": [
      "100%|██████████| 1/1 [00:00<00:00, 54.27it/s]"
     ]
    },
    {
     "name": "stdout",
     "output_type": "stream",
     "text": [
      "\n",
      "Wrote 1 elements to TFRecord\n"
     ]
    },
    {
     "name": "stderr",
     "output_type": "stream",
     "text": [
      "\n"
     ]
    },
    {
     "name": "stdout",
     "output_type": "stream",
     "text": [
      "MYD021KM-A2018091.1845\n",
      "(1, 512, 1024)\n",
      "(1, 512, 1024, 8)\n",
      "\n",
      "Using 1 shard(s) for 1 files, with up to 1 samples per shard\n"
     ]
    },
    {
     "name": "stderr",
     "output_type": "stream",
     "text": [
      "100%|██████████| 1/1 [00:00<00:00, 56.41it/s]"
     ]
    },
    {
     "name": "stdout",
     "output_type": "stream",
     "text": [
      "\n",
      "Wrote 1 elements to TFRecord\n"
     ]
    },
    {
     "name": "stderr",
     "output_type": "stream",
     "text": [
      "\n"
     ]
    },
    {
     "name": "stdout",
     "output_type": "stream",
     "text": [
      "MYD021KM-A2018091.0735\n",
      "MYD021KM-A2018091.2030\n",
      "(1, 512, 1024)\n",
      "(1, 512, 1024, 8)\n",
      "\n",
      "Using 1 shard(s) for 1 files, with up to 1 samples per shard\n"
     ]
    },
    {
     "name": "stderr",
     "output_type": "stream",
     "text": [
      "100%|██████████| 1/1 [00:00<00:00, 55.93it/s]"
     ]
    },
    {
     "name": "stdout",
     "output_type": "stream",
     "text": [
      "\n",
      "Wrote 1 elements to TFRecord\n"
     ]
    },
    {
     "name": "stderr",
     "output_type": "stream",
     "text": [
      "\n"
     ]
    },
    {
     "name": "stdout",
     "output_type": "stream",
     "text": [
      "MYD021KM-A2018091.1855\n",
      "(1, 512, 1024)\n",
      "(1, 512, 1024, 8)\n",
      "\n",
      "Using 1 shard(s) for 1 files, with up to 1 samples per shard\n"
     ]
    },
    {
     "name": "stderr",
     "output_type": "stream",
     "text": [
      "100%|██████████| 1/1 [00:00<00:00, 53.47it/s]"
     ]
    },
    {
     "name": "stdout",
     "output_type": "stream",
     "text": [
      "\n",
      "Wrote 1 elements to TFRecord\n"
     ]
    },
    {
     "name": "stderr",
     "output_type": "stream",
     "text": [
      "\n"
     ]
    },
    {
     "name": "stdout",
     "output_type": "stream",
     "text": [
      "MYD021KM-A2018091.0355\n",
      "(1, 512, 1024)\n",
      "(1, 512, 1024, 8)\n",
      "\n",
      "Using 1 shard(s) for 1 files, with up to 1 samples per shard\n"
     ]
    },
    {
     "name": "stderr",
     "output_type": "stream",
     "text": [
      "100%|██████████| 1/1 [00:00<00:00, 52.80it/s]"
     ]
    },
    {
     "name": "stdout",
     "output_type": "stream",
     "text": [
      "\n",
      "Wrote 1 elements to TFRecord\n"
     ]
    },
    {
     "name": "stderr",
     "output_type": "stream",
     "text": [
      "\n"
     ]
    },
    {
     "name": "stdout",
     "output_type": "stream",
     "text": [
      "MYD021KM-A2018091.2350\n",
      "(1, 512, 1024)\n",
      "(1, 512, 1024, 8)\n",
      "\n",
      "Using 1 shard(s) for 1 files, with up to 1 samples per shard\n"
     ]
    },
    {
     "name": "stderr",
     "output_type": "stream",
     "text": [
      "100%|██████████| 1/1 [00:00<00:00, 51.09it/s]"
     ]
    },
    {
     "name": "stdout",
     "output_type": "stream",
     "text": [
      "\n",
      "Wrote 1 elements to TFRecord\n"
     ]
    },
    {
     "name": "stderr",
     "output_type": "stream",
     "text": [
      "\n"
     ]
    },
    {
     "name": "stdout",
     "output_type": "stream",
     "text": [
      "MYD021KM-A2018091.0855\n",
      "(1, 512, 1024)\n",
      "(1, 512, 1024, 8)\n",
      "\n",
      "Using 1 shard(s) for 1 files, with up to 1 samples per shard\n"
     ]
    },
    {
     "name": "stderr",
     "output_type": "stream",
     "text": [
      "100%|██████████| 1/1 [00:00<00:00, 55.88it/s]"
     ]
    },
    {
     "name": "stdout",
     "output_type": "stream",
     "text": [
      "\n",
      "Wrote 1 elements to TFRecord\n"
     ]
    },
    {
     "name": "stderr",
     "output_type": "stream",
     "text": [
      "\n"
     ]
    },
    {
     "name": "stdout",
     "output_type": "stream",
     "text": [
      "MYD021KM-A2018091.0530\n",
      "(1, 512, 1024)\n",
      "(1, 512, 1024, 8)\n",
      "\n",
      "Using 1 shard(s) for 1 files, with up to 1 samples per shard\n"
     ]
    },
    {
     "name": "stderr",
     "output_type": "stream",
     "text": [
      "100%|██████████| 1/1 [00:00<00:00, 55.16it/s]"
     ]
    },
    {
     "name": "stdout",
     "output_type": "stream",
     "text": [
      "\n",
      "Wrote 1 elements to TFRecord\n"
     ]
    },
    {
     "name": "stderr",
     "output_type": "stream",
     "text": [
      "\n"
     ]
    },
    {
     "name": "stdout",
     "output_type": "stream",
     "text": [
      "MYD021KM-A2018091.0420\n",
      "MYD021KM-A2018091.1910\n",
      "MYD021KM-A2018091.2240\n",
      "MYD021KM-A2018091.0520\n",
      "(1, 512, 1024)\n",
      "(1, 512, 1024, 8)\n",
      "\n",
      "Using 1 shard(s) for 1 files, with up to 1 samples per shard\n"
     ]
    },
    {
     "name": "stderr",
     "output_type": "stream",
     "text": [
      "100%|██████████| 1/1 [00:00<00:00, 50.19it/s]"
     ]
    },
    {
     "name": "stdout",
     "output_type": "stream",
     "text": [
      "\n",
      "Wrote 1 elements to TFRecord\n"
     ]
    },
    {
     "name": "stderr",
     "output_type": "stream",
     "text": [
      "\n"
     ]
    },
    {
     "name": "stdout",
     "output_type": "stream",
     "text": [
      "MYD021KM-A2018091.2355\n",
      "MYD021KM-A2018091.0720\n",
      "(1, 512, 1024)\n",
      "(1, 512, 1024, 8)\n",
      "\n",
      "Using 1 shard(s) for 1 files, with up to 1 samples per shard\n"
     ]
    },
    {
     "name": "stderr",
     "output_type": "stream",
     "text": [
      "100%|██████████| 1/1 [00:00<00:00, 52.52it/s]"
     ]
    },
    {
     "name": "stdout",
     "output_type": "stream",
     "text": [
      "\n",
      "Wrote 1 elements to TFRecord\n"
     ]
    },
    {
     "name": "stderr",
     "output_type": "stream",
     "text": [
      "\n"
     ]
    },
    {
     "name": "stdout",
     "output_type": "stream",
     "text": [
      "MYD021KM-A2018091.0340\n",
      "(1, 512, 1024)\n",
      "(1, 512, 1024, 8)\n",
      "\n",
      "Using 1 shard(s) for 1 files, with up to 1 samples per shard\n"
     ]
    },
    {
     "name": "stderr",
     "output_type": "stream",
     "text": [
      "100%|██████████| 1/1 [00:00<00:00, 52.43it/s]"
     ]
    },
    {
     "name": "stdout",
     "output_type": "stream",
     "text": [
      "\n",
      "Wrote 1 elements to TFRecord\n"
     ]
    },
    {
     "name": "stderr",
     "output_type": "stream",
     "text": [
      "\n"
     ]
    },
    {
     "name": "stdout",
     "output_type": "stream",
     "text": [
      "MYD021KM-A2018091.1410\n",
      "MYD021KM-A2018091.1745\n",
      "MYD021KM-A2018091.2050\n",
      "MYD021KM-A2018091.1550\n",
      "MYD021KM-A2018091.2205\n",
      "(1, 512, 1024)\n",
      "(1, 512, 1024, 8)\n",
      "\n",
      "Using 1 shard(s) for 1 files, with up to 1 samples per shard\n"
     ]
    },
    {
     "name": "stderr",
     "output_type": "stream",
     "text": [
      "100%|██████████| 1/1 [00:00<00:00, 55.24it/s]"
     ]
    },
    {
     "name": "stdout",
     "output_type": "stream",
     "text": [
      "\n",
      "Wrote 1 elements to TFRecord\n"
     ]
    },
    {
     "name": "stderr",
     "output_type": "stream",
     "text": [
      "\n"
     ]
    },
    {
     "name": "stdout",
     "output_type": "stream",
     "text": [
      "MYD021KM-A2018091.1020\n",
      "MYD021KM-A2018091.0110\n",
      "MYD021KM-A2018091.0245\n",
      "MYD021KM-A2018091.1540\n",
      "MYD021KM-A2018091.0925\n",
      "MYD021KM-A2018091.1050\n",
      "MYD021KM-A2018091.0025\n",
      "(1, 512, 1024)\n",
      "(1, 512, 1024, 8)\n",
      "\n",
      "Using 1 shard(s) for 1 files, with up to 1 samples per shard\n"
     ]
    },
    {
     "name": "stderr",
     "output_type": "stream",
     "text": [
      "100%|██████████| 1/1 [00:00<00:00, 52.41it/s]"
     ]
    },
    {
     "name": "stdout",
     "output_type": "stream",
     "text": [
      "\n",
      "Wrote 1 elements to TFRecord\n"
     ]
    },
    {
     "name": "stderr",
     "output_type": "stream",
     "text": [
      "\n"
     ]
    },
    {
     "name": "stdout",
     "output_type": "stream",
     "text": [
      "MYD021KM-A2018091.1225\n",
      "MYD021KM-A2018091.0100\n",
      "MYD021KM-A2018091.1055\n",
      "MYD021KM-A2018091.0725\n",
      "MYD021KM-A2018091.1200\n",
      "(1, 512, 1024)\n",
      "(1, 512, 1024, 8)\n",
      "\n",
      "Using 1 shard(s) for 1 files, with up to 1 samples per shard\n"
     ]
    },
    {
     "name": "stderr",
     "output_type": "stream",
     "text": [
      "100%|██████████| 1/1 [00:00<00:00, 53.19it/s]"
     ]
    },
    {
     "name": "stdout",
     "output_type": "stream",
     "text": [
      "\n",
      "Wrote 1 elements to TFRecord\n"
     ]
    },
    {
     "name": "stderr",
     "output_type": "stream",
     "text": [
      "\n"
     ]
    },
    {
     "name": "stdout",
     "output_type": "stream",
     "text": [
      "MYD021KM-A2018091.1720\n",
      "MYD021KM-A2018091.2040\n",
      "MYD021KM-A2018091.1355\n",
      "(1, 512, 1024)\n",
      "(1, 512, 1024, 8)\n",
      "\n",
      "Using 1 shard(s) for 1 files, with up to 1 samples per shard\n"
     ]
    },
    {
     "name": "stderr",
     "output_type": "stream",
     "text": [
      "100%|██████████| 1/1 [00:00<00:00, 53.32it/s]"
     ]
    },
    {
     "name": "stdout",
     "output_type": "stream",
     "text": [
      "\n",
      "Wrote 1 elements to TFRecord\n"
     ]
    },
    {
     "name": "stderr",
     "output_type": "stream",
     "text": [
      "\n"
     ]
    },
    {
     "name": "stdout",
     "output_type": "stream",
     "text": [
      "MYD021KM-A2018091.0040\n",
      "(1, 512, 1024)\n",
      "(1, 512, 1024, 8)\n",
      "\n",
      "Using 1 shard(s) for 1 files, with up to 1 samples per shard\n"
     ]
    },
    {
     "name": "stderr",
     "output_type": "stream",
     "text": [
      "100%|██████████| 1/1 [00:00<00:00, 54.51it/s]"
     ]
    },
    {
     "name": "stdout",
     "output_type": "stream",
     "text": [
      "\n",
      "Wrote 1 elements to TFRecord\n"
     ]
    },
    {
     "name": "stderr",
     "output_type": "stream",
     "text": [
      "\n"
     ]
    },
    {
     "name": "stdout",
     "output_type": "stream",
     "text": [
      "MYD021KM-A2018091.0225\n",
      "(1, 512, 1024)\n",
      "(1, 512, 1024, 8)\n",
      "\n",
      "Using 1 shard(s) for 1 files, with up to 1 samples per shard\n"
     ]
    },
    {
     "name": "stderr",
     "output_type": "stream",
     "text": [
      "100%|██████████| 1/1 [00:00<00:00, 53.11it/s]"
     ]
    },
    {
     "name": "stdout",
     "output_type": "stream",
     "text": [
      "\n",
      "Wrote 1 elements to TFRecord\n"
     ]
    },
    {
     "name": "stderr",
     "output_type": "stream",
     "text": [
      "\n"
     ]
    },
    {
     "name": "stdout",
     "output_type": "stream",
     "text": [
      "MYD021KM-A2018091.1240\n",
      "MYD021KM-A2018091.0920\n",
      "MYD021KM-A2018091.0035\n",
      "(1, 512, 1024)\n",
      "(1, 512, 1024, 8)\n",
      "\n",
      "Using 1 shard(s) for 1 files, with up to 1 samples per shard\n"
     ]
    },
    {
     "name": "stderr",
     "output_type": "stream",
     "text": [
      "100%|██████████| 1/1 [00:00<00:00, 54.26it/s]"
     ]
    },
    {
     "name": "stdout",
     "output_type": "stream",
     "text": [
      "\n",
      "Wrote 1 elements to TFRecord\n"
     ]
    },
    {
     "name": "stderr",
     "output_type": "stream",
     "text": [
      "\n"
     ]
    },
    {
     "name": "stdout",
     "output_type": "stream",
     "text": [
      "MYD021KM-A2018091.1415\n",
      "MYD021KM-A2018091.0525\n",
      "MYD021KM-A2018091.0910\n",
      "MYD021KM-A2018091.1830\n",
      "(1, 512, 1024)\n",
      "(1, 512, 1024, 8)\n",
      "\n",
      "Using 1 shard(s) for 1 files, with up to 1 samples per shard\n"
     ]
    },
    {
     "name": "stderr",
     "output_type": "stream",
     "text": [
      "100%|██████████| 1/1 [00:00<00:00, 53.27it/s]"
     ]
    },
    {
     "name": "stdout",
     "output_type": "stream",
     "text": [
      "\n",
      "Wrote 1 elements to TFRecord\n"
     ]
    },
    {
     "name": "stderr",
     "output_type": "stream",
     "text": [
      "\n"
     ]
    },
    {
     "name": "stdout",
     "output_type": "stream",
     "text": [
      "MYD021KM-A2018091.0730\n",
      "MYD021KM-A2018091.1705\n",
      "(1, 512, 1024)\n",
      "(1, 512, 1024, 8)\n",
      "\n",
      "Using 1 shard(s) for 1 files, with up to 1 samples per shard\n"
     ]
    },
    {
     "name": "stderr",
     "output_type": "stream",
     "text": [
      "100%|██████████| 1/1 [00:00<00:00, 52.53it/s]"
     ]
    },
    {
     "name": "stdout",
     "output_type": "stream",
     "text": [
      "\n",
      "Wrote 1 elements to TFRecord\n"
     ]
    },
    {
     "name": "stderr",
     "output_type": "stream",
     "text": [
      "\n"
     ]
    },
    {
     "name": "stdout",
     "output_type": "stream",
     "text": [
      "MYD021KM-A2018091.1340\n",
      "(1, 512, 1024)\n",
      "(1, 512, 1024, 8)\n",
      "\n",
      "Using 1 shard(s) for 1 files, with up to 1 samples per shard\n"
     ]
    },
    {
     "name": "stderr",
     "output_type": "stream",
     "text": [
      "100%|██████████| 1/1 [00:00<00:00, 52.15it/s]"
     ]
    },
    {
     "name": "stdout",
     "output_type": "stream",
     "text": [
      "\n",
      "Wrote 1 elements to TFRecord\n"
     ]
    },
    {
     "name": "stderr",
     "output_type": "stream",
     "text": [
      "\n"
     ]
    },
    {
     "name": "stdout",
     "output_type": "stream",
     "text": [
      "MYD021KM-A2018091.0605\n",
      "MYD021KM-A2018091.2235\n",
      "MYD021KM-A2018091.0045\n",
      "(1, 512, 1024)\n",
      "(1, 512, 1024, 8)\n",
      "\n",
      "Using 1 shard(s) for 1 files, with up to 1 samples per shard\n"
     ]
    },
    {
     "name": "stderr",
     "output_type": "stream",
     "text": [
      "100%|██████████| 1/1 [00:00<00:00, 51.98it/s]"
     ]
    },
    {
     "name": "stdout",
     "output_type": "stream",
     "text": [
      "\n",
      "Wrote 1 elements to TFRecord\n"
     ]
    },
    {
     "name": "stderr",
     "output_type": "stream",
     "text": [
      "\n"
     ]
    },
    {
     "name": "stdout",
     "output_type": "stream",
     "text": [
      "MYD021KM-A2018091.1400\n",
      "(1, 512, 1024)\n",
      "(1, 512, 1024, 8)\n",
      "\n",
      "Using 1 shard(s) for 1 files, with up to 1 samples per shard\n"
     ]
    },
    {
     "name": "stderr",
     "output_type": "stream",
     "text": [
      "100%|██████████| 1/1 [00:00<00:00, 51.51it/s]"
     ]
    },
    {
     "name": "stdout",
     "output_type": "stream",
     "text": [
      "\n",
      "Wrote 1 elements to TFRecord\n"
     ]
    },
    {
     "name": "stderr",
     "output_type": "stream",
     "text": [
      "\n"
     ]
    },
    {
     "name": "stdout",
     "output_type": "stream",
     "text": [
      "MYD021KM-A2018091.0215\n",
      "(1, 512, 1024)\n",
      "(1, 512, 1024, 8)\n",
      "\n",
      "Using 1 shard(s) for 1 files, with up to 1 samples per shard\n"
     ]
    },
    {
     "name": "stderr",
     "output_type": "stream",
     "text": [
      "100%|██████████| 1/1 [00:00<00:00, 53.88it/s]"
     ]
    },
    {
     "name": "stdout",
     "output_type": "stream",
     "text": [
      "\n",
      "Wrote 1 elements to TFRecord\n"
     ]
    },
    {
     "name": "stderr",
     "output_type": "stream",
     "text": [
      "\n"
     ]
    },
    {
     "name": "stdout",
     "output_type": "stream",
     "text": [
      "MYD021KM-A2018091.1220\n",
      "(1, 512, 1024)\n",
      "(1, 512, 1024, 8)\n",
      "\n",
      "Using 1 shard(s) for 1 files, with up to 1 samples per shard\n"
     ]
    },
    {
     "name": "stderr",
     "output_type": "stream",
     "text": [
      "100%|██████████| 1/1 [00:00<00:00, 52.71it/s]"
     ]
    },
    {
     "name": "stdout",
     "output_type": "stream",
     "text": [
      "\n",
      "Wrote 1 elements to TFRecord\n"
     ]
    },
    {
     "name": "stderr",
     "output_type": "stream",
     "text": [
      "\n"
     ]
    },
    {
     "name": "stdout",
     "output_type": "stream",
     "text": [
      "MYD021KM-A2018091.0115\n",
      "MYD021KM-A2018091.0055\n",
      "MYD021KM-A2018091.0350\n",
      "(1, 512, 1024)\n",
      "(1, 512, 1024, 8)\n",
      "\n",
      "Using 1 shard(s) for 1 files, with up to 1 samples per shard\n"
     ]
    },
    {
     "name": "stderr",
     "output_type": "stream",
     "text": [
      "100%|██████████| 1/1 [00:00<00:00, 52.24it/s]"
     ]
    },
    {
     "name": "stdout",
     "output_type": "stream",
     "text": [
      "\n",
      "Wrote 1 elements to TFRecord\n"
     ]
    },
    {
     "name": "stderr",
     "output_type": "stream",
     "text": [
      "\n"
     ]
    },
    {
     "name": "stdout",
     "output_type": "stream",
     "text": [
      "MYD021KM-A2018091.0250\n",
      "MYD021KM-A2018091.0255\n",
      "MYD021KM-A2018091.1210\n",
      "(1, 512, 1024)\n",
      "(1, 512, 1024, 8)\n",
      "\n",
      "Using 1 shard(s) for 1 files, with up to 1 samples per shard\n"
     ]
    },
    {
     "name": "stderr",
     "output_type": "stream",
     "text": [
      "100%|██████████| 1/1 [00:00<00:00, 53.00it/s]"
     ]
    },
    {
     "name": "stdout",
     "output_type": "stream",
     "text": [
      "\n",
      "Wrote 1 elements to TFRecord\n"
     ]
    },
    {
     "name": "stderr",
     "output_type": "stream",
     "text": [
      "\n"
     ]
    },
    {
     "name": "stdout",
     "output_type": "stream",
     "text": [
      "MYD021KM-A2018091.1105\n",
      "MYD021KM-A2018091.2015\n",
      "MYD021KM-A2018091.1735\n",
      "MYD021KM-A2018091.0345\n",
      "(1, 512, 1024)\n",
      "(1, 512, 1024, 8)\n",
      "\n",
      "Using 1 shard(s) for 1 files, with up to 1 samples per shard\n"
     ]
    },
    {
     "name": "stderr",
     "output_type": "stream",
     "text": [
      "100%|██████████| 1/1 [00:00<00:00, 52.38it/s]"
     ]
    },
    {
     "name": "stdout",
     "output_type": "stream",
     "text": [
      "\n",
      "Wrote 1 elements to TFRecord\n"
     ]
    },
    {
     "name": "stderr",
     "output_type": "stream",
     "text": [
      "\n"
     ]
    },
    {
     "name": "stdout",
     "output_type": "stream",
     "text": [
      "MYD021KM-A2018091.1155\n",
      "(1, 512, 1024)\n",
      "(1, 512, 1024, 8)\n",
      "\n",
      "Using 1 shard(s) for 1 files, with up to 1 samples per shard\n"
     ]
    },
    {
     "name": "stderr",
     "output_type": "stream",
     "text": [
      "100%|██████████| 1/1 [00:00<00:00, 53.34it/s]"
     ]
    },
    {
     "name": "stdout",
     "output_type": "stream",
     "text": [
      "\n",
      "Wrote 1 elements to TFRecord\n"
     ]
    },
    {
     "name": "stderr",
     "output_type": "stream",
     "text": [
      "\n"
     ]
    },
    {
     "name": "stdout",
     "output_type": "stream",
     "text": [
      "MYD021KM-A2018091.2055\n",
      "MYD021KM-A2018091.0535\n",
      "MYD021KM-A2018091.1025\n",
      "(1, 512, 1024)\n",
      "(1, 512, 1024, 8)\n",
      "\n",
      "Using 1 shard(s) for 1 files, with up to 1 samples per shard\n"
     ]
    },
    {
     "name": "stderr",
     "output_type": "stream",
     "text": [
      "100%|██████████| 1/1 [00:00<00:00, 53.60it/s]"
     ]
    },
    {
     "name": "stdout",
     "output_type": "stream",
     "text": [
      "\n",
      "Wrote 1 elements to TFRecord\n"
     ]
    },
    {
     "name": "stderr",
     "output_type": "stream",
     "text": [
      "\n"
     ]
    },
    {
     "name": "stdout",
     "output_type": "stream",
     "text": [
      "MYD021KM-A2018091.2035\n",
      "(1, 512, 1024)\n",
      "(1, 512, 1024, 8)\n",
      "\n",
      "Using 1 shard(s) for 1 files, with up to 1 samples per shard\n"
     ]
    },
    {
     "name": "stderr",
     "output_type": "stream",
     "text": [
      "100%|██████████| 1/1 [00:00<00:00, 55.15it/s]"
     ]
    },
    {
     "name": "stdout",
     "output_type": "stream",
     "text": [
      "\n",
      "Wrote 1 elements to TFRecord\n"
     ]
    },
    {
     "name": "stderr",
     "output_type": "stream",
     "text": [
      "\n"
     ]
    },
    {
     "name": "stdout",
     "output_type": "stream",
     "text": [
      "MYD021KM-A2018091.0410\n",
      "MYD021KM-A2018091.0400\n",
      "(1, 512, 1024)\n",
      "(1, 512, 1024, 8)\n",
      "\n",
      "Using 1 shard(s) for 1 files, with up to 1 samples per shard\n"
     ]
    },
    {
     "name": "stderr",
     "output_type": "stream",
     "text": [
      "100%|██████████| 1/1 [00:00<00:00, 53.52it/s]"
     ]
    },
    {
     "name": "stdout",
     "output_type": "stream",
     "text": [
      "\n",
      "Wrote 1 elements to TFRecord\n"
     ]
    },
    {
     "name": "stderr",
     "output_type": "stream",
     "text": [
      "\n"
     ]
    },
    {
     "name": "stdout",
     "output_type": "stream",
     "text": [
      "MYD021KM-A2018091.2010\n",
      "(1, 512, 1024)\n",
      "(1, 512, 1024, 8)\n",
      "\n",
      "Using 1 shard(s) for 1 files, with up to 1 samples per shard\n"
     ]
    },
    {
     "name": "stderr",
     "output_type": "stream",
     "text": [
      "100%|██████████| 1/1 [00:00<00:00, 52.33it/s]"
     ]
    },
    {
     "name": "stdout",
     "output_type": "stream",
     "text": [
      "\n",
      "Wrote 1 elements to TFRecord\n"
     ]
    },
    {
     "name": "stderr",
     "output_type": "stream",
     "text": [
      "\n"
     ]
    },
    {
     "name": "stdout",
     "output_type": "stream",
     "text": [
      "MYD021KM-A2018091.1605\n",
      "MYD021KM-A2018091.0610\n",
      "MYD021KM-A2018091.0105\n",
      "MYD021KM-A2018091.1045\n",
      "MYD021KM-A2018091.0930\n",
      "MYD021KM-A2018091.1040\n",
      "(1, 512, 1024)\n",
      "(1, 512, 1024, 8)\n",
      "\n",
      "Using 1 shard(s) for 1 files, with up to 1 samples per shard\n"
     ]
    },
    {
     "name": "stderr",
     "output_type": "stream",
     "text": [
      "100%|██████████| 1/1 [00:00<00:00, 53.58it/s]"
     ]
    },
    {
     "name": "stdout",
     "output_type": "stream",
     "text": [
      "\n",
      "Wrote 1 elements to TFRecord\n"
     ]
    },
    {
     "name": "stderr",
     "output_type": "stream",
     "text": [
      "\n"
     ]
    },
    {
     "name": "stdout",
     "output_type": "stream",
     "text": [
      "MYD021KM-A2018091.0415\n",
      "MYD021KM-A2018091.2045\n",
      "MYD021KM-A2018091.1535\n",
      "(1, 512, 1024)\n",
      "(1, 512, 1024, 8)\n",
      "\n",
      "Using 1 shard(s) for 1 files, with up to 1 samples per shard\n"
     ]
    },
    {
     "name": "stderr",
     "output_type": "stream",
     "text": [
      "100%|██████████| 1/1 [00:00<00:00, 52.38it/s]"
     ]
    },
    {
     "name": "stdout",
     "output_type": "stream",
     "text": [
      "\n",
      "Wrote 1 elements to TFRecord\n"
     ]
    },
    {
     "name": "stderr",
     "output_type": "stream",
     "text": [
      "\n"
     ]
    },
    {
     "name": "stdout",
     "output_type": "stream",
     "text": [
      "MYD021KM-A2018091.0705\n",
      "MYD021KM-A2018091.1035\n",
      "MYD021KM-A2018091.0030\n",
      "(1, 512, 1024)\n",
      "(1, 512, 1024, 8)\n",
      "\n",
      "Using 1 shard(s) for 1 files, with up to 1 samples per shard\n"
     ]
    },
    {
     "name": "stderr",
     "output_type": "stream",
     "text": [
      "100%|██████████| 1/1 [00:00<00:00, 53.91it/s]"
     ]
    },
    {
     "name": "stdout",
     "output_type": "stream",
     "text": [
      "\n",
      "Wrote 1 elements to TFRecord\n"
     ]
    },
    {
     "name": "stderr",
     "output_type": "stream",
     "text": [
      "\n"
     ]
    },
    {
     "name": "stdout",
     "output_type": "stream",
     "text": [
      "MYD021KM-A2018091.1900\n",
      "MYD021KM-A2018091.0240\n",
      "MYD021KM-A2018091.0425\n",
      "MYD021KM-A2018091.1335\n",
      "(1, 512, 1024)\n",
      "(1, 512, 1024, 8)\n",
      "\n",
      "Using 1 shard(s) for 1 files, with up to 1 samples per shard\n"
     ]
    },
    {
     "name": "stderr",
     "output_type": "stream",
     "text": [
      "100%|██████████| 1/1 [00:00<00:00, 51.25it/s]"
     ]
    },
    {
     "name": "stdout",
     "output_type": "stream",
     "text": [
      "\n",
      "Wrote 1 elements to TFRecord\n"
     ]
    },
    {
     "name": "stderr",
     "output_type": "stream",
     "text": [
      "\n"
     ]
    },
    {
     "name": "stdout",
     "output_type": "stream",
     "text": [
      "MYD021KM-A2018091.2020\n",
      "(1, 512, 1024)\n",
      "(1, 512, 1024, 8)\n",
      "\n",
      "Using 1 shard(s) for 1 files, with up to 1 samples per shard\n"
     ]
    },
    {
     "name": "stderr",
     "output_type": "stream",
     "text": [
      "100%|██████████| 1/1 [00:00<00:00, 52.78it/s]"
     ]
    },
    {
     "name": "stdout",
     "output_type": "stream",
     "text": [
      "\n",
      "Wrote 1 elements to TFRecord\n"
     ]
    },
    {
     "name": "stderr",
     "output_type": "stream",
     "text": [
      "\n"
     ]
    },
    {
     "name": "stdout",
     "output_type": "stream",
     "text": [
      "MYD021KM-A2018091.0405\n",
      "(1, 512, 1024)\n",
      "(1, 512, 1024, 8)\n",
      "\n",
      "Using 1 shard(s) for 1 files, with up to 1 samples per shard\n"
     ]
    },
    {
     "name": "stderr",
     "output_type": "stream",
     "text": [
      "100%|██████████| 1/1 [00:00<00:00, 49.45it/s]"
     ]
    },
    {
     "name": "stdout",
     "output_type": "stream",
     "text": [
      "\n",
      "Wrote 1 elements to TFRecord\n"
     ]
    },
    {
     "name": "stderr",
     "output_type": "stream",
     "text": [
      "\n"
     ]
    },
    {
     "name": "stdout",
     "output_type": "stream",
     "text": [
      "MYD021KM-A2018091.2155\n",
      "(1, 512, 1024)\n",
      "(1, 512, 1024, 8)\n",
      "\n",
      "Using 1 shard(s) for 1 files, with up to 1 samples per shard\n"
     ]
    },
    {
     "name": "stderr",
     "output_type": "stream",
     "text": [
      "100%|██████████| 1/1 [00:00<00:00, 52.56it/s]"
     ]
    },
    {
     "name": "stdout",
     "output_type": "stream",
     "text": [
      "\n",
      "Wrote 1 elements to TFRecord\n"
     ]
    },
    {
     "name": "stderr",
     "output_type": "stream",
     "text": [
      "\n"
     ]
    },
    {
     "name": "stdout",
     "output_type": "stream",
     "text": [
      "MYD021KM-A2018091.0550\n",
      "MYD021KM-A2018091.0220\n",
      "(1, 512, 1024)\n",
      "(1, 512, 1024, 8)\n",
      "\n",
      "Using 1 shard(s) for 1 files, with up to 1 samples per shard\n"
     ]
    },
    {
     "name": "stderr",
     "output_type": "stream",
     "text": [
      "100%|██████████| 1/1 [00:00<00:00, 53.19it/s]"
     ]
    },
    {
     "name": "stdout",
     "output_type": "stream",
     "text": [
      "\n",
      "Wrote 1 elements to TFRecord\n"
     ]
    },
    {
     "name": "stderr",
     "output_type": "stream",
     "text": [
      "\n"
     ]
    },
    {
     "name": "stdout",
     "output_type": "stream",
     "text": [
      "MYD021KM-A2018091.2100\n",
      "MYD021KM-A2018091.1545\n",
      "MYD021KM-A2018091.2025\n",
      "(1, 512, 1024)\n",
      "(1, 512, 1024, 8)\n",
      "\n",
      "Using 1 shard(s) for 1 files, with up to 1 samples per shard\n"
     ]
    },
    {
     "name": "stderr",
     "output_type": "stream",
     "text": [
      "100%|██████████| 1/1 [00:00<00:00, 52.11it/s]"
     ]
    },
    {
     "name": "stdout",
     "output_type": "stream",
     "text": [
      "\n",
      "Wrote 1 elements to TFRecord\n"
     ]
    },
    {
     "name": "stderr",
     "output_type": "stream",
     "text": [
      "\n"
     ]
    },
    {
     "name": "stdout",
     "output_type": "stream",
     "text": [
      "MYD021KM-A2018091.1030\n",
      "(1, 512, 1024)\n",
      "(1, 512, 1024, 8)\n",
      "\n",
      "Using 1 shard(s) for 1 files, with up to 1 samples per shard\n"
     ]
    },
    {
     "name": "stderr",
     "output_type": "stream",
     "text": [
      "100%|██████████| 1/1 [00:00<00:00, 53.03it/s]"
     ]
    },
    {
     "name": "stdout",
     "output_type": "stream",
     "text": [
      "\n",
      "Wrote 1 elements to TFRecord\n"
     ]
    },
    {
     "name": "stderr",
     "output_type": "stream",
     "text": [
      "\n"
     ]
    },
    {
     "name": "stdout",
     "output_type": "stream",
     "text": [
      "MYD021KM-A2018091.1525\n",
      "(1, 512, 1024)\n",
      "(1, 512, 1024, 8)\n",
      "\n",
      "Using 1 shard(s) for 1 files, with up to 1 samples per shard\n"
     ]
    },
    {
     "name": "stderr",
     "output_type": "stream",
     "text": [
      "100%|██████████| 1/1 [00:00<00:00, 52.81it/s]"
     ]
    },
    {
     "name": "stdout",
     "output_type": "stream",
     "text": [
      "\n",
      "Wrote 1 elements to TFRecord\n"
     ]
    },
    {
     "name": "stderr",
     "output_type": "stream",
     "text": [
      "\n"
     ]
    },
    {
     "name": "stdout",
     "output_type": "stream",
     "text": [
      "MYD021KM-A2018091.1345\n",
      "(1, 512, 1024)\n",
      "(1, 512, 1024, 8)\n",
      "\n",
      "Using 1 shard(s) for 1 files, with up to 1 samples per shard\n"
     ]
    },
    {
     "name": "stderr",
     "output_type": "stream",
     "text": [
      "100%|██████████| 1/1 [00:00<00:00, 54.23it/s]"
     ]
    },
    {
     "name": "stdout",
     "output_type": "stream",
     "text": [
      "\n",
      "Wrote 1 elements to TFRecord\n"
     ]
    },
    {
     "name": "stderr",
     "output_type": "stream",
     "text": [
      "\n"
     ]
    },
    {
     "name": "stdout",
     "output_type": "stream",
     "text": [
      "MYD021KM-A2018091.1350\n",
      "(1, 512, 1024)\n",
      "(1, 512, 1024, 8)\n",
      "\n",
      "Using 1 shard(s) for 1 files, with up to 1 samples per shard\n"
     ]
    },
    {
     "name": "stderr",
     "output_type": "stream",
     "text": [
      "100%|██████████| 1/1 [00:00<00:00, 55.34it/s]"
     ]
    },
    {
     "name": "stdout",
     "output_type": "stream",
     "text": [
      "\n",
      "Wrote 1 elements to TFRecord\n"
     ]
    },
    {
     "name": "stderr",
     "output_type": "stream",
     "text": [
      "\n"
     ]
    },
    {
     "name": "stdout",
     "output_type": "stream",
     "text": [
      "MYD021KM-A2018091.1215\n",
      "(1, 512, 1024)\n",
      "(1, 512, 1024, 8)\n",
      "\n",
      "Using 1 shard(s) for 1 files, with up to 1 samples per shard\n"
     ]
    },
    {
     "name": "stderr",
     "output_type": "stream",
     "text": [
      "100%|██████████| 1/1 [00:00<00:00, 53.28it/s]"
     ]
    },
    {
     "name": "stdout",
     "output_type": "stream",
     "text": [
      "\n",
      "Wrote 1 elements to TFRecord\n"
     ]
    },
    {
     "name": "stderr",
     "output_type": "stream",
     "text": [
      "\n"
     ]
    },
    {
     "name": "stdout",
     "output_type": "stream",
     "text": [
      "MYD021KM-A2018091.2200\n",
      "(1, 512, 1024)\n",
      "(1, 512, 1024, 8)\n",
      "\n",
      "Using 1 shard(s) for 1 files, with up to 1 samples per shard\n"
     ]
    },
    {
     "name": "stderr",
     "output_type": "stream",
     "text": [
      "100%|██████████| 1/1 [00:00<00:00, 53.29it/s]"
     ]
    },
    {
     "name": "stdout",
     "output_type": "stream",
     "text": [
      "\n",
      "Wrote 1 elements to TFRecord\n"
     ]
    },
    {
     "name": "stderr",
     "output_type": "stream",
     "text": [
      "\n"
     ]
    },
    {
     "name": "stdout",
     "output_type": "stream",
     "text": [
      "MYD021KM-A2018091.2345\n",
      "(1, 512, 1024)\n",
      "(1, 512, 1024, 8)\n",
      "\n",
      "Using 1 shard(s) for 1 files, with up to 1 samples per shard\n"
     ]
    },
    {
     "name": "stderr",
     "output_type": "stream",
     "text": [
      "100%|██████████| 1/1 [00:00<00:00, 51.49it/s]"
     ]
    },
    {
     "name": "stdout",
     "output_type": "stream",
     "text": [
      "\n",
      "Wrote 1 elements to TFRecord\n"
     ]
    },
    {
     "name": "stderr",
     "output_type": "stream",
     "text": [
      "\n"
     ]
    },
    {
     "name": "stdout",
     "output_type": "stream",
     "text": [
      "MYD021KM-A2018091.1715\n",
      "(1, 512, 1024)\n",
      "(1, 512, 1024, 8)\n",
      "\n",
      "Using 1 shard(s) for 1 files, with up to 1 samples per shard\n"
     ]
    },
    {
     "name": "stderr",
     "output_type": "stream",
     "text": [
      "100%|██████████| 1/1 [00:00<00:00, 48.94it/s]"
     ]
    },
    {
     "name": "stdout",
     "output_type": "stream",
     "text": [
      "\n",
      "Wrote 1 elements to TFRecord\n"
     ]
    },
    {
     "name": "stderr",
     "output_type": "stream",
     "text": [
      "\n"
     ]
    },
    {
     "name": "stdout",
     "output_type": "stream",
     "text": [
      "MYD021KM-A2018091.1725\n",
      "MYD021KM-A2018091.1920\n",
      "MYD021KM-A2018091.0700\n",
      "(1, 512, 1024)\n",
      "(1, 512, 1024, 8)\n",
      "\n",
      "Using 1 shard(s) for 1 files, with up to 1 samples per shard\n"
     ]
    },
    {
     "name": "stderr",
     "output_type": "stream",
     "text": [
      "100%|██████████| 1/1 [00:00<00:00, 51.81it/s]"
     ]
    },
    {
     "name": "stdout",
     "output_type": "stream",
     "text": [
      "\n",
      "Wrote 1 elements to TFRecord\n"
     ]
    },
    {
     "name": "stderr",
     "output_type": "stream",
     "text": [
      "\n"
     ]
    },
    {
     "name": "stdout",
     "output_type": "stream",
     "text": [
      "MYD021KM-A2018091.1425\n",
      "MYD021KM-A2018091.0845\n",
      "MYD021KM-A2018091.1850\n",
      "(1, 512, 1024)\n",
      "(1, 512, 1024, 8)\n",
      "\n",
      "Using 1 shard(s) for 1 files, with up to 1 samples per shard\n"
     ]
    },
    {
     "name": "stderr",
     "output_type": "stream",
     "text": [
      "100%|██████████| 1/1 [00:00<00:00, 54.28it/s]"
     ]
    },
    {
     "name": "stdout",
     "output_type": "stream",
     "text": [
      "\n",
      "Wrote 1 elements to TFRecord\n"
     ]
    },
    {
     "name": "stderr",
     "output_type": "stream",
     "text": [
      "\n"
     ]
    },
    {
     "name": "stdout",
     "output_type": "stream",
     "text": [
      "MYD021KM-A2018091.2220\n",
      "MYD021KM-A2018091.1840\n",
      "(1, 512, 1024)\n",
      "(1, 512, 1024, 8)\n",
      "\n",
      "Using 1 shard(s) for 1 files, with up to 1 samples per shard\n"
     ]
    },
    {
     "name": "stderr",
     "output_type": "stream",
     "text": [
      "100%|██████████| 1/1 [00:00<00:00, 52.06it/s]"
     ]
    },
    {
     "name": "stdout",
     "output_type": "stream",
     "text": [
      "\n",
      "Wrote 1 elements to TFRecord\n"
     ]
    },
    {
     "name": "stderr",
     "output_type": "stream",
     "text": [
      "\n"
     ]
    },
    {
     "name": "stdout",
     "output_type": "stream",
     "text": [
      "MYD021KM-A2018091.0050\n",
      "MYD021KM-A2018091.0710\n",
      "(1, 512, 1024)\n",
      "(1, 512, 1024, 8)\n",
      "\n",
      "Using 1 shard(s) for 1 files, with up to 1 samples per shard\n"
     ]
    },
    {
     "name": "stderr",
     "output_type": "stream",
     "text": [
      "100%|██████████| 1/1 [00:00<00:00, 54.25it/s]"
     ]
    },
    {
     "name": "stdout",
     "output_type": "stream",
     "text": [
      "\n",
      "Wrote 1 elements to TFRecord\n"
     ]
    },
    {
     "name": "stderr",
     "output_type": "stream",
     "text": [
      "\n"
     ]
    },
    {
     "name": "stdout",
     "output_type": "stream",
     "text": [
      "MYD021KM-A2018091.0840\n",
      "MYD021KM-A2018091.0205\n",
      "(1, 512, 1024)\n",
      "(1, 512, 1024, 8)\n",
      "\n",
      "Using 1 shard(s) for 1 files, with up to 1 samples per shard\n"
     ]
    },
    {
     "name": "stderr",
     "output_type": "stream",
     "text": [
      "100%|██████████| 1/1 [00:00<00:00, 52.53it/s]"
     ]
    },
    {
     "name": "stdout",
     "output_type": "stream",
     "text": [
      "\n",
      "Wrote 1 elements to TFRecord\n"
     ]
    },
    {
     "name": "stderr",
     "output_type": "stream",
     "text": [
      "\n"
     ]
    },
    {
     "name": "stdout",
     "output_type": "stream",
     "text": [
      "MYD021KM-A2018091.0545\n",
      "(1, 512, 1024)\n",
      "(1, 512, 1024, 8)\n",
      "\n",
      "Using 1 shard(s) for 1 files, with up to 1 samples per shard\n"
     ]
    },
    {
     "name": "stderr",
     "output_type": "stream",
     "text": [
      "100%|██████████| 1/1 [00:00<00:00, 52.55it/s]"
     ]
    },
    {
     "name": "stdout",
     "output_type": "stream",
     "text": [
      "\n",
      "Wrote 1 elements to TFRecord\n"
     ]
    },
    {
     "name": "stderr",
     "output_type": "stream",
     "text": [
      "\n"
     ]
    },
    {
     "name": "stdout",
     "output_type": "stream",
     "text": [
      "MYD021KM-A2018091.1530\n",
      "(1, 512, 1024)\n",
      "(1, 512, 1024, 8)\n",
      "\n",
      "Using 1 shard(s) for 1 files, with up to 1 samples per shard\n"
     ]
    },
    {
     "name": "stderr",
     "output_type": "stream",
     "text": [
      "100%|██████████| 1/1 [00:00<00:00, 52.72it/s]"
     ]
    },
    {
     "name": "stdout",
     "output_type": "stream",
     "text": [
      "\n",
      "Wrote 1 elements to TFRecord\n"
     ]
    },
    {
     "name": "stderr",
     "output_type": "stream",
     "text": [
      "\n"
     ]
    },
    {
     "name": "stdout",
     "output_type": "stream",
     "text": [
      "MYD021KM-A2018091.2150\n",
      "(1, 512, 1024)\n",
      "(1, 512, 1024, 8)\n",
      "\n",
      "Using 1 shard(s) for 1 files, with up to 1 samples per shard\n"
     ]
    },
    {
     "name": "stderr",
     "output_type": "stream",
     "text": [
      "100%|██████████| 1/1 [00:00<00:00, 56.25it/s]"
     ]
    },
    {
     "name": "stdout",
     "output_type": "stream",
     "text": [
      "\n",
      "Wrote 1 elements to TFRecord\n"
     ]
    },
    {
     "name": "stderr",
     "output_type": "stream",
     "text": [
      "\n"
     ]
    },
    {
     "name": "stdout",
     "output_type": "stream",
     "text": [
      "MYD021KM-A2018091.2340\n",
      "(1, 512, 1024)\n",
      "(1, 512, 1024, 8)\n",
      "\n",
      "Using 1 shard(s) for 1 files, with up to 1 samples per shard\n"
     ]
    },
    {
     "name": "stderr",
     "output_type": "stream",
     "text": [
      "100%|██████████| 1/1 [00:00<00:00, 55.04it/s]"
     ]
    },
    {
     "name": "stdout",
     "output_type": "stream",
     "text": [
      "\n",
      "Wrote 1 elements to TFRecord\n"
     ]
    },
    {
     "name": "stderr",
     "output_type": "stream",
     "text": [
      "\n"
     ]
    },
    {
     "name": "stdout",
     "output_type": "stream",
     "text": [
      "MYD021KM-A2018091.0745\n",
      "MYD021KM-A2018091.1555\n",
      "MYD021KM-A2018091.1205\n",
      "MYD021KM-A2018091.2335\n",
      "(1, 512, 1024)\n",
      "(1, 512, 1024, 8)\n",
      "\n",
      "Using 1 shard(s) for 1 files, with up to 1 samples per shard\n"
     ]
    },
    {
     "name": "stderr",
     "output_type": "stream",
     "text": [
      "100%|██████████| 1/1 [00:00<00:00, 56.66it/s]"
     ]
    },
    {
     "name": "stdout",
     "output_type": "stream",
     "text": [
      "\n",
      "Wrote 1 elements to TFRecord\n"
     ]
    },
    {
     "name": "stderr",
     "output_type": "stream",
     "text": [
      "\n"
     ]
    },
    {
     "name": "stdout",
     "output_type": "stream",
     "text": [
      "MYD021KM-A2018091.2210\n",
      "(1, 512, 1024)\n",
      "(1, 512, 1024, 8)\n",
      "\n",
      "Using 1 shard(s) for 1 files, with up to 1 samples per shard\n"
     ]
    },
    {
     "name": "stderr",
     "output_type": "stream",
     "text": [
      "100%|██████████| 1/1 [00:00<00:00, 54.76it/s]"
     ]
    },
    {
     "name": "stdout",
     "output_type": "stream",
     "text": [
      "\n",
      "Wrote 1 elements to TFRecord\n"
     ]
    },
    {
     "name": "stderr",
     "output_type": "stream",
     "text": [
      "\n"
     ]
    },
    {
     "name": "stdout",
     "output_type": "stream",
     "text": [
      "MYD021KM-A2018091.0715\n",
      "(1, 512, 1024)\n",
      "(1, 512, 1024, 8)\n",
      "\n",
      "Using 1 shard(s) for 1 files, with up to 1 samples per shard\n"
     ]
    },
    {
     "name": "stderr",
     "output_type": "stream",
     "text": [
      "100%|██████████| 1/1 [00:00<00:00, 55.70it/s]"
     ]
    },
    {
     "name": "stdout",
     "output_type": "stream",
     "text": [
      "\n",
      "Wrote 1 elements to TFRecord\n"
     ]
    },
    {
     "name": "stderr",
     "output_type": "stream",
     "text": [
      "\n"
     ]
    },
    {
     "name": "stdout",
     "output_type": "stream",
     "text": [
      "MYD021KM-A2018091.1100\n",
      "MYD021KM-A2018091.1655\n",
      "(1, 512, 1024)\n",
      "(1, 512, 1024, 8)\n",
      "\n",
      "Using 1 shard(s) for 1 files, with up to 1 samples per shard\n"
     ]
    },
    {
     "name": "stderr",
     "output_type": "stream",
     "text": [
      "100%|██████████| 1/1 [00:00<00:00, 48.58it/s]"
     ]
    },
    {
     "name": "stdout",
     "output_type": "stream",
     "text": [
      "\n",
      "Wrote 1 elements to TFRecord\n"
     ]
    },
    {
     "name": "stderr",
     "output_type": "stream",
     "text": [
      "\n"
     ]
    },
    {
     "name": "stdout",
     "output_type": "stream",
     "text": [
      "MYD021KM-A2018091.2215\n",
      "MYD021KM-A2018091.0905\n",
      "MYD021KM-A2018091.0750\n",
      "MYD021KM-A2018091.1740\n",
      "MYD021KM-A2018091.0230\n",
      "MYD021KM-A2018091.0540\n",
      "(1, 512, 1024)\n",
      "(1, 512, 1024, 8)\n",
      "\n",
      "Using 1 shard(s) for 1 files, with up to 1 samples per shard\n"
     ]
    },
    {
     "name": "stderr",
     "output_type": "stream",
     "text": [
      "100%|██████████| 1/1 [00:00<00:00, 52.02it/s]"
     ]
    },
    {
     "name": "stdout",
     "output_type": "stream",
     "text": [
      "\n",
      "Wrote 1 elements to TFRecord\n"
     ]
    },
    {
     "name": "stderr",
     "output_type": "stream",
     "text": [
      "\n"
     ]
    },
    {
     "name": "stdout",
     "output_type": "stream",
     "text": [
      "MYD021KM-A2018091.1245\n",
      "MYD021KM-A2018091.1405\n",
      "MYD021KM-A2018091.0600\n",
      "MYD021KM-A2018091.0235\n",
      "MYD021KM-A2018091.1915\n",
      "MYD021KM-A2018091.0555\n",
      "MYD021KM-A2018091.0430\n",
      "MYD021KM-A2018091.2330\n",
      "(1, 512, 1024)\n",
      "(1, 512, 1024, 8)\n",
      "\n",
      "Using 1 shard(s) for 1 files, with up to 1 samples per shard\n"
     ]
    },
    {
     "name": "stderr",
     "output_type": "stream",
     "text": [
      "100%|██████████| 1/1 [00:00<00:00, 54.08it/s]"
     ]
    },
    {
     "name": "stdout",
     "output_type": "stream",
     "text": [
      "\n",
      "Wrote 1 elements to TFRecord\n"
     ]
    },
    {
     "name": "stderr",
     "output_type": "stream",
     "text": [
      "\n"
     ]
    },
    {
     "name": "stdout",
     "output_type": "stream",
     "text": [
      "MYD021KM-A2018091.1730\n",
      "MYD021KM-A2018091.2230\n",
      "MYD021KM-A2018091.1600\n",
      "MYD021KM-A2018091.0210\n",
      "(1, 512, 1024)\n",
      "(1, 512, 1024, 8)\n",
      "\n",
      "Using 1 shard(s) for 1 files, with up to 1 samples per shard\n"
     ]
    },
    {
     "name": "stderr",
     "output_type": "stream",
     "text": [
      "100%|██████████| 1/1 [00:00<00:00, 56.40it/s]"
     ]
    },
    {
     "name": "stdout",
     "output_type": "stream",
     "text": [
      "\n",
      "Wrote 1 elements to TFRecord\n"
     ]
    },
    {
     "name": "stderr",
     "output_type": "stream",
     "text": [
      "\n"
     ]
    },
    {
     "name": "stdout",
     "output_type": "stream",
     "text": [
      "MYD021KM-A2018091.1905\n",
      "MYD021KM-A2018107.2055\n",
      "MYD021KM-A2018107.0920\n",
      "MYD021KM-A2018107.1040\n",
      "(1, 512, 1024)\n",
      "(1, 512, 1024, 8)\n",
      "\n",
      "Using 1 shard(s) for 1 files, with up to 1 samples per shard\n"
     ]
    },
    {
     "name": "stderr",
     "output_type": "stream",
     "text": [
      "100%|██████████| 1/1 [00:00<00:00, 55.27it/s]"
     ]
    },
    {
     "name": "stdout",
     "output_type": "stream",
     "text": [
      "\n",
      "Wrote 1 elements to TFRecord\n"
     ]
    },
    {
     "name": "stderr",
     "output_type": "stream",
     "text": [
      "\n"
     ]
    },
    {
     "name": "stdout",
     "output_type": "stream",
     "text": [
      "MYD021KM-A2018107.1035\n",
      "(1, 512, 1024)\n",
      "(1, 512, 1024, 8)\n",
      "\n",
      "Using 1 shard(s) for 1 files, with up to 1 samples per shard\n"
     ]
    },
    {
     "name": "stderr",
     "output_type": "stream",
     "text": [
      "100%|██████████| 1/1 [00:00<00:00, 44.01it/s]"
     ]
    },
    {
     "name": "stdout",
     "output_type": "stream",
     "text": [
      "\n",
      "Wrote 1 elements to TFRecord\n"
     ]
    },
    {
     "name": "stderr",
     "output_type": "stream",
     "text": [
      "\n"
     ]
    },
    {
     "name": "stdout",
     "output_type": "stream",
     "text": [
      "MYD021KM-A2018107.1515\n",
      "(1, 512, 1024)\n",
      "(1, 512, 1024, 8)\n",
      "\n",
      "Using 1 shard(s) for 1 files, with up to 1 samples per shard\n"
     ]
    },
    {
     "name": "stderr",
     "output_type": "stream",
     "text": [
      "100%|██████████| 1/1 [00:00<00:00, 54.01it/s]"
     ]
    },
    {
     "name": "stdout",
     "output_type": "stream",
     "text": [
      "\n",
      "Wrote 1 elements to TFRecord\n"
     ]
    },
    {
     "name": "stderr",
     "output_type": "stream",
     "text": [
      "\n"
     ]
    },
    {
     "name": "stdout",
     "output_type": "stream",
     "text": [
      "MYD021KM-A2018107.0600\n",
      "MYD021KM-A2018107.0225\n",
      "(1, 512, 1024)\n",
      "(1, 512, 1024, 8)\n",
      "\n",
      "Using 1 shard(s) for 1 files, with up to 1 samples per shard\n"
     ]
    },
    {
     "name": "stderr",
     "output_type": "stream",
     "text": [
      "100%|██████████| 1/1 [00:00<00:00, 55.22it/s]"
     ]
    },
    {
     "name": "stdout",
     "output_type": "stream",
     "text": [
      "\n",
      "Wrote 1 elements to TFRecord\n"
     ]
    },
    {
     "name": "stderr",
     "output_type": "stream",
     "text": [
      "\n"
     ]
    },
    {
     "name": "stdout",
     "output_type": "stream",
     "text": [
      "MYD021KM-A2018107.0925\n",
      "MYD021KM-A2018107.1050\n",
      "MYD021KM-A2018107.1230\n",
      "MYD021KM-A2018107.1550\n",
      "MYD021KM-A2018107.1335\n",
      "(1, 512, 1024)\n",
      "(1, 512, 1024, 8)\n",
      "\n",
      "Using 1 shard(s) for 1 files, with up to 1 samples per shard\n"
     ]
    },
    {
     "name": "stderr",
     "output_type": "stream",
     "text": [
      "100%|██████████| 1/1 [00:00<00:00, 37.95it/s]"
     ]
    },
    {
     "name": "stdout",
     "output_type": "stream",
     "text": [
      "\n",
      "Wrote 1 elements to TFRecord\n"
     ]
    },
    {
     "name": "stderr",
     "output_type": "stream",
     "text": [
      "\n"
     ]
    },
    {
     "name": "stdout",
     "output_type": "stream",
     "text": [
      "MYD021KM-A2018107.2010\n",
      "(1, 512, 1024)\n",
      "(1, 512, 1024, 8)\n",
      "\n",
      "Using 1 shard(s) for 1 files, with up to 1 samples per shard\n"
     ]
    },
    {
     "name": "stderr",
     "output_type": "stream",
     "text": [
      "100%|██████████| 1/1 [00:00<00:00, 54.19it/s]"
     ]
    },
    {
     "name": "stdout",
     "output_type": "stream",
     "text": [
      "\n",
      "Wrote 1 elements to TFRecord\n"
     ]
    },
    {
     "name": "stderr",
     "output_type": "stream",
     "text": [
      "\n"
     ]
    },
    {
     "name": "stdout",
     "output_type": "stream",
     "text": [
      "MYD021KM-A2018107.1340\n",
      "MYD021KM-A2018107.2345\n",
      "(1, 512, 1024)\n",
      "(1, 512, 1024, 8)\n",
      "\n",
      "Using 1 shard(s) for 1 files, with up to 1 samples per shard\n"
     ]
    },
    {
     "name": "stderr",
     "output_type": "stream",
     "text": [
      "100%|██████████| 1/1 [00:00<00:00, 56.03it/s]"
     ]
    },
    {
     "name": "stdout",
     "output_type": "stream",
     "text": [
      "\n",
      "Wrote 1 elements to TFRecord\n"
     ]
    },
    {
     "name": "stderr",
     "output_type": "stream",
     "text": [
      "\n"
     ]
    },
    {
     "name": "stdout",
     "output_type": "stream",
     "text": [
      "MYD021KM-A2018107.1735\n",
      "MYD021KM-A2018107.0250\n",
      "MYD021KM-A2018107.1555\n",
      "MYD021KM-A2018107.1235\n",
      "MYD021KM-A2018107.1055\n",
      "MYD021KM-A2018107.1345\n",
      "MYD021KM-A2018107.2230\n",
      "MYD021KM-A2018107.0700\n",
      "(1, 512, 1024)\n",
      "(1, 512, 1024, 8)\n",
      "\n",
      "Using 1 shard(s) for 1 files, with up to 1 samples per shard\n"
     ]
    },
    {
     "name": "stderr",
     "output_type": "stream",
     "text": [
      "100%|██████████| 1/1 [00:00<00:00, 51.39it/s]"
     ]
    },
    {
     "name": "stdout",
     "output_type": "stream",
     "text": [
      "\n",
      "Wrote 1 elements to TFRecord\n"
     ]
    },
    {
     "name": "stderr",
     "output_type": "stream",
     "text": [
      "\n"
     ]
    },
    {
     "name": "stdout",
     "output_type": "stream",
     "text": [
      "MYD021KM-A2018107.1920\n",
      "MYD021KM-A2018107.1400\n",
      "(1, 512, 1024)\n",
      "(1, 512, 1024, 8)\n",
      "\n",
      "Using 1 shard(s) for 1 files, with up to 1 samples per shard\n"
     ]
    },
    {
     "name": "stderr",
     "output_type": "stream",
     "text": [
      "100%|██████████| 1/1 [00:00<00:00, 53.54it/s]"
     ]
    },
    {
     "name": "stdout",
     "output_type": "stream",
     "text": [
      "\n",
      "Wrote 1 elements to TFRecord\n"
     ]
    },
    {
     "name": "stderr",
     "output_type": "stream",
     "text": [
      "\n"
     ]
    },
    {
     "name": "stdout",
     "output_type": "stream",
     "text": [
      "MYD021KM-A2018107.0410\n",
      "MYD021KM-A2018107.1705\n",
      "(1, 512, 1024)\n",
      "(1, 512, 1024, 8)\n",
      "\n",
      "Using 1 shard(s) for 1 files, with up to 1 samples per shard\n"
     ]
    },
    {
     "name": "stderr",
     "output_type": "stream",
     "text": [
      "100%|██████████| 1/1 [00:00<00:00, 53.57it/s]"
     ]
    },
    {
     "name": "stdout",
     "output_type": "stream",
     "text": [
      "\n",
      "Wrote 1 elements to TFRecord\n"
     ]
    },
    {
     "name": "stderr",
     "output_type": "stream",
     "text": [
      "\n"
     ]
    },
    {
     "name": "stdout",
     "output_type": "stream",
     "text": [
      "MYD021KM-A2018107.2035\n",
      "(1, 512, 1024)\n",
      "(1, 512, 1024, 8)\n",
      "\n",
      "Using 1 shard(s) for 1 files, with up to 1 samples per shard\n"
     ]
    },
    {
     "name": "stderr",
     "output_type": "stream",
     "text": [
      "100%|██████████| 1/1 [00:00<00:00, 48.81it/s]"
     ]
    },
    {
     "name": "stdout",
     "output_type": "stream",
     "text": [
      "\n",
      "Wrote 1 elements to TFRecord\n"
     ]
    },
    {
     "name": "stderr",
     "output_type": "stream",
     "text": [
      "\n"
     ]
    },
    {
     "name": "stdout",
     "output_type": "stream",
     "text": [
      "MYD021KM-A2018107.0525\n",
      "(1, 512, 1024)\n",
      "(1, 512, 1024, 8)\n",
      "\n",
      "Using 1 shard(s) for 1 files, with up to 1 samples per shard\n"
     ]
    },
    {
     "name": "stderr",
     "output_type": "stream",
     "text": [
      "100%|██████████| 1/1 [00:00<00:00, 54.20it/s]"
     ]
    },
    {
     "name": "stdout",
     "output_type": "stream",
     "text": [
      "\n",
      "Wrote 1 elements to TFRecord\n"
     ]
    },
    {
     "name": "stderr",
     "output_type": "stream",
     "text": [
      "\n"
     ]
    },
    {
     "name": "stdout",
     "output_type": "stream",
     "text": [
      "MYD021KM-A2018107.1715\n",
      "(1, 512, 1024)\n",
      "(1, 512, 1024, 8)\n",
      "\n",
      "Using 1 shard(s) for 1 files, with up to 1 samples per shard\n"
     ]
    },
    {
     "name": "stderr",
     "output_type": "stream",
     "text": [
      "100%|██████████| 1/1 [00:00<00:00, 53.65it/s]"
     ]
    },
    {
     "name": "stdout",
     "output_type": "stream",
     "text": [
      "\n",
      "Wrote 1 elements to TFRecord\n"
     ]
    },
    {
     "name": "stderr",
     "output_type": "stream",
     "text": [
      "\n"
     ]
    },
    {
     "name": "stdout",
     "output_type": "stream",
     "text": [
      "MYD021KM-A2018107.1100\n",
      "MYD021KM-A2018107.0520\n",
      "(1, 512, 1024)\n",
      "(1, 512, 1024, 8)\n",
      "\n",
      "Using 1 shard(s) for 1 files, with up to 1 samples per shard\n"
     ]
    },
    {
     "name": "stderr",
     "output_type": "stream",
     "text": [
      "100%|██████████| 1/1 [00:00<00:00, 52.87it/s]"
     ]
    },
    {
     "name": "stdout",
     "output_type": "stream",
     "text": [
      "\n",
      "Wrote 1 elements to TFRecord\n"
     ]
    },
    {
     "name": "stderr",
     "output_type": "stream",
     "text": [
      "\n"
     ]
    },
    {
     "name": "stdout",
     "output_type": "stream",
     "text": [
      "MYD021KM-A2018107.2235\n",
      "MYD021KM-A2018107.1720\n",
      "MYD021KM-A2018107.2015\n",
      "(1, 512, 1024)\n",
      "(1, 512, 1024, 8)\n",
      "\n",
      "Using 1 shard(s) for 1 files, with up to 1 samples per shard\n"
     ]
    },
    {
     "name": "stderr",
     "output_type": "stream",
     "text": [
      "100%|██████████| 1/1 [00:00<00:00, 54.45it/s]"
     ]
    },
    {
     "name": "stdout",
     "output_type": "stream",
     "text": [
      "\n",
      "Wrote 1 elements to TFRecord\n"
     ]
    },
    {
     "name": "stderr",
     "output_type": "stream",
     "text": [
      "\n"
     ]
    },
    {
     "name": "stdout",
     "output_type": "stream",
     "text": [
      "MYD021KM-A2018107.1215\n",
      "(1, 512, 1024)\n",
      "(1, 512, 1024, 8)\n",
      "\n",
      "Using 1 shard(s) for 1 files, with up to 1 samples per shard\n"
     ]
    },
    {
     "name": "stderr",
     "output_type": "stream",
     "text": [
      "100%|██████████| 1/1 [00:00<00:00, 52.41it/s]"
     ]
    },
    {
     "name": "stdout",
     "output_type": "stream",
     "text": [
      "\n",
      "Wrote 1 elements to TFRecord\n"
     ]
    },
    {
     "name": "stderr",
     "output_type": "stream",
     "text": [
      "\n"
     ]
    },
    {
     "name": "stdout",
     "output_type": "stream",
     "text": [
      "MYD021KM-A2018107.1240\n",
      "MYD021KM-A2018107.1915\n",
      "MYD021KM-A2018107.1220\n",
      "(1, 512, 1024)\n",
      "(1, 512, 1024, 8)\n",
      "\n",
      "Using 1 shard(s) for 1 files, with up to 1 samples per shard\n"
     ]
    },
    {
     "name": "stderr",
     "output_type": "stream",
     "text": [
      "100%|██████████| 1/1 [00:00<00:00, 53.77it/s]"
     ]
    },
    {
     "name": "stdout",
     "output_type": "stream",
     "text": [
      "\n",
      "Wrote 1 elements to TFRecord\n"
     ]
    },
    {
     "name": "stderr",
     "output_type": "stream",
     "text": [
      "\n"
     ]
    },
    {
     "name": "stdout",
     "output_type": "stream",
     "text": [
      "MYD021KM-A2018107.1245\n",
      "MYD021KM-A2018107.1535\n",
      "(1, 512, 1024)\n",
      "(1, 512, 1024, 8)\n",
      "\n",
      "Using 1 shard(s) for 1 files, with up to 1 samples per shard\n"
     ]
    },
    {
     "name": "stderr",
     "output_type": "stream",
     "text": [
      "100%|██████████| 1/1 [00:00<00:00, 52.25it/s]"
     ]
    },
    {
     "name": "stdout",
     "output_type": "stream",
     "text": [
      "\n",
      "Wrote 1 elements to TFRecord\n"
     ]
    },
    {
     "name": "stderr",
     "output_type": "stream",
     "text": [
      "\n"
     ]
    },
    {
     "name": "stdout",
     "output_type": "stream",
     "text": [
      "MYD021KM-A2018107.0240\n",
      "MYD021KM-A2018107.1105\n",
      "MYD021KM-A2018107.2215\n",
      "(1, 512, 1024)\n",
      "(1, 512, 1024, 8)\n",
      "\n",
      "Using 1 shard(s) for 1 files, with up to 1 samples per shard\n"
     ]
    },
    {
     "name": "stderr",
     "output_type": "stream",
     "text": [
      "100%|██████████| 1/1 [00:00<00:00, 56.01it/s]"
     ]
    },
    {
     "name": "stdout",
     "output_type": "stream",
     "text": [
      "\n",
      "Wrote 1 elements to TFRecord\n"
     ]
    },
    {
     "name": "stderr",
     "output_type": "stream",
     "text": [
      "\n"
     ]
    },
    {
     "name": "stdout",
     "output_type": "stream",
     "text": [
      "MYD021KM-A2018107.1710\n",
      "(1, 512, 1024)\n",
      "(1, 512, 1024, 8)\n",
      "\n",
      "Using 1 shard(s) for 1 files, with up to 1 samples per shard\n"
     ]
    },
    {
     "name": "stderr",
     "output_type": "stream",
     "text": [
      "100%|██████████| 1/1 [00:00<00:00, 37.04it/s]"
     ]
    },
    {
     "name": "stdout",
     "output_type": "stream",
     "text": [
      "\n",
      "Wrote 1 elements to TFRecord\n"
     ]
    },
    {
     "name": "stderr",
     "output_type": "stream",
     "text": [
      "\n"
     ]
    },
    {
     "name": "stdout",
     "output_type": "stream",
     "text": [
      "MYD021KM-A2018107.1600\n",
      "MYD021KM-A2018107.0535\n",
      "(1, 512, 1024)\n",
      "(1, 512, 1024, 8)\n",
      "\n",
      "Using 1 shard(s) for 1 files, with up to 1 samples per shard\n"
     ]
    },
    {
     "name": "stderr",
     "output_type": "stream",
     "text": [
      "100%|██████████| 1/1 [00:00<00:00, 49.18it/s]"
     ]
    },
    {
     "name": "stdout",
     "output_type": "stream",
     "text": [
      "\n",
      "Wrote 1 elements to TFRecord\n"
     ]
    },
    {
     "name": "stderr",
     "output_type": "stream",
     "text": [
      "\n"
     ]
    },
    {
     "name": "stdout",
     "output_type": "stream",
     "text": [
      "MYD021KM-A2018107.0930\n",
      "MYD021KM-A2018107.1210\n",
      "(1, 512, 1024)\n",
      "(1, 512, 1024, 8)\n",
      "\n",
      "Using 1 shard(s) for 1 files, with up to 1 samples per shard\n"
     ]
    },
    {
     "name": "stderr",
     "output_type": "stream",
     "text": [
      "100%|██████████| 1/1 [00:00<00:00, 52.58it/s]"
     ]
    },
    {
     "name": "stdout",
     "output_type": "stream",
     "text": [
      "\n",
      "Wrote 1 elements to TFRecord\n"
     ]
    },
    {
     "name": "stderr",
     "output_type": "stream",
     "text": [
      "\n"
     ]
    },
    {
     "name": "stdout",
     "output_type": "stream",
     "text": [
      "MYD021KM-A2018107.1200\n",
      "MYD021KM-A2018107.2100\n",
      "MYD021KM-A2018107.2335\n",
      "(1, 512, 1024)\n",
      "(1, 512, 1024, 8)\n",
      "\n",
      "Using 1 shard(s) for 1 files, with up to 1 samples per shard\n"
     ]
    },
    {
     "name": "stderr",
     "output_type": "stream",
     "text": [
      "100%|██████████| 1/1 [00:00<00:00, 52.16it/s]"
     ]
    },
    {
     "name": "stdout",
     "output_type": "stream",
     "text": [
      "\n",
      "Wrote 1 elements to TFRecord\n"
     ]
    },
    {
     "name": "stderr",
     "output_type": "stream",
     "text": [
      "\n"
     ]
    },
    {
     "name": "stdout",
     "output_type": "stream",
     "text": [
      "MYD021KM-A2018107.0530\n",
      "(1, 512, 1024)\n",
      "(1, 512, 1024, 8)\n",
      "\n",
      "Using 1 shard(s) for 1 files, with up to 1 samples per shard\n"
     ]
    },
    {
     "name": "stderr",
     "output_type": "stream",
     "text": [
      "100%|██████████| 1/1 [00:00<00:00, 54.54it/s]"
     ]
    },
    {
     "name": "stdout",
     "output_type": "stream",
     "text": [
      "\n",
      "Wrote 1 elements to TFRecord\n"
     ]
    },
    {
     "name": "stderr",
     "output_type": "stream",
     "text": [
      "\n"
     ]
    },
    {
     "name": "stdout",
     "output_type": "stream",
     "text": [
      "MYD021KM-A2018107.0220\n",
      "(1, 512, 1024)\n",
      "(1, 512, 1024, 8)\n",
      "\n",
      "Using 1 shard(s) for 1 files, with up to 1 samples per shard\n"
     ]
    },
    {
     "name": "stderr",
     "output_type": "stream",
     "text": [
      "100%|██████████| 1/1 [00:00<00:00, 51.62it/s]"
     ]
    },
    {
     "name": "stdout",
     "output_type": "stream",
     "text": [
      "\n",
      "Wrote 1 elements to TFRecord\n"
     ]
    },
    {
     "name": "stderr",
     "output_type": "stream",
     "text": [
      "\n"
     ]
    },
    {
     "name": "stdout",
     "output_type": "stream",
     "text": [
      "MYD021KM-A2018107.0855\n",
      "(1, 512, 1024)\n",
      "(1, 512, 1024, 8)\n",
      "\n",
      "Using 1 shard(s) for 1 files, with up to 1 samples per shard\n"
     ]
    },
    {
     "name": "stderr",
     "output_type": "stream",
     "text": [
      "100%|██████████| 1/1 [00:00<00:00, 53.60it/s]"
     ]
    },
    {
     "name": "stdout",
     "output_type": "stream",
     "text": [
      "\n",
      "Wrote 1 elements to TFRecord\n"
     ]
    },
    {
     "name": "stderr",
     "output_type": "stream",
     "text": [
      "\n"
     ]
    },
    {
     "name": "stdout",
     "output_type": "stream",
     "text": [
      "MYD021KM-A2018107.2330\n",
      "(1, 512, 1024)\n",
      "(1, 512, 1024, 8)\n",
      "\n",
      "Using 1 shard(s) for 1 files, with up to 1 samples per shard\n"
     ]
    },
    {
     "name": "stderr",
     "output_type": "stream",
     "text": [
      "100%|██████████| 1/1 [00:00<00:00, 31.88it/s]"
     ]
    },
    {
     "name": "stdout",
     "output_type": "stream",
     "text": [
      "\n",
      "Wrote 1 elements to TFRecord\n"
     ]
    },
    {
     "name": "stderr",
     "output_type": "stream",
     "text": [
      "\n"
     ]
    },
    {
     "name": "stdout",
     "output_type": "stream",
     "text": [
      "MYD021KM-A2018107.2050\n",
      "MYD021KM-A2018107.1525\n",
      "(1, 512, 1024)\n",
      "(1, 512, 1024, 8)\n",
      "\n",
      "Using 1 shard(s) for 1 files, with up to 1 samples per shard\n"
     ]
    },
    {
     "name": "stderr",
     "output_type": "stream",
     "text": [
      "100%|██████████| 1/1 [00:00<00:00, 51.50it/s]"
     ]
    },
    {
     "name": "stdout",
     "output_type": "stream",
     "text": [
      "\n",
      "Wrote 1 elements to TFRecord\n"
     ]
    },
    {
     "name": "stderr",
     "output_type": "stream",
     "text": [
      "\n"
     ]
    },
    {
     "name": "stdout",
     "output_type": "stream",
     "text": [
      "MYD021KM-A2018107.2040\n",
      "MYD021KM-A2018107.0900\n",
      "(1, 512, 1024)\n",
      "(1, 512, 1024, 8)\n",
      "\n",
      "Using 1 shard(s) for 1 files, with up to 1 samples per shard\n"
     ]
    },
    {
     "name": "stderr",
     "output_type": "stream",
     "text": [
      "100%|██████████| 1/1 [00:00<00:00, 46.99it/s]"
     ]
    },
    {
     "name": "stdout",
     "output_type": "stream",
     "text": [
      "\n",
      "Wrote 1 elements to TFRecord\n"
     ]
    },
    {
     "name": "stderr",
     "output_type": "stream",
     "text": [
      "\n"
     ]
    },
    {
     "name": "stdout",
     "output_type": "stream",
     "text": [
      "MYD021KM-A2018107.2340\n",
      "(1, 512, 1024)\n",
      "(1, 512, 1024, 8)\n",
      "\n",
      "Using 1 shard(s) for 1 files, with up to 1 samples per shard\n"
     ]
    },
    {
     "name": "stderr",
     "output_type": "stream",
     "text": [
      "100%|██████████| 1/1 [00:00<00:00, 50.53it/s]"
     ]
    },
    {
     "name": "stdout",
     "output_type": "stream",
     "text": [
      "\n",
      "Wrote 1 elements to TFRecord\n"
     ]
    },
    {
     "name": "stderr",
     "output_type": "stream",
     "text": [
      "\n"
     ]
    },
    {
     "name": "stdout",
     "output_type": "stream",
     "text": [
      "MYD021KM-A2018107.0905\n",
      "(1, 512, 1024)\n",
      "(1, 512, 1024, 8)\n",
      "\n",
      "Using 1 shard(s) for 1 files, with up to 1 samples per shard\n"
     ]
    },
    {
     "name": "stderr",
     "output_type": "stream",
     "text": [
      "100%|██████████| 1/1 [00:00<00:00, 55.81it/s]"
     ]
    },
    {
     "name": "stdout",
     "output_type": "stream",
     "text": [
      "\n",
      "Wrote 1 elements to TFRecord\n"
     ]
    },
    {
     "name": "stderr",
     "output_type": "stream",
     "text": [
      "\n"
     ]
    },
    {
     "name": "stdout",
     "output_type": "stream",
     "text": [
      "MYD021KM-A2018107.1855\n",
      "(1, 512, 1024)\n",
      "(1, 512, 1024, 8)\n",
      "\n",
      "Using 1 shard(s) for 1 files, with up to 1 samples per shard\n"
     ]
    },
    {
     "name": "stderr",
     "output_type": "stream",
     "text": [
      "100%|██████████| 1/1 [00:00<00:00, 26.92it/s]"
     ]
    },
    {
     "name": "stdout",
     "output_type": "stream",
     "text": [
      "\n",
      "Wrote 1 elements to TFRecord\n"
     ]
    },
    {
     "name": "stderr",
     "output_type": "stream",
     "text": [
      "\n"
     ]
    },
    {
     "name": "stdout",
     "output_type": "stream",
     "text": [
      "MYD021KM-A2018107.0055\n",
      "MYD021KM-A2018107.0840\n",
      "(1, 512, 1024)\n",
      "(1, 512, 1024, 8)\n",
      "\n",
      "Using 1 shard(s) for 1 files, with up to 1 samples per shard\n"
     ]
    },
    {
     "name": "stderr",
     "output_type": "stream",
     "text": [
      "100%|██████████| 1/1 [00:00<00:00, 50.80it/s]"
     ]
    },
    {
     "name": "stdout",
     "output_type": "stream",
     "text": [
      "\n",
      "Wrote 1 elements to TFRecord\n"
     ]
    },
    {
     "name": "stderr",
     "output_type": "stream",
     "text": [
      "\n"
     ]
    },
    {
     "name": "stdout",
     "output_type": "stream",
     "text": [
      "MYD021KM-A2018107.0745\n",
      "MYD021KM-A2018107.1700\n",
      "(1, 512, 1024)\n",
      "(1, 512, 1024, 8)\n",
      "\n",
      "Using 1 shard(s) for 1 files, with up to 1 samples per shard\n"
     ]
    },
    {
     "name": "stderr",
     "output_type": "stream",
     "text": [
      "100%|██████████| 1/1 [00:00<00:00, 43.92it/s]"
     ]
    },
    {
     "name": "stdout",
     "output_type": "stream",
     "text": [
      "\n",
      "Wrote 1 elements to TFRecord\n"
     ]
    },
    {
     "name": "stderr",
     "output_type": "stream",
     "text": [
      "\n"
     ]
    },
    {
     "name": "stdout",
     "output_type": "stream",
     "text": [
      "MYD021KM-A2018107.1655\n",
      "(1, 512, 1024)\n",
      "(1, 512, 1024, 8)\n",
      "\n",
      "Using 1 shard(s) for 1 files, with up to 1 samples per shard\n"
     ]
    },
    {
     "name": "stderr",
     "output_type": "stream",
     "text": [
      "100%|██████████| 1/1 [00:00<00:00, 49.45it/s]"
     ]
    },
    {
     "name": "stdout",
     "output_type": "stream",
     "text": [
      "\n",
      "Wrote 1 elements to TFRecord\n"
     ]
    },
    {
     "name": "stderr",
     "output_type": "stream",
     "text": [
      "\n"
     ]
    },
    {
     "name": "stdout",
     "output_type": "stream",
     "text": [
      "MYD021KM-A2018107.0205\n",
      "(1, 512, 1024)\n",
      "(1, 512, 1024, 8)\n",
      "\n",
      "Using 1 shard(s) for 1 files, with up to 1 samples per shard\n"
     ]
    },
    {
     "name": "stderr",
     "output_type": "stream",
     "text": [
      "100%|██████████| 1/1 [00:00<00:00, 53.28it/s]"
     ]
    },
    {
     "name": "stdout",
     "output_type": "stream",
     "text": [
      "\n",
      "Wrote 1 elements to TFRecord\n"
     ]
    },
    {
     "name": "stderr",
     "output_type": "stream",
     "text": [
      "\n"
     ]
    },
    {
     "name": "stdout",
     "output_type": "stream",
     "text": [
      "MYD021KM-A2018107.0910\n",
      "MYD021KM-A2018107.0235\n",
      "MYD021KM-A2018107.0415\n",
      "MYD021KM-A2018107.0750\n",
      "MYD021KM-A2018107.0725\n",
      "(1, 512, 1024)\n",
      "(1, 512, 1024, 8)\n",
      "\n",
      "Using 1 shard(s) for 1 files, with up to 1 samples per shard\n"
     ]
    },
    {
     "name": "stderr",
     "output_type": "stream",
     "text": [
      "100%|██████████| 1/1 [00:00<00:00, 54.68it/s]"
     ]
    },
    {
     "name": "stdout",
     "output_type": "stream",
     "text": [
      "\n",
      "Wrote 1 elements to TFRecord\n"
     ]
    },
    {
     "name": "stderr",
     "output_type": "stream",
     "text": [
      "\n"
     ]
    },
    {
     "name": "stdout",
     "output_type": "stream",
     "text": [
      "MYD021KM-A2018107.0210\n",
      "(1, 512, 1024)\n",
      "(1, 512, 1024, 8)\n",
      "\n",
      "Using 1 shard(s) for 1 files, with up to 1 samples per shard\n"
     ]
    },
    {
     "name": "stderr",
     "output_type": "stream",
     "text": [
      "100%|██████████| 1/1 [00:00<00:00, 48.45it/s]"
     ]
    },
    {
     "name": "stdout",
     "output_type": "stream",
     "text": [
      "\n",
      "Wrote 1 elements to TFRecord\n"
     ]
    },
    {
     "name": "stderr",
     "output_type": "stream",
     "text": [
      "\n"
     ]
    },
    {
     "name": "stdout",
     "output_type": "stream",
     "text": [
      "MYD021KM-A2018107.2220\n",
      "MYD021KM-A2018107.2240\n",
      "MYD021KM-A2018107.0425\n",
      "MYD021KM-A2018107.0550\n",
      "MYD021KM-A2018107.1745\n",
      "MYD021KM-A2018107.0400\n",
      "(1, 512, 1024)\n",
      "(1, 512, 1024, 8)\n",
      "\n",
      "Using 1 shard(s) for 1 files, with up to 1 samples per shard\n"
     ]
    },
    {
     "name": "stderr",
     "output_type": "stream",
     "text": [
      "100%|██████████| 1/1 [00:00<00:00, 50.04it/s]"
     ]
    },
    {
     "name": "stdout",
     "output_type": "stream",
     "text": [
      "\n",
      "Wrote 1 elements to TFRecord\n"
     ]
    },
    {
     "name": "stderr",
     "output_type": "stream",
     "text": [
      "\n"
     ]
    },
    {
     "name": "stdout",
     "output_type": "stream",
     "text": [
      "MYD021KM-A2018107.1030\n",
      "(1, 512, 1024)\n",
      "(1, 512, 1024, 8)\n",
      "\n",
      "Using 1 shard(s) for 1 files, with up to 1 samples per shard\n"
     ]
    },
    {
     "name": "stderr",
     "output_type": "stream",
     "text": [
      "100%|██████████| 1/1 [00:00<00:00, 49.64it/s]"
     ]
    },
    {
     "name": "stdout",
     "output_type": "stream",
     "text": [
      "\n",
      "Wrote 1 elements to TFRecord\n"
     ]
    },
    {
     "name": "stderr",
     "output_type": "stream",
     "text": [
      "\n"
     ]
    },
    {
     "name": "stdout",
     "output_type": "stream",
     "text": [
      "MYD021KM-A2018107.0045\n",
      "(1, 512, 1024)\n",
      "(1, 512, 1024, 8)\n",
      "\n",
      "Using 1 shard(s) for 1 files, with up to 1 samples per shard\n"
     ]
    },
    {
     "name": "stderr",
     "output_type": "stream",
     "text": [
      "100%|██████████| 1/1 [00:00<00:00, 51.02it/s]"
     ]
    },
    {
     "name": "stdout",
     "output_type": "stream",
     "text": [
      "\n",
      "Wrote 1 elements to TFRecord\n"
     ]
    },
    {
     "name": "stderr",
     "output_type": "stream",
     "text": [
      "\n"
     ]
    },
    {
     "name": "stdout",
     "output_type": "stream",
     "text": [
      "MYD021KM-A2018107.1905\n",
      "MYD021KM-A2018107.0555\n",
      "MYD021KM-A2018107.1910\n",
      "MYD021KM-A2018107.0355\n",
      "(1, 512, 1024)\n",
      "(1, 512, 1024, 8)\n",
      "\n",
      "Using 1 shard(s) for 1 files, with up to 1 samples per shard\n"
     ]
    },
    {
     "name": "stderr",
     "output_type": "stream",
     "text": [
      "100%|██████████| 1/1 [00:00<00:00, 28.26it/s]"
     ]
    },
    {
     "name": "stdout",
     "output_type": "stream",
     "text": [
      "\n",
      "Wrote 1 elements to TFRecord\n"
     ]
    },
    {
     "name": "stderr",
     "output_type": "stream",
     "text": [
      "\n"
     ]
    },
    {
     "name": "stdout",
     "output_type": "stream",
     "text": [
      "MYD021KM-A2018107.2350\n",
      "(1, 512, 1024)\n",
      "(1, 512, 1024, 8)\n",
      "\n",
      "Using 1 shard(s) for 1 files, with up to 1 samples per shard\n"
     ]
    },
    {
     "name": "stderr",
     "output_type": "stream",
     "text": [
      "100%|██████████| 1/1 [00:00<00:00, 50.17it/s]"
     ]
    },
    {
     "name": "stdout",
     "output_type": "stream",
     "text": [
      "\n",
      "Wrote 1 elements to TFRecord\n"
     ]
    },
    {
     "name": "stderr",
     "output_type": "stream",
     "text": [
      "\n"
     ]
    },
    {
     "name": "stdout",
     "output_type": "stream",
     "text": [
      "MYD021KM-A2018107.2025\n",
      "MYD021KM-A2018107.0540\n",
      "(1, 512, 1024)\n",
      "(1, 512, 1024, 8)\n",
      "\n",
      "Using 1 shard(s) for 1 files, with up to 1 samples per shard\n"
     ]
    },
    {
     "name": "stderr",
     "output_type": "stream",
     "text": [
      "100%|██████████| 1/1 [00:00<00:00, 53.16it/s]"
     ]
    },
    {
     "name": "stdout",
     "output_type": "stream",
     "text": [
      "\n",
      "Wrote 1 elements to TFRecord\n"
     ]
    },
    {
     "name": "stderr",
     "output_type": "stream",
     "text": [
      "\n"
     ]
    },
    {
     "name": "stdout",
     "output_type": "stream",
     "text": [
      "MYD021KM-A2018107.0230\n",
      "MYD021KM-A2018107.1530\n",
      "(1, 512, 1024)\n",
      "(1, 512, 1024, 8)\n",
      "\n",
      "Using 1 shard(s) for 1 files, with up to 1 samples per shard\n"
     ]
    },
    {
     "name": "stderr",
     "output_type": "stream",
     "text": [
      "100%|██████████| 1/1 [00:00<00:00, 51.25it/s]"
     ]
    },
    {
     "name": "stdout",
     "output_type": "stream",
     "text": [
      "\n",
      "Wrote 1 elements to TFRecord\n"
     ]
    },
    {
     "name": "stderr",
     "output_type": "stream",
     "text": [
      "\n"
     ]
    },
    {
     "name": "stdout",
     "output_type": "stream",
     "text": [
      "MYD021KM-A2018107.1205\n",
      "(1, 512, 1024)\n",
      "(1, 512, 1024, 8)\n",
      "\n",
      "Using 1 shard(s) for 1 files, with up to 1 samples per shard\n"
     ]
    },
    {
     "name": "stderr",
     "output_type": "stream",
     "text": [
      "100%|██████████| 1/1 [00:00<00:00, 51.53it/s]"
     ]
    },
    {
     "name": "stdout",
     "output_type": "stream",
     "text": [
      "\n",
      "Wrote 1 elements to TFRecord\n"
     ]
    },
    {
     "name": "stderr",
     "output_type": "stream",
     "text": [
      "\n"
     ]
    },
    {
     "name": "stdout",
     "output_type": "stream",
     "text": [
      "MYD021KM-A2018107.0715\n",
      "(1, 512, 1024)\n",
      "(1, 512, 1024, 8)\n",
      "\n",
      "Using 1 shard(s) for 1 files, with up to 1 samples per shard\n"
     ]
    },
    {
     "name": "stderr",
     "output_type": "stream",
     "text": [
      "100%|██████████| 1/1 [00:00<00:00, 53.90it/s]"
     ]
    },
    {
     "name": "stdout",
     "output_type": "stream",
     "text": [
      "\n",
      "Wrote 1 elements to TFRecord\n"
     ]
    },
    {
     "name": "stderr",
     "output_type": "stream",
     "text": [
      "\n"
     ]
    },
    {
     "name": "stdout",
     "output_type": "stream",
     "text": [
      "MYD021KM-A2018107.0035\n",
      "(1, 512, 1024)\n",
      "(1, 512, 1024, 8)\n",
      "\n",
      "Using 1 shard(s) for 1 files, with up to 1 samples per shard\n"
     ]
    },
    {
     "name": "stderr",
     "output_type": "stream",
     "text": [
      "100%|██████████| 1/1 [00:00<00:00, 50.18it/s]"
     ]
    },
    {
     "name": "stdout",
     "output_type": "stream",
     "text": [
      "\n",
      "Wrote 1 elements to TFRecord\n"
     ]
    },
    {
     "name": "stderr",
     "output_type": "stream",
     "text": [
      "\n"
     ]
    },
    {
     "name": "stdout",
     "output_type": "stream",
     "text": [
      "MYD021KM-A2018107.0545\n",
      "(1, 512, 1024)\n",
      "(1, 512, 1024, 8)\n",
      "\n",
      "Using 1 shard(s) for 1 files, with up to 1 samples per shard\n"
     ]
    },
    {
     "name": "stderr",
     "output_type": "stream",
     "text": [
      "100%|██████████| 1/1 [00:00<00:00, 51.26it/s]"
     ]
    },
    {
     "name": "stdout",
     "output_type": "stream",
     "text": [
      "\n",
      "Wrote 1 elements to TFRecord\n"
     ]
    },
    {
     "name": "stderr",
     "output_type": "stream",
     "text": [
      "\n"
     ]
    },
    {
     "name": "stdout",
     "output_type": "stream",
     "text": [
      "MYD021KM-A2018107.0605\n",
      "MYD021KM-A2018107.0705\n",
      "MYD021KM-A2018107.1850\n",
      "(1, 512, 1024)\n",
      "(1, 512, 1024, 8)\n",
      "\n",
      "Using 1 shard(s) for 1 files, with up to 1 samples per shard\n"
     ]
    },
    {
     "name": "stderr",
     "output_type": "stream",
     "text": [
      "100%|██████████| 1/1 [00:00<00:00, 51.58it/s]"
     ]
    },
    {
     "name": "stdout",
     "output_type": "stream",
     "text": [
      "\n",
      "Wrote 1 elements to TFRecord\n"
     ]
    },
    {
     "name": "stderr",
     "output_type": "stream",
     "text": [
      "\n"
     ]
    },
    {
     "name": "stdout",
     "output_type": "stream",
     "text": [
      "MYD021KM-A2018107.2210\n",
      "(1, 512, 1024)\n",
      "(1, 512, 1024, 8)\n",
      "\n",
      "Using 1 shard(s) for 1 files, with up to 1 samples per shard\n"
     ]
    },
    {
     "name": "stderr",
     "output_type": "stream",
     "text": [
      "100%|██████████| 1/1 [00:00<00:00, 53.09it/s]"
     ]
    },
    {
     "name": "stdout",
     "output_type": "stream",
     "text": [
      "\n",
      "Wrote 1 elements to TFRecord\n"
     ]
    },
    {
     "name": "stderr",
     "output_type": "stream",
     "text": [
      "\n"
     ]
    },
    {
     "name": "stdout",
     "output_type": "stream",
     "text": [
      "MYD021KM-A2018107.0740\n",
      "MYD021KM-A2018107.1045\n",
      "MYD021KM-A2018107.2150\n",
      "(1, 512, 1024)\n",
      "(1, 512, 1024, 8)\n",
      "\n",
      "Using 1 shard(s) for 1 files, with up to 1 samples per shard\n"
     ]
    },
    {
     "name": "stderr",
     "output_type": "stream",
     "text": [
      "100%|██████████| 1/1 [00:00<00:00, 52.14it/s]"
     ]
    },
    {
     "name": "stdout",
     "output_type": "stream",
     "text": [
      "\n",
      "Wrote 1 elements to TFRecord\n"
     ]
    },
    {
     "name": "stderr",
     "output_type": "stream",
     "text": [
      "\n"
     ]
    },
    {
     "name": "stdout",
     "output_type": "stream",
     "text": [
      "MYD021KM-A2018107.2020\n",
      "(1, 512, 1024)\n",
      "(1, 512, 1024, 8)\n",
      "\n",
      "Using 1 shard(s) for 1 files, with up to 1 samples per shard\n"
     ]
    },
    {
     "name": "stderr",
     "output_type": "stream",
     "text": [
      "100%|██████████| 1/1 [00:00<00:00, 53.04it/s]"
     ]
    },
    {
     "name": "stdout",
     "output_type": "stream",
     "text": [
      "\n",
      "Wrote 1 elements to TFRecord\n"
     ]
    },
    {
     "name": "stderr",
     "output_type": "stream",
     "text": [
      "\n"
     ]
    },
    {
     "name": "stdout",
     "output_type": "stream",
     "text": [
      "MYD021KM-A2018107.0720\n",
      "(1, 512, 1024)\n",
      "(1, 512, 1024, 8)\n",
      "\n",
      "Using 1 shard(s) for 1 files, with up to 1 samples per shard\n"
     ]
    },
    {
     "name": "stderr",
     "output_type": "stream",
     "text": [
      "100%|██████████| 1/1 [00:00<00:00, 51.65it/s]"
     ]
    },
    {
     "name": "stdout",
     "output_type": "stream",
     "text": [
      "\n",
      "Wrote 1 elements to TFRecord\n"
     ]
    },
    {
     "name": "stderr",
     "output_type": "stream",
     "text": [
      "\n"
     ]
    },
    {
     "name": "stdout",
     "output_type": "stream",
     "text": [
      "MYD021KM-A2018107.1025\n",
      "MYD021KM-A2018107.1605\n",
      "MYD021KM-A2018107.0735\n",
      "MYD021KM-A2018107.0845\n",
      "MYD021KM-A2018107.1840\n",
      "(1, 512, 1024)\n",
      "(1, 512, 1024, 8)\n",
      "\n",
      "Using 1 shard(s) for 1 files, with up to 1 samples per shard\n"
     ]
    },
    {
     "name": "stderr",
     "output_type": "stream",
     "text": [
      "100%|██████████| 1/1 [00:00<00:00, 50.43it/s]"
     ]
    },
    {
     "name": "stdout",
     "output_type": "stream",
     "text": [
      "\n",
      "Wrote 1 elements to TFRecord\n"
     ]
    },
    {
     "name": "stderr",
     "output_type": "stream",
     "text": [
      "\n"
     ]
    },
    {
     "name": "stdout",
     "output_type": "stream",
     "text": [
      "MYD021KM-A2018107.0405\n",
      "(1, 512, 1024)\n",
      "(1, 512, 1024, 8)\n",
      "\n",
      "Using 1 shard(s) for 1 files, with up to 1 samples per shard\n"
     ]
    },
    {
     "name": "stderr",
     "output_type": "stream",
     "text": [
      "100%|██████████| 1/1 [00:00<00:00, 52.89it/s]"
     ]
    },
    {
     "name": "stdout",
     "output_type": "stream",
     "text": [
      "\n",
      "Wrote 1 elements to TFRecord\n"
     ]
    },
    {
     "name": "stderr",
     "output_type": "stream",
     "text": [
      "\n"
     ]
    },
    {
     "name": "stdout",
     "output_type": "stream",
     "text": [
      "MYD021KM-A2018107.1540\n",
      "(1, 512, 1024)\n",
      "(1, 512, 1024, 8)\n",
      "\n",
      "Using 1 shard(s) for 1 files, with up to 1 samples per shard\n"
     ]
    },
    {
     "name": "stderr",
     "output_type": "stream",
     "text": [
      "100%|██████████| 1/1 [00:00<00:00, 53.65it/s]"
     ]
    },
    {
     "name": "stdout",
     "output_type": "stream",
     "text": [
      "\n",
      "Wrote 1 elements to TFRecord\n"
     ]
    },
    {
     "name": "stderr",
     "output_type": "stream",
     "text": [
      "\n"
     ]
    },
    {
     "name": "stdout",
     "output_type": "stream",
     "text": [
      "MYD021KM-A2018107.0420\n",
      "MYD021KM-A2018107.2045\n",
      "MYD021KM-A2018107.1740\n",
      "MYD021KM-A2018107.0730\n",
      "MYD021KM-A2018107.1425\n",
      "MYD021KM-A2018107.0710\n",
      "(1, 512, 1024)\n",
      "(1, 512, 1024, 8)\n",
      "\n",
      "Using 1 shard(s) for 1 files, with up to 1 samples per shard\n"
     ]
    },
    {
     "name": "stderr",
     "output_type": "stream",
     "text": [
      "100%|██████████| 1/1 [00:00<00:00, 42.27it/s]"
     ]
    },
    {
     "name": "stdout",
     "output_type": "stream",
     "text": [
      "\n",
      "Wrote 1 elements to TFRecord\n"
     ]
    },
    {
     "name": "stderr",
     "output_type": "stream",
     "text": [
      "\n"
     ]
    },
    {
     "name": "stdout",
     "output_type": "stream",
     "text": [
      "MYD021KM-A2018107.2355\n",
      "(1, 512, 1024)\n",
      "(1, 512, 1024, 8)\n",
      "\n",
      "Using 1 shard(s) for 1 files, with up to 1 samples per shard\n"
     ]
    },
    {
     "name": "stderr",
     "output_type": "stream",
     "text": [
      "100%|██████████| 1/1 [00:00<00:00, 51.20it/s]"
     ]
    },
    {
     "name": "stdout",
     "output_type": "stream",
     "text": [
      "\n",
      "Wrote 1 elements to TFRecord\n"
     ]
    },
    {
     "name": "stderr",
     "output_type": "stream",
     "text": [
      "\n"
     ]
    },
    {
     "name": "stdout",
     "output_type": "stream",
     "text": [
      "MYD021KM-A2018107.1420\n",
      "MYD021KM-A2018107.1410\n",
      "MYD021KM-A2018107.0610\n",
      "MYD021KM-A2018107.0255\n",
      "MYD021KM-A2018107.1520\n",
      "(1, 512, 1024)\n",
      "(1, 512, 1024, 8)\n",
      "\n",
      "Using 1 shard(s) for 1 files, with up to 1 samples per shard\n"
     ]
    },
    {
     "name": "stderr",
     "output_type": "stream",
     "text": [
      "100%|██████████| 1/1 [00:00<00:00, 52.82it/s]"
     ]
    },
    {
     "name": "stdout",
     "output_type": "stream",
     "text": [
      "\n",
      "Wrote 1 elements to TFRecord\n"
     ]
    },
    {
     "name": "stderr",
     "output_type": "stream",
     "text": [
      "\n"
     ]
    },
    {
     "name": "stdout",
     "output_type": "stream",
     "text": [
      "MYD021KM-A2018107.0350\n",
      "(1, 512, 1024)\n",
      "(1, 512, 1024, 8)\n",
      "\n",
      "Using 1 shard(s) for 1 files, with up to 1 samples per shard\n"
     ]
    },
    {
     "name": "stderr",
     "output_type": "stream",
     "text": [
      "100%|██████████| 1/1 [00:00<00:00, 54.19it/s]"
     ]
    },
    {
     "name": "stdout",
     "output_type": "stream",
     "text": [
      "\n",
      "Wrote 1 elements to TFRecord\n"
     ]
    },
    {
     "name": "stderr",
     "output_type": "stream",
     "text": [
      "\n"
     ]
    },
    {
     "name": "stdout",
     "output_type": "stream",
     "text": [
      "MYD021KM-A2018107.2225\n",
      "MYD021KM-A2018107.0030\n",
      "(1, 512, 1024)\n",
      "(1, 512, 1024, 8)\n",
      "\n",
      "Using 1 shard(s) for 1 files, with up to 1 samples per shard\n"
     ]
    },
    {
     "name": "stderr",
     "output_type": "stream",
     "text": [
      "100%|██████████| 1/1 [00:00<00:00, 35.86it/s]"
     ]
    },
    {
     "name": "stdout",
     "output_type": "stream",
     "text": [
      "\n",
      "Wrote 1 elements to TFRecord\n"
     ]
    },
    {
     "name": "stderr",
     "output_type": "stream",
     "text": [
      "\n"
     ]
    },
    {
     "name": "stdout",
     "output_type": "stream",
     "text": [
      "MYD021KM-A2018107.2200\n",
      "(1, 512, 1024)\n",
      "(1, 512, 1024, 8)\n",
      "\n",
      "Using 1 shard(s) for 1 files, with up to 1 samples per shard\n"
     ]
    },
    {
     "name": "stderr",
     "output_type": "stream",
     "text": [
      "100%|██████████| 1/1 [00:00<00:00, 29.64it/s]"
     ]
    },
    {
     "name": "stdout",
     "output_type": "stream",
     "text": [
      "\n",
      "Wrote 1 elements to TFRecord\n"
     ]
    },
    {
     "name": "stderr",
     "output_type": "stream",
     "text": [
      "\n"
     ]
    },
    {
     "name": "stdout",
     "output_type": "stream",
     "text": [
      "MYD021KM-A2018107.1835\n",
      "(1, 512, 1024)\n",
      "(1, 512, 1024, 8)\n",
      "\n",
      "Using 1 shard(s) for 1 files, with up to 1 samples per shard\n"
     ]
    },
    {
     "name": "stderr",
     "output_type": "stream",
     "text": [
      "100%|██████████| 1/1 [00:00<00:00, 53.74it/s]"
     ]
    },
    {
     "name": "stdout",
     "output_type": "stream",
     "text": [
      "\n",
      "Wrote 1 elements to TFRecord\n"
     ]
    },
    {
     "name": "stderr",
     "output_type": "stream",
     "text": [
      "\n"
     ]
    },
    {
     "name": "stdout",
     "output_type": "stream",
     "text": [
      "MYD021KM-A2018107.0040\n",
      "(1, 512, 1024)\n",
      "(1, 512, 1024, 8)\n",
      "\n",
      "Using 1 shard(s) for 1 files, with up to 1 samples per shard\n"
     ]
    },
    {
     "name": "stderr",
     "output_type": "stream",
     "text": [
      "100%|██████████| 1/1 [00:00<00:00, 52.13it/s]"
     ]
    },
    {
     "name": "stdout",
     "output_type": "stream",
     "text": [
      "\n",
      "Wrote 1 elements to TFRecord\n"
     ]
    },
    {
     "name": "stderr",
     "output_type": "stream",
     "text": [
      "\n"
     ]
    },
    {
     "name": "stdout",
     "output_type": "stream",
     "text": [
      "MYD021KM-A2018107.0105\n",
      "MYD021KM-A2018107.0245\n",
      "MYD021KM-A2018107.0215\n",
      "MYD021KM-A2018107.0430\n",
      "MYD021KM-A2018107.2030\n",
      "(1, 512, 1024)\n",
      "(1, 512, 1024, 8)\n",
      "\n",
      "Using 1 shard(s) for 1 files, with up to 1 samples per shard\n"
     ]
    },
    {
     "name": "stderr",
     "output_type": "stream",
     "text": [
      "100%|██████████| 1/1 [00:00<00:00, 26.85it/s]"
     ]
    },
    {
     "name": "stdout",
     "output_type": "stream",
     "text": [
      "\n",
      "Wrote 1 elements to TFRecord\n"
     ]
    },
    {
     "name": "stderr",
     "output_type": "stream",
     "text": [
      "\n"
     ]
    },
    {
     "name": "stdout",
     "output_type": "stream",
     "text": [
      "MYD021KM-A2018107.0100\n",
      "MYD021KM-A2018107.1415\n",
      "MYD021KM-A2018107.1730\n",
      "MYD021KM-A2018107.1020\n",
      "MYD021KM-A2018107.0915\n",
      "MYD021KM-A2018107.2155\n",
      "MYD021KM-A2018107.1900\n",
      "MYD021KM-A2018107.0850\n",
      "(1, 512, 1024)\n",
      "(1, 512, 1024, 8)\n",
      "\n",
      "Using 1 shard(s) for 1 files, with up to 1 samples per shard\n"
     ]
    },
    {
     "name": "stderr",
     "output_type": "stream",
     "text": [
      "100%|██████████| 1/1 [00:00<00:00, 54.40it/s]"
     ]
    },
    {
     "name": "stdout",
     "output_type": "stream",
     "text": [
      "\n",
      "Wrote 1 elements to TFRecord\n"
     ]
    },
    {
     "name": "stderr",
     "output_type": "stream",
     "text": [
      "\n"
     ]
    },
    {
     "name": "stdout",
     "output_type": "stream",
     "text": [
      "MYD021KM-A2018107.0115\n",
      "MYD021KM-A2018107.2205\n",
      "(1, 512, 1024)\n",
      "(1, 512, 1024, 8)\n",
      "\n",
      "Using 1 shard(s) for 1 files, with up to 1 samples per shard\n"
     ]
    },
    {
     "name": "stderr",
     "output_type": "stream",
     "text": [
      "100%|██████████| 1/1 [00:00<00:00, 52.60it/s]"
     ]
    },
    {
     "name": "stdout",
     "output_type": "stream",
     "text": [
      "\n",
      "Wrote 1 elements to TFRecord\n"
     ]
    },
    {
     "name": "stderr",
     "output_type": "stream",
     "text": [
      "\n"
     ]
    },
    {
     "name": "stdout",
     "output_type": "stream",
     "text": [
      "MYD021KM-A2018107.1355\n",
      "(1, 512, 1024)\n",
      "(1, 512, 1024, 8)\n",
      "\n",
      "Using 1 shard(s) for 1 files, with up to 1 samples per shard\n"
     ]
    },
    {
     "name": "stderr",
     "output_type": "stream",
     "text": [
      "100%|██████████| 1/1 [00:00<00:00, 53.78it/s]"
     ]
    },
    {
     "name": "stdout",
     "output_type": "stream",
     "text": [
      "\n",
      "Wrote 1 elements to TFRecord\n"
     ]
    },
    {
     "name": "stderr",
     "output_type": "stream",
     "text": [
      "\n"
     ]
    },
    {
     "name": "stdout",
     "output_type": "stream",
     "text": [
      "MYD021KM-A2018107.0025\n",
      "(1, 512, 1024)\n",
      "(1, 512, 1024, 8)\n",
      "\n",
      "Using 1 shard(s) for 1 files, with up to 1 samples per shard\n"
     ]
    },
    {
     "name": "stderr",
     "output_type": "stream",
     "text": [
      "100%|██████████| 1/1 [00:00<00:00, 53.57it/s]"
     ]
    },
    {
     "name": "stdout",
     "output_type": "stream",
     "text": [
      "\n",
      "Wrote 1 elements to TFRecord\n"
     ]
    },
    {
     "name": "stderr",
     "output_type": "stream",
     "text": [
      "\n"
     ]
    },
    {
     "name": "stdout",
     "output_type": "stream",
     "text": [
      "MYD021KM-A2018107.1350\n",
      "(1, 512, 1024)\n",
      "(1, 512, 1024, 8)\n",
      "\n",
      "Using 1 shard(s) for 1 files, with up to 1 samples per shard\n"
     ]
    },
    {
     "name": "stderr",
     "output_type": "stream",
     "text": [
      "100%|██████████| 1/1 [00:00<00:00, 51.04it/s]"
     ]
    },
    {
     "name": "stdout",
     "output_type": "stream",
     "text": [
      "\n",
      "Wrote 1 elements to TFRecord\n"
     ]
    },
    {
     "name": "stderr",
     "output_type": "stream",
     "text": [
      "\n"
     ]
    },
    {
     "name": "stdout",
     "output_type": "stream",
     "text": [
      "MYD021KM-A2018107.0050\n",
      "(1, 512, 1024)\n",
      "(1, 512, 1024, 8)\n",
      "\n",
      "Using 1 shard(s) for 1 files, with up to 1 samples per shard\n"
     ]
    },
    {
     "name": "stderr",
     "output_type": "stream",
     "text": [
      "100%|██████████| 1/1 [00:00<00:00, 55.27it/s]"
     ]
    },
    {
     "name": "stdout",
     "output_type": "stream",
     "text": [
      "\n",
      "Wrote 1 elements to TFRecord\n"
     ]
    },
    {
     "name": "stderr",
     "output_type": "stream",
     "text": [
      "\n"
     ]
    },
    {
     "name": "stdout",
     "output_type": "stream",
     "text": [
      "MYD021KM-A2018107.1845\n",
      "(1, 512, 1024)\n",
      "(1, 512, 1024, 8)\n",
      "\n",
      "Using 1 shard(s) for 1 files, with up to 1 samples per shard\n"
     ]
    },
    {
     "name": "stderr",
     "output_type": "stream",
     "text": [
      "100%|██████████| 1/1 [00:00<00:00, 42.51it/s]"
     ]
    },
    {
     "name": "stdout",
     "output_type": "stream",
     "text": [
      "\n",
      "Wrote 1 elements to TFRecord\n"
     ]
    },
    {
     "name": "stderr",
     "output_type": "stream",
     "text": [
      "\n"
     ]
    },
    {
     "name": "stdout",
     "output_type": "stream",
     "text": [
      "MYD021KM-A2018107.0110\n",
      "MYD021KM-A2018107.1405\n",
      "MYD021KM-A2018107.1545\n",
      "MYD021KM-A2018107.1155\n",
      "MYD021KM-A2018107.1225\n",
      "MYD021KM-A2018107.0345\n",
      "(1, 512, 1024)\n",
      "(1, 512, 1024, 8)\n",
      "\n",
      "Using 1 shard(s) for 1 files, with up to 1 samples per shard\n"
     ]
    },
    {
     "name": "stderr",
     "output_type": "stream",
     "text": [
      "100%|██████████| 1/1 [00:00<00:00, 53.45it/s]"
     ]
    },
    {
     "name": "stdout",
     "output_type": "stream",
     "text": [
      "\n",
      "Wrote 1 elements to TFRecord\n"
     ]
    },
    {
     "name": "stderr",
     "output_type": "stream",
     "text": [
      "\n"
     ]
    },
    {
     "name": "stdout",
     "output_type": "stream",
     "text": [
      "MYD021KM-A2018107.1725\n",
      "MYD021KM-A2018094.1435\n",
      "MYD021KM-A2018094.0450\n",
      "MYD021KM-A2018094.0735\n",
      "(1, 512, 1024)\n",
      "(1, 512, 1024, 8)\n",
      "\n",
      "Using 1 shard(s) for 1 files, with up to 1 samples per shard\n"
     ]
    },
    {
     "name": "stderr",
     "output_type": "stream",
     "text": [
      "100%|██████████| 1/1 [00:00<00:00, 53.78it/s]"
     ]
    },
    {
     "name": "stdout",
     "output_type": "stream",
     "text": [
      "\n",
      "Wrote 1 elements to TFRecord\n"
     ]
    },
    {
     "name": "stderr",
     "output_type": "stream",
     "text": [
      "\n"
     ]
    },
    {
     "name": "stdout",
     "output_type": "stream",
     "text": [
      "MYD021KM-A2018094.1420\n",
      "MYD021KM-A2018094.1105\n",
      "(1, 512, 1024)\n",
      "(1, 512, 1024, 8)\n",
      "\n",
      "Using 1 shard(s) for 1 files, with up to 1 samples per shard\n"
     ]
    },
    {
     "name": "stderr",
     "output_type": "stream",
     "text": [
      "100%|██████████| 1/1 [00:00<00:00, 34.99it/s]"
     ]
    },
    {
     "name": "stdout",
     "output_type": "stream",
     "text": [
      "\n",
      "Wrote 1 elements to TFRecord\n"
     ]
    },
    {
     "name": "stderr",
     "output_type": "stream",
     "text": [
      "\n"
     ]
    },
    {
     "name": "stdout",
     "output_type": "stream",
     "text": [
      "MYD021KM-A2018094.0755\n",
      "(1, 512, 1024)\n",
      "(1, 512, 1024, 8)\n",
      "\n",
      "Using 1 shard(s) for 1 files, with up to 1 samples per shard\n"
     ]
    },
    {
     "name": "stderr",
     "output_type": "stream",
     "text": [
      "100%|██████████| 1/1 [00:00<00:00, 54.25it/s]"
     ]
    },
    {
     "name": "stdout",
     "output_type": "stream",
     "text": [
      "\n",
      "Wrote 1 elements to TFRecord\n"
     ]
    },
    {
     "name": "stderr",
     "output_type": "stream",
     "text": [
      "\n"
     ]
    },
    {
     "name": "stdout",
     "output_type": "stream",
     "text": [
      "MYD021KM-A2018094.0135\n",
      "MYD021KM-A2018094.0415\n",
      "(1, 512, 1024)\n",
      "(1, 512, 1024, 8)\n",
      "\n",
      "Using 1 shard(s) for 1 files, with up to 1 samples per shard\n"
     ]
    },
    {
     "name": "stderr",
     "output_type": "stream",
     "text": [
      "100%|██████████| 1/1 [00:00<00:00, 54.26it/s]"
     ]
    },
    {
     "name": "stdout",
     "output_type": "stream",
     "text": [
      "\n",
      "Wrote 1 elements to TFRecord\n"
     ]
    },
    {
     "name": "stderr",
     "output_type": "stream",
     "text": [
      "\n"
     ]
    },
    {
     "name": "stdout",
     "output_type": "stream",
     "text": [
      "MYD021KM-A2018094.1930\n",
      "MYD021KM-A2018094.1115\n",
      "MYD021KM-A2018094.0240\n",
      "(1, 512, 1024)\n",
      "(1, 512, 1024, 8)\n",
      "\n",
      "Using 1 shard(s) for 1 files, with up to 1 samples per shard\n"
     ]
    },
    {
     "name": "stderr",
     "output_type": "stream",
     "text": [
      "100%|██████████| 1/1 [00:00<00:00, 51.14it/s]"
     ]
    },
    {
     "name": "stdout",
     "output_type": "stream",
     "text": [
      "\n",
      "Wrote 1 elements to TFRecord\n"
     ]
    },
    {
     "name": "stderr",
     "output_type": "stream",
     "text": [
      "\n"
     ]
    },
    {
     "name": "stdout",
     "output_type": "stream",
     "text": [
      "MYD021KM-A2018094.0615\n",
      "(1, 512, 1024)\n",
      "(1, 512, 1024, 8)\n",
      "\n",
      "Using 1 shard(s) for 1 files, with up to 1 samples per shard\n"
     ]
    },
    {
     "name": "stderr",
     "output_type": "stream",
     "text": [
      "100%|██████████| 1/1 [00:00<00:00, 52.29it/s]"
     ]
    },
    {
     "name": "stdout",
     "output_type": "stream",
     "text": [
      "\n",
      "Wrote 1 elements to TFRecord\n"
     ]
    },
    {
     "name": "stderr",
     "output_type": "stream",
     "text": [
      "\n"
     ]
    },
    {
     "name": "stdout",
     "output_type": "stream",
     "text": [
      "MYD021KM-A2018094.1100\n",
      "(1, 512, 1024)\n",
      "(1, 512, 1024, 8)\n",
      "\n",
      "Using 1 shard(s) for 1 files, with up to 1 samples per shard\n"
     ]
    },
    {
     "name": "stderr",
     "output_type": "stream",
     "text": [
      "100%|██████████| 1/1 [00:00<00:00, 51.92it/s]"
     ]
    },
    {
     "name": "stdout",
     "output_type": "stream",
     "text": [
      "\n",
      "Wrote 1 elements to TFRecord\n"
     ]
    },
    {
     "name": "stderr",
     "output_type": "stream",
     "text": [
      "\n"
     ]
    },
    {
     "name": "stdout",
     "output_type": "stream",
     "text": [
      "MYD021KM-A2018094.1550\n",
      "(1, 512, 1024)\n",
      "(1, 512, 1024, 8)\n",
      "\n",
      "Using 1 shard(s) for 1 files, with up to 1 samples per shard\n"
     ]
    },
    {
     "name": "stderr",
     "output_type": "stream",
     "text": [
      "100%|██████████| 1/1 [00:00<00:00, 31.02it/s]"
     ]
    },
    {
     "name": "stdout",
     "output_type": "stream",
     "text": [
      "\n",
      "Wrote 1 elements to TFRecord\n"
     ]
    },
    {
     "name": "stderr",
     "output_type": "stream",
     "text": [
      "\n"
     ]
    },
    {
     "name": "stdout",
     "output_type": "stream",
     "text": [
      "MYD021KM-A2018094.0445\n",
      "MYD021KM-A2018094.0950\n",
      "MYD021KM-A2018094.1600\n",
      "MYD021KM-A2018094.2100\n",
      "(1, 512, 1024)\n",
      "(1, 512, 1024, 8)\n",
      "\n",
      "Using 1 shard(s) for 1 files, with up to 1 samples per shard\n"
     ]
    },
    {
     "name": "stderr",
     "output_type": "stream",
     "text": [
      "100%|██████████| 1/1 [00:00<00:00, 53.05it/s]"
     ]
    },
    {
     "name": "stdout",
     "output_type": "stream",
     "text": [
      "\n",
      "Wrote 1 elements to TFRecord\n"
     ]
    },
    {
     "name": "stderr",
     "output_type": "stream",
     "text": [
      "\n"
     ]
    },
    {
     "name": "stdout",
     "output_type": "stream",
     "text": [
      "MYD021KM-A2018094.1250\n",
      "(1, 512, 1024)\n",
      "(1, 512, 1024, 8)\n",
      "\n",
      "Using 1 shard(s) for 1 files, with up to 1 samples per shard\n"
     ]
    },
    {
     "name": "stderr",
     "output_type": "stream",
     "text": [
      "100%|██████████| 1/1 [00:00<00:00, 53.38it/s]"
     ]
    },
    {
     "name": "stdout",
     "output_type": "stream",
     "text": [
      "\n",
      "Wrote 1 elements to TFRecord\n"
     ]
    },
    {
     "name": "stderr",
     "output_type": "stream",
     "text": [
      "\n"
     ]
    },
    {
     "name": "stdout",
     "output_type": "stream",
     "text": [
      "MYD021KM-A2018094.0910\n",
      "(1, 512, 1024)\n",
      "(1, 512, 1024, 8)\n",
      "\n",
      "Using 1 shard(s) for 1 files, with up to 1 samples per shard\n"
     ]
    },
    {
     "name": "stderr",
     "output_type": "stream",
     "text": [
      "100%|██████████| 1/1 [00:00<00:00, 52.36it/s]"
     ]
    },
    {
     "name": "stdout",
     "output_type": "stream",
     "text": [
      "\n",
      "Wrote 1 elements to TFRecord\n"
     ]
    },
    {
     "name": "stderr",
     "output_type": "stream",
     "text": [
      "\n"
     ]
    },
    {
     "name": "stdout",
     "output_type": "stream",
     "text": [
      "MYD021KM-A2018094.1610\n",
      "(1, 512, 1024)\n",
      "(1, 512, 1024, 8)\n",
      "\n",
      "Using 1 shard(s) for 1 files, with up to 1 samples per shard\n"
     ]
    },
    {
     "name": "stderr",
     "output_type": "stream",
     "text": [
      "100%|██████████| 1/1 [00:00<00:00, 50.54it/s]"
     ]
    },
    {
     "name": "stdout",
     "output_type": "stream",
     "text": [
      "\n",
      "Wrote 1 elements to TFRecord\n"
     ]
    },
    {
     "name": "stderr",
     "output_type": "stream",
     "text": [
      "\n"
     ]
    },
    {
     "name": "stdout",
     "output_type": "stream",
     "text": [
      "MYD021KM-A2018094.1410\n",
      "MYD021KM-A2018094.2110\n",
      "MYD021KM-A2018094.2105\n",
      "(1, 512, 1024)\n",
      "(1, 512, 1024, 8)\n",
      "\n",
      "Using 1 shard(s) for 1 files, with up to 1 samples per shard\n"
     ]
    },
    {
     "name": "stderr",
     "output_type": "stream",
     "text": [
      "100%|██████████| 1/1 [00:00<00:00, 50.77it/s]"
     ]
    },
    {
     "name": "stdout",
     "output_type": "stream",
     "text": [
      "\n",
      "Wrote 1 elements to TFRecord\n"
     ]
    },
    {
     "name": "stderr",
     "output_type": "stream",
     "text": [
      "\n"
     ]
    },
    {
     "name": "stdout",
     "output_type": "stream",
     "text": [
      "MYD021KM-A2018094.2115\n",
      "MYD021KM-A2018094.1625\n",
      "MYD021KM-A2018094.0420\n",
      "(1, 512, 1024)\n",
      "(1, 512, 1024, 8)\n",
      "\n",
      "Using 1 shard(s) for 1 files, with up to 1 samples per shard\n"
     ]
    },
    {
     "name": "stderr",
     "output_type": "stream",
     "text": [
      "100%|██████████| 1/1 [00:00<00:00, 33.20it/s]"
     ]
    },
    {
     "name": "stdout",
     "output_type": "stream",
     "text": [
      "\n",
      "Wrote 1 elements to TFRecord\n"
     ]
    },
    {
     "name": "stderr",
     "output_type": "stream",
     "text": [
      "\n"
     ]
    },
    {
     "name": "stdout",
     "output_type": "stream",
     "text": [
      "MYD021KM-A2018094.1605\n",
      "(1, 512, 1024)\n",
      "(1, 512, 1024, 8)\n",
      "\n",
      "Using 1 shard(s) for 1 files, with up to 1 samples per shard\n"
     ]
    },
    {
     "name": "stderr",
     "output_type": "stream",
     "text": [
      "100%|██████████| 1/1 [00:00<00:00, 51.30it/s]"
     ]
    },
    {
     "name": "stdout",
     "output_type": "stream",
     "text": [
      "\n",
      "Wrote 1 elements to TFRecord\n"
     ]
    },
    {
     "name": "stderr",
     "output_type": "stream",
     "text": [
      "\n"
     ]
    },
    {
     "name": "stdout",
     "output_type": "stream",
     "text": [
      "MYD021KM-A2018094.0055\n",
      "(1, 512, 1024)\n",
      "(1, 512, 1024, 8)\n",
      "\n",
      "Using 1 shard(s) for 1 files, with up to 1 samples per shard\n"
     ]
    },
    {
     "name": "stderr",
     "output_type": "stream",
     "text": [
      "100%|██████████| 1/1 [00:00<00:00, 33.41it/s]"
     ]
    },
    {
     "name": "stdout",
     "output_type": "stream",
     "text": [
      "\n",
      "Wrote 1 elements to TFRecord\n"
     ]
    },
    {
     "name": "stderr",
     "output_type": "stream",
     "text": [
      "\n"
     ]
    },
    {
     "name": "stdout",
     "output_type": "stream",
     "text": [
      "MYD021KM-A2018094.0130\n",
      "MYD021KM-A2018094.0100\n",
      "(1, 512, 1024)\n",
      "(1, 512, 1024, 8)\n",
      "\n",
      "Using 1 shard(s) for 1 files, with up to 1 samples per shard\n"
     ]
    },
    {
     "name": "stderr",
     "output_type": "stream",
     "text": [
      "100%|██████████| 1/1 [00:00<00:00, 51.90it/s]"
     ]
    },
    {
     "name": "stdout",
     "output_type": "stream",
     "text": [
      "\n",
      "Wrote 1 elements to TFRecord\n"
     ]
    },
    {
     "name": "stderr",
     "output_type": "stream",
     "text": [
      "\n"
     ]
    },
    {
     "name": "stdout",
     "output_type": "stream",
     "text": [
      "MYD021KM-A2018094.1905\n",
      "MYD021KM-A2018094.1310\n",
      "MYD021KM-A2018094.0115\n",
      "(1, 512, 1024)\n",
      "(1, 512, 1024, 8)\n",
      "\n",
      "Using 1 shard(s) for 1 files, with up to 1 samples per shard\n"
     ]
    },
    {
     "name": "stderr",
     "output_type": "stream",
     "text": [
      "100%|██████████| 1/1 [00:00<00:00, 55.95it/s]"
     ]
    },
    {
     "name": "stdout",
     "output_type": "stream",
     "text": [
      "\n",
      "Wrote 1 elements to TFRecord\n"
     ]
    },
    {
     "name": "stderr",
     "output_type": "stream",
     "text": [
      "\n"
     ]
    },
    {
     "name": "stdout",
     "output_type": "stream",
     "text": [
      "MYD021KM-A2018094.0600\n",
      "(1, 512, 1024)\n",
      "(1, 512, 1024, 8)\n",
      "\n",
      "Using 1 shard(s) for 1 files, with up to 1 samples per shard\n"
     ]
    },
    {
     "name": "stderr",
     "output_type": "stream",
     "text": [
      "100%|██████████| 1/1 [00:00<00:00, 52.54it/s]"
     ]
    },
    {
     "name": "stdout",
     "output_type": "stream",
     "text": [
      "\n",
      "Wrote 1 elements to TFRecord\n"
     ]
    },
    {
     "name": "stderr",
     "output_type": "stream",
     "text": [
      "\n"
     ]
    },
    {
     "name": "stdout",
     "output_type": "stream",
     "text": [
      "MYD021KM-A2018094.0940\n",
      "MYD021KM-A2018094.1130\n",
      "MYD021KM-A2018094.2240\n",
      "(1, 512, 1024)\n",
      "(1, 512, 1024, 8)\n",
      "\n",
      "Using 1 shard(s) for 1 files, with up to 1 samples per shard\n"
     ]
    },
    {
     "name": "stderr",
     "output_type": "stream",
     "text": [
      "100%|██████████| 1/1 [00:00<00:00, 55.48it/s]"
     ]
    },
    {
     "name": "stdout",
     "output_type": "stream",
     "text": [
      "\n",
      "Wrote 1 elements to TFRecord\n"
     ]
    },
    {
     "name": "stderr",
     "output_type": "stream",
     "text": [
      "\n"
     ]
    },
    {
     "name": "stdout",
     "output_type": "stream",
     "text": [
      "MYD021KM-A2018094.1120\n",
      "MYD021KM-A2018094.1805\n",
      "MYD021KM-A2018094.0500\n",
      "MYD021KM-A2018094.0740\n",
      "(1, 512, 1024)\n",
      "(1, 512, 1024, 8)\n",
      "\n",
      "Using 1 shard(s) for 1 files, with up to 1 samples per shard\n"
     ]
    },
    {
     "name": "stderr",
     "output_type": "stream",
     "text": [
      "100%|██████████| 1/1 [00:00<00:00, 53.07it/s]"
     ]
    },
    {
     "name": "stdout",
     "output_type": "stream",
     "text": [
      "\n",
      "Wrote 1 elements to TFRecord\n"
     ]
    },
    {
     "name": "stderr",
     "output_type": "stream",
     "text": [
      "\n"
     ]
    },
    {
     "name": "stdout",
     "output_type": "stream",
     "text": [
      "MYD021KM-A2018094.2130\n",
      "MYD021KM-A2018094.1545\n",
      "(1, 512, 1024)\n",
      "(1, 512, 1024, 8)\n",
      "\n",
      "Using 1 shard(s) for 1 files, with up to 1 samples per shard\n"
     ]
    },
    {
     "name": "stderr",
     "output_type": "stream",
     "text": [
      "100%|██████████| 1/1 [00:00<00:00, 53.68it/s]"
     ]
    },
    {
     "name": "stdout",
     "output_type": "stream",
     "text": [
      "\n",
      "Wrote 1 elements to TFRecord\n"
     ]
    },
    {
     "name": "stderr",
     "output_type": "stream",
     "text": [
      "\n"
     ]
    },
    {
     "name": "stdout",
     "output_type": "stream",
     "text": [
      "MYD021KM-A2018094.0325\n",
      "MYD021KM-A2018094.1240\n",
      "(1, 512, 1024)\n",
      "(1, 512, 1024, 8)\n",
      "\n",
      "Using 1 shard(s) for 1 files, with up to 1 samples per shard\n"
     ]
    },
    {
     "name": "stderr",
     "output_type": "stream",
     "text": [
      "100%|██████████| 1/1 [00:00<00:00, 54.90it/s]"
     ]
    },
    {
     "name": "stdout",
     "output_type": "stream",
     "text": [
      "\n",
      "Wrote 1 elements to TFRecord\n"
     ]
    },
    {
     "name": "stderr",
     "output_type": "stream",
     "text": [
      "\n"
     ]
    },
    {
     "name": "stdout",
     "output_type": "stream",
     "text": [
      "MYD021KM-A2018094.1735\n",
      "(1, 512, 1024)\n",
      "(1, 512, 1024, 8)\n",
      "\n",
      "Using 1 shard(s) for 1 files, with up to 1 samples per shard\n"
     ]
    },
    {
     "name": "stderr",
     "output_type": "stream",
     "text": [
      "100%|██████████| 1/1 [00:00<00:00, 48.98it/s]"
     ]
    },
    {
     "name": "stdout",
     "output_type": "stream",
     "text": [
      "\n",
      "Wrote 1 elements to TFRecord\n"
     ]
    },
    {
     "name": "stderr",
     "output_type": "stream",
     "text": [
      "\n"
     ]
    },
    {
     "name": "stdout",
     "output_type": "stream",
     "text": [
      "MYD021KM-A2018094.1300\n",
      "MYD021KM-A2018094.0750\n",
      "(1, 512, 1024)\n",
      "(1, 512, 1024, 8)\n",
      "\n",
      "Using 1 shard(s) for 1 files, with up to 1 samples per shard\n"
     ]
    },
    {
     "name": "stderr",
     "output_type": "stream",
     "text": [
      "100%|██████████| 1/1 [00:00<00:00, 54.52it/s]"
     ]
    },
    {
     "name": "stdout",
     "output_type": "stream",
     "text": [
      "\n",
      "Wrote 1 elements to TFRecord\n"
     ]
    },
    {
     "name": "stderr",
     "output_type": "stream",
     "text": [
      "\n"
     ]
    },
    {
     "name": "stdout",
     "output_type": "stream",
     "text": [
      "MYD021KM-A2018094.1950\n",
      "MYD021KM-A2018094.0610\n",
      "(1, 512, 1024)\n",
      "(1, 512, 1024, 8)\n",
      "\n",
      "Using 1 shard(s) for 1 files, with up to 1 samples per shard\n"
     ]
    },
    {
     "name": "stderr",
     "output_type": "stream",
     "text": [
      "100%|██████████| 1/1 [00:00<00:00, 50.25it/s]"
     ]
    },
    {
     "name": "stdout",
     "output_type": "stream",
     "text": [
      "\n",
      "Wrote 1 elements to TFRecord\n"
     ]
    },
    {
     "name": "stderr",
     "output_type": "stream",
     "text": [
      "\n"
     ]
    },
    {
     "name": "stdout",
     "output_type": "stream",
     "text": [
      "MYD021KM-A2018094.1815\n",
      "MYD021KM-A2018094.0105\n",
      "(1, 512, 1024)\n",
      "(1, 512, 1024, 8)\n",
      "\n",
      "Using 1 shard(s) for 1 files, with up to 1 samples per shard\n"
     ]
    },
    {
     "name": "stderr",
     "output_type": "stream",
     "text": [
      "100%|██████████| 1/1 [00:00<00:00, 51.20it/s]"
     ]
    },
    {
     "name": "stdout",
     "output_type": "stream",
     "text": [
      "\n",
      "Wrote 1 elements to TFRecord\n"
     ]
    },
    {
     "name": "stderr",
     "output_type": "stream",
     "text": [
      "\n"
     ]
    },
    {
     "name": "stdout",
     "output_type": "stream",
     "text": [
      "MYD021KM-A2018094.0320\n",
      "MYD021KM-A2018094.1140\n",
      "MYD021KM-A2018094.1000\n",
      "MYD021KM-A2018094.0920\n",
      "MYD021KM-A2018094.0945\n",
      "MYD021KM-A2018094.1945\n",
      "MYD021KM-A2018094.1315\n",
      "MYD021KM-A2018094.0125\n",
      "MYD021KM-A2018094.0815\n",
      "MYD021KM-A2018094.1630\n",
      "MYD021KM-A2018094.1415\n",
      "(1, 512, 1024)\n",
      "(1, 512, 1024, 8)\n",
      "\n",
      "Using 1 shard(s) for 1 files, with up to 1 samples per shard\n"
     ]
    },
    {
     "name": "stderr",
     "output_type": "stream",
     "text": [
      "100%|██████████| 1/1 [00:00<00:00, 54.70it/s]"
     ]
    },
    {
     "name": "stdout",
     "output_type": "stream",
     "text": [
      "\n",
      "Wrote 1 elements to TFRecord\n"
     ]
    },
    {
     "name": "stderr",
     "output_type": "stream",
     "text": [
      "\n"
     ]
    },
    {
     "name": "stdout",
     "output_type": "stream",
     "text": [
      "MYD021KM-A2018094.2255\n",
      "MYD021KM-A2018094.1425\n",
      "(1, 512, 1024)\n",
      "(1, 512, 1024, 8)\n",
      "\n",
      "Using 1 shard(s) for 1 files, with up to 1 samples per shard\n"
     ]
    },
    {
     "name": "stderr",
     "output_type": "stream",
     "text": [
      "100%|██████████| 1/1 [00:00<00:00, 51.88it/s]"
     ]
    },
    {
     "name": "stdout",
     "output_type": "stream",
     "text": [
      "\n",
      "Wrote 1 elements to TFRecord\n"
     ]
    },
    {
     "name": "stderr",
     "output_type": "stream",
     "text": [
      "\n"
     ]
    },
    {
     "name": "stdout",
     "output_type": "stream",
     "text": [
      "MYD021KM-A2018094.0820\n",
      "MYD021KM-A2018094.0300\n",
      "MYD021KM-A2018094.1750\n",
      "MYD021KM-A2018094.1235\n",
      "(1, 512, 1024)\n",
      "(1, 512, 1024, 8)\n",
      "\n",
      "Using 1 shard(s) for 1 files, with up to 1 samples per shard\n"
     ]
    },
    {
     "name": "stderr",
     "output_type": "stream",
     "text": [
      "100%|██████████| 1/1 [00:00<00:00, 54.63it/s]"
     ]
    },
    {
     "name": "stdout",
     "output_type": "stream",
     "text": [
      "\n",
      "Wrote 1 elements to TFRecord\n"
     ]
    },
    {
     "name": "stderr",
     "output_type": "stream",
     "text": [
      "\n"
     ]
    },
    {
     "name": "stdout",
     "output_type": "stream",
     "text": [
      "MYD021KM-A2018094.0555\n",
      "MYD021KM-A2018094.0455\n",
      "MYD021KM-A2018094.0140\n",
      "MYD021KM-A2018094.0630\n",
      "MYD021KM-A2018094.1445\n",
      "MYD021KM-A2018094.1730\n",
      "(1, 512, 1024)\n",
      "(1, 512, 1024, 8)\n",
      "\n",
      "Using 1 shard(s) for 1 files, with up to 1 samples per shard\n"
     ]
    },
    {
     "name": "stderr",
     "output_type": "stream",
     "text": [
      "100%|██████████| 1/1 [00:00<00:00, 49.98it/s]"
     ]
    },
    {
     "name": "stdout",
     "output_type": "stream",
     "text": [
      "\n",
      "Wrote 1 elements to TFRecord\n"
     ]
    },
    {
     "name": "stderr",
     "output_type": "stream",
     "text": [
      "\n"
     ]
    },
    {
     "name": "stdout",
     "output_type": "stream",
     "text": [
      "MYD021KM-A2018094.1635\n",
      "MYD021KM-A2018094.0805\n",
      "MYD021KM-A2018094.0440\n",
      "MYD021KM-A2018094.0605\n",
      "MYD021KM-A2018094.1810\n",
      "MYD021KM-A2018094.1755\n",
      "MYD021KM-A2018094.1935\n",
      "MYD021KM-A2018094.0915\n",
      "(1, 512, 1024)\n",
      "(1, 512, 1024, 8)\n",
      "\n",
      "Using 1 shard(s) for 1 files, with up to 1 samples per shard\n"
     ]
    },
    {
     "name": "stderr",
     "output_type": "stream",
     "text": [
      "100%|██████████| 1/1 [00:00<00:00, 55.27it/s]"
     ]
    },
    {
     "name": "stdout",
     "output_type": "stream",
     "text": [
      "\n",
      "Wrote 1 elements to TFRecord\n"
     ]
    },
    {
     "name": "stderr",
     "output_type": "stream",
     "text": [
      "\n"
     ]
    },
    {
     "name": "stdout",
     "output_type": "stream",
     "text": [
      "MYD021KM-A2018094.1615\n",
      "MYD021KM-A2018094.2125\n",
      "MYD021KM-A2018094.0255\n",
      "(1, 512, 1024)\n",
      "(1, 512, 1024, 8)\n",
      "\n",
      "Using 1 shard(s) for 1 files, with up to 1 samples per shard\n"
     ]
    },
    {
     "name": "stderr",
     "output_type": "stream",
     "text": [
      "100%|██████████| 1/1 [00:00<00:00, 52.03it/s]"
     ]
    },
    {
     "name": "stdout",
     "output_type": "stream",
     "text": [
      "\n",
      "Wrote 1 elements to TFRecord\n"
     ]
    },
    {
     "name": "stderr",
     "output_type": "stream",
     "text": [
      "\n"
     ]
    },
    {
     "name": "stdout",
     "output_type": "stream",
     "text": [
      "MYD021KM-A2018094.0310\n",
      "MYD021KM-A2018094.1555\n",
      "MYD021KM-A2018094.2310\n",
      "MYD021KM-A2018094.1800\n",
      "MYD021KM-A2018094.2300\n",
      "MYD021KM-A2018094.0425\n",
      "(1, 512, 1024)\n",
      "(1, 512, 1024, 8)\n",
      "\n",
      "Using 1 shard(s) for 1 files, with up to 1 samples per shard\n"
     ]
    },
    {
     "name": "stderr",
     "output_type": "stream",
     "text": [
      "100%|██████████| 1/1 [00:00<00:00, 51.46it/s]"
     ]
    },
    {
     "name": "stdout",
     "output_type": "stream",
     "text": [
      "\n",
      "Wrote 1 elements to TFRecord\n"
     ]
    },
    {
     "name": "stderr",
     "output_type": "stream",
     "text": [
      "\n"
     ]
    },
    {
     "name": "stdout",
     "output_type": "stream",
     "text": [
      "MYD021KM-A2018094.1230\n",
      "MYD021KM-A2018094.0235\n",
      "MYD021KM-A2018094.0810\n",
      "MYD021KM-A2018094.0620\n",
      "MYD021KM-A2018094.0550\n",
      "(1, 512, 1024)\n",
      "(1, 512, 1024, 8)\n",
      "\n",
      "Using 1 shard(s) for 1 files, with up to 1 samples per shard\n"
     ]
    },
    {
     "name": "stderr",
     "output_type": "stream",
     "text": [
      "100%|██████████| 1/1 [00:00<00:00, 31.44it/s]"
     ]
    },
    {
     "name": "stdout",
     "output_type": "stream",
     "text": [
      "\n",
      "Wrote 1 elements to TFRecord\n"
     ]
    },
    {
     "name": "stderr",
     "output_type": "stream",
     "text": [
      "\n"
     ]
    },
    {
     "name": "stdout",
     "output_type": "stream",
     "text": [
      "MYD021KM-A2018094.0930\n",
      "(1, 512, 1024)\n",
      "(1, 512, 1024, 8)\n",
      "\n",
      "Using 1 shard(s) for 1 files, with up to 1 samples per shard\n"
     ]
    },
    {
     "name": "stderr",
     "output_type": "stream",
     "text": [
      "100%|██████████| 1/1 [00:00<00:00, 50.35it/s]"
     ]
    },
    {
     "name": "stdout",
     "output_type": "stream",
     "text": [
      "\n",
      "Wrote 1 elements to TFRecord\n"
     ]
    },
    {
     "name": "stderr",
     "output_type": "stream",
     "text": [
      "\n"
     ]
    },
    {
     "name": "stdout",
     "output_type": "stream",
     "text": [
      "MYD021KM-A2018094.0005\n",
      "MYD021KM-A2018094.0145\n",
      "MYD021KM-A2018094.2050\n",
      "(1, 512, 1024)\n",
      "(1, 512, 1024, 8)\n",
      "\n",
      "Using 1 shard(s) for 1 files, with up to 1 samples per shard\n"
     ]
    },
    {
     "name": "stderr",
     "output_type": "stream",
     "text": [
      "100%|██████████| 1/1 [00:00<00:00, 49.21it/s]"
     ]
    },
    {
     "name": "stdout",
     "output_type": "stream",
     "text": [
      "\n",
      "Wrote 1 elements to TFRecord\n"
     ]
    },
    {
     "name": "stderr",
     "output_type": "stream",
     "text": [
      "\n"
     ]
    },
    {
     "name": "stdout",
     "output_type": "stream",
     "text": [
      "MYD021KM-A2018094.1255\n",
      "MYD021KM-A2018094.1135\n",
      "MYD021KM-A2018094.0250\n",
      "(1, 512, 1024)\n",
      "(1, 512, 1024, 8)\n",
      "\n",
      "Using 1 shard(s) for 1 files, with up to 1 samples per shard\n"
     ]
    },
    {
     "name": "stderr",
     "output_type": "stream",
     "text": [
      "100%|██████████| 1/1 [00:00<00:00, 43.62it/s]"
     ]
    },
    {
     "name": "stdout",
     "output_type": "stream",
     "text": [
      "\n",
      "Wrote 1 elements to TFRecord\n"
     ]
    },
    {
     "name": "stderr",
     "output_type": "stream",
     "text": [
      "\n"
     ]
    },
    {
     "name": "stdout",
     "output_type": "stream",
     "text": [
      "MYD021KM-A2018094.1405\n",
      "(1, 512, 1024)\n",
      "(1, 512, 1024, 8)\n",
      "\n",
      "Using 1 shard(s) for 1 files, with up to 1 samples per shard\n"
     ]
    },
    {
     "name": "stderr",
     "output_type": "stream",
     "text": [
      "100%|██████████| 1/1 [00:00<00:00, 51.23it/s]"
     ]
    },
    {
     "name": "stdout",
     "output_type": "stream",
     "text": [
      "\n",
      "Wrote 1 elements to TFRecord\n"
     ]
    },
    {
     "name": "stderr",
     "output_type": "stream",
     "text": [
      "\n"
     ]
    },
    {
     "name": "stdout",
     "output_type": "stream",
     "text": [
      "MYD021KM-A2018094.1050\n",
      "MYD021KM-A2018094.2235\n",
      "(1, 512, 1024)\n",
      "(1, 512, 1024, 8)\n",
      "\n",
      "Using 1 shard(s) for 1 files, with up to 1 samples per shard\n"
     ]
    },
    {
     "name": "stderr",
     "output_type": "stream",
     "text": [
      "100%|██████████| 1/1 [00:00<00:00, 53.06it/s]"
     ]
    },
    {
     "name": "stdout",
     "output_type": "stream",
     "text": [
      "\n",
      "Wrote 1 elements to TFRecord\n"
     ]
    },
    {
     "name": "stderr",
     "output_type": "stream",
     "text": [
      "\n"
     ]
    },
    {
     "name": "stdout",
     "output_type": "stream",
     "text": [
      "MYD021KM-A2018094.1455\n",
      "MYD021KM-A2018094.0935\n",
      "MYD021KM-A2018094.1055\n",
      "MYD021KM-A2018094.2120\n",
      "MYD021KM-A2018094.1725\n",
      "(1, 512, 1024)\n",
      "(1, 512, 1024, 8)\n",
      "\n",
      "Using 1 shard(s) for 1 files, with up to 1 samples per shard\n"
     ]
    },
    {
     "name": "stderr",
     "output_type": "stream",
     "text": [
      "100%|██████████| 1/1 [00:00<00:00, 47.29it/s]"
     ]
    },
    {
     "name": "stdout",
     "output_type": "stream",
     "text": [
      "\n",
      "Wrote 1 elements to TFRecord\n"
     ]
    },
    {
     "name": "stderr",
     "output_type": "stream",
     "text": [
      "\n"
     ]
    },
    {
     "name": "stdout",
     "output_type": "stream",
     "text": [
      "MYD021KM-A2018094.2040\n",
      "(1, 512, 1024)\n",
      "(1, 512, 1024, 8)\n",
      "\n",
      "Using 1 shard(s) for 1 files, with up to 1 samples per shard\n"
     ]
    },
    {
     "name": "stderr",
     "output_type": "stream",
     "text": [
      "100%|██████████| 1/1 [00:00<00:00, 48.58it/s]"
     ]
    },
    {
     "name": "stdout",
     "output_type": "stream",
     "text": [
      "\n",
      "Wrote 1 elements to TFRecord\n"
     ]
    },
    {
     "name": "stderr",
     "output_type": "stream",
     "text": [
      "\n"
     ]
    },
    {
     "name": "stdout",
     "output_type": "stream",
     "text": [
      "MYD021KM-A2018094.2305\n",
      "MYD021KM-A2018094.1910\n",
      "(1, 512, 1024)\n",
      "(1, 512, 1024, 8)\n",
      "\n",
      "Using 1 shard(s) for 1 files, with up to 1 samples per shard\n"
     ]
    },
    {
     "name": "stderr",
     "output_type": "stream",
     "text": [
      "100%|██████████| 1/1 [00:00<00:00, 47.33it/s]"
     ]
    },
    {
     "name": "stdout",
     "output_type": "stream",
     "text": [
      "\n",
      "Wrote 1 elements to TFRecord\n"
     ]
    },
    {
     "name": "stderr",
     "output_type": "stream",
     "text": [
      "\n"
     ]
    },
    {
     "name": "stdout",
     "output_type": "stream",
     "text": [
      "MYD021KM-A2018094.1915\n",
      "(1, 512, 1024)\n",
      "(1, 512, 1024, 8)\n",
      "\n",
      "Using 1 shard(s) for 1 files, with up to 1 samples per shard\n"
     ]
    },
    {
     "name": "stderr",
     "output_type": "stream",
     "text": [
      "100%|██████████| 1/1 [00:00<00:00, 52.76it/s]"
     ]
    },
    {
     "name": "stdout",
     "output_type": "stream",
     "text": [
      "\n",
      "Wrote 1 elements to TFRecord\n"
     ]
    },
    {
     "name": "stderr",
     "output_type": "stream",
     "text": [
      "\n"
     ]
    },
    {
     "name": "stdout",
     "output_type": "stream",
     "text": [
      "MYD021KM-A2018094.0305\n",
      "MYD021KM-A2018094.0925\n",
      "(1, 512, 1024)\n",
      "(1, 512, 1024, 8)\n",
      "\n",
      "Using 1 shard(s) for 1 files, with up to 1 samples per shard\n"
     ]
    },
    {
     "name": "stderr",
     "output_type": "stream",
     "text": [
      "100%|██████████| 1/1 [00:00<00:00, 33.32it/s]"
     ]
    },
    {
     "name": "stdout",
     "output_type": "stream",
     "text": [
      "\n",
      "Wrote 1 elements to TFRecord\n"
     ]
    },
    {
     "name": "stderr",
     "output_type": "stream",
     "text": [
      "\n"
     ]
    },
    {
     "name": "stdout",
     "output_type": "stream",
     "text": [
      "MYD021KM-A2018094.2055\n",
      "(1, 512, 1024)\n",
      "(1, 512, 1024, 8)\n",
      "\n",
      "Using 1 shard(s) for 1 files, with up to 1 samples per shard\n"
     ]
    },
    {
     "name": "stderr",
     "output_type": "stream",
     "text": [
      "100%|██████████| 1/1 [00:00<00:00, 34.87it/s]"
     ]
    },
    {
     "name": "stdout",
     "output_type": "stream",
     "text": [
      "\n",
      "Wrote 1 elements to TFRecord\n"
     ]
    },
    {
     "name": "stderr",
     "output_type": "stream",
     "text": [
      "\n"
     ]
    },
    {
     "name": "stdout",
     "output_type": "stream",
     "text": [
      "MYD021KM-A2018094.1940\n",
      "MYD021KM-A2018094.1440\n",
      "MYD021KM-A2018094.0730\n",
      "(1, 512, 1024)\n",
      "(1, 512, 1024, 8)\n",
      "\n",
      "Using 1 shard(s) for 1 files, with up to 1 samples per shard\n"
     ]
    },
    {
     "name": "stderr",
     "output_type": "stream",
     "text": [
      "100%|██████████| 1/1 [00:00<00:00, 30.13it/s]"
     ]
    },
    {
     "name": "stdout",
     "output_type": "stream",
     "text": [
      "\n",
      "Wrote 1 elements to TFRecord\n"
     ]
    },
    {
     "name": "stderr",
     "output_type": "stream",
     "text": [
      "\n"
     ]
    },
    {
     "name": "stdout",
     "output_type": "stream",
     "text": [
      "MYD021KM-A2018094.1245\n",
      "(1, 512, 1024)\n",
      "(1, 512, 1024, 8)\n",
      "\n",
      "Using 1 shard(s) for 1 files, with up to 1 samples per shard\n"
     ]
    },
    {
     "name": "stderr",
     "output_type": "stream",
     "text": [
      "100%|██████████| 1/1 [00:00<00:00, 51.33it/s]"
     ]
    },
    {
     "name": "stdout",
     "output_type": "stream",
     "text": [
      "\n",
      "Wrote 1 elements to TFRecord\n"
     ]
    },
    {
     "name": "stderr",
     "output_type": "stream",
     "text": [
      "\n"
     ]
    },
    {
     "name": "stdout",
     "output_type": "stream",
     "text": [
      "MYD021KM-A2018094.0635\n",
      "MYD021KM-A2018094.1920\n",
      "(1, 512, 1024)\n",
      "(1, 512, 1024, 8)\n",
      "\n",
      "Using 1 shard(s) for 1 files, with up to 1 samples per shard\n"
     ]
    },
    {
     "name": "stderr",
     "output_type": "stream",
     "text": [
      "100%|██████████| 1/1 [00:00<00:00, 54.03it/s]"
     ]
    },
    {
     "name": "stdout",
     "output_type": "stream",
     "text": [
      "\n",
      "Wrote 1 elements to TFRecord\n"
     ]
    },
    {
     "name": "stderr",
     "output_type": "stream",
     "text": [
      "\n"
     ]
    },
    {
     "name": "stdout",
     "output_type": "stream",
     "text": [
      "MYD021KM-A2018094.0120\n",
      "(1, 512, 1024)\n",
      "(1, 512, 1024, 8)\n",
      "\n",
      "Using 1 shard(s) for 1 files, with up to 1 samples per shard\n"
     ]
    },
    {
     "name": "stderr",
     "output_type": "stream",
     "text": [
      "100%|██████████| 1/1 [00:00<00:00, 57.96it/s]"
     ]
    },
    {
     "name": "stdout",
     "output_type": "stream",
     "text": [
      "\n",
      "Wrote 1 elements to TFRecord\n"
     ]
    },
    {
     "name": "stderr",
     "output_type": "stream",
     "text": [
      "\n"
     ]
    },
    {
     "name": "stdout",
     "output_type": "stream",
     "text": [
      "MYD021KM-A2018094.0800\n",
      "MYD021KM-A2018094.2250\n",
      "MYD021KM-A2018094.1110\n",
      "(1, 512, 1024)\n",
      "(1, 512, 1024, 8)\n",
      "\n",
      "Using 1 shard(s) for 1 files, with up to 1 samples per shard\n"
     ]
    },
    {
     "name": "stderr",
     "output_type": "stream",
     "text": [
      "100%|██████████| 1/1 [00:00<00:00, 47.69it/s]"
     ]
    },
    {
     "name": "stdout",
     "output_type": "stream",
     "text": [
      "\n",
      "Wrote 1 elements to TFRecord\n"
     ]
    },
    {
     "name": "stderr",
     "output_type": "stream",
     "text": [
      "\n"
     ]
    },
    {
     "name": "stdout",
     "output_type": "stream",
     "text": [
      "MYD021KM-A2018094.0430\n",
      "(1, 512, 1024)\n",
      "(1, 512, 1024, 8)\n",
      "\n",
      "Using 1 shard(s) for 1 files, with up to 1 samples per shard\n"
     ]
    },
    {
     "name": "stderr",
     "output_type": "stream",
     "text": [
      "100%|██████████| 1/1 [00:00<00:00, 49.85it/s]"
     ]
    },
    {
     "name": "stdout",
     "output_type": "stream",
     "text": [
      "\n",
      "Wrote 1 elements to TFRecord\n"
     ]
    },
    {
     "name": "stderr",
     "output_type": "stream",
     "text": [
      "\n"
     ]
    },
    {
     "name": "stdout",
     "output_type": "stream",
     "text": [
      "MYD021KM-A2018094.1125\n",
      "MYD021KM-A2018094.0245\n",
      "(1, 512, 1024)\n",
      "(1, 512, 1024, 8)\n",
      "\n",
      "Using 1 shard(s) for 1 files, with up to 1 samples per shard\n"
     ]
    },
    {
     "name": "stderr",
     "output_type": "stream",
     "text": [
      "100%|██████████| 1/1 [00:00<00:00, 52.57it/s]"
     ]
    },
    {
     "name": "stdout",
     "output_type": "stream",
     "text": [
      "\n",
      "Wrote 1 elements to TFRecord\n"
     ]
    },
    {
     "name": "stderr",
     "output_type": "stream",
     "text": [
      "\n"
     ]
    },
    {
     "name": "stdout",
     "output_type": "stream",
     "text": [
      "MYD021KM-A2018094.1745\n",
      "(1, 512, 1024)\n",
      "(1, 512, 1024, 8)\n",
      "\n",
      "Using 1 shard(s) for 1 files, with up to 1 samples per shard\n"
     ]
    },
    {
     "name": "stderr",
     "output_type": "stream",
     "text": [
      "100%|██████████| 1/1 [00:00<00:00, 51.44it/s]"
     ]
    },
    {
     "name": "stdout",
     "output_type": "stream",
     "text": [
      "\n",
      "Wrote 1 elements to TFRecord\n"
     ]
    },
    {
     "name": "stderr",
     "output_type": "stream",
     "text": [
      "\n"
     ]
    },
    {
     "name": "stdout",
     "output_type": "stream",
     "text": [
      "MYD021KM-A2018094.0435\n",
      "(1, 512, 1024)\n",
      "(1, 512, 1024, 8)\n",
      "\n",
      "Using 1 shard(s) for 1 files, with up to 1 samples per shard\n"
     ]
    },
    {
     "name": "stderr",
     "output_type": "stream",
     "text": [
      "100%|██████████| 1/1 [00:00<00:00, 52.52it/s]"
     ]
    },
    {
     "name": "stdout",
     "output_type": "stream",
     "text": [
      "\n",
      "Wrote 1 elements to TFRecord\n"
     ]
    },
    {
     "name": "stderr",
     "output_type": "stream",
     "text": [
      "\n"
     ]
    },
    {
     "name": "stdout",
     "output_type": "stream",
     "text": [
      "MYD021KM-A2018094.2230\n",
      "(1, 512, 1024)\n",
      "(1, 512, 1024, 8)\n",
      "\n",
      "Using 1 shard(s) for 1 files, with up to 1 samples per shard\n"
     ]
    },
    {
     "name": "stderr",
     "output_type": "stream",
     "text": [
      "100%|██████████| 1/1 [00:00<00:00, 53.25it/s]"
     ]
    },
    {
     "name": "stdout",
     "output_type": "stream",
     "text": [
      "\n",
      "Wrote 1 elements to TFRecord\n"
     ]
    },
    {
     "name": "stderr",
     "output_type": "stream",
     "text": [
      "\n"
     ]
    },
    {
     "name": "stdout",
     "output_type": "stream",
     "text": [
      "MYD021KM-A2018094.0640\n",
      "MYD021KM-A2018094.2245\n",
      "(1, 512, 1024)\n",
      "(1, 512, 1024, 8)\n",
      "\n",
      "Using 1 shard(s) for 1 files, with up to 1 samples per shard\n"
     ]
    },
    {
     "name": "stderr",
     "output_type": "stream",
     "text": [
      "100%|██████████| 1/1 [00:00<00:00, 55.28it/s]"
     ]
    },
    {
     "name": "stdout",
     "output_type": "stream",
     "text": [
      "\n",
      "Wrote 1 elements to TFRecord\n"
     ]
    },
    {
     "name": "stderr",
     "output_type": "stream",
     "text": [
      "\n"
     ]
    },
    {
     "name": "stdout",
     "output_type": "stream",
     "text": [
      "MYD021KM-A2018094.1305\n",
      "MYD021KM-A2018094.0315\n",
      "MYD021KM-A2018094.2225\n",
      "(1, 512, 1024)\n",
      "(1, 512, 1024, 8)\n",
      "\n",
      "Using 1 shard(s) for 1 files, with up to 1 samples per shard\n"
     ]
    },
    {
     "name": "stderr",
     "output_type": "stream",
     "text": [
      "100%|██████████| 1/1 [00:00<00:00, 53.35it/s]"
     ]
    },
    {
     "name": "stdout",
     "output_type": "stream",
     "text": [
      "\n",
      "Wrote 1 elements to TFRecord\n"
     ]
    },
    {
     "name": "stderr",
     "output_type": "stream",
     "text": [
      "\n"
     ]
    },
    {
     "name": "stdout",
     "output_type": "stream",
     "text": [
      "MYD021KM-A2018094.1740\n",
      "(1, 512, 1024)\n",
      "(1, 512, 1024, 8)\n",
      "\n",
      "Using 1 shard(s) for 1 files, with up to 1 samples per shard\n"
     ]
    },
    {
     "name": "stderr",
     "output_type": "stream",
     "text": [
      "100%|██████████| 1/1 [00:00<00:00, 50.61it/s]"
     ]
    },
    {
     "name": "stdout",
     "output_type": "stream",
     "text": [
      "\n",
      "Wrote 1 elements to TFRecord\n"
     ]
    },
    {
     "name": "stderr",
     "output_type": "stream",
     "text": [
      "\n"
     ]
    },
    {
     "name": "stdout",
     "output_type": "stream",
     "text": [
      "MYD021KM-A2018094.1620\n",
      "MYD021KM-A2018094.1925\n",
      "(1, 512, 1024)\n",
      "(1, 512, 1024, 8)\n",
      "\n",
      "Using 1 shard(s) for 1 files, with up to 1 samples per shard\n"
     ]
    },
    {
     "name": "stderr",
     "output_type": "stream",
     "text": [
      "100%|██████████| 1/1 [00:00<00:00, 52.14it/s]"
     ]
    },
    {
     "name": "stdout",
     "output_type": "stream",
     "text": [
      "\n",
      "Wrote 1 elements to TFRecord\n"
     ]
    },
    {
     "name": "stderr",
     "output_type": "stream",
     "text": [
      "\n"
     ]
    },
    {
     "name": "stdout",
     "output_type": "stream",
     "text": [
      "MYD021KM-A2018094.0000\n",
      "MYD021KM-A2018094.0745\n",
      "(1, 512, 1024)\n",
      "(1, 512, 1024, 8)\n",
      "\n",
      "Using 1 shard(s) for 1 files, with up to 1 samples per shard\n"
     ]
    },
    {
     "name": "stderr",
     "output_type": "stream",
     "text": [
      "100%|██████████| 1/1 [00:00<00:00, 42.70it/s]"
     ]
    },
    {
     "name": "stdout",
     "output_type": "stream",
     "text": [
      "\n",
      "Wrote 1 elements to TFRecord\n"
     ]
    },
    {
     "name": "stderr",
     "output_type": "stream",
     "text": [
      "\n"
     ]
    },
    {
     "name": "stdout",
     "output_type": "stream",
     "text": [
      "MYD021KM-A2018094.0625\n",
      "MYD021KM-A2018094.1450\n",
      "MYD021KM-A2018094.0110\n",
      "(1, 512, 1024)\n",
      "(1, 512, 1024, 8)\n",
      "\n",
      "Using 1 shard(s) for 1 files, with up to 1 samples per shard\n"
     ]
    },
    {
     "name": "stderr",
     "output_type": "stream",
     "text": [
      "100%|██████████| 1/1 [00:00<00:00, 52.28it/s]"
     ]
    },
    {
     "name": "stdout",
     "output_type": "stream",
     "text": [
      "\n",
      "Wrote 1 elements to TFRecord\n"
     ]
    },
    {
     "name": "stderr",
     "output_type": "stream",
     "text": [
      "\n"
     ]
    },
    {
     "name": "stdout",
     "output_type": "stream",
     "text": [
      "MYD021KM-A2018094.0955\n",
      "MYD021KM-A2018094.2045\n",
      "(1, 512, 1024)\n",
      "(1, 512, 1024, 8)\n",
      "\n",
      "Using 1 shard(s) for 1 files, with up to 1 samples per shard\n"
     ]
    },
    {
     "name": "stderr",
     "output_type": "stream",
     "text": [
      "100%|██████████| 1/1 [00:00<00:00, 49.54it/s]"
     ]
    },
    {
     "name": "stdout",
     "output_type": "stream",
     "text": [
      "\n",
      "Wrote 1 elements to TFRecord\n"
     ]
    },
    {
     "name": "stderr",
     "output_type": "stream",
     "text": [
      "\n"
     ]
    },
    {
     "name": "stdout",
     "output_type": "stream",
     "text": [
      "MYD021KM-A2018094.2220\n",
      "(1, 512, 1024)\n",
      "(1, 512, 1024, 8)\n",
      "\n",
      "Using 1 shard(s) for 1 files, with up to 1 samples per shard\n"
     ]
    },
    {
     "name": "stderr",
     "output_type": "stream",
     "text": [
      "100%|██████████| 1/1 [00:00<00:00, 47.61it/s]"
     ]
    },
    {
     "name": "stdout",
     "output_type": "stream",
     "text": [
      "\n",
      "Wrote 1 elements to TFRecord\n"
     ]
    },
    {
     "name": "stderr",
     "output_type": "stream",
     "text": [
      "\n"
     ]
    },
    {
     "name": "stdout",
     "output_type": "stream",
     "text": [
      "MYD021KM-A2018094.1430\n",
      "(1, 512, 1024)\n",
      "(1, 512, 1024, 8)\n",
      "\n",
      "Using 1 shard(s) for 1 files, with up to 1 samples per shard\n"
     ]
    },
    {
     "name": "stderr",
     "output_type": "stream",
     "text": [
      "100%|██████████| 1/1 [00:00<00:00, 49.22it/s]"
     ]
    },
    {
     "name": "stdout",
     "output_type": "stream",
     "text": [
      "\n",
      "Wrote 1 elements to TFRecord\n"
     ]
    },
    {
     "name": "stderr",
     "output_type": "stream",
     "text": [
      "\n"
     ]
    },
    {
     "name": "stdout",
     "output_type": "stream",
     "text": [
      "MYD021KM-A2018105.0925\n",
      "MYD021KM-A2018105.1230\n",
      "(1, 512, 1024)\n",
      "(1, 512, 1024, 8)\n",
      "\n",
      "Using 1 shard(s) for 1 files, with up to 1 samples per shard\n"
     ]
    },
    {
     "name": "stderr",
     "output_type": "stream",
     "text": [
      "100%|██████████| 1/1 [00:00<00:00, 52.02it/s]"
     ]
    },
    {
     "name": "stdout",
     "output_type": "stream",
     "text": [
      "\n",
      "Wrote 1 elements to TFRecord\n"
     ]
    },
    {
     "name": "stderr",
     "output_type": "stream",
     "text": [
      "\n"
     ]
    },
    {
     "name": "stdout",
     "output_type": "stream",
     "text": [
      "MYD021KM-A2018105.0220\n",
      "(1, 512, 1024)\n",
      "(1, 512, 1024, 8)\n",
      "\n",
      "Using 1 shard(s) for 1 files, with up to 1 samples per shard\n"
     ]
    },
    {
     "name": "stderr",
     "output_type": "stream",
     "text": [
      "100%|██████████| 1/1 [00:00<00:00, 54.96it/s]"
     ]
    },
    {
     "name": "stdout",
     "output_type": "stream",
     "text": [
      "\n",
      "Wrote 1 elements to TFRecord\n"
     ]
    },
    {
     "name": "stderr",
     "output_type": "stream",
     "text": [
      "\n"
     ]
    },
    {
     "name": "stdout",
     "output_type": "stream",
     "text": [
      "MYD021KM-A2018105.2035\n",
      "(1, 512, 1024)\n",
      "(1, 512, 1024, 8)\n",
      "\n",
      "Using 1 shard(s) for 1 files, with up to 1 samples per shard\n"
     ]
    },
    {
     "name": "stderr",
     "output_type": "stream",
     "text": [
      "100%|██████████| 1/1 [00:00<00:00, 51.27it/s]"
     ]
    },
    {
     "name": "stdout",
     "output_type": "stream",
     "text": [
      "\n",
      "Wrote 1 elements to TFRecord\n"
     ]
    },
    {
     "name": "stderr",
     "output_type": "stream",
     "text": [
      "\n"
     ]
    },
    {
     "name": "stdout",
     "output_type": "stream",
     "text": [
      "MYD021KM-A2018105.0935\n",
      "MYD021KM-A2018105.0440\n",
      "MYD021KM-A2018105.0600\n",
      "MYD021KM-A2018105.1715\n",
      "(1, 512, 1024)\n",
      "(1, 512, 1024, 8)\n",
      "\n",
      "Using 1 shard(s) for 1 files, with up to 1 samples per shard\n"
     ]
    },
    {
     "name": "stderr",
     "output_type": "stream",
     "text": [
      "100%|██████████| 1/1 [00:00<00:00, 51.02it/s]"
     ]
    },
    {
     "name": "stdout",
     "output_type": "stream",
     "text": [
      "\n",
      "Wrote 1 elements to TFRecord\n"
     ]
    },
    {
     "name": "stderr",
     "output_type": "stream",
     "text": [
      "\n"
     ]
    },
    {
     "name": "stdout",
     "output_type": "stream",
     "text": [
      "MYD021KM-A2018105.0855\n",
      "(1, 512, 1024)\n",
      "(1, 512, 1024, 8)\n",
      "\n",
      "Using 1 shard(s) for 1 files, with up to 1 samples per shard\n"
     ]
    },
    {
     "name": "stderr",
     "output_type": "stream",
     "text": [
      "100%|██████████| 1/1 [00:00<00:00, 53.45it/s]"
     ]
    },
    {
     "name": "stdout",
     "output_type": "stream",
     "text": [
      "\n",
      "Wrote 1 elements to TFRecord\n"
     ]
    },
    {
     "name": "stderr",
     "output_type": "stream",
     "text": [
      "\n"
     ]
    },
    {
     "name": "stdout",
     "output_type": "stream",
     "text": [
      "MYD021KM-A2018105.0115\n",
      "MYD021KM-A2018105.2055\n",
      "MYD021KM-A2018105.0400\n",
      "(1, 512, 1024)\n",
      "(1, 512, 1024, 8)\n",
      "\n",
      "Using 1 shard(s) for 1 files, with up to 1 samples per shard\n"
     ]
    },
    {
     "name": "stderr",
     "output_type": "stream",
     "text": [
      "100%|██████████| 1/1 [00:00<00:00, 52.23it/s]"
     ]
    },
    {
     "name": "stdout",
     "output_type": "stream",
     "text": [
      "\n",
      "Wrote 1 elements to TFRecord\n"
     ]
    },
    {
     "name": "stderr",
     "output_type": "stream",
     "text": [
      "\n"
     ]
    },
    {
     "name": "stdout",
     "output_type": "stream",
     "text": [
      "MYD021KM-A2018105.1030\n",
      "(1, 512, 1024)\n",
      "(1, 512, 1024, 8)\n",
      "\n",
      "Using 1 shard(s) for 1 files, with up to 1 samples per shard\n"
     ]
    },
    {
     "name": "stderr",
     "output_type": "stream",
     "text": [
      "100%|██████████| 1/1 [00:00<00:00, 52.24it/s]"
     ]
    },
    {
     "name": "stdout",
     "output_type": "stream",
     "text": [
      "\n",
      "Wrote 1 elements to TFRecord\n"
     ]
    },
    {
     "name": "stderr",
     "output_type": "stream",
     "text": [
      "\n"
     ]
    },
    {
     "name": "stdout",
     "output_type": "stream",
     "text": [
      "MYD021KM-A2018105.0055\n",
      "(1, 512, 1024)\n",
      "(1, 512, 1024, 8)\n",
      "\n",
      "Using 1 shard(s) for 1 files, with up to 1 samples per shard\n"
     ]
    },
    {
     "name": "stderr",
     "output_type": "stream",
     "text": [
      "100%|██████████| 1/1 [00:00<00:00, 48.34it/s]"
     ]
    },
    {
     "name": "stdout",
     "output_type": "stream",
     "text": [
      "\n",
      "Wrote 1 elements to TFRecord\n"
     ]
    },
    {
     "name": "stderr",
     "output_type": "stream",
     "text": [
      "\n"
     ]
    },
    {
     "name": "stdout",
     "output_type": "stream",
     "text": [
      "MYD021KM-A2018105.2240\n",
      "MYD021KM-A2018105.0215\n",
      "MYD021KM-A2018105.0540\n",
      "(1, 512, 1024)\n",
      "(1, 512, 1024, 8)\n",
      "\n",
      "Using 1 shard(s) for 1 files, with up to 1 samples per shard\n"
     ]
    },
    {
     "name": "stderr",
     "output_type": "stream",
     "text": [
      "100%|██████████| 1/1 [00:00<00:00, 51.76it/s]"
     ]
    },
    {
     "name": "stdout",
     "output_type": "stream",
     "text": [
      "\n",
      "Wrote 1 elements to TFRecord\n"
     ]
    },
    {
     "name": "stderr",
     "output_type": "stream",
     "text": [
      "\n"
     ]
    },
    {
     "name": "stdout",
     "output_type": "stream",
     "text": [
      "MYD021KM-A2018105.0725\n",
      "MYD021KM-A2018105.1110\n",
      "MYD021KM-A2018105.0910\n",
      "(1, 512, 1024)\n",
      "(1, 512, 1024, 8)\n",
      "\n",
      "Using 1 shard(s) for 1 files, with up to 1 samples per shard\n"
     ]
    },
    {
     "name": "stderr",
     "output_type": "stream",
     "text": [
      "100%|██████████| 1/1 [00:00<00:00, 53.36it/s]"
     ]
    },
    {
     "name": "stdout",
     "output_type": "stream",
     "text": [
      "\n",
      "Wrote 1 elements to TFRecord\n"
     ]
    },
    {
     "name": "stderr",
     "output_type": "stream",
     "text": [
      "\n"
     ]
    },
    {
     "name": "stdout",
     "output_type": "stream",
     "text": [
      "MYD021KM-A2018105.0930\n",
      "MYD021KM-A2018105.1410\n",
      "(1, 512, 1024)\n",
      "(1, 512, 1024, 8)\n",
      "\n",
      "Using 1 shard(s) for 1 files, with up to 1 samples per shard\n"
     ]
    },
    {
     "name": "stderr",
     "output_type": "stream",
     "text": [
      "100%|██████████| 1/1 [00:00<00:00, 54.42it/s]"
     ]
    },
    {
     "name": "stdout",
     "output_type": "stream",
     "text": [
      "\n",
      "Wrote 1 elements to TFRecord\n"
     ]
    },
    {
     "name": "stderr",
     "output_type": "stream",
     "text": [
      "\n"
     ]
    },
    {
     "name": "stdout",
     "output_type": "stream",
     "text": [
      "MYD021KM-A2018105.1905\n",
      "(1, 512, 1024)\n",
      "(1, 512, 1024, 8)\n",
      "\n",
      "Using 1 shard(s) for 1 files, with up to 1 samples per shard\n"
     ]
    },
    {
     "name": "stderr",
     "output_type": "stream",
     "text": [
      "100%|██████████| 1/1 [00:00<00:00, 54.04it/s]"
     ]
    },
    {
     "name": "stdout",
     "output_type": "stream",
     "text": [
      "\n",
      "Wrote 1 elements to TFRecord\n"
     ]
    },
    {
     "name": "stderr",
     "output_type": "stream",
     "text": [
      "\n"
     ]
    },
    {
     "name": "stdout",
     "output_type": "stream",
     "text": [
      "MYD021KM-A2018105.1845\n",
      "(1, 512, 1024)\n",
      "(1, 512, 1024, 8)\n",
      "\n",
      "Using 1 shard(s) for 1 files, with up to 1 samples per shard\n"
     ]
    },
    {
     "name": "stderr",
     "output_type": "stream",
     "text": [
      "100%|██████████| 1/1 [00:00<00:00, 52.43it/s]"
     ]
    },
    {
     "name": "stdout",
     "output_type": "stream",
     "text": [
      "\n",
      "Wrote 1 elements to TFRecord\n"
     ]
    },
    {
     "name": "stderr",
     "output_type": "stream",
     "text": [
      "\n"
     ]
    },
    {
     "name": "stdout",
     "output_type": "stream",
     "text": [
      "MYD021KM-A2018105.2340\n",
      "MYD021KM-A2018105.0100\n",
      "(1, 512, 1024)\n",
      "(1, 512, 1024, 8)\n",
      "\n",
      "Using 1 shard(s) for 1 files, with up to 1 samples per shard\n"
     ]
    },
    {
     "name": "stderr",
     "output_type": "stream",
     "text": [
      "100%|██████████| 1/1 [00:00<00:00, 49.93it/s]"
     ]
    },
    {
     "name": "stdout",
     "output_type": "stream",
     "text": [
      "\n",
      "Wrote 1 elements to TFRecord\n"
     ]
    },
    {
     "name": "stderr",
     "output_type": "stream",
     "text": [
      "\n"
     ]
    },
    {
     "name": "stdout",
     "output_type": "stream",
     "text": [
      "MYD021KM-A2018105.2215\n",
      "(1, 512, 1024)\n",
      "(1, 512, 1024, 8)\n",
      "\n",
      "Using 1 shard(s) for 1 files, with up to 1 samples per shard\n"
     ]
    },
    {
     "name": "stderr",
     "output_type": "stream",
     "text": [
      "100%|██████████| 1/1 [00:00<00:00, 55.67it/s]"
     ]
    },
    {
     "name": "stdout",
     "output_type": "stream",
     "text": [
      "\n",
      "Wrote 1 elements to TFRecord\n"
     ]
    },
    {
     "name": "stderr",
     "output_type": "stream",
     "text": [
      "\n"
     ]
    },
    {
     "name": "stdout",
     "output_type": "stream",
     "text": [
      "MYD021KM-A2018105.0255\n",
      "MYD021KM-A2018105.1915\n",
      "MYD021KM-A2018105.1535\n",
      "(1, 512, 1024)\n",
      "(1, 512, 1024, 8)\n",
      "\n",
      "Using 1 shard(s) for 1 files, with up to 1 samples per shard\n"
     ]
    },
    {
     "name": "stderr",
     "output_type": "stream",
     "text": [
      "100%|██████████| 1/1 [00:00<00:00, 53.84it/s]"
     ]
    },
    {
     "name": "stdout",
     "output_type": "stream",
     "text": [
      "\n",
      "Wrote 1 elements to TFRecord\n"
     ]
    },
    {
     "name": "stderr",
     "output_type": "stream",
     "text": [
      "\n"
     ]
    },
    {
     "name": "stdout",
     "output_type": "stream",
     "text": [
      "MYD021KM-A2018105.2110\n",
      "MYD021KM-A2018105.0720\n",
      "(1, 512, 1024)\n",
      "(1, 512, 1024, 8)\n",
      "\n",
      "Using 1 shard(s) for 1 files, with up to 1 samples per shard\n"
     ]
    },
    {
     "name": "stderr",
     "output_type": "stream",
     "text": [
      "100%|██████████| 1/1 [00:00<00:00, 53.20it/s]"
     ]
    },
    {
     "name": "stdout",
     "output_type": "stream",
     "text": [
      "\n",
      "Wrote 1 elements to TFRecord\n"
     ]
    },
    {
     "name": "stderr",
     "output_type": "stream",
     "text": [
      "\n"
     ]
    },
    {
     "name": "stdout",
     "output_type": "stream",
     "text": [
      "MYD021KM-A2018105.1405\n",
      "(1, 512, 1024)\n",
      "(1, 512, 1024, 8)\n",
      "\n",
      "Using 1 shard(s) for 1 files, with up to 1 samples per shard\n"
     ]
    },
    {
     "name": "stderr",
     "output_type": "stream",
     "text": [
      "100%|██████████| 1/1 [00:00<00:00, 53.21it/s]"
     ]
    },
    {
     "name": "stdout",
     "output_type": "stream",
     "text": [
      "\n",
      "Wrote 1 elements to TFRecord\n"
     ]
    },
    {
     "name": "stderr",
     "output_type": "stream",
     "text": [
      "\n"
     ]
    },
    {
     "name": "stdout",
     "output_type": "stream",
     "text": [
      "MYD021KM-A2018105.0920\n",
      "MYD021KM-A2018105.0735\n",
      "(1, 512, 1024)\n",
      "(1, 512, 1024, 8)\n",
      "\n",
      "Using 1 shard(s) for 1 files, with up to 1 samples per shard\n"
     ]
    },
    {
     "name": "stderr",
     "output_type": "stream",
     "text": [
      "100%|██████████| 1/1 [00:00<00:00, 54.42it/s]"
     ]
    },
    {
     "name": "stdout",
     "output_type": "stream",
     "text": [
      "\n",
      "Wrote 1 elements to TFRecord\n"
     ]
    },
    {
     "name": "stderr",
     "output_type": "stream",
     "text": [
      "\n"
     ]
    },
    {
     "name": "stdout",
     "output_type": "stream",
     "text": [
      "MYD021KM-A2018105.1610\n",
      "MYD021KM-A2018105.0125\n",
      "MYD021KM-A2018105.2230\n",
      "MYD021KM-A2018105.0730\n",
      "(1, 512, 1024)\n",
      "(1, 512, 1024, 8)\n",
      "\n",
      "Using 1 shard(s) for 1 files, with up to 1 samples per shard\n"
     ]
    },
    {
     "name": "stderr",
     "output_type": "stream",
     "text": [
      "100%|██████████| 1/1 [00:00<00:00, 52.03it/s]"
     ]
    },
    {
     "name": "stdout",
     "output_type": "stream",
     "text": [
      "\n",
      "Wrote 1 elements to TFRecord\n"
     ]
    },
    {
     "name": "stderr",
     "output_type": "stream",
     "text": [
      "\n"
     ]
    },
    {
     "name": "stdout",
     "output_type": "stream",
     "text": [
      "MYD021KM-A2018105.1730\n",
      "(1, 512, 1024)\n",
      "(1, 512, 1024, 8)\n",
      "\n",
      "Using 1 shard(s) for 1 files, with up to 1 samples per shard\n"
     ]
    },
    {
     "name": "stderr",
     "output_type": "stream",
     "text": [
      "100%|██████████| 1/1 [00:00<00:00, 49.34it/s]"
     ]
    },
    {
     "name": "stdout",
     "output_type": "stream",
     "text": [
      "\n",
      "Wrote 1 elements to TFRecord\n"
     ]
    },
    {
     "name": "stderr",
     "output_type": "stream",
     "text": [
      "\n"
     ]
    },
    {
     "name": "stdout",
     "output_type": "stream",
     "text": [
      "MYD021KM-A2018105.0045\n",
      "(1, 512, 1024)\n",
      "(1, 512, 1024, 8)\n",
      "\n",
      "Using 1 shard(s) for 1 files, with up to 1 samples per shard\n"
     ]
    },
    {
     "name": "stderr",
     "output_type": "stream",
     "text": [
      "100%|██████████| 1/1 [00:00<00:00, 52.83it/s]"
     ]
    },
    {
     "name": "stdout",
     "output_type": "stream",
     "text": [
      "\n",
      "Wrote 1 elements to TFRecord\n"
     ]
    },
    {
     "name": "stderr",
     "output_type": "stream",
     "text": [
      "\n"
     ]
    },
    {
     "name": "stdout",
     "output_type": "stream",
     "text": [
      "MYD021KM-A2018105.1545\n",
      "(1, 512, 1024)\n",
      "(1, 512, 1024, 8)\n",
      "\n",
      "Using 1 shard(s) for 1 files, with up to 1 samples per shard\n"
     ]
    },
    {
     "name": "stderr",
     "output_type": "stream",
     "text": [
      "100%|██████████| 1/1 [00:00<00:00, 51.13it/s]"
     ]
    },
    {
     "name": "stdout",
     "output_type": "stream",
     "text": [
      "\n",
      "Wrote 1 elements to TFRecord\n"
     ]
    },
    {
     "name": "stderr",
     "output_type": "stream",
     "text": [
      "\n"
     ]
    },
    {
     "name": "stdout",
     "output_type": "stream",
     "text": [
      "MYD021KM-A2018105.2210\n",
      "(1, 512, 1024)\n",
      "(1, 512, 1024, 8)\n",
      "\n",
      "Using 1 shard(s) for 1 files, with up to 1 samples per shard\n"
     ]
    },
    {
     "name": "stderr",
     "output_type": "stream",
     "text": [
      "100%|██████████| 1/1 [00:00<00:00, 54.03it/s]"
     ]
    },
    {
     "name": "stdout",
     "output_type": "stream",
     "text": [
      "\n",
      "Wrote 1 elements to TFRecord\n"
     ]
    },
    {
     "name": "stderr",
     "output_type": "stream",
     "text": [
      "\n"
     ]
    },
    {
     "name": "stdout",
     "output_type": "stream",
     "text": [
      "MYD021KM-A2018105.0740\n",
      "MYD021KM-A2018105.1245\n",
      "MYD021KM-A2018105.1255\n",
      "MYD021KM-A2018105.0715\n",
      "MYD021KM-A2018105.2050\n",
      "MYD021KM-A2018105.1725\n",
      "(1, 512, 1024)\n",
      "(1, 512, 1024, 8)\n",
      "\n",
      "Using 1 shard(s) for 1 files, with up to 1 samples per shard\n"
     ]
    },
    {
     "name": "stderr",
     "output_type": "stream",
     "text": [
      "100%|██████████| 1/1 [00:00<00:00, 51.30it/s]"
     ]
    },
    {
     "name": "stdout",
     "output_type": "stream",
     "text": [
      "\n",
      "Wrote 1 elements to TFRecord\n"
     ]
    },
    {
     "name": "stderr",
     "output_type": "stream",
     "text": [
      "\n"
     ]
    },
    {
     "name": "stdout",
     "output_type": "stream",
     "text": [
      "MYD021KM-A2018105.0750\n",
      "MYD021KM-A2018105.1910\n",
      "(1, 512, 1024)\n",
      "(1, 512, 1024, 8)\n",
      "\n",
      "Using 1 shard(s) for 1 files, with up to 1 samples per shard\n"
     ]
    },
    {
     "name": "stderr",
     "output_type": "stream",
     "text": [
      "100%|██████████| 1/1 [00:00<00:00, 50.83it/s]"
     ]
    },
    {
     "name": "stdout",
     "output_type": "stream",
     "text": [
      "\n",
      "Wrote 1 elements to TFRecord\n"
     ]
    },
    {
     "name": "stderr",
     "output_type": "stream",
     "text": [
      "\n"
     ]
    },
    {
     "name": "stdout",
     "output_type": "stream",
     "text": [
      "MYD021KM-A2018105.0420\n",
      "(1, 512, 1024)\n",
      "(1, 512, 1024, 8)\n",
      "\n",
      "Using 1 shard(s) for 1 files, with up to 1 samples per shard\n"
     ]
    },
    {
     "name": "stderr",
     "output_type": "stream",
     "text": [
      "100%|██████████| 1/1 [00:00<00:00, 53.00it/s]"
     ]
    },
    {
     "name": "stdout",
     "output_type": "stream",
     "text": [
      "\n",
      "Wrote 1 elements to TFRecord\n"
     ]
    },
    {
     "name": "stderr",
     "output_type": "stream",
     "text": [
      "\n"
     ]
    },
    {
     "name": "stdout",
     "output_type": "stream",
     "text": [
      "MYD021KM-A2018105.2115\n",
      "MYD021KM-A2018105.0615\n",
      "MYD021KM-A2018105.1235\n",
      "(1, 512, 1024)\n",
      "(1, 512, 1024, 8)\n",
      "\n",
      "Using 1 shard(s) for 1 files, with up to 1 samples per shard\n"
     ]
    },
    {
     "name": "stderr",
     "output_type": "stream",
     "text": [
      "100%|██████████| 1/1 [00:00<00:00, 50.06it/s]"
     ]
    },
    {
     "name": "stdout",
     "output_type": "stream",
     "text": [
      "\n",
      "Wrote 1 elements to TFRecord\n"
     ]
    },
    {
     "name": "stderr",
     "output_type": "stream",
     "text": [
      "\n"
     ]
    },
    {
     "name": "stdout",
     "output_type": "stream",
     "text": [
      "MYD021KM-A2018105.0900\n",
      "MYD021KM-A2018105.0300\n",
      "MYD021KM-A2018105.0620\n",
      "MYD021KM-A2018105.2045\n",
      "(1, 512, 1024)\n",
      "(1, 512, 1024, 8)\n",
      "\n",
      "Using 1 shard(s) for 1 files, with up to 1 samples per shard\n"
     ]
    },
    {
     "name": "stderr",
     "output_type": "stream",
     "text": [
      "100%|██████████| 1/1 [00:00<00:00, 34.02it/s]"
     ]
    },
    {
     "name": "stdout",
     "output_type": "stream",
     "text": [
      "\n",
      "Wrote 1 elements to TFRecord\n"
     ]
    },
    {
     "name": "stderr",
     "output_type": "stream",
     "text": [
      "\n"
     ]
    },
    {
     "name": "stdout",
     "output_type": "stream",
     "text": [
      "MYD021KM-A2018105.1850\n",
      "(1, 512, 1024)\n",
      "(1, 512, 1024, 8)\n",
      "\n",
      "Using 1 shard(s) for 1 files, with up to 1 samples per shard\n"
     ]
    },
    {
     "name": "stderr",
     "output_type": "stream",
     "text": [
      "100%|██████████| 1/1 [00:00<00:00, 52.34it/s]"
     ]
    },
    {
     "name": "stdout",
     "output_type": "stream",
     "text": [
      "\n",
      "Wrote 1 elements to TFRecord\n"
     ]
    },
    {
     "name": "stderr",
     "output_type": "stream",
     "text": [
      "\n"
     ]
    },
    {
     "name": "stdout",
     "output_type": "stream",
     "text": [
      "MYD021KM-A2018105.1740\n",
      "MYD021KM-A2018105.1250\n",
      "MYD021KM-A2018105.1755\n",
      "MYD021KM-A2018105.0240\n",
      "(1, 512, 1024)\n",
      "(1, 512, 1024, 8)\n",
      "\n",
      "Using 1 shard(s) for 1 files, with up to 1 samples per shard\n"
     ]
    },
    {
     "name": "stderr",
     "output_type": "stream",
     "text": [
      "100%|██████████| 1/1 [00:00<00:00, 52.19it/s]"
     ]
    },
    {
     "name": "stdout",
     "output_type": "stream",
     "text": [
      "\n",
      "Wrote 1 elements to TFRecord\n"
     ]
    },
    {
     "name": "stderr",
     "output_type": "stream",
     "text": [
      "\n"
     ]
    },
    {
     "name": "stdout",
     "output_type": "stream",
     "text": [
      "MYD021KM-A2018105.1240\n",
      "MYD021KM-A2018105.1055\n",
      "(1, 512, 1024)\n",
      "(1, 512, 1024, 8)\n",
      "\n",
      "Using 1 shard(s) for 1 files, with up to 1 samples per shard\n"
     ]
    },
    {
     "name": "stderr",
     "output_type": "stream",
     "text": [
      "100%|██████████| 1/1 [00:00<00:00, 54.64it/s]"
     ]
    },
    {
     "name": "stdout",
     "output_type": "stream",
     "text": [
      "\n",
      "Wrote 1 elements to TFRecord\n"
     ]
    },
    {
     "name": "stderr",
     "output_type": "stream",
     "text": [
      "\n"
     ]
    },
    {
     "name": "stdout",
     "output_type": "stream",
     "text": [
      "MYD021KM-A2018105.0355\n",
      "(1, 512, 1024)\n",
      "(1, 512, 1024, 8)\n",
      "\n",
      "Using 1 shard(s) for 1 files, with up to 1 samples per shard\n"
     ]
    },
    {
     "name": "stderr",
     "output_type": "stream",
     "text": [
      "100%|██████████| 1/1 [00:00<00:00, 48.52it/s]"
     ]
    },
    {
     "name": "stdout",
     "output_type": "stream",
     "text": [
      "\n",
      "Wrote 1 elements to TFRecord\n"
     ]
    },
    {
     "name": "stderr",
     "output_type": "stream",
     "text": [
      "\n"
     ]
    },
    {
     "name": "stdout",
     "output_type": "stream",
     "text": [
      "MYD021KM-A2018105.0430\n",
      "MYD021KM-A2018105.1115\n",
      "MYD021KM-A2018105.1045\n",
      "MYD021KM-A2018105.1705\n",
      "(1, 512, 1024)\n",
      "(1, 512, 1024, 8)\n",
      "\n",
      "Using 1 shard(s) for 1 files, with up to 1 samples per shard\n"
     ]
    },
    {
     "name": "stderr",
     "output_type": "stream",
     "text": [
      "100%|██████████| 1/1 [00:00<00:00, 54.54it/s]"
     ]
    },
    {
     "name": "stdout",
     "output_type": "stream",
     "text": [
      "\n",
      "Wrote 1 elements to TFRecord\n"
     ]
    },
    {
     "name": "stderr",
     "output_type": "stream",
     "text": [
      "\n"
     ]
    },
    {
     "name": "stdout",
     "output_type": "stream",
     "text": [
      "MYD021KM-A2018105.1435\n",
      "MYD021KM-A2018105.1935\n",
      "MYD021KM-A2018105.2235\n",
      "MYD021KM-A2018105.0755\n",
      "MYD021KM-A2018105.1855\n",
      "(1, 512, 1024)\n",
      "(1, 512, 1024, 8)\n",
      "\n",
      "Using 1 shard(s) for 1 files, with up to 1 samples per shard\n"
     ]
    },
    {
     "name": "stderr",
     "output_type": "stream",
     "text": [
      "100%|██████████| 1/1 [00:00<00:00, 52.55it/s]"
     ]
    },
    {
     "name": "stdout",
     "output_type": "stream",
     "text": [
      "\n",
      "Wrote 1 elements to TFRecord\n"
     ]
    },
    {
     "name": "stderr",
     "output_type": "stream",
     "text": [
      "\n"
     ]
    },
    {
     "name": "stdout",
     "output_type": "stream",
     "text": [
      "MYD021KM-A2018105.2355\n",
      "(1, 512, 1024)\n",
      "(1, 512, 1024, 8)\n",
      "\n",
      "Using 1 shard(s) for 1 files, with up to 1 samples per shard\n"
     ]
    },
    {
     "name": "stderr",
     "output_type": "stream",
     "text": [
      "100%|██████████| 1/1 [00:00<00:00, 55.30it/s]"
     ]
    },
    {
     "name": "stdout",
     "output_type": "stream",
     "text": [
      "\n",
      "Wrote 1 elements to TFRecord\n"
     ]
    },
    {
     "name": "stderr",
     "output_type": "stream",
     "text": [
      "\n"
     ]
    },
    {
     "name": "stdout",
     "output_type": "stream",
     "text": [
      "MYD021KM-A2018105.0250\n",
      "MYD021KM-A2018105.1050\n",
      "(1, 512, 1024)\n",
      "(1, 512, 1024, 8)\n",
      "\n",
      "Using 1 shard(s) for 1 files, with up to 1 samples per shard\n"
     ]
    },
    {
     "name": "stderr",
     "output_type": "stream",
     "text": [
      "100%|██████████| 1/1 [00:00<00:00, 52.13it/s]"
     ]
    },
    {
     "name": "stdout",
     "output_type": "stream",
     "text": [
      "\n",
      "Wrote 1 elements to TFRecord\n"
     ]
    },
    {
     "name": "stderr",
     "output_type": "stream",
     "text": [
      "\n"
     ]
    },
    {
     "name": "stdout",
     "output_type": "stream",
     "text": [
      "MYD021KM-A2018105.1930\n",
      "MYD021KM-A2018105.0425\n",
      "MYD021KM-A2018105.1215\n",
      "MYD021KM-A2018105.0800\n",
      "MYD021KM-A2018105.2250\n",
      "MYD021KM-A2018105.1710\n",
      "(1, 512, 1024)\n",
      "(1, 512, 1024, 8)\n",
      "\n",
      "Using 1 shard(s) for 1 files, with up to 1 samples per shard\n"
     ]
    },
    {
     "name": "stderr",
     "output_type": "stream",
     "text": [
      "100%|██████████| 1/1 [00:00<00:00, 51.76it/s]"
     ]
    },
    {
     "name": "stdout",
     "output_type": "stream",
     "text": [
      "\n",
      "Wrote 1 elements to TFRecord\n"
     ]
    },
    {
     "name": "stderr",
     "output_type": "stream",
     "text": [
      "\n"
     ]
    },
    {
     "name": "stdout",
     "output_type": "stream",
     "text": [
      "MYD021KM-A2018105.2225\n",
      "(1, 512, 1024)\n",
      "(1, 512, 1024, 8)\n",
      "\n",
      "Using 1 shard(s) for 1 files, with up to 1 samples per shard\n"
     ]
    },
    {
     "name": "stderr",
     "output_type": "stream",
     "text": [
      "100%|██████████| 1/1 [00:00<00:00, 53.29it/s]"
     ]
    },
    {
     "name": "stdout",
     "output_type": "stream",
     "text": [
      "\n",
      "Wrote 1 elements to TFRecord\n"
     ]
    },
    {
     "name": "stderr",
     "output_type": "stream",
     "text": [
      "\n"
     ]
    },
    {
     "name": "stdout",
     "output_type": "stream",
     "text": [
      "MYD021KM-A2018105.0745\n",
      "MYD021KM-A2018105.1225\n",
      "(1, 512, 1024)\n",
      "(1, 512, 1024, 8)\n",
      "\n",
      "Using 1 shard(s) for 1 files, with up to 1 samples per shard\n"
     ]
    },
    {
     "name": "stderr",
     "output_type": "stream",
     "text": [
      "100%|██████████| 1/1 [00:00<00:00, 51.63it/s]"
     ]
    },
    {
     "name": "stdout",
     "output_type": "stream",
     "text": [
      "\n",
      "Wrote 1 elements to TFRecord\n"
     ]
    },
    {
     "name": "stderr",
     "output_type": "stream",
     "text": [
      "\n"
     ]
    },
    {
     "name": "stdout",
     "output_type": "stream",
     "text": [
      "MYD021KM-A2018105.1300\n",
      "MYD021KM-A2018105.0415\n",
      "(1, 512, 1024)\n",
      "(1, 512, 1024, 8)\n",
      "\n",
      "Using 1 shard(s) for 1 files, with up to 1 samples per shard\n"
     ]
    },
    {
     "name": "stderr",
     "output_type": "stream",
     "text": [
      "100%|██████████| 1/1 [00:00<00:00, 52.12it/s]"
     ]
    },
    {
     "name": "stdout",
     "output_type": "stream",
     "text": [
      "\n",
      "Wrote 1 elements to TFRecord\n"
     ]
    },
    {
     "name": "stderr",
     "output_type": "stream",
     "text": [
      "\n"
     ]
    },
    {
     "name": "stdout",
     "output_type": "stream",
     "text": [
      "MYD021KM-A2018105.2345\n",
      "(1, 512, 1024)\n",
      "(1, 512, 1024, 8)\n",
      "\n",
      "Using 1 shard(s) for 1 files, with up to 1 samples per shard\n"
     ]
    },
    {
     "name": "stderr",
     "output_type": "stream",
     "text": [
      "100%|██████████| 1/1 [00:00<00:00, 51.90it/s]"
     ]
    },
    {
     "name": "stdout",
     "output_type": "stream",
     "text": [
      "\n",
      "Wrote 1 elements to TFRecord\n"
     ]
    },
    {
     "name": "stderr",
     "output_type": "stream",
     "text": [
      "\n"
     ]
    },
    {
     "name": "stdout",
     "output_type": "stream",
     "text": [
      "MYD021KM-A2018105.1720\n",
      "(1, 512, 1024)\n",
      "(1, 512, 1024, 8)\n",
      "\n",
      "Using 1 shard(s) for 1 files, with up to 1 samples per shard\n"
     ]
    },
    {
     "name": "stderr",
     "output_type": "stream",
     "text": [
      "100%|██████████| 1/1 [00:00<00:00, 51.03it/s]"
     ]
    },
    {
     "name": "stdout",
     "output_type": "stream",
     "text": [
      "\n",
      "Wrote 1 elements to TFRecord\n"
     ]
    },
    {
     "name": "stderr",
     "output_type": "stream",
     "text": [
      "\n"
     ]
    },
    {
     "name": "stdout",
     "output_type": "stream",
     "text": [
      "MYD021KM-A2018105.2025\n",
      "(1, 512, 1024)\n",
      "(1, 512, 1024, 8)\n",
      "\n",
      "Using 1 shard(s) for 1 files, with up to 1 samples per shard\n"
     ]
    },
    {
     "name": "stderr",
     "output_type": "stream",
     "text": [
      "100%|██████████| 1/1 [00:00<00:00, 57.20it/s]"
     ]
    },
    {
     "name": "stdout",
     "output_type": "stream",
     "text": [
      "\n",
      "Wrote 1 elements to TFRecord\n"
     ]
    },
    {
     "name": "stderr",
     "output_type": "stream",
     "text": [
      "\n"
     ]
    },
    {
     "name": "stdout",
     "output_type": "stream",
     "text": [
      "MYD021KM-A2018105.0305\n",
      "MYD021KM-A2018105.0940\n",
      "MYD021KM-A2018105.0040\n",
      "(1, 512, 1024)\n",
      "(1, 512, 1024, 8)\n",
      "\n",
      "Using 1 shard(s) for 1 files, with up to 1 samples per shard\n"
     ]
    },
    {
     "name": "stderr",
     "output_type": "stream",
     "text": [
      "100%|██████████| 1/1 [00:00<00:00, 54.36it/s]"
     ]
    },
    {
     "name": "stdout",
     "output_type": "stream",
     "text": [
      "\n",
      "Wrote 1 elements to TFRecord\n"
     ]
    },
    {
     "name": "stderr",
     "output_type": "stream",
     "text": [
      "\n"
     ]
    },
    {
     "name": "stdout",
     "output_type": "stream",
     "text": [
      "MYD021KM-A2018105.0120\n",
      "MYD021KM-A2018105.0535\n",
      "(1, 512, 1024)\n",
      "(1, 512, 1024, 8)\n",
      "\n",
      "Using 1 shard(s) for 1 files, with up to 1 samples per shard\n"
     ]
    },
    {
     "name": "stderr",
     "output_type": "stream",
     "text": [
      "100%|██████████| 1/1 [00:00<00:00, 52.02it/s]"
     ]
    },
    {
     "name": "stdout",
     "output_type": "stream",
     "text": [
      "\n",
      "Wrote 1 elements to TFRecord\n"
     ]
    },
    {
     "name": "stderr",
     "output_type": "stream",
     "text": [
      "\n"
     ]
    },
    {
     "name": "stdout",
     "output_type": "stream",
     "text": [
      "MYD021KM-A2018105.0225\n",
      "(1, 512, 1024)\n",
      "(1, 512, 1024, 8)\n",
      "\n",
      "Using 1 shard(s) for 1 files, with up to 1 samples per shard\n"
     ]
    },
    {
     "name": "stderr",
     "output_type": "stream",
     "text": [
      "100%|██████████| 1/1 [00:00<00:00, 55.45it/s]"
     ]
    },
    {
     "name": "stdout",
     "output_type": "stream",
     "text": [
      "\n",
      "Wrote 1 elements to TFRecord\n"
     ]
    },
    {
     "name": "stderr",
     "output_type": "stream",
     "text": [
      "\n"
     ]
    },
    {
     "name": "stdout",
     "output_type": "stream",
     "text": [
      "MYD021KM-A2018105.2030\n",
      "MYD021KM-A2018105.0915\n",
      "(1, 512, 1024)\n",
      "(1, 512, 1024, 8)\n",
      "\n",
      "Using 1 shard(s) for 1 files, with up to 1 samples per shard\n"
     ]
    },
    {
     "name": "stderr",
     "output_type": "stream",
     "text": [
      "100%|██████████| 1/1 [00:00<00:00, 56.92it/s]"
     ]
    },
    {
     "name": "stdout",
     "output_type": "stream",
     "text": [
      "\n",
      "Wrote 1 elements to TFRecord\n"
     ]
    },
    {
     "name": "stderr",
     "output_type": "stream",
     "text": [
      "\n"
     ]
    },
    {
     "name": "stdout",
     "output_type": "stream",
     "text": [
      "MYD021KM-A2018105.1525\n",
      "(1, 512, 1024)\n",
      "(1, 512, 1024, 8)\n",
      "\n",
      "Using 1 shard(s) for 1 files, with up to 1 samples per shard\n"
     ]
    },
    {
     "name": "stderr",
     "output_type": "stream",
     "text": [
      "100%|██████████| 1/1 [00:00<00:00, 52.30it/s]"
     ]
    },
    {
     "name": "stdout",
     "output_type": "stream",
     "text": [
      "\n",
      "Wrote 1 elements to TFRecord\n"
     ]
    },
    {
     "name": "stderr",
     "output_type": "stream",
     "text": [
      "\n"
     ]
    },
    {
     "name": "stdout",
     "output_type": "stream",
     "text": [
      "MYD021KM-A2018105.0235\n",
      "(1, 512, 1024)\n",
      "(1, 512, 1024, 8)\n",
      "\n",
      "Using 1 shard(s) for 1 files, with up to 1 samples per shard\n"
     ]
    },
    {
     "name": "stderr",
     "output_type": "stream",
     "text": [
      "100%|██████████| 1/1 [00:00<00:00, 53.41it/s]"
     ]
    },
    {
     "name": "stdout",
     "output_type": "stream",
     "text": [
      "\n",
      "Wrote 1 elements to TFRecord\n"
     ]
    },
    {
     "name": "stderr",
     "output_type": "stream",
     "text": [
      "\n"
     ]
    },
    {
     "name": "stdout",
     "output_type": "stream",
     "text": [
      "MYD021KM-A2018105.1555\n",
      "MYD021KM-A2018105.2220\n",
      "(1, 512, 1024)\n",
      "(1, 512, 1024, 8)\n",
      "\n",
      "Using 1 shard(s) for 1 files, with up to 1 samples per shard\n"
     ]
    },
    {
     "name": "stderr",
     "output_type": "stream",
     "text": [
      "100%|██████████| 1/1 [00:00<00:00, 38.21it/s]"
     ]
    },
    {
     "name": "stdout",
     "output_type": "stream",
     "text": [
      "\n",
      "Wrote 1 elements to TFRecord\n"
     ]
    },
    {
     "name": "stderr",
     "output_type": "stream",
     "text": [
      "\n"
     ]
    },
    {
     "name": "stdout",
     "output_type": "stream",
     "text": [
      "MYD021KM-A2018105.1415\n",
      "MYD021KM-A2018105.1425\n",
      "MYD021KM-A2018105.2350\n",
      "(1, 512, 1024)\n",
      "(1, 512, 1024, 8)\n",
      "\n",
      "Using 1 shard(s) for 1 files, with up to 1 samples per shard\n"
     ]
    },
    {
     "name": "stderr",
     "output_type": "stream",
     "text": [
      "100%|██████████| 1/1 [00:00<00:00, 47.74it/s]"
     ]
    },
    {
     "name": "stdout",
     "output_type": "stream",
     "text": [
      "\n",
      "Wrote 1 elements to TFRecord\n"
     ]
    },
    {
     "name": "stderr",
     "output_type": "stream",
     "text": [
      "\n"
     ]
    },
    {
     "name": "stdout",
     "output_type": "stream",
     "text": [
      "MYD021KM-A2018105.0850\n",
      "(1, 512, 1024)\n",
      "(1, 512, 1024, 8)\n",
      "\n",
      "Using 1 shard(s) for 1 files, with up to 1 samples per shard\n"
     ]
    },
    {
     "name": "stderr",
     "output_type": "stream",
     "text": [
      "100%|██████████| 1/1 [00:00<00:00, 53.00it/s]"
     ]
    },
    {
     "name": "stdout",
     "output_type": "stream",
     "text": [
      "\n",
      "Wrote 1 elements to TFRecord\n"
     ]
    },
    {
     "name": "stderr",
     "output_type": "stream",
     "text": [
      "\n"
     ]
    },
    {
     "name": "stdout",
     "output_type": "stream",
     "text": [
      "MYD021KM-A2018105.1355\n",
      "MYD021KM-A2018105.1605\n",
      "MYD021KM-A2018105.1750\n",
      "MYD021KM-A2018105.0610\n",
      "MYD021KM-A2018105.1900\n",
      "(1, 512, 1024)\n",
      "(1, 512, 1024, 8)\n",
      "\n",
      "Using 1 shard(s) for 1 files, with up to 1 samples per shard\n"
     ]
    },
    {
     "name": "stderr",
     "output_type": "stream",
     "text": [
      "100%|██████████| 1/1 [00:00<00:00, 48.27it/s]"
     ]
    },
    {
     "name": "stdout",
     "output_type": "stream",
     "text": [
      "\n",
      "Wrote 1 elements to TFRecord\n"
     ]
    },
    {
     "name": "stderr",
     "output_type": "stream",
     "text": [
      "\n"
     ]
    },
    {
     "name": "stdout",
     "output_type": "stream",
     "text": [
      "MYD021KM-A2018105.1120\n",
      "MYD021KM-A2018105.0050\n",
      "(1, 512, 1024)\n",
      "(1, 512, 1024, 8)\n",
      "\n",
      "Using 1 shard(s) for 1 files, with up to 1 samples per shard\n"
     ]
    },
    {
     "name": "stderr",
     "output_type": "stream",
     "text": [
      "100%|██████████| 1/1 [00:00<00:00, 50.66it/s]"
     ]
    },
    {
     "name": "stdout",
     "output_type": "stream",
     "text": [
      "\n",
      "Wrote 1 elements to TFRecord\n"
     ]
    },
    {
     "name": "stderr",
     "output_type": "stream",
     "text": [
      "\n"
     ]
    },
    {
     "name": "stdout",
     "output_type": "stream",
     "text": [
      "MYD021KM-A2018105.0545\n",
      "(1, 512, 1024)\n",
      "(1, 512, 1024, 8)\n",
      "\n",
      "Using 1 shard(s) for 1 files, with up to 1 samples per shard\n"
     ]
    },
    {
     "name": "stderr",
     "output_type": "stream",
     "text": [
      "100%|██████████| 1/1 [00:00<00:00, 50.75it/s]"
     ]
    },
    {
     "name": "stdout",
     "output_type": "stream",
     "text": [
      "\n",
      "Wrote 1 elements to TFRecord\n"
     ]
    },
    {
     "name": "stderr",
     "output_type": "stream",
     "text": [
      "\n"
     ]
    },
    {
     "name": "stdout",
     "output_type": "stream",
     "text": [
      "MYD021KM-A2018105.1925\n",
      "MYD021KM-A2018105.1600\n",
      "MYD021KM-A2018105.2205\n",
      "(1, 512, 1024)\n",
      "(1, 512, 1024, 8)\n",
      "\n",
      "Using 1 shard(s) for 1 files, with up to 1 samples per shard\n"
     ]
    },
    {
     "name": "stderr",
     "output_type": "stream",
     "text": [
      "100%|██████████| 1/1 [00:00<00:00, 54.63it/s]"
     ]
    },
    {
     "name": "stdout",
     "output_type": "stream",
     "text": [
      "\n",
      "Wrote 1 elements to TFRecord\n"
     ]
    },
    {
     "name": "stderr",
     "output_type": "stream",
     "text": [
      "\n"
     ]
    },
    {
     "name": "stdout",
     "output_type": "stream",
     "text": [
      "MYD021KM-A2018105.1420\n",
      "MYD021KM-A2018105.1350\n",
      "MYD021KM-A2018105.0405\n",
      "(1, 512, 1024)\n",
      "(1, 512, 1024, 8)\n",
      "\n",
      "Using 1 shard(s) for 1 files, with up to 1 samples per shard\n"
     ]
    },
    {
     "name": "stderr",
     "output_type": "stream",
     "text": [
      "100%|██████████| 1/1 [00:00<00:00, 51.61it/s]"
     ]
    },
    {
     "name": "stdout",
     "output_type": "stream",
     "text": [
      "\n",
      "Wrote 1 elements to TFRecord\n"
     ]
    },
    {
     "name": "stderr",
     "output_type": "stream",
     "text": [
      "\n"
     ]
    },
    {
     "name": "stdout",
     "output_type": "stream",
     "text": [
      "MYD021KM-A2018105.0445\n",
      "MYD021KM-A2018105.0410\n",
      "(1, 512, 1024)\n",
      "(1, 512, 1024, 8)\n",
      "\n",
      "Using 1 shard(s) for 1 files, with up to 1 samples per shard\n"
     ]
    },
    {
     "name": "stderr",
     "output_type": "stream",
     "text": [
      "100%|██████████| 1/1 [00:00<00:00, 53.30it/s]"
     ]
    },
    {
     "name": "stdout",
     "output_type": "stream",
     "text": [
      "\n",
      "Wrote 1 elements to TFRecord\n"
     ]
    },
    {
     "name": "stderr",
     "output_type": "stream",
     "text": [
      "\n"
     ]
    },
    {
     "name": "stdout",
     "output_type": "stream",
     "text": [
      "MYD021KM-A2018105.1400\n",
      "MYD021KM-A2018105.1735\n",
      "MYD021KM-A2018105.0035\n",
      "(1, 512, 1024)\n",
      "(1, 512, 1024, 8)\n",
      "\n",
      "Using 1 shard(s) for 1 files, with up to 1 samples per shard\n"
     ]
    },
    {
     "name": "stderr",
     "output_type": "stream",
     "text": [
      "100%|██████████| 1/1 [00:00<00:00, 54.25it/s]"
     ]
    },
    {
     "name": "stdout",
     "output_type": "stream",
     "text": [
      "\n",
      "Wrote 1 elements to TFRecord\n"
     ]
    },
    {
     "name": "stderr",
     "output_type": "stream",
     "text": [
      "\n"
     ]
    },
    {
     "name": "stdout",
     "output_type": "stream",
     "text": [
      "MYD021KM-A2018105.0230\n",
      "(1, 512, 1024)\n",
      "(1, 512, 1024, 8)\n",
      "\n",
      "Using 1 shard(s) for 1 files, with up to 1 samples per shard\n"
     ]
    },
    {
     "name": "stderr",
     "output_type": "stream",
     "text": [
      "100%|██████████| 1/1 [00:00<00:00, 52.99it/s]"
     ]
    },
    {
     "name": "stdout",
     "output_type": "stream",
     "text": [
      "\n",
      "Wrote 1 elements to TFRecord\n"
     ]
    },
    {
     "name": "stderr",
     "output_type": "stream",
     "text": [
      "\n"
     ]
    },
    {
     "name": "stdout",
     "output_type": "stream",
     "text": [
      "MYD021KM-A2018105.0555\n",
      "(1, 512, 1024)\n",
      "(1, 512, 1024, 8)\n",
      "\n",
      "Using 1 shard(s) for 1 files, with up to 1 samples per shard\n"
     ]
    },
    {
     "name": "stderr",
     "output_type": "stream",
     "text": [
      "100%|██████████| 1/1 [00:00<00:00, 51.30it/s]"
     ]
    },
    {
     "name": "stdout",
     "output_type": "stream",
     "text": [
      "\n",
      "Wrote 1 elements to TFRecord\n"
     ]
    },
    {
     "name": "stderr",
     "output_type": "stream",
     "text": [
      "\n"
     ]
    },
    {
     "name": "stdout",
     "output_type": "stream",
     "text": [
      "MYD021KM-A2018105.1035\n",
      "MYD021KM-A2018105.1210\n",
      "MYD021KM-A2018105.1920\n",
      "MYD021KM-A2018105.1220\n",
      "(1, 512, 1024)\n",
      "(1, 512, 1024, 8)\n",
      "\n",
      "Using 1 shard(s) for 1 files, with up to 1 samples per shard\n"
     ]
    },
    {
     "name": "stderr",
     "output_type": "stream",
     "text": [
      "100%|██████████| 1/1 [00:00<00:00, 52.26it/s]"
     ]
    },
    {
     "name": "stdout",
     "output_type": "stream",
     "text": [
      "\n",
      "Wrote 1 elements to TFRecord\n"
     ]
    },
    {
     "name": "stderr",
     "output_type": "stream",
     "text": [
      "\n"
     ]
    },
    {
     "name": "stdout",
     "output_type": "stream",
     "text": [
      "MYD021KM-A2018105.1550\n",
      "(1, 512, 1024)\n",
      "(1, 512, 1024, 8)\n",
      "\n",
      "Using 1 shard(s) for 1 files, with up to 1 samples per shard\n"
     ]
    },
    {
     "name": "stderr",
     "output_type": "stream",
     "text": [
      "100%|██████████| 1/1 [00:00<00:00, 55.49it/s]"
     ]
    },
    {
     "name": "stdout",
     "output_type": "stream",
     "text": [
      "\n",
      "Wrote 1 elements to TFRecord\n"
     ]
    },
    {
     "name": "stderr",
     "output_type": "stream",
     "text": [
      "\n"
     ]
    },
    {
     "name": "stdout",
     "output_type": "stream",
     "text": [
      "MYD021KM-A2018105.1100\n",
      "MYD021KM-A2018105.1430\n",
      "MYD021KM-A2018105.0605\n",
      "MYD021KM-A2018105.0105\n",
      "MYD021KM-A2018105.0905\n",
      "(1, 512, 1024)\n",
      "(1, 512, 1024, 8)\n",
      "\n",
      "Using 1 shard(s) for 1 files, with up to 1 samples per shard\n"
     ]
    },
    {
     "name": "stderr",
     "output_type": "stream",
     "text": [
      "100%|██████████| 1/1 [00:00<00:00, 52.48it/s]"
     ]
    },
    {
     "name": "stdout",
     "output_type": "stream",
     "text": [
      "\n",
      "Wrote 1 elements to TFRecord\n"
     ]
    },
    {
     "name": "stderr",
     "output_type": "stream",
     "text": [
      "\n"
     ]
    },
    {
     "name": "stdout",
     "output_type": "stream",
     "text": [
      "MYD021KM-A2018105.1040\n",
      "(1, 512, 1024)\n",
      "(1, 512, 1024, 8)\n",
      "\n",
      "Using 1 shard(s) for 1 files, with up to 1 samples per shard\n"
     ]
    },
    {
     "name": "stderr",
     "output_type": "stream",
     "text": [
      "100%|██████████| 1/1 [00:00<00:00, 54.54it/s]"
     ]
    },
    {
     "name": "stdout",
     "output_type": "stream",
     "text": [
      "\n",
      "Wrote 1 elements to TFRecord\n"
     ]
    },
    {
     "name": "stderr",
     "output_type": "stream",
     "text": [
      "\n"
     ]
    },
    {
     "name": "stdout",
     "output_type": "stream",
     "text": [
      "MYD021KM-A2018105.2245\n",
      "MYD021KM-A2018105.0435\n",
      "MYD021KM-A2018105.1615\n",
      "MYD021KM-A2018105.2100\n",
      "MYD021KM-A2018105.0110\n",
      "MYD021KM-A2018105.1745\n",
      "MYD021KM-A2018105.0625\n",
      "MYD021KM-A2018105.1540\n",
      "(1, 512, 1024)\n",
      "(1, 512, 1024, 8)\n",
      "\n",
      "Using 1 shard(s) for 1 files, with up to 1 samples per shard\n"
     ]
    },
    {
     "name": "stderr",
     "output_type": "stream",
     "text": [
      "100%|██████████| 1/1 [00:00<00:00, 48.49it/s]"
     ]
    },
    {
     "name": "stdout",
     "output_type": "stream",
     "text": [
      "\n",
      "Wrote 1 elements to TFRecord\n"
     ]
    },
    {
     "name": "stderr",
     "output_type": "stream",
     "text": [
      "\n"
     ]
    },
    {
     "name": "stdout",
     "output_type": "stream",
     "text": [
      "MYD021KM-A2018105.0245\n",
      "MYD021KM-A2018105.2040\n",
      "(1, 512, 1024)\n",
      "(1, 512, 1024, 8)\n",
      "\n",
      "Using 1 shard(s) for 1 files, with up to 1 samples per shard\n"
     ]
    },
    {
     "name": "stderr",
     "output_type": "stream",
     "text": [
      "100%|██████████| 1/1 [00:00<00:00, 35.46it/s]"
     ]
    },
    {
     "name": "stdout",
     "output_type": "stream",
     "text": [
      "\n",
      "Wrote 1 elements to TFRecord\n"
     ]
    },
    {
     "name": "stderr",
     "output_type": "stream",
     "text": [
      "\n"
     ]
    },
    {
     "name": "stdout",
     "output_type": "stream",
     "text": [
      "MYD021KM-A2018105.1105\n",
      "MYD021KM-A2018105.0550\n",
      "(1, 512, 1024)\n",
      "(1, 512, 1024, 8)\n",
      "\n",
      "Using 1 shard(s) for 1 files, with up to 1 samples per shard\n"
     ]
    },
    {
     "name": "stderr",
     "output_type": "stream",
     "text": [
      "100%|██████████| 1/1 [00:00<00:00, 51.55it/s]"
     ]
    },
    {
     "name": "stdout",
     "output_type": "stream",
     "text": [
      "\n",
      "Wrote 1 elements to TFRecord\n"
     ]
    },
    {
     "name": "stderr",
     "output_type": "stream",
     "text": [
      "\n"
     ]
    },
    {
     "name": "stdout",
     "output_type": "stream",
     "text": [
      "MYD021KM-A2018105.2105\n",
      "MYD021KM-A2018105.1530\n",
      "(1, 512, 1024)\n",
      "(1, 512, 1024, 8)\n",
      "\n",
      "Using 1 shard(s) for 1 files, with up to 1 samples per shard\n"
     ]
    },
    {
     "name": "stderr",
     "output_type": "stream",
     "text": [
      "100%|██████████| 1/1 [00:00<00:00, 45.19it/s]"
     ]
    },
    {
     "name": "stdout",
     "output_type": "stream",
     "text": [
      "\n",
      "Wrote 1 elements to TFRecord\n"
     ]
    },
    {
     "name": "stderr",
     "output_type": "stream",
     "text": [
      "\n"
     ]
    },
    {
     "name": "stdout",
     "output_type": "stream",
     "text": [
      "MYD021KM-A2018092.1150\n",
      "MYD021KM-A2018092.1640\n",
      "MYD021KM-A2018092.0625\n",
      "(1, 512, 1024)\n",
      "(1, 512, 1024, 8)\n",
      "\n",
      "Using 1 shard(s) for 1 files, with up to 1 samples per shard\n"
     ]
    },
    {
     "name": "stderr",
     "output_type": "stream",
     "text": [
      "100%|██████████| 1/1 [00:00<00:00, 52.38it/s]"
     ]
    },
    {
     "name": "stdout",
     "output_type": "stream",
     "text": [
      "\n",
      "Wrote 1 elements to TFRecord\n"
     ]
    },
    {
     "name": "stderr",
     "output_type": "stream",
     "text": [
      "\n"
     ]
    },
    {
     "name": "stdout",
     "output_type": "stream",
     "text": [
      "MYD021KM-A2018092.0310\n",
      "(1, 512, 1024)\n",
      "(1, 512, 1024, 8)\n",
      "\n",
      "Using 1 shard(s) for 1 files, with up to 1 samples per shard\n"
     ]
    },
    {
     "name": "stderr",
     "output_type": "stream",
     "text": [
      "100%|██████████| 1/1 [00:00<00:00, 53.56it/s]"
     ]
    },
    {
     "name": "stdout",
     "output_type": "stream",
     "text": [
      "\n",
      "Wrote 1 elements to TFRecord\n"
     ]
    },
    {
     "name": "stderr",
     "output_type": "stream",
     "text": [
      "\n"
     ]
    },
    {
     "name": "stdout",
     "output_type": "stream",
     "text": [
      "MYD021KM-A2018092.1125\n",
      "(1, 512, 1024)\n",
      "(1, 512, 1024, 8)\n",
      "\n",
      "Using 1 shard(s) for 1 files, with up to 1 samples per shard\n"
     ]
    },
    {
     "name": "stderr",
     "output_type": "stream",
     "text": [
      "100%|██████████| 1/1 [00:00<00:00, 52.03it/s]"
     ]
    },
    {
     "name": "stdout",
     "output_type": "stream",
     "text": [
      "\n",
      "Wrote 1 elements to TFRecord\n"
     ]
    },
    {
     "name": "stderr",
     "output_type": "stream",
     "text": [
      "\n"
     ]
    },
    {
     "name": "stdout",
     "output_type": "stream",
     "text": [
      "MYD021KM-A2018092.0635\n",
      "MYD021KM-A2018092.1915\n",
      "(1, 512, 1024)\n",
      "(1, 512, 1024, 8)\n",
      "\n",
      "Using 1 shard(s) for 1 files, with up to 1 samples per shard\n"
     ]
    },
    {
     "name": "stderr",
     "output_type": "stream",
     "text": [
      "100%|██████████| 1/1 [00:00<00:00, 53.37it/s]"
     ]
    },
    {
     "name": "stdout",
     "output_type": "stream",
     "text": [
      "\n",
      "Wrote 1 elements to TFRecord\n"
     ]
    },
    {
     "name": "stderr",
     "output_type": "stream",
     "text": [
      "\n"
     ]
    },
    {
     "name": "stdout",
     "output_type": "stream",
     "text": [
      "MYD021KM-A2018092.2000\n",
      "MYD021KM-A2018092.2005\n",
      "MYD021KM-A2018092.0140\n",
      "MYD021KM-A2018092.2320\n",
      "MYD021KM-A2018092.2305\n",
      "MYD021KM-A2018092.1430\n",
      "(1, 512, 1024)\n",
      "(1, 512, 1024, 8)\n",
      "\n",
      "Using 1 shard(s) for 1 files, with up to 1 samples per shard\n"
     ]
    },
    {
     "name": "stderr",
     "output_type": "stream",
     "text": [
      "100%|██████████| 1/1 [00:00<00:00, 49.02it/s]"
     ]
    },
    {
     "name": "stdout",
     "output_type": "stream",
     "text": [
      "\n",
      "Wrote 1 elements to TFRecord\n"
     ]
    },
    {
     "name": "stderr",
     "output_type": "stream",
     "text": [
      "\n"
     ]
    },
    {
     "name": "stdout",
     "output_type": "stream",
     "text": [
      "MYD021KM-A2018092.1245\n",
      "(1, 512, 1024)\n",
      "(1, 512, 1024, 8)\n",
      "\n",
      "Using 1 shard(s) for 1 files, with up to 1 samples per shard\n"
     ]
    },
    {
     "name": "stderr",
     "output_type": "stream",
     "text": [
      "100%|██████████| 1/1 [00:00<00:00, 54.31it/s]"
     ]
    },
    {
     "name": "stdout",
     "output_type": "stream",
     "text": [
      "\n",
      "Wrote 1 elements to TFRecord\n"
     ]
    },
    {
     "name": "stderr",
     "output_type": "stream",
     "text": [
      "\n"
     ]
    },
    {
     "name": "stdout",
     "output_type": "stream",
     "text": [
      "MYD021KM-A2018092.0655\n",
      "MYD021KM-A2018092.1920\n",
      "(1, 512, 1024)\n",
      "(1, 512, 1024, 8)\n",
      "\n",
      "Using 1 shard(s) for 1 files, with up to 1 samples per shard\n"
     ]
    },
    {
     "name": "stderr",
     "output_type": "stream",
     "text": [
      "100%|██████████| 1/1 [00:00<00:00, 51.07it/s]"
     ]
    },
    {
     "name": "stdout",
     "output_type": "stream",
     "text": [
      "\n",
      "Wrote 1 elements to TFRecord\n"
     ]
    },
    {
     "name": "stderr",
     "output_type": "stream",
     "text": [
      "\n"
     ]
    },
    {
     "name": "stdout",
     "output_type": "stream",
     "text": [
      "MYD021KM-A2018092.1315\n",
      "MYD021KM-A2018092.1945\n",
      "MYD021KM-A2018092.1500\n",
      "MYD021KM-A2018092.0955\n",
      "MYD021KM-A2018092.0650\n",
      "MYD021KM-A2018092.0155\n",
      "MYD021KM-A2018092.0755\n",
      "(1, 512, 1024)\n",
      "(1, 512, 1024, 8)\n",
      "\n",
      "Using 1 shard(s) for 1 files, with up to 1 samples per shard\n"
     ]
    },
    {
     "name": "stderr",
     "output_type": "stream",
     "text": [
      "100%|██████████| 1/1 [00:00<00:00, 51.43it/s]"
     ]
    },
    {
     "name": "stdout",
     "output_type": "stream",
     "text": [
      "\n",
      "Wrote 1 elements to TFRecord\n"
     ]
    },
    {
     "name": "stderr",
     "output_type": "stream",
     "text": [
      "\n"
     ]
    },
    {
     "name": "stdout",
     "output_type": "stream",
     "text": [
      "MYD021KM-A2018092.0810\n",
      "MYD021KM-A2018092.1815\n",
      "MYD021KM-A2018092.0950\n",
      "MYD021KM-A2018092.2110\n",
      "(1, 512, 1024)\n",
      "(1, 512, 1024, 8)\n",
      "\n",
      "Using 1 shard(s) for 1 files, with up to 1 samples per shard\n"
     ]
    },
    {
     "name": "stderr",
     "output_type": "stream",
     "text": [
      "100%|██████████| 1/1 [00:00<00:00, 52.79it/s]"
     ]
    },
    {
     "name": "stdout",
     "output_type": "stream",
     "text": [
      "\n",
      "Wrote 1 elements to TFRecord\n"
     ]
    },
    {
     "name": "stderr",
     "output_type": "stream",
     "text": [
      "\n"
     ]
    },
    {
     "name": "stdout",
     "output_type": "stream",
     "text": [
      "MYD021KM-A2018092.0015\n",
      "MYD021KM-A2018092.0335\n",
      "MYD021KM-A2018092.1440\n",
      "MYD021KM-A2018092.1820\n",
      "MYD021KM-A2018092.1450\n",
      "MYD021KM-A2018092.1620\n",
      "(1, 512, 1024)\n",
      "(1, 512, 1024, 8)\n",
      "\n",
      "Using 1 shard(s) for 1 files, with up to 1 samples per shard\n"
     ]
    },
    {
     "name": "stderr",
     "output_type": "stream",
     "text": [
      "100%|██████████| 1/1 [00:00<00:00, 51.62it/s]"
     ]
    },
    {
     "name": "stdout",
     "output_type": "stream",
     "text": [
      "\n",
      "Wrote 1 elements to TFRecord\n"
     ]
    },
    {
     "name": "stderr",
     "output_type": "stream",
     "text": [
      "\n"
     ]
    },
    {
     "name": "stdout",
     "output_type": "stream",
     "text": [
      "MYD021KM-A2018092.1325\n",
      "MYD021KM-A2018092.0255\n",
      "(1, 512, 1024)\n",
      "(1, 512, 1024, 8)\n",
      "\n",
      "Using 1 shard(s) for 1 files, with up to 1 samples per shard\n"
     ]
    },
    {
     "name": "stderr",
     "output_type": "stream",
     "text": [
      "100%|██████████| 1/1 [00:00<00:00, 53.15it/s]"
     ]
    },
    {
     "name": "stdout",
     "output_type": "stream",
     "text": [
      "\n",
      "Wrote 1 elements to TFRecord\n"
     ]
    },
    {
     "name": "stderr",
     "output_type": "stream",
     "text": [
      "\n"
     ]
    },
    {
     "name": "stdout",
     "output_type": "stream",
     "text": [
      "MYD021KM-A2018092.1925\n",
      "(1, 512, 1024)\n",
      "(1, 512, 1024, 8)\n",
      "\n",
      "Using 1 shard(s) for 1 files, with up to 1 samples per shard\n"
     ]
    },
    {
     "name": "stderr",
     "output_type": "stream",
     "text": [
      "100%|██████████| 1/1 [00:00<00:00, 55.27it/s]"
     ]
    },
    {
     "name": "stdout",
     "output_type": "stream",
     "text": [
      "\n",
      "Wrote 1 elements to TFRecord\n"
     ]
    },
    {
     "name": "stderr",
     "output_type": "stream",
     "text": [
      "\n"
     ]
    },
    {
     "name": "stdout",
     "output_type": "stream",
     "text": [
      "MYD021KM-A2018092.2125\n",
      "MYD021KM-A2018092.0325\n",
      "MYD021KM-A2018092.0455\n",
      "MYD021KM-A2018092.1625\n",
      "MYD021KM-A2018092.0820\n",
      "MYD021KM-A2018092.0245\n",
      "(1, 512, 1024)\n",
      "(1, 512, 1024, 8)\n",
      "\n",
      "Using 1 shard(s) for 1 files, with up to 1 samples per shard\n"
     ]
    },
    {
     "name": "stderr",
     "output_type": "stream",
     "text": [
      "100%|██████████| 1/1 [00:00<00:00, 57.47it/s]"
     ]
    },
    {
     "name": "stdout",
     "output_type": "stream",
     "text": [
      "\n",
      "Wrote 1 elements to TFRecord\n"
     ]
    },
    {
     "name": "stderr",
     "output_type": "stream",
     "text": [
      "\n"
     ]
    },
    {
     "name": "stdout",
     "output_type": "stream",
     "text": [
      "MYD021KM-A2018092.0510\n",
      "MYD021KM-A2018092.2315\n",
      "MYD021KM-A2018092.0150\n",
      "MYD021KM-A2018092.0445\n",
      "(1, 512, 1024)\n",
      "(1, 512, 1024, 8)\n",
      "\n",
      "Using 1 shard(s) for 1 files, with up to 1 samples per shard\n"
     ]
    },
    {
     "name": "stderr",
     "output_type": "stream",
     "text": [
      "100%|██████████| 1/1 [00:00<00:00, 57.96it/s]"
     ]
    },
    {
     "name": "stdout",
     "output_type": "stream",
     "text": [
      "\n",
      "Wrote 1 elements to TFRecord\n"
     ]
    },
    {
     "name": "stderr",
     "output_type": "stream",
     "text": [
      "\n"
     ]
    },
    {
     "name": "stdout",
     "output_type": "stream",
     "text": [
      "MYD021KM-A2018092.1805\n",
      "MYD021KM-A2018092.2105\n",
      "(1, 512, 1024)\n",
      "(1, 512, 1024, 8)\n",
      "\n",
      "Using 1 shard(s) for 1 files, with up to 1 samples per shard\n"
     ]
    },
    {
     "name": "stderr",
     "output_type": "stream",
     "text": [
      "100%|██████████| 1/1 [00:00<00:00, 55.40it/s]"
     ]
    },
    {
     "name": "stdout",
     "output_type": "stream",
     "text": [
      "\n",
      "Wrote 1 elements to TFRecord\n"
     ]
    },
    {
     "name": "stderr",
     "output_type": "stream",
     "text": [
      "\n"
     ]
    },
    {
     "name": "stdout",
     "output_type": "stream",
     "text": [
      "MYD021KM-A2018092.1425\n",
      "MYD021KM-A2018092.1615\n",
      "(1, 512, 1024)\n",
      "(1, 512, 1024, 8)\n",
      "\n",
      "Using 1 shard(s) for 1 files, with up to 1 samples per shard\n"
     ]
    },
    {
     "name": "stderr",
     "output_type": "stream",
     "text": [
      "100%|██████████| 1/1 [00:00<00:00, 54.27it/s]"
     ]
    },
    {
     "name": "stdout",
     "output_type": "stream",
     "text": [
      "\n",
      "Wrote 1 elements to TFRecord\n"
     ]
    },
    {
     "name": "stderr",
     "output_type": "stream",
     "text": [
      "\n"
     ]
    },
    {
     "name": "stdout",
     "output_type": "stream",
     "text": [
      "MYD021KM-A2018092.1250\n",
      "(1, 512, 1024)\n",
      "(1, 512, 1024, 8)\n",
      "\n",
      "Using 1 shard(s) for 1 files, with up to 1 samples per shard\n"
     ]
    },
    {
     "name": "stderr",
     "output_type": "stream",
     "text": [
      "100%|██████████| 1/1 [00:00<00:00, 55.65it/s]"
     ]
    },
    {
     "name": "stdout",
     "output_type": "stream",
     "text": [
      "\n",
      "Wrote 1 elements to TFRecord\n"
     ]
    },
    {
     "name": "stderr",
     "output_type": "stream",
     "text": [
      "\n"
     ]
    },
    {
     "name": "stdout",
     "output_type": "stream",
     "text": [
      "MYD021KM-A2018092.1120\n",
      "(1, 512, 1024)\n",
      "(1, 512, 1024, 8)\n",
      "\n",
      "Using 1 shard(s) for 1 files, with up to 1 samples per shard\n"
     ]
    },
    {
     "name": "stderr",
     "output_type": "stream",
     "text": [
      "100%|██████████| 1/1 [00:00<00:00, 55.67it/s]"
     ]
    },
    {
     "name": "stdout",
     "output_type": "stream",
     "text": [
      "\n",
      "Wrote 1 elements to TFRecord\n"
     ]
    },
    {
     "name": "stderr",
     "output_type": "stream",
     "text": [
      "\n"
     ]
    },
    {
     "name": "stdout",
     "output_type": "stream",
     "text": [
      "MYD021KM-A2018092.1435\n",
      "(1, 512, 1024)\n",
      "(1, 512, 1024, 8)\n",
      "\n",
      "Using 1 shard(s) for 1 files, with up to 1 samples per shard\n"
     ]
    },
    {
     "name": "stderr",
     "output_type": "stream",
     "text": [
      "100%|██████████| 1/1 [00:00<00:00, 52.55it/s]"
     ]
    },
    {
     "name": "stdout",
     "output_type": "stream",
     "text": [
      "\n",
      "Wrote 1 elements to TFRecord\n"
     ]
    },
    {
     "name": "stderr",
     "output_type": "stream",
     "text": [
      "\n"
     ]
    },
    {
     "name": "stdout",
     "output_type": "stream",
     "text": [
      "MYD021KM-A2018092.0450\n",
      "MYD021KM-A2018092.0505\n",
      "MYD021KM-A2018092.0440\n",
      "(1, 512, 1024)\n",
      "(1, 512, 1024, 8)\n",
      "\n",
      "Using 1 shard(s) for 1 files, with up to 1 samples per shard\n"
     ]
    },
    {
     "name": "stderr",
     "output_type": "stream",
     "text": [
      "100%|██████████| 1/1 [00:00<00:00, 52.60it/s]"
     ]
    },
    {
     "name": "stdout",
     "output_type": "stream",
     "text": [
      "\n",
      "Wrote 1 elements to TFRecord\n"
     ]
    },
    {
     "name": "stderr",
     "output_type": "stream",
     "text": [
      "\n"
     ]
    },
    {
     "name": "stdout",
     "output_type": "stream",
     "text": [
      "MYD021KM-A2018092.0500\n",
      "MYD021KM-A2018092.0645\n",
      "MYD021KM-A2018092.1630\n",
      "MYD021KM-A2018092.1800\n",
      "(1, 512, 1024)\n",
      "(1, 512, 1024, 8)\n",
      "\n",
      "Using 1 shard(s) for 1 files, with up to 1 samples per shard\n"
     ]
    },
    {
     "name": "stderr",
     "output_type": "stream",
     "text": [
      "100%|██████████| 1/1 [00:00<00:00, 51.37it/s]"
     ]
    },
    {
     "name": "stdout",
     "output_type": "stream",
     "text": [
      "\n",
      "Wrote 1 elements to TFRecord\n"
     ]
    },
    {
     "name": "stderr",
     "output_type": "stream",
     "text": [
      "\n"
     ]
    },
    {
     "name": "stdout",
     "output_type": "stream",
     "text": [
      "MYD021KM-A2018092.0815\n",
      "MYD021KM-A2018092.2130\n",
      "MYD021KM-A2018092.2100\n",
      "(1, 512, 1024)\n",
      "(1, 512, 1024, 8)\n",
      "\n",
      "Using 1 shard(s) for 1 files, with up to 1 samples per shard\n"
     ]
    },
    {
     "name": "stderr",
     "output_type": "stream",
     "text": [
      "100%|██████████| 1/1 [00:00<00:00, 50.69it/s]"
     ]
    },
    {
     "name": "stdout",
     "output_type": "stream",
     "text": [
      "\n",
      "Wrote 1 elements to TFRecord\n"
     ]
    },
    {
     "name": "stderr",
     "output_type": "stream",
     "text": [
      "\n"
     ]
    },
    {
     "name": "stdout",
     "output_type": "stream",
     "text": [
      "MYD021KM-A2018092.0300\n",
      "(1, 512, 1024)\n",
      "(1, 512, 1024, 8)\n",
      "\n",
      "Using 1 shard(s) for 1 files, with up to 1 samples per shard\n"
     ]
    },
    {
     "name": "stderr",
     "output_type": "stream",
     "text": [
      "100%|██████████| 1/1 [00:00<00:00, 48.82it/s]"
     ]
    },
    {
     "name": "stdout",
     "output_type": "stream",
     "text": [
      "\n",
      "Wrote 1 elements to TFRecord\n"
     ]
    },
    {
     "name": "stderr",
     "output_type": "stream",
     "text": [
      "\n"
     ]
    },
    {
     "name": "stdout",
     "output_type": "stream",
     "text": [
      "MYD021KM-A2018092.1100\n",
      "MYD021KM-A2018092.2115\n",
      "(1, 512, 1024)\n",
      "(1, 512, 1024, 8)\n",
      "\n",
      "Using 1 shard(s) for 1 files, with up to 1 samples per shard\n"
     ]
    },
    {
     "name": "stderr",
     "output_type": "stream",
     "text": [
      "100%|██████████| 1/1 [00:00<00:00, 52.39it/s]"
     ]
    },
    {
     "name": "stdout",
     "output_type": "stream",
     "text": [
      "\n",
      "Wrote 1 elements to TFRecord\n"
     ]
    },
    {
     "name": "stderr",
     "output_type": "stream",
     "text": [
      "\n"
     ]
    },
    {
     "name": "stdout",
     "output_type": "stream",
     "text": [
      "MYD021KM-A2018092.0925\n",
      "MYD021KM-A2018092.0130\n",
      "(1, 512, 1024)\n",
      "(1, 512, 1024, 8)\n",
      "\n",
      "Using 1 shard(s) for 1 files, with up to 1 samples per shard\n"
     ]
    },
    {
     "name": "stderr",
     "output_type": "stream",
     "text": [
      "100%|██████████| 1/1 [00:00<00:00, 53.44it/s]"
     ]
    },
    {
     "name": "stdout",
     "output_type": "stream",
     "text": [
      "\n",
      "Wrote 1 elements to TFRecord\n"
     ]
    },
    {
     "name": "stderr",
     "output_type": "stream",
     "text": [
      "\n"
     ]
    },
    {
     "name": "stdout",
     "output_type": "stream",
     "text": [
      "MYD021KM-A2018092.0135\n",
      "MYD021KM-A2018092.1645\n",
      "MYD021KM-A2018092.0320\n",
      "MYD021KM-A2018092.1510\n",
      "MYD021KM-A2018092.2245\n",
      "(1, 512, 1024)\n",
      "(1, 512, 1024, 8)\n",
      "\n",
      "Using 1 shard(s) for 1 files, with up to 1 samples per shard\n"
     ]
    },
    {
     "name": "stderr",
     "output_type": "stream",
     "text": [
      "100%|██████████| 1/1 [00:00<00:00, 53.53it/s]"
     ]
    },
    {
     "name": "stdout",
     "output_type": "stream",
     "text": [
      "\n",
      "Wrote 1 elements to TFRecord\n"
     ]
    },
    {
     "name": "stderr",
     "output_type": "stream",
     "text": [
      "\n"
     ]
    },
    {
     "name": "stdout",
     "output_type": "stream",
     "text": [
      "MYD021KM-A2018092.1110\n",
      "MYD021KM-A2018092.1755\n",
      "(1, 512, 1024)\n",
      "(1, 512, 1024, 8)\n",
      "\n",
      "Using 1 shard(s) for 1 files, with up to 1 samples per shard\n"
     ]
    },
    {
     "name": "stderr",
     "output_type": "stream",
     "text": [
      "100%|██████████| 1/1 [00:00<00:00, 53.05it/s]"
     ]
    },
    {
     "name": "stdout",
     "output_type": "stream",
     "text": [
      "\n",
      "Wrote 1 elements to TFRecord\n"
     ]
    },
    {
     "name": "stderr",
     "output_type": "stream",
     "text": [
      "\n"
     ]
    },
    {
     "name": "stdout",
     "output_type": "stream",
     "text": [
      "MYD021KM-A2018092.2250\n",
      "(1, 512, 1024)\n",
      "(1, 512, 1024, 8)\n",
      "\n",
      "Using 1 shard(s) for 1 files, with up to 1 samples per shard\n"
     ]
    },
    {
     "name": "stderr",
     "output_type": "stream",
     "text": [
      "100%|██████████| 1/1 [00:00<00:00, 54.85it/s]"
     ]
    },
    {
     "name": "stdout",
     "output_type": "stream",
     "text": [
      "\n",
      "Wrote 1 elements to TFRecord\n"
     ]
    },
    {
     "name": "stderr",
     "output_type": "stream",
     "text": [
      "\n"
     ]
    },
    {
     "name": "stdout",
     "output_type": "stream",
     "text": [
      "MYD021KM-A2018092.1445\n",
      "MYD021KM-A2018092.1825\n",
      "MYD021KM-A2018092.0010\n",
      "MYD021KM-A2018092.0930\n",
      "MYD021KM-A2018092.1745\n",
      "(1, 512, 1024)\n",
      "(1, 512, 1024, 8)\n",
      "\n",
      "Using 1 shard(s) for 1 files, with up to 1 samples per shard\n"
     ]
    },
    {
     "name": "stderr",
     "output_type": "stream",
     "text": [
      "100%|██████████| 1/1 [00:00<00:00, 54.25it/s]"
     ]
    },
    {
     "name": "stdout",
     "output_type": "stream",
     "text": [
      "\n",
      "Wrote 1 elements to TFRecord\n"
     ]
    },
    {
     "name": "stderr",
     "output_type": "stream",
     "text": [
      "\n"
     ]
    },
    {
     "name": "stdout",
     "output_type": "stream",
     "text": [
      "MYD021KM-A2018092.0020\n",
      "MYD021KM-A2018092.2310\n",
      "MYD021KM-A2018092.0330\n",
      "MYD021KM-A2018092.0630\n",
      "MYD021KM-A2018092.1740\n",
      "MYD021KM-A2018092.0425\n",
      "(1, 512, 1024)\n",
      "(1, 512, 1024, 8)\n",
      "\n",
      "Using 1 shard(s) for 1 files, with up to 1 samples per shard\n"
     ]
    },
    {
     "name": "stderr",
     "output_type": "stream",
     "text": [
      "100%|██████████| 1/1 [00:00<00:00, 54.52it/s]"
     ]
    },
    {
     "name": "stdout",
     "output_type": "stream",
     "text": [
      "\n",
      "Wrote 1 elements to TFRecord\n"
     ]
    },
    {
     "name": "stderr",
     "output_type": "stream",
     "text": [
      "\n"
     ]
    },
    {
     "name": "stdout",
     "output_type": "stream",
     "text": [
      "MYD021KM-A2018092.0120\n",
      "(1, 512, 1024)\n",
      "(1, 512, 1024, 8)\n",
      "\n",
      "Using 1 shard(s) for 1 files, with up to 1 samples per shard\n"
     ]
    },
    {
     "name": "stderr",
     "output_type": "stream",
     "text": [
      "100%|██████████| 1/1 [00:00<00:00, 54.82it/s]"
     ]
    },
    {
     "name": "stdout",
     "output_type": "stream",
     "text": [
      "\n",
      "Wrote 1 elements to TFRecord\n"
     ]
    },
    {
     "name": "stderr",
     "output_type": "stream",
     "text": [
      "\n"
     ]
    },
    {
     "name": "stdout",
     "output_type": "stream",
     "text": [
      "MYD021KM-A2018092.0435\n",
      "(1, 512, 1024)\n",
      "(1, 512, 1024, 8)\n",
      "\n",
      "Using 1 shard(s) for 1 files, with up to 1 samples per shard\n"
     ]
    },
    {
     "name": "stderr",
     "output_type": "stream",
     "text": [
      "100%|██████████| 1/1 [00:00<00:00, 54.91it/s]"
     ]
    },
    {
     "name": "stdout",
     "output_type": "stream",
     "text": [
      "\n",
      "Wrote 1 elements to TFRecord\n"
     ]
    },
    {
     "name": "stderr",
     "output_type": "stream",
     "text": [
      "\n"
     ]
    },
    {
     "name": "stdout",
     "output_type": "stream",
     "text": [
      "MYD021KM-A2018092.1240\n",
      "(1, 512, 1024)\n",
      "(1, 512, 1024, 8)\n",
      "\n",
      "Using 1 shard(s) for 1 files, with up to 1 samples per shard\n"
     ]
    },
    {
     "name": "stderr",
     "output_type": "stream",
     "text": [
      "100%|██████████| 1/1 [00:00<00:00, 56.27it/s]"
     ]
    },
    {
     "name": "stdout",
     "output_type": "stream",
     "text": [
      "\n",
      "Wrote 1 elements to TFRecord\n"
     ]
    },
    {
     "name": "stderr",
     "output_type": "stream",
     "text": [
      "\n"
     ]
    },
    {
     "name": "stdout",
     "output_type": "stream",
     "text": [
      "MYD021KM-A2018092.1950\n",
      "MYD021KM-A2018092.0920\n",
      "(1, 512, 1024)\n",
      "(1, 512, 1024, 8)\n",
      "\n",
      "Using 1 shard(s) for 1 files, with up to 1 samples per shard\n"
     ]
    },
    {
     "name": "stderr",
     "output_type": "stream",
     "text": [
      "100%|██████████| 1/1 [00:00<00:00, 49.61it/s]"
     ]
    },
    {
     "name": "stdout",
     "output_type": "stream",
     "text": [
      "\n",
      "Wrote 1 elements to TFRecord\n"
     ]
    },
    {
     "name": "stderr",
     "output_type": "stream",
     "text": [
      "\n"
     ]
    },
    {
     "name": "stdout",
     "output_type": "stream",
     "text": [
      "MYD021KM-A2018092.1750\n",
      "(1, 512, 1024)\n",
      "(1, 512, 1024, 8)\n",
      "\n",
      "Using 1 shard(s) for 1 files, with up to 1 samples per shard\n"
     ]
    },
    {
     "name": "stderr",
     "output_type": "stream",
     "text": [
      "100%|██████████| 1/1 [00:00<00:00, 52.29it/s]"
     ]
    },
    {
     "name": "stdout",
     "output_type": "stream",
     "text": [
      "\n",
      "Wrote 1 elements to TFRecord\n"
     ]
    },
    {
     "name": "stderr",
     "output_type": "stream",
     "text": [
      "\n"
     ]
    },
    {
     "name": "stdout",
     "output_type": "stream",
     "text": [
      "MYD021KM-A2018092.1330\n",
      "MYD021KM-A2018092.1320\n",
      "MYD021KM-A2018092.1635\n",
      "MYD021KM-A2018092.2055\n",
      "(1, 512, 1024)\n",
      "(1, 512, 1024, 8)\n",
      "\n",
      "Using 1 shard(s) for 1 files, with up to 1 samples per shard\n"
     ]
    },
    {
     "name": "stderr",
     "output_type": "stream",
     "text": [
      "100%|██████████| 1/1 [00:00<00:00, 53.58it/s]"
     ]
    },
    {
     "name": "stdout",
     "output_type": "stream",
     "text": [
      "\n",
      "Wrote 1 elements to TFRecord\n"
     ]
    },
    {
     "name": "stderr",
     "output_type": "stream",
     "text": [
      "\n"
     ]
    },
    {
     "name": "stdout",
     "output_type": "stream",
     "text": [
      "MYD021KM-A2018092.2140\n",
      "MYD021KM-A2018092.1300\n",
      "(1, 512, 1024)\n",
      "(1, 512, 1024, 8)\n",
      "\n",
      "Using 1 shard(s) for 1 files, with up to 1 samples per shard\n"
     ]
    },
    {
     "name": "stderr",
     "output_type": "stream",
     "text": [
      "100%|██████████| 1/1 [00:00<00:00, 55.97it/s]"
     ]
    },
    {
     "name": "stdout",
     "output_type": "stream",
     "text": [
      "\n",
      "Wrote 1 elements to TFRecord\n"
     ]
    },
    {
     "name": "stderr",
     "output_type": "stream",
     "text": [
      "\n"
     ]
    },
    {
     "name": "stdout",
     "output_type": "stream",
     "text": [
      "MYD021KM-A2018092.2120\n",
      "MYD021KM-A2018092.0620\n",
      "(1, 512, 1024)\n",
      "(1, 512, 1024, 8)\n",
      "\n",
      "Using 1 shard(s) for 1 files, with up to 1 samples per shard\n"
     ]
    },
    {
     "name": "stderr",
     "output_type": "stream",
     "text": [
      "100%|██████████| 1/1 [00:00<00:00, 53.23it/s]"
     ]
    },
    {
     "name": "stdout",
     "output_type": "stream",
     "text": [
      "\n",
      "Wrote 1 elements to TFRecord\n"
     ]
    },
    {
     "name": "stderr",
     "output_type": "stream",
     "text": [
      "\n"
     ]
    },
    {
     "name": "stdout",
     "output_type": "stream",
     "text": [
      "MYD021KM-A2018092.1135\n",
      "MYD021KM-A2018092.0945\n",
      "(1, 512, 1024)\n",
      "(1, 512, 1024, 8)\n",
      "\n",
      "Using 1 shard(s) for 1 files, with up to 1 samples per shard\n"
     ]
    },
    {
     "name": "stderr",
     "output_type": "stream",
     "text": [
      "100%|██████████| 1/1 [00:00<00:00, 51.89it/s]"
     ]
    },
    {
     "name": "stdout",
     "output_type": "stream",
     "text": [
      "\n",
      "Wrote 1 elements to TFRecord\n"
     ]
    },
    {
     "name": "stderr",
     "output_type": "stream",
     "text": [
      "\n"
     ]
    },
    {
     "name": "stdout",
     "output_type": "stream",
     "text": [
      "MYD021KM-A2018092.1935\n",
      "(1, 512, 1024)\n",
      "(1, 512, 1024, 8)\n",
      "\n",
      "Using 1 shard(s) for 1 files, with up to 1 samples per shard\n"
     ]
    },
    {
     "name": "stderr",
     "output_type": "stream",
     "text": [
      "100%|██████████| 1/1 [00:00<00:00, 52.10it/s]"
     ]
    },
    {
     "name": "stdout",
     "output_type": "stream",
     "text": [
      "\n",
      "Wrote 1 elements to TFRecord\n"
     ]
    },
    {
     "name": "stderr",
     "output_type": "stream",
     "text": [
      "\n"
     ]
    },
    {
     "name": "stdout",
     "output_type": "stream",
     "text": [
      "MYD021KM-A2018092.1610\n",
      "(1, 512, 1024)\n",
      "(1, 512, 1024, 8)\n",
      "\n",
      "Using 1 shard(s) for 1 files, with up to 1 samples per shard\n"
     ]
    },
    {
     "name": "stderr",
     "output_type": "stream",
     "text": [
      "100%|██████████| 1/1 [00:00<00:00, 50.73it/s]"
     ]
    },
    {
     "name": "stdout",
     "output_type": "stream",
     "text": [
      "\n",
      "Wrote 1 elements to TFRecord\n"
     ]
    },
    {
     "name": "stderr",
     "output_type": "stream",
     "text": [
      "\n"
     ]
    },
    {
     "name": "stdout",
     "output_type": "stream",
     "text": [
      "MYD021KM-A2018092.0005\n",
      "MYD021KM-A2018092.0640\n",
      "MYD021KM-A2018092.0430\n",
      "(1, 512, 1024)\n",
      "(1, 512, 1024, 8)\n",
      "\n",
      "Using 1 shard(s) for 1 files, with up to 1 samples per shard\n"
     ]
    },
    {
     "name": "stderr",
     "output_type": "stream",
     "text": [
      "100%|██████████| 1/1 [00:00<00:00, 51.41it/s]"
     ]
    },
    {
     "name": "stdout",
     "output_type": "stream",
     "text": [
      "\n",
      "Wrote 1 elements to TFRecord\n"
     ]
    },
    {
     "name": "stderr",
     "output_type": "stream",
     "text": [
      "\n"
     ]
    },
    {
     "name": "stdout",
     "output_type": "stream",
     "text": [
      "MYD021KM-A2018092.2255\n",
      "(1, 512, 1024)\n",
      "(1, 512, 1024, 8)\n",
      "\n",
      "Using 1 shard(s) for 1 files, with up to 1 samples per shard\n"
     ]
    },
    {
     "name": "stderr",
     "output_type": "stream",
     "text": [
      "100%|██████████| 1/1 [00:00<00:00, 52.12it/s]"
     ]
    },
    {
     "name": "stdout",
     "output_type": "stream",
     "text": [
      "\n",
      "Wrote 1 elements to TFRecord\n"
     ]
    },
    {
     "name": "stderr",
     "output_type": "stream",
     "text": [
      "\n"
     ]
    },
    {
     "name": "stdout",
     "output_type": "stream",
     "text": [
      "MYD021KM-A2018092.0305\n",
      "(1, 512, 1024)\n",
      "(1, 512, 1024, 8)\n",
      "\n",
      "Using 1 shard(s) for 1 files, with up to 1 samples per shard\n"
     ]
    },
    {
     "name": "stderr",
     "output_type": "stream",
     "text": [
      "100%|██████████| 1/1 [00:00<00:00, 52.70it/s]"
     ]
    },
    {
     "name": "stdout",
     "output_type": "stream",
     "text": [
      "\n",
      "Wrote 1 elements to TFRecord\n"
     ]
    },
    {
     "name": "stderr",
     "output_type": "stream",
     "text": [
      "\n"
     ]
    },
    {
     "name": "stdout",
     "output_type": "stream",
     "text": [
      "MYD021KM-A2018092.2240\n",
      "(1, 512, 1024)\n",
      "(1, 512, 1024, 8)\n",
      "\n",
      "Using 1 shard(s) for 1 files, with up to 1 samples per shard\n"
     ]
    },
    {
     "name": "stderr",
     "output_type": "stream",
     "text": [
      "100%|██████████| 1/1 [00:00<00:00, 50.44it/s]"
     ]
    },
    {
     "name": "stdout",
     "output_type": "stream",
     "text": [
      "\n",
      "Wrote 1 elements to TFRecord\n"
     ]
    },
    {
     "name": "stderr",
     "output_type": "stream",
     "text": [
      "\n"
     ]
    },
    {
     "name": "stdout",
     "output_type": "stream",
     "text": [
      "MYD021KM-A2018092.1420\n",
      "MYD021KM-A2018092.1605\n",
      "(1, 512, 1024)\n",
      "(1, 512, 1024, 8)\n",
      "\n",
      "Using 1 shard(s) for 1 files, with up to 1 samples per shard\n"
     ]
    },
    {
     "name": "stderr",
     "output_type": "stream",
     "text": [
      "100%|██████████| 1/1 [00:00<00:00, 53.23it/s]"
     ]
    },
    {
     "name": "stdout",
     "output_type": "stream",
     "text": [
      "\n",
      "Wrote 1 elements to TFRecord\n"
     ]
    },
    {
     "name": "stderr",
     "output_type": "stream",
     "text": [
      "\n"
     ]
    },
    {
     "name": "stdout",
     "output_type": "stream",
     "text": [
      "MYD021KM-A2018092.1955\n",
      "MYD021KM-A2018092.0805\n",
      "(1, 512, 1024)\n",
      "(1, 512, 1024, 8)\n",
      "\n",
      "Using 1 shard(s) for 1 files, with up to 1 samples per shard\n"
     ]
    },
    {
     "name": "stderr",
     "output_type": "stream",
     "text": [
      "100%|██████████| 1/1 [00:00<00:00, 52.13it/s]"
     ]
    },
    {
     "name": "stdout",
     "output_type": "stream",
     "text": [
      "\n",
      "Wrote 1 elements to TFRecord\n"
     ]
    },
    {
     "name": "stderr",
     "output_type": "stream",
     "text": [
      "\n"
     ]
    },
    {
     "name": "stdout",
     "output_type": "stream",
     "text": [
      "MYD021KM-A2018092.1010\n",
      "MYD021KM-A2018092.1000\n",
      "MYD021KM-A2018092.0610\n",
      "(1, 512, 1024)\n",
      "(1, 512, 1024, 8)\n",
      "\n",
      "Using 1 shard(s) for 1 files, with up to 1 samples per shard\n"
     ]
    },
    {
     "name": "stderr",
     "output_type": "stream",
     "text": [
      "100%|██████████| 1/1 [00:00<00:00, 48.96it/s]"
     ]
    },
    {
     "name": "stdout",
     "output_type": "stream",
     "text": [
      "\n",
      "Wrote 1 elements to TFRecord\n"
     ]
    },
    {
     "name": "stderr",
     "output_type": "stream",
     "text": [
      "\n"
     ]
    },
    {
     "name": "stdout",
     "output_type": "stream",
     "text": [
      "MYD021KM-A2018092.1145\n",
      "MYD021KM-A2018092.1310\n",
      "MYD021KM-A2018092.1255\n",
      "(1, 512, 1024)\n",
      "(1, 512, 1024, 8)\n",
      "\n",
      "Using 1 shard(s) for 1 files, with up to 1 samples per shard\n"
     ]
    },
    {
     "name": "stderr",
     "output_type": "stream",
     "text": [
      "100%|██████████| 1/1 [00:00<00:00, 50.82it/s]"
     ]
    },
    {
     "name": "stdout",
     "output_type": "stream",
     "text": [
      "\n",
      "Wrote 1 elements to TFRecord\n"
     ]
    },
    {
     "name": "stderr",
     "output_type": "stream",
     "text": [
      "\n"
     ]
    },
    {
     "name": "stdout",
     "output_type": "stream",
     "text": [
      "MYD021KM-A2018092.1105\n",
      "MYD021KM-A2018092.1005\n",
      "MYD021KM-A2018092.1735\n",
      "MYD021KM-A2018092.0315\n",
      "MYD021KM-A2018092.0125\n",
      "(1, 512, 1024)\n",
      "(1, 512, 1024, 8)\n",
      "\n",
      "Using 1 shard(s) for 1 files, with up to 1 samples per shard\n"
     ]
    },
    {
     "name": "stderr",
     "output_type": "stream",
     "text": [
      "100%|██████████| 1/1 [00:00<00:00, 53.94it/s]"
     ]
    },
    {
     "name": "stdout",
     "output_type": "stream",
     "text": [
      "\n",
      "Wrote 1 elements to TFRecord\n"
     ]
    },
    {
     "name": "stderr",
     "output_type": "stream",
     "text": [
      "\n"
     ]
    },
    {
     "name": "stdout",
     "output_type": "stream",
     "text": [
      "MYD021KM-A2018092.2135\n",
      "MYD021KM-A2018092.2300\n",
      "MYD021KM-A2018092.0835\n",
      "MYD021KM-A2018092.1810\n",
      "MYD021KM-A2018092.0825\n",
      "MYD021KM-A2018092.0250\n",
      "(1, 512, 1024)\n",
      "(1, 512, 1024, 8)\n",
      "\n",
      "Using 1 shard(s) for 1 files, with up to 1 samples per shard\n"
     ]
    },
    {
     "name": "stderr",
     "output_type": "stream",
     "text": [
      "100%|██████████| 1/1 [00:00<00:00, 51.73it/s]"
     ]
    },
    {
     "name": "stdout",
     "output_type": "stream",
     "text": [
      "\n",
      "Wrote 1 elements to TFRecord\n"
     ]
    },
    {
     "name": "stderr",
     "output_type": "stream",
     "text": [
      "\n"
     ]
    },
    {
     "name": "stdout",
     "output_type": "stream",
     "text": [
      "MYD021KM-A2018092.0000\n",
      "MYD021KM-A2018092.0605\n",
      "(1, 512, 1024)\n",
      "(1, 512, 1024, 8)\n",
      "\n",
      "Using 1 shard(s) for 1 files, with up to 1 samples per shard\n"
     ]
    },
    {
     "name": "stderr",
     "output_type": "stream",
     "text": [
      "100%|██████████| 1/1 [00:00<00:00, 50.57it/s]"
     ]
    },
    {
     "name": "stdout",
     "output_type": "stream",
     "text": [
      "\n",
      "Wrote 1 elements to TFRecord\n"
     ]
    },
    {
     "name": "stderr",
     "output_type": "stream",
     "text": [
      "\n"
     ]
    },
    {
     "name": "stdout",
     "output_type": "stream",
     "text": [
      "MYD021KM-A2018092.1140\n",
      "MYD021KM-A2018092.1305\n",
      "MYD021KM-A2018092.0745\n",
      "MYD021KM-A2018092.2235\n",
      "(1, 512, 1024)\n",
      "(1, 512, 1024, 8)\n",
      "\n",
      "Using 1 shard(s) for 1 files, with up to 1 samples per shard\n"
     ]
    },
    {
     "name": "stderr",
     "output_type": "stream",
     "text": [
      "100%|██████████| 1/1 [00:00<00:00, 54.59it/s]"
     ]
    },
    {
     "name": "stdout",
     "output_type": "stream",
     "text": [
      "\n",
      "Wrote 1 elements to TFRecord\n"
     ]
    },
    {
     "name": "stderr",
     "output_type": "stream",
     "text": [
      "\n"
     ]
    },
    {
     "name": "stdout",
     "output_type": "stream",
     "text": [
      "MYD021KM-A2018092.0615\n",
      "(1, 512, 1024)\n",
      "(1, 512, 1024, 8)\n",
      "\n",
      "Using 1 shard(s) for 1 files, with up to 1 samples per shard\n"
     ]
    },
    {
     "name": "stderr",
     "output_type": "stream",
     "text": [
      "100%|██████████| 1/1 [00:00<00:00, 53.62it/s]"
     ]
    },
    {
     "name": "stdout",
     "output_type": "stream",
     "text": [
      "\n",
      "Wrote 1 elements to TFRecord\n"
     ]
    },
    {
     "name": "stderr",
     "output_type": "stream",
     "text": [
      "\n"
     ]
    },
    {
     "name": "stdout",
     "output_type": "stream",
     "text": [
      "MYD021KM-A2018092.2145\n",
      "MYD021KM-A2018092.1600\n",
      "(1, 512, 1024)\n",
      "(1, 512, 1024, 8)\n",
      "\n",
      "Using 1 shard(s) for 1 files, with up to 1 samples per shard\n"
     ]
    },
    {
     "name": "stderr",
     "output_type": "stream",
     "text": [
      "100%|██████████| 1/1 [00:00<00:00, 53.35it/s]"
     ]
    },
    {
     "name": "stdout",
     "output_type": "stream",
     "text": [
      "\n",
      "Wrote 1 elements to TFRecord\n"
     ]
    },
    {
     "name": "stderr",
     "output_type": "stream",
     "text": [
      "\n"
     ]
    },
    {
     "name": "stdout",
     "output_type": "stream",
     "text": [
      "MYD021KM-A2018092.0940\n",
      "MYD021KM-A2018092.0115\n",
      "(1, 512, 1024)\n",
      "(1, 512, 1024, 8)\n",
      "\n",
      "Using 1 shard(s) for 1 files, with up to 1 samples per shard\n"
     ]
    },
    {
     "name": "stderr",
     "output_type": "stream",
     "text": [
      "100%|██████████| 1/1 [00:00<00:00, 52.74it/s]"
     ]
    },
    {
     "name": "stdout",
     "output_type": "stream",
     "text": [
      "\n",
      "Wrote 1 elements to TFRecord\n"
     ]
    },
    {
     "name": "stderr",
     "output_type": "stream",
     "text": [
      "\n"
     ]
    },
    {
     "name": "stdout",
     "output_type": "stream",
     "text": [
      "MYD021KM-A2018092.1130\n",
      "MYD021KM-A2018092.0800\n",
      "(1, 512, 1024)\n",
      "(1, 512, 1024, 8)\n",
      "\n",
      "Using 1 shard(s) for 1 files, with up to 1 samples per shard\n"
     ]
    },
    {
     "name": "stderr",
     "output_type": "stream",
     "text": [
      "100%|██████████| 1/1 [00:00<00:00, 52.07it/s]"
     ]
    },
    {
     "name": "stdout",
     "output_type": "stream",
     "text": [
      "\n",
      "Wrote 1 elements to TFRecord\n"
     ]
    },
    {
     "name": "stderr",
     "output_type": "stream",
     "text": [
      "\n"
     ]
    },
    {
     "name": "stdout",
     "output_type": "stream",
     "text": [
      "MYD021KM-A2018092.0750\n",
      "MYD021KM-A2018092.0110\n",
      "(1, 512, 1024)\n",
      "(1, 512, 1024, 8)\n",
      "\n",
      "Using 1 shard(s) for 1 files, with up to 1 samples per shard\n"
     ]
    },
    {
     "name": "stderr",
     "output_type": "stream",
     "text": [
      "100%|██████████| 1/1 [00:00<00:00, 54.15it/s]"
     ]
    },
    {
     "name": "stdout",
     "output_type": "stream",
     "text": [
      "\n",
      "Wrote 1 elements to TFRecord\n"
     ]
    },
    {
     "name": "stderr",
     "output_type": "stream",
     "text": [
      "\n"
     ]
    },
    {
     "name": "stdout",
     "output_type": "stream",
     "text": [
      "MYD021KM-A2018092.0935\n",
      "(1, 512, 1024)\n",
      "(1, 512, 1024, 8)\n",
      "\n",
      "Using 1 shard(s) for 1 files, with up to 1 samples per shard\n"
     ]
    },
    {
     "name": "stderr",
     "output_type": "stream",
     "text": [
      "100%|██████████| 1/1 [00:00<00:00, 53.77it/s]"
     ]
    },
    {
     "name": "stdout",
     "output_type": "stream",
     "text": [
      "\n",
      "Wrote 1 elements to TFRecord\n"
     ]
    },
    {
     "name": "stderr",
     "output_type": "stream",
     "text": [
      "\n"
     ]
    },
    {
     "name": "stdout",
     "output_type": "stream",
     "text": [
      "MYD021KM-A2018092.1940\n",
      "(1, 512, 1024)\n",
      "(1, 512, 1024, 8)\n",
      "\n",
      "Using 1 shard(s) for 1 files, with up to 1 samples per shard\n"
     ]
    },
    {
     "name": "stderr",
     "output_type": "stream",
     "text": [
      "100%|██████████| 1/1 [00:00<00:00, 52.56it/s]"
     ]
    },
    {
     "name": "stdout",
     "output_type": "stream",
     "text": [
      "\n",
      "Wrote 1 elements to TFRecord\n"
     ]
    },
    {
     "name": "stderr",
     "output_type": "stream",
     "text": [
      "\n"
     ]
    },
    {
     "name": "stdout",
     "output_type": "stream",
     "text": [
      "MYD021KM-A2018092.1115\n",
      "(1, 512, 1024)\n",
      "(1, 512, 1024, 8)\n",
      "\n",
      "Using 1 shard(s) for 1 files, with up to 1 samples per shard\n"
     ]
    },
    {
     "name": "stderr",
     "output_type": "stream",
     "text": [
      "100%|██████████| 1/1 [00:00<00:00, 51.31it/s]"
     ]
    },
    {
     "name": "stdout",
     "output_type": "stream",
     "text": [
      "\n",
      "Wrote 1 elements to TFRecord\n"
     ]
    },
    {
     "name": "stderr",
     "output_type": "stream",
     "text": [
      "\n"
     ]
    },
    {
     "name": "stdout",
     "output_type": "stream",
     "text": [
      "MYD021KM-A2018092.1930\n",
      "(1, 512, 1024)\n",
      "(1, 512, 1024, 8)\n",
      "\n",
      "Using 1 shard(s) for 1 files, with up to 1 samples per shard\n"
     ]
    },
    {
     "name": "stderr",
     "output_type": "stream",
     "text": [
      "100%|██████████| 1/1 [00:00<00:00, 54.41it/s]"
     ]
    },
    {
     "name": "stdout",
     "output_type": "stream",
     "text": [
      "\n",
      "Wrote 1 elements to TFRecord\n"
     ]
    },
    {
     "name": "stderr",
     "output_type": "stream",
     "text": [
      "\n"
     ]
    },
    {
     "name": "stdout",
     "output_type": "stream",
     "text": [
      "MYD021KM-A2018092.0515\n",
      "MYD021KM-A2018092.1505\n",
      "MYD021KM-A2018092.1455\n",
      "MYD021KM-A2018092.0145\n",
      "MYD021KM-A2018092.0830\n",
      "MYD021KM-A2018096.1535\n",
      "(1, 512, 1024)\n",
      "(1, 512, 1024, 8)\n",
      "\n",
      "Using 1 shard(s) for 1 files, with up to 1 samples per shard\n"
     ]
    },
    {
     "name": "stderr",
     "output_type": "stream",
     "text": [
      "100%|██████████| 1/1 [00:00<00:00, 50.46it/s]"
     ]
    },
    {
     "name": "stdout",
     "output_type": "stream",
     "text": [
      "\n",
      "Wrote 1 elements to TFRecord\n"
     ]
    },
    {
     "name": "stderr",
     "output_type": "stream",
     "text": [
      "\n"
     ]
    },
    {
     "name": "stdout",
     "output_type": "stream",
     "text": [
      "MYD021KM-A2018096.0430\n",
      "MYD021KM-A2018096.2040\n",
      "(1, 512, 1024)\n",
      "(1, 512, 1024, 8)\n",
      "\n",
      "Using 1 shard(s) for 1 files, with up to 1 samples per shard\n"
     ]
    },
    {
     "name": "stderr",
     "output_type": "stream",
     "text": [
      "100%|██████████| 1/1 [00:00<00:00, 55.34it/s]"
     ]
    },
    {
     "name": "stdout",
     "output_type": "stream",
     "text": [
      "\n",
      "Wrote 1 elements to TFRecord\n"
     ]
    },
    {
     "name": "stderr",
     "output_type": "stream",
     "text": [
      "\n"
     ]
    },
    {
     "name": "stdout",
     "output_type": "stream",
     "text": [
      "MYD021KM-A2018096.1250\n",
      "MYD021KM-A2018096.0810\n",
      "MYD021KM-A2018096.0725\n",
      "(1, 512, 1024)\n",
      "(1, 512, 1024, 8)\n",
      "\n",
      "Using 1 shard(s) for 1 files, with up to 1 samples per shard\n"
     ]
    },
    {
     "name": "stderr",
     "output_type": "stream",
     "text": [
      "100%|██████████| 1/1 [00:00<00:00, 25.07it/s]"
     ]
    },
    {
     "name": "stdout",
     "output_type": "stream",
     "text": [
      "\n",
      "Wrote 1 elements to TFRecord\n"
     ]
    },
    {
     "name": "stderr",
     "output_type": "stream",
     "text": [
      "\n"
     ]
    },
    {
     "name": "stdout",
     "output_type": "stream",
     "text": [
      "MYD021KM-A2018096.1215\n",
      "(1, 512, 1024)\n",
      "(1, 512, 1024, 8)\n",
      "\n",
      "Using 1 shard(s) for 1 files, with up to 1 samples per shard\n"
     ]
    },
    {
     "name": "stderr",
     "output_type": "stream",
     "text": [
      "100%|██████████| 1/1 [00:00<00:00, 55.43it/s]"
     ]
    },
    {
     "name": "stdout",
     "output_type": "stream",
     "text": [
      "\n",
      "Wrote 1 elements to TFRecord\n"
     ]
    },
    {
     "name": "stderr",
     "output_type": "stream",
     "text": [
      "\n"
     ]
    },
    {
     "name": "stdout",
     "output_type": "stream",
     "text": [
      "MYD021KM-A2018096.2120\n",
      "MYD021KM-A2018096.0555\n",
      "(1, 512, 1024)\n",
      "(1, 512, 1024, 8)\n",
      "\n",
      "Using 1 shard(s) for 1 files, with up to 1 samples per shard\n"
     ]
    },
    {
     "name": "stderr",
     "output_type": "stream",
     "text": [
      "100%|██████████| 1/1 [00:00<00:00, 50.81it/s]"
     ]
    },
    {
     "name": "stdout",
     "output_type": "stream",
     "text": [
      "\n",
      "Wrote 1 elements to TFRecord\n"
     ]
    },
    {
     "name": "stderr",
     "output_type": "stream",
     "text": [
      "\n"
     ]
    },
    {
     "name": "stdout",
     "output_type": "stream",
     "text": [
      "MYD021KM-A2018096.2220\n",
      "(1, 512, 1024)\n",
      "(1, 512, 1024, 8)\n",
      "\n",
      "Using 1 shard(s) for 1 files, with up to 1 samples per shard\n"
     ]
    },
    {
     "name": "stderr",
     "output_type": "stream",
     "text": [
      "100%|██████████| 1/1 [00:00<00:00, 55.79it/s]"
     ]
    },
    {
     "name": "stdout",
     "output_type": "stream",
     "text": [
      "\n",
      "Wrote 1 elements to TFRecord\n"
     ]
    },
    {
     "name": "stderr",
     "output_type": "stream",
     "text": [
      "\n"
     ]
    },
    {
     "name": "stdout",
     "output_type": "stream",
     "text": [
      "MYD021KM-A2018096.1925\n",
      "MYD021KM-A2018096.0310\n",
      "MYD021KM-A2018096.1720\n",
      "(1, 512, 1024)\n",
      "(1, 512, 1024, 8)\n",
      "\n",
      "Using 1 shard(s) for 1 files, with up to 1 samples per shard\n"
     ]
    },
    {
     "name": "stderr",
     "output_type": "stream",
     "text": [
      "100%|██████████| 1/1 [00:00<00:00, 53.84it/s]"
     ]
    },
    {
     "name": "stdout",
     "output_type": "stream",
     "text": [
      "\n",
      "Wrote 1 elements to TFRecord\n"
     ]
    },
    {
     "name": "stderr",
     "output_type": "stream",
     "text": [
      "\n"
     ]
    },
    {
     "name": "stdout",
     "output_type": "stream",
     "text": [
      "MYD021KM-A2018096.1715\n",
      "(1, 512, 1024)\n",
      "(1, 512, 1024, 8)\n",
      "\n",
      "Using 1 shard(s) for 1 files, with up to 1 samples per shard\n"
     ]
    },
    {
     "name": "stderr",
     "output_type": "stream",
     "text": [
      "100%|██████████| 1/1 [00:00<00:00, 55.33it/s]"
     ]
    },
    {
     "name": "stdout",
     "output_type": "stream",
     "text": [
      "\n",
      "Wrote 1 elements to TFRecord\n"
     ]
    },
    {
     "name": "stderr",
     "output_type": "stream",
     "text": [
      "\n"
     ]
    },
    {
     "name": "stdout",
     "output_type": "stream",
     "text": [
      "MYD021KM-A2018096.2230\n",
      "(1, 512, 1024)\n",
      "(1, 512, 1024, 8)\n",
      "\n",
      "Using 1 shard(s) for 1 files, with up to 1 samples per shard\n"
     ]
    },
    {
     "name": "stderr",
     "output_type": "stream",
     "text": [
      "100%|██████████| 1/1 [00:00<00:00, 56.58it/s]"
     ]
    },
    {
     "name": "stdout",
     "output_type": "stream",
     "text": [
      "\n",
      "Wrote 1 elements to TFRecord\n"
     ]
    },
    {
     "name": "stderr",
     "output_type": "stream",
     "text": [
      "\n"
     ]
    },
    {
     "name": "stdout",
     "output_type": "stream",
     "text": [
      "MYD021KM-A2018096.0410\n",
      "(1, 512, 1024)\n",
      "(1, 512, 1024, 8)\n",
      "\n",
      "Using 1 shard(s) for 1 files, with up to 1 samples per shard\n"
     ]
    },
    {
     "name": "stderr",
     "output_type": "stream",
     "text": [
      "100%|██████████| 1/1 [00:00<00:00, 54.76it/s]"
     ]
    },
    {
     "name": "stdout",
     "output_type": "stream",
     "text": [
      "\n",
      "Wrote 1 elements to TFRecord\n"
     ]
    },
    {
     "name": "stderr",
     "output_type": "stream",
     "text": [
      "\n"
     ]
    },
    {
     "name": "stdout",
     "output_type": "stream",
     "text": [
      "MYD021KM-A2018096.1620\n",
      "MYD021KM-A2018096.0940\n",
      "MYD021KM-A2018096.1355\n",
      "MYD021KM-A2018096.0440\n",
      "MYD021KM-A2018096.0610\n",
      "MYD021KM-A2018096.1915\n",
      "(1, 512, 1024)\n",
      "(1, 512, 1024, 8)\n",
      "\n",
      "Using 1 shard(s) for 1 files, with up to 1 samples per shard\n"
     ]
    },
    {
     "name": "stderr",
     "output_type": "stream",
     "text": [
      "100%|██████████| 1/1 [00:00<00:00, 51.65it/s]"
     ]
    },
    {
     "name": "stdout",
     "output_type": "stream",
     "text": [
      "\n",
      "Wrote 1 elements to TFRecord\n"
     ]
    },
    {
     "name": "stderr",
     "output_type": "stream",
     "text": [
      "\n"
     ]
    },
    {
     "name": "stdout",
     "output_type": "stream",
     "text": [
      "MYD021KM-A2018096.1235\n",
      "(1, 512, 1024)\n",
      "(1, 512, 1024, 8)\n",
      "\n",
      "Using 1 shard(s) for 1 files, with up to 1 samples per shard\n"
     ]
    },
    {
     "name": "stderr",
     "output_type": "stream",
     "text": [
      "100%|██████████| 1/1 [00:00<00:00, 51.62it/s]"
     ]
    },
    {
     "name": "stdout",
     "output_type": "stream",
     "text": [
      "\n",
      "Wrote 1 elements to TFRecord\n"
     ]
    },
    {
     "name": "stderr",
     "output_type": "stream",
     "text": [
      "\n"
     ]
    },
    {
     "name": "stdout",
     "output_type": "stream",
     "text": [
      "MYD021KM-A2018096.2215\n",
      "(1, 512, 1024)\n",
      "(1, 512, 1024, 8)\n",
      "\n",
      "Using 1 shard(s) for 1 files, with up to 1 samples per shard\n"
     ]
    },
    {
     "name": "stderr",
     "output_type": "stream",
     "text": [
      "100%|██████████| 1/1 [00:00<00:00, 54.68it/s]"
     ]
    },
    {
     "name": "stdout",
     "output_type": "stream",
     "text": [
      "\n",
      "Wrote 1 elements to TFRecord\n"
     ]
    },
    {
     "name": "stderr",
     "output_type": "stream",
     "text": [
      "\n"
     ]
    },
    {
     "name": "stdout",
     "output_type": "stream",
     "text": [
      "MYD021KM-A2018096.1920\n",
      "MYD021KM-A2018096.0600\n",
      "(1, 512, 1024)\n",
      "(1, 512, 1024, 8)\n",
      "\n",
      "Using 1 shard(s) for 1 files, with up to 1 samples per shard\n"
     ]
    },
    {
     "name": "stderr",
     "output_type": "stream",
     "text": [
      "100%|██████████| 1/1 [00:00<00:00, 56.05it/s]"
     ]
    },
    {
     "name": "stdout",
     "output_type": "stream",
     "text": [
      "\n",
      "Wrote 1 elements to TFRecord\n"
     ]
    },
    {
     "name": "stderr",
     "output_type": "stream",
     "text": [
      "\n"
     ]
    },
    {
     "name": "stdout",
     "output_type": "stream",
     "text": [
      "MYD021KM-A2018096.0110\n",
      "MYD021KM-A2018096.1540\n",
      "(1, 512, 1024)\n",
      "(1, 512, 1024, 8)\n",
      "\n",
      "Using 1 shard(s) for 1 files, with up to 1 samples per shard\n"
     ]
    },
    {
     "name": "stderr",
     "output_type": "stream",
     "text": [
      "100%|██████████| 1/1 [00:00<00:00, 54.52it/s]"
     ]
    },
    {
     "name": "stdout",
     "output_type": "stream",
     "text": [
      "\n",
      "Wrote 1 elements to TFRecord\n"
     ]
    },
    {
     "name": "stderr",
     "output_type": "stream",
     "text": [
      "\n"
     ]
    },
    {
     "name": "stdout",
     "output_type": "stream",
     "text": [
      "MYD021KM-A2018096.1900\n",
      "(1, 512, 1024)\n",
      "(1, 512, 1024, 8)\n",
      "\n",
      "Using 1 shard(s) for 1 files, with up to 1 samples per shard\n"
     ]
    },
    {
     "name": "stderr",
     "output_type": "stream",
     "text": [
      "100%|██████████| 1/1 [00:00<00:00, 53.77it/s]"
     ]
    },
    {
     "name": "stdout",
     "output_type": "stream",
     "text": [
      "\n",
      "Wrote 1 elements to TFRecord\n"
     ]
    },
    {
     "name": "stderr",
     "output_type": "stream",
     "text": [
      "\n"
     ]
    },
    {
     "name": "stdout",
     "output_type": "stream",
     "text": [
      "MYD021KM-A2018096.1040\n",
      "MYD021KM-A2018096.1905\n",
      "(1, 512, 1024)\n",
      "(1, 512, 1024, 8)\n",
      "\n",
      "Using 1 shard(s) for 1 files, with up to 1 samples per shard\n"
     ]
    },
    {
     "name": "stderr",
     "output_type": "stream",
     "text": [
      "100%|██████████| 1/1 [00:00<00:00, 38.75it/s]"
     ]
    },
    {
     "name": "stdout",
     "output_type": "stream",
     "text": [
      "\n",
      "Wrote 1 elements to TFRecord\n"
     ]
    },
    {
     "name": "stderr",
     "output_type": "stream",
     "text": [
      "\n"
     ]
    },
    {
     "name": "stdout",
     "output_type": "stream",
     "text": [
      "MYD021KM-A2018096.1550\n",
      "(1, 512, 1024)\n",
      "(1, 512, 1024, 8)\n",
      "\n",
      "Using 1 shard(s) for 1 files, with up to 1 samples per shard\n"
     ]
    },
    {
     "name": "stderr",
     "output_type": "stream",
     "text": [
      "100%|██████████| 1/1 [00:00<00:00, 55.32it/s]"
     ]
    },
    {
     "name": "stdout",
     "output_type": "stream",
     "text": [
      "\n",
      "Wrote 1 elements to TFRecord\n"
     ]
    },
    {
     "name": "stderr",
     "output_type": "stream",
     "text": [
      "\n"
     ]
    },
    {
     "name": "stdout",
     "output_type": "stream",
     "text": [
      "MYD021KM-A2018096.0625\n",
      "MYD021KM-A2018096.1110\n",
      "MYD021KM-A2018096.1735\n",
      "(1, 512, 1024)\n",
      "(1, 512, 1024, 8)\n",
      "\n",
      "Using 1 shard(s) for 1 files, with up to 1 samples per shard\n"
     ]
    },
    {
     "name": "stderr",
     "output_type": "stream",
     "text": [
      "100%|██████████| 1/1 [00:00<00:00, 54.59it/s]"
     ]
    },
    {
     "name": "stdout",
     "output_type": "stream",
     "text": [
      "\n",
      "Wrote 1 elements to TFRecord\n"
     ]
    },
    {
     "name": "stderr",
     "output_type": "stream",
     "text": [
      "\n"
     ]
    },
    {
     "name": "stdout",
     "output_type": "stream",
     "text": [
      "MYD021KM-A2018096.0800\n",
      "MYD021KM-A2018096.2255\n",
      "MYD021KM-A2018096.2035\n",
      "(1, 512, 1024)\n",
      "(1, 512, 1024, 8)\n",
      "\n",
      "Using 1 shard(s) for 1 files, with up to 1 samples per shard\n"
     ]
    },
    {
     "name": "stderr",
     "output_type": "stream",
     "text": [
      "100%|██████████| 1/1 [00:00<00:00, 53.06it/s]"
     ]
    },
    {
     "name": "stdout",
     "output_type": "stream",
     "text": [
      "\n",
      "Wrote 1 elements to TFRecord\n"
     ]
    },
    {
     "name": "stderr",
     "output_type": "stream",
     "text": [
      "\n"
     ]
    },
    {
     "name": "stdout",
     "output_type": "stream",
     "text": [
      "MYD021KM-A2018096.1855\n",
      "(1, 512, 1024)\n",
      "(1, 512, 1024, 8)\n",
      "\n",
      "Using 1 shard(s) for 1 files, with up to 1 samples per shard\n"
     ]
    },
    {
     "name": "stderr",
     "output_type": "stream",
     "text": [
      "100%|██████████| 1/1 [00:00<00:00, 53.44it/s]"
     ]
    },
    {
     "name": "stdout",
     "output_type": "stream",
     "text": [
      "\n",
      "Wrote 1 elements to TFRecord\n"
     ]
    },
    {
     "name": "stderr",
     "output_type": "stream",
     "text": [
      "\n"
     ]
    },
    {
     "name": "stdout",
     "output_type": "stream",
     "text": [
      "MYD021KM-A2018096.0125\n",
      "MYD021KM-A2018096.1415\n",
      "(1, 512, 1024)\n",
      "(1, 512, 1024, 8)\n",
      "\n",
      "Using 1 shard(s) for 1 files, with up to 1 samples per shard\n"
     ]
    },
    {
     "name": "stderr",
     "output_type": "stream",
     "text": [
      "100%|██████████| 1/1 [00:00<00:00, 50.55it/s]"
     ]
    },
    {
     "name": "stdout",
     "output_type": "stream",
     "text": [
      "\n",
      "Wrote 1 elements to TFRecord\n"
     ]
    },
    {
     "name": "stderr",
     "output_type": "stream",
     "text": [
      "\n"
     ]
    },
    {
     "name": "stdout",
     "output_type": "stream",
     "text": [
      "MYD021KM-A2018096.0435\n",
      "MYD021KM-A2018096.0130\n",
      "MYD021KM-A2018096.2355\n",
      "(1, 512, 1024)\n",
      "(1, 512, 1024, 8)\n",
      "\n",
      "Using 1 shard(s) for 1 files, with up to 1 samples per shard\n"
     ]
    },
    {
     "name": "stderr",
     "output_type": "stream",
     "text": [
      "100%|██████████| 1/1 [00:00<00:00, 53.74it/s]"
     ]
    },
    {
     "name": "stdout",
     "output_type": "stream",
     "text": [
      "\n",
      "Wrote 1 elements to TFRecord\n"
     ]
    },
    {
     "name": "stderr",
     "output_type": "stream",
     "text": [
      "\n"
     ]
    },
    {
     "name": "stdout",
     "output_type": "stream",
     "text": [
      "MYD021KM-A2018096.0550\n",
      "(1, 512, 1024)\n",
      "(1, 512, 1024, 8)\n",
      "\n",
      "Using 1 shard(s) for 1 files, with up to 1 samples per shard\n"
     ]
    },
    {
     "name": "stderr",
     "output_type": "stream",
     "text": [
      "100%|██████████| 1/1 [00:00<00:00, 43.15it/s]"
     ]
    },
    {
     "name": "stdout",
     "output_type": "stream",
     "text": [
      "\n",
      "Wrote 1 elements to TFRecord\n"
     ]
    },
    {
     "name": "stderr",
     "output_type": "stream",
     "text": [
      "\n"
     ]
    },
    {
     "name": "stdout",
     "output_type": "stream",
     "text": [
      "MYD021KM-A2018096.0450\n",
      "MYD021KM-A2018096.2055\n",
      "MYD021KM-A2018096.1440\n",
      "MYD021KM-A2018096.1610\n",
      "MYD021KM-A2018096.1050\n",
      "(1, 512, 1024)\n",
      "(1, 512, 1024, 8)\n",
      "\n",
      "Using 1 shard(s) for 1 files, with up to 1 samples per shard\n"
     ]
    },
    {
     "name": "stderr",
     "output_type": "stream",
     "text": [
      "100%|██████████| 1/1 [00:00<00:00, 52.12it/s]"
     ]
    },
    {
     "name": "stdout",
     "output_type": "stream",
     "text": [
      "\n",
      "Wrote 1 elements to TFRecord\n"
     ]
    },
    {
     "name": "stderr",
     "output_type": "stream",
     "text": [
      "\n"
     ]
    },
    {
     "name": "stdout",
     "output_type": "stream",
     "text": [
      "MYD021KM-A2018096.0730\n",
      "(1, 512, 1024)\n",
      "(1, 512, 1024, 8)\n",
      "\n",
      "Using 1 shard(s) for 1 files, with up to 1 samples per shard\n"
     ]
    },
    {
     "name": "stderr",
     "output_type": "stream",
     "text": [
      "100%|██████████| 1/1 [00:00<00:00, 36.77it/s]"
     ]
    },
    {
     "name": "stdout",
     "output_type": "stream",
     "text": [
      "\n",
      "Wrote 1 elements to TFRecord\n"
     ]
    },
    {
     "name": "stderr",
     "output_type": "stream",
     "text": [
      "\n"
     ]
    },
    {
     "name": "stdout",
     "output_type": "stream",
     "text": [
      "MYD021KM-A2018096.1120\n",
      "MYD021KM-A2018096.0235\n",
      "(1, 512, 1024)\n",
      "(1, 512, 1024, 8)\n",
      "\n",
      "Using 1 shard(s) for 1 files, with up to 1 samples per shard\n"
     ]
    },
    {
     "name": "stderr",
     "output_type": "stream",
     "text": [
      "100%|██████████| 1/1 [00:00<00:00, 35.53it/s]"
     ]
    },
    {
     "name": "stdout",
     "output_type": "stream",
     "text": [
      "\n",
      "Wrote 1 elements to TFRecord\n"
     ]
    },
    {
     "name": "stderr",
     "output_type": "stream",
     "text": [
      "\n"
     ]
    },
    {
     "name": "stdout",
     "output_type": "stream",
     "text": [
      "MYD021KM-A2018096.1755\n",
      "MYD021KM-A2018096.0540\n",
      "(1, 512, 1024)\n",
      "(1, 512, 1024, 8)\n",
      "\n",
      "Using 1 shard(s) for 1 files, with up to 1 samples per shard\n"
     ]
    },
    {
     "name": "stderr",
     "output_type": "stream",
     "text": [
      "100%|██████████| 1/1 [00:00<00:00, 50.97it/s]"
     ]
    },
    {
     "name": "stdout",
     "output_type": "stream",
     "text": [
      "\n",
      "Wrote 1 elements to TFRecord\n"
     ]
    },
    {
     "name": "stderr",
     "output_type": "stream",
     "text": [
      "\n"
     ]
    },
    {
     "name": "stdout",
     "output_type": "stream",
     "text": [
      "MYD021KM-A2018096.0220\n",
      "(1, 512, 1024)\n",
      "(1, 512, 1024, 8)\n",
      "\n",
      "Using 1 shard(s) for 1 files, with up to 1 samples per shard\n"
     ]
    },
    {
     "name": "stderr",
     "output_type": "stream",
     "text": [
      "100%|██████████| 1/1 [00:00<00:00, 54.11it/s]"
     ]
    },
    {
     "name": "stdout",
     "output_type": "stream",
     "text": [
      "\n",
      "Wrote 1 elements to TFRecord\n"
     ]
    },
    {
     "name": "stderr",
     "output_type": "stream",
     "text": [
      "\n"
     ]
    },
    {
     "name": "stdout",
     "output_type": "stream",
     "text": [
      "MYD021KM-A2018096.2240\n",
      "MYD021KM-A2018096.0935\n",
      "MYD021KM-A2018096.0445\n",
      "MYD021KM-A2018096.0050\n",
      "(1, 512, 1024)\n",
      "(1, 512, 1024, 8)\n",
      "\n",
      "Using 1 shard(s) for 1 files, with up to 1 samples per shard\n"
     ]
    },
    {
     "name": "stderr",
     "output_type": "stream",
     "text": [
      "100%|██████████| 1/1 [00:00<00:00, 54.48it/s]"
     ]
    },
    {
     "name": "stdout",
     "output_type": "stream",
     "text": [
      "\n",
      "Wrote 1 elements to TFRecord\n"
     ]
    },
    {
     "name": "stderr",
     "output_type": "stream",
     "text": [
      "\n"
     ]
    },
    {
     "name": "stdout",
     "output_type": "stream",
     "text": [
      "MYD021KM-A2018096.1045\n",
      "(1, 512, 1024)\n",
      "(1, 512, 1024, 8)\n",
      "\n",
      "Using 1 shard(s) for 1 files, with up to 1 samples per shard\n"
     ]
    },
    {
     "name": "stderr",
     "output_type": "stream",
     "text": [
      "100%|██████████| 1/1 [00:00<00:00, 53.04it/s]"
     ]
    },
    {
     "name": "stdout",
     "output_type": "stream",
     "text": [
      "\n",
      "Wrote 1 elements to TFRecord\n"
     ]
    },
    {
     "name": "stderr",
     "output_type": "stream",
     "text": [
      "\n"
     ]
    },
    {
     "name": "stdout",
     "output_type": "stream",
     "text": [
      "MYD021KM-A2018096.1225\n",
      "(1, 512, 1024)\n",
      "(1, 512, 1024, 8)\n",
      "\n",
      "Using 1 shard(s) for 1 files, with up to 1 samples per shard\n"
     ]
    },
    {
     "name": "stderr",
     "output_type": "stream",
     "text": [
      "100%|██████████| 1/1 [00:00<00:00, 55.35it/s]"
     ]
    },
    {
     "name": "stdout",
     "output_type": "stream",
     "text": [
      "\n",
      "Wrote 1 elements to TFRecord\n"
     ]
    },
    {
     "name": "stderr",
     "output_type": "stream",
     "text": [
      "\n"
     ]
    },
    {
     "name": "stdout",
     "output_type": "stream",
     "text": [
      "MYD021KM-A2018096.0915\n",
      "(1, 512, 1024)\n",
      "(1, 512, 1024, 8)\n",
      "\n",
      "Using 1 shard(s) for 1 files, with up to 1 samples per shard\n"
     ]
    },
    {
     "name": "stderr",
     "output_type": "stream",
     "text": [
      "100%|██████████| 1/1 [00:00<00:00, 55.29it/s]"
     ]
    },
    {
     "name": "stdout",
     "output_type": "stream",
     "text": [
      "\n",
      "Wrote 1 elements to TFRecord\n"
     ]
    },
    {
     "name": "stderr",
     "output_type": "stream",
     "text": [
      "\n"
     ]
    },
    {
     "name": "stdout",
     "output_type": "stream",
     "text": [
      "MYD021KM-A2018096.0900\n",
      "(1, 512, 1024)\n",
      "(1, 512, 1024, 8)\n",
      "\n",
      "Using 1 shard(s) for 1 files, with up to 1 samples per shard\n"
     ]
    },
    {
     "name": "stderr",
     "output_type": "stream",
     "text": [
      "100%|██████████| 1/1 [00:00<00:00, 50.01it/s]"
     ]
    },
    {
     "name": "stdout",
     "output_type": "stream",
     "text": [
      "\n",
      "Wrote 1 elements to TFRecord\n"
     ]
    },
    {
     "name": "stderr",
     "output_type": "stream",
     "text": [
      "\n"
     ]
    },
    {
     "name": "stdout",
     "output_type": "stream",
     "text": [
      "MYD021KM-A2018096.2050\n",
      "(1, 512, 1024)\n",
      "(1, 512, 1024, 8)\n",
      "\n",
      "Using 1 shard(s) for 1 files, with up to 1 samples per shard\n"
     ]
    },
    {
     "name": "stderr",
     "output_type": "stream",
     "text": [
      "100%|██████████| 1/1 [00:00<00:00, 54.50it/s]"
     ]
    },
    {
     "name": "stdout",
     "output_type": "stream",
     "text": [
      "\n",
      "Wrote 1 elements to TFRecord\n"
     ]
    },
    {
     "name": "stderr",
     "output_type": "stream",
     "text": [
      "\n"
     ]
    },
    {
     "name": "stdout",
     "output_type": "stream",
     "text": [
      "MYD021KM-A2018096.1115\n",
      "MYD021KM-A2018096.0910\n",
      "(1, 512, 1024)\n",
      "(1, 512, 1024, 8)\n",
      "\n",
      "Using 1 shard(s) for 1 files, with up to 1 samples per shard\n"
     ]
    },
    {
     "name": "stderr",
     "output_type": "stream",
     "text": [
      "100%|██████████| 1/1 [00:00<00:00, 55.81it/s]"
     ]
    },
    {
     "name": "stdout",
     "output_type": "stream",
     "text": [
      "\n",
      "Wrote 1 elements to TFRecord\n"
     ]
    },
    {
     "name": "stderr",
     "output_type": "stream",
     "text": [
      "\n"
     ]
    },
    {
     "name": "stdout",
     "output_type": "stream",
     "text": [
      "MYD021KM-A2018096.2115\n",
      "MYD021KM-A2018096.0750\n",
      "MYD021KM-A2018096.0300\n",
      "MYD021KM-A2018096.2235\n",
      "MYD021KM-A2018096.2300\n",
      "MYD021KM-A2018096.1850\n",
      "(1, 512, 1024)\n",
      "(1, 512, 1024, 8)\n",
      "\n",
      "Using 1 shard(s) for 1 files, with up to 1 samples per shard\n"
     ]
    },
    {
     "name": "stderr",
     "output_type": "stream",
     "text": [
      "100%|██████████| 1/1 [00:00<00:00, 53.97it/s]"
     ]
    },
    {
     "name": "stdout",
     "output_type": "stream",
     "text": [
      "\n",
      "Wrote 1 elements to TFRecord\n"
     ]
    },
    {
     "name": "stderr",
     "output_type": "stream",
     "text": [
      "\n"
     ]
    },
    {
     "name": "stdout",
     "output_type": "stream",
     "text": [
      "MYD021KM-A2018096.0545\n",
      "(1, 512, 1024)\n",
      "(1, 512, 1024, 8)\n",
      "\n",
      "Using 1 shard(s) for 1 files, with up to 1 samples per shard\n"
     ]
    },
    {
     "name": "stderr",
     "output_type": "stream",
     "text": [
      "100%|██████████| 1/1 [00:00<00:00, 51.53it/s]"
     ]
    },
    {
     "name": "stdout",
     "output_type": "stream",
     "text": [
      "\n",
      "Wrote 1 elements to TFRecord\n"
     ]
    },
    {
     "name": "stderr",
     "output_type": "stream",
     "text": [
      "\n"
     ]
    },
    {
     "name": "stdout",
     "output_type": "stream",
     "text": [
      "MYD021KM-A2018096.0805\n",
      "MYD021KM-A2018096.0605\n",
      "MYD021KM-A2018096.0615\n",
      "MYD021KM-A2018096.1730\n",
      "(1, 512, 1024)\n",
      "(1, 512, 1024, 8)\n",
      "\n",
      "Using 1 shard(s) for 1 files, with up to 1 samples per shard\n"
     ]
    },
    {
     "name": "stderr",
     "output_type": "stream",
     "text": [
      "100%|██████████| 1/1 [00:00<00:00, 53.09it/s]"
     ]
    },
    {
     "name": "stdout",
     "output_type": "stream",
     "text": [
      "\n",
      "Wrote 1 elements to TFRecord\n"
     ]
    },
    {
     "name": "stderr",
     "output_type": "stream",
     "text": [
      "\n"
     ]
    },
    {
     "name": "stdout",
     "output_type": "stream",
     "text": [
      "MYD021KM-A2018096.0415\n",
      "(1, 512, 1024)\n",
      "(1, 512, 1024, 8)\n",
      "\n",
      "Using 1 shard(s) for 1 files, with up to 1 samples per shard\n"
     ]
    },
    {
     "name": "stderr",
     "output_type": "stream",
     "text": [
      "100%|██████████| 1/1 [00:00<00:00, 52.06it/s]"
     ]
    },
    {
     "name": "stdout",
     "output_type": "stream",
     "text": [
      "\n",
      "Wrote 1 elements to TFRecord\n"
     ]
    },
    {
     "name": "stderr",
     "output_type": "stream",
     "text": [
      "\n"
     ]
    },
    {
     "name": "stdout",
     "output_type": "stream",
     "text": [
      "MYD021KM-A2018096.1055\n",
      "MYD021KM-A2018096.0120\n",
      "MYD021KM-A2018096.0250\n",
      "MYD021KM-A2018096.1400\n",
      "MYD021KM-A2018096.1410\n",
      "MYD021KM-A2018096.1125\n",
      "MYD021KM-A2018096.1615\n",
      "MYD021KM-A2018096.2210\n",
      "(1, 512, 1024)\n",
      "(1, 512, 1024, 8)\n",
      "\n",
      "Using 1 shard(s) for 1 files, with up to 1 samples per shard\n"
     ]
    },
    {
     "name": "stderr",
     "output_type": "stream",
     "text": [
      "100%|██████████| 1/1 [00:00<00:00, 53.51it/s]"
     ]
    },
    {
     "name": "stdout",
     "output_type": "stream",
     "text": [
      "\n",
      "Wrote 1 elements to TFRecord\n"
     ]
    },
    {
     "name": "stderr",
     "output_type": "stream",
     "text": [
      "\n"
     ]
    },
    {
     "name": "stdout",
     "output_type": "stream",
     "text": [
      "MYD021KM-A2018096.0055\n",
      "(1, 512, 1024)\n",
      "(1, 512, 1024, 8)\n",
      "\n",
      "Using 1 shard(s) for 1 files, with up to 1 samples per shard\n"
     ]
    },
    {
     "name": "stderr",
     "output_type": "stream",
     "text": [
      "100%|██████████| 1/1 [00:00<00:00, 54.29it/s]"
     ]
    },
    {
     "name": "stdout",
     "output_type": "stream",
     "text": [
      "\n",
      "Wrote 1 elements to TFRecord\n"
     ]
    },
    {
     "name": "stderr",
     "output_type": "stream",
     "text": [
      "\n"
     ]
    },
    {
     "name": "stdout",
     "output_type": "stream",
     "text": [
      "MYD021KM-A2018096.1220\n",
      "MYD021KM-A2018096.1745\n",
      "MYD021KM-A2018096.1935\n",
      "MYD021KM-A2018096.1930\n",
      "MYD021KM-A2018096.1750\n",
      "MYD021KM-A2018096.1100\n",
      "MYD021KM-A2018096.1305\n",
      "MYD021KM-A2018096.1430\n",
      "MYD021KM-A2018096.1105\n",
      "MYD021KM-A2018096.0755\n",
      "MYD021KM-A2018096.0400\n",
      "(1, 512, 1024)\n",
      "(1, 512, 1024, 8)\n",
      "\n",
      "Using 1 shard(s) for 1 files, with up to 1 samples per shard\n"
     ]
    },
    {
     "name": "stderr",
     "output_type": "stream",
     "text": [
      "100%|██████████| 1/1 [00:00<00:00, 51.96it/s]"
     ]
    },
    {
     "name": "stdout",
     "output_type": "stream",
     "text": [
      "\n",
      "Wrote 1 elements to TFRecord\n"
     ]
    },
    {
     "name": "stderr",
     "output_type": "stream",
     "text": [
      "\n"
     ]
    },
    {
     "name": "stdout",
     "output_type": "stream",
     "text": [
      "MYD021KM-A2018096.0305\n",
      "MYD021KM-A2018096.0630\n",
      "MYD021KM-A2018096.1420\n",
      "MYD021KM-A2018096.1555\n",
      "(1, 512, 1024)\n",
      "(1, 512, 1024, 8)\n",
      "\n",
      "Using 1 shard(s) for 1 files, with up to 1 samples per shard\n"
     ]
    },
    {
     "name": "stderr",
     "output_type": "stream",
     "text": [
      "100%|██████████| 1/1 [00:00<00:00, 53.82it/s]"
     ]
    },
    {
     "name": "stdout",
     "output_type": "stream",
     "text": [
      "\n",
      "Wrote 1 elements to TFRecord\n"
     ]
    },
    {
     "name": "stderr",
     "output_type": "stream",
     "text": [
      "\n"
     ]
    },
    {
     "name": "stdout",
     "output_type": "stream",
     "text": [
      "MYD021KM-A2018096.0420\n",
      "(1, 512, 1024)\n",
      "(1, 512, 1024, 8)\n",
      "\n",
      "Using 1 shard(s) for 1 files, with up to 1 samples per shard\n"
     ]
    },
    {
     "name": "stderr",
     "output_type": "stream",
     "text": [
      "100%|██████████| 1/1 [00:00<00:00, 53.05it/s]"
     ]
    },
    {
     "name": "stdout",
     "output_type": "stream",
     "text": [
      "\n",
      "Wrote 1 elements to TFRecord\n"
     ]
    },
    {
     "name": "stderr",
     "output_type": "stream",
     "text": [
      "\n"
     ]
    },
    {
     "name": "stdout",
     "output_type": "stream",
     "text": [
      "MYD021KM-A2018096.0620\n",
      "MYD021KM-A2018096.2245\n",
      "MYD021KM-A2018096.0735\n",
      "(1, 512, 1024)\n",
      "(1, 512, 1024, 8)\n",
      "\n",
      "Using 1 shard(s) for 1 files, with up to 1 samples per shard\n"
     ]
    },
    {
     "name": "stderr",
     "output_type": "stream",
     "text": [
      "100%|██████████| 1/1 [00:00<00:00, 53.88it/s]"
     ]
    },
    {
     "name": "stdout",
     "output_type": "stream",
     "text": [
      "\n",
      "Wrote 1 elements to TFRecord\n"
     ]
    },
    {
     "name": "stderr",
     "output_type": "stream",
     "text": [
      "\n"
     ]
    },
    {
     "name": "stdout",
     "output_type": "stream",
     "text": [
      "MYD021KM-A2018096.1600\n",
      "MYD021KM-A2018096.0920\n",
      "(1, 512, 1024)\n",
      "(1, 512, 1024, 8)\n",
      "\n",
      "Using 1 shard(s) for 1 files, with up to 1 samples per shard\n"
     ]
    },
    {
     "name": "stderr",
     "output_type": "stream",
     "text": [
      "100%|██████████| 1/1 [00:00<00:00, 52.35it/s]"
     ]
    },
    {
     "name": "stdout",
     "output_type": "stream",
     "text": [
      "\n",
      "Wrote 1 elements to TFRecord\n"
     ]
    },
    {
     "name": "stderr",
     "output_type": "stream",
     "text": [
      "\n"
     ]
    },
    {
     "name": "stdout",
     "output_type": "stream",
     "text": [
      "MYD021KM-A2018096.0045\n",
      "(1, 512, 1024)\n",
      "(1, 512, 1024, 8)\n",
      "\n",
      "Using 1 shard(s) for 1 files, with up to 1 samples per shard\n"
     ]
    },
    {
     "name": "stderr",
     "output_type": "stream",
     "text": [
      "100%|██████████| 1/1 [00:00<00:00, 52.18it/s]"
     ]
    },
    {
     "name": "stdout",
     "output_type": "stream",
     "text": [
      "\n",
      "Wrote 1 elements to TFRecord\n"
     ]
    },
    {
     "name": "stderr",
     "output_type": "stream",
     "text": [
      "\n"
     ]
    },
    {
     "name": "stdout",
     "output_type": "stream",
     "text": [
      "MYD021KM-A2018096.1605\n",
      "MYD021KM-A2018096.1445\n",
      "MYD021KM-A2018096.2110\n",
      "MYD021KM-A2018096.0105\n",
      "(1, 512, 1024)\n",
      "(1, 512, 1024, 8)\n",
      "\n",
      "Using 1 shard(s) for 1 files, with up to 1 samples per shard\n"
     ]
    },
    {
     "name": "stderr",
     "output_type": "stream",
     "text": [
      "100%|██████████| 1/1 [00:00<00:00, 53.30it/s]"
     ]
    },
    {
     "name": "stdout",
     "output_type": "stream",
     "text": [
      "\n",
      "Wrote 1 elements to TFRecord\n"
     ]
    },
    {
     "name": "stderr",
     "output_type": "stream",
     "text": [
      "\n"
     ]
    },
    {
     "name": "stdout",
     "output_type": "stream",
     "text": [
      "MYD021KM-A2018096.1940\n",
      "MYD021KM-A2018096.0945\n",
      "MYD021KM-A2018096.1725\n",
      "MYD021KM-A2018096.2045\n",
      "(1, 512, 1024)\n",
      "(1, 512, 1024, 8)\n",
      "\n",
      "Using 1 shard(s) for 1 files, with up to 1 samples per shard\n"
     ]
    },
    {
     "name": "stderr",
     "output_type": "stream",
     "text": [
      "100%|██████████| 1/1 [00:00<00:00, 52.05it/s]"
     ]
    },
    {
     "name": "stdout",
     "output_type": "stream",
     "text": [
      "\n",
      "Wrote 1 elements to TFRecord\n"
     ]
    },
    {
     "name": "stderr",
     "output_type": "stream",
     "text": [
      "\n"
     ]
    },
    {
     "name": "stdout",
     "output_type": "stream",
     "text": [
      "MYD021KM-A2018096.0245\n",
      "(1, 512, 1024)\n",
      "(1, 512, 1024, 8)\n",
      "\n",
      "Using 1 shard(s) for 1 files, with up to 1 samples per shard\n"
     ]
    },
    {
     "name": "stderr",
     "output_type": "stream",
     "text": [
      "100%|██████████| 1/1 [00:00<00:00, 53.60it/s]"
     ]
    },
    {
     "name": "stdout",
     "output_type": "stream",
     "text": [
      "\n",
      "Wrote 1 elements to TFRecord\n"
     ]
    },
    {
     "name": "stderr",
     "output_type": "stream",
     "text": [
      "\n"
     ]
    },
    {
     "name": "stdout",
     "output_type": "stream",
     "text": [
      "MYD021KM-A2018096.2350\n",
      "MYD021KM-A2018096.2105\n",
      "MYD021KM-A2018096.2030\n",
      "MYD021KM-A2018096.0425\n",
      "(1, 512, 1024)\n",
      "(1, 512, 1024, 8)\n",
      "\n",
      "Using 1 shard(s) for 1 files, with up to 1 samples per shard\n"
     ]
    },
    {
     "name": "stderr",
     "output_type": "stream",
     "text": [
      "100%|██████████| 1/1 [00:00<00:00, 52.92it/s]"
     ]
    },
    {
     "name": "stdout",
     "output_type": "stream",
     "text": [
      "\n",
      "Wrote 1 elements to TFRecord\n"
     ]
    },
    {
     "name": "stderr",
     "output_type": "stream",
     "text": [
      "\n"
     ]
    },
    {
     "name": "stdout",
     "output_type": "stream",
     "text": [
      "MYD021KM-A2018096.1910\n",
      "(1, 512, 1024)\n",
      "(1, 512, 1024, 8)\n",
      "\n",
      "Using 1 shard(s) for 1 files, with up to 1 samples per shard\n"
     ]
    },
    {
     "name": "stderr",
     "output_type": "stream",
     "text": [
      "100%|██████████| 1/1 [00:00<00:00, 55.17it/s]"
     ]
    },
    {
     "name": "stdout",
     "output_type": "stream",
     "text": [
      "\n",
      "Wrote 1 elements to TFRecord\n"
     ]
    },
    {
     "name": "stderr",
     "output_type": "stream",
     "text": [
      "\n"
     ]
    },
    {
     "name": "stdout",
     "output_type": "stream",
     "text": [
      "MYD021KM-A2018096.0925\n",
      "MYD021KM-A2018096.1425\n",
      "MYD021KM-A2018096.2225\n",
      "(1, 512, 1024)\n",
      "(1, 512, 1024, 8)\n",
      "\n",
      "Using 1 shard(s) for 1 files, with up to 1 samples per shard\n"
     ]
    },
    {
     "name": "stderr",
     "output_type": "stream",
     "text": [
      "100%|██████████| 1/1 [00:00<00:00, 54.16it/s]"
     ]
    },
    {
     "name": "stdout",
     "output_type": "stream",
     "text": [
      "\n",
      "Wrote 1 elements to TFRecord\n"
     ]
    },
    {
     "name": "stderr",
     "output_type": "stream",
     "text": [
      "\n"
     ]
    },
    {
     "name": "stdout",
     "output_type": "stream",
     "text": [
      "MYD021KM-A2018096.0720\n",
      "(1, 512, 1024)\n",
      "(1, 512, 1024, 8)\n",
      "\n",
      "Using 1 shard(s) for 1 files, with up to 1 samples per shard\n"
     ]
    },
    {
     "name": "stderr",
     "output_type": "stream",
     "text": [
      "100%|██████████| 1/1 [00:00<00:00, 53.39it/s]"
     ]
    },
    {
     "name": "stdout",
     "output_type": "stream",
     "text": [
      "\n",
      "Wrote 1 elements to TFRecord\n"
     ]
    },
    {
     "name": "stderr",
     "output_type": "stream",
     "text": [
      "\n"
     ]
    },
    {
     "name": "stdout",
     "output_type": "stream",
     "text": [
      "MYD021KM-A2018096.0100\n",
      "(1, 512, 1024)\n",
      "(1, 512, 1024, 8)\n",
      "\n",
      "Using 1 shard(s) for 1 files, with up to 1 samples per shard\n"
     ]
    },
    {
     "name": "stderr",
     "output_type": "stream",
     "text": [
      "100%|██████████| 1/1 [00:00<00:00, 54.48it/s]"
     ]
    },
    {
     "name": "stdout",
     "output_type": "stream",
     "text": [
      "\n",
      "Wrote 1 elements to TFRecord\n"
     ]
    },
    {
     "name": "stderr",
     "output_type": "stream",
     "text": [
      "\n"
     ]
    },
    {
     "name": "stdout",
     "output_type": "stream",
     "text": [
      "MYD021KM-A2018096.1230\n",
      "(1, 512, 1024)\n",
      "(1, 512, 1024, 8)\n",
      "\n",
      "Using 1 shard(s) for 1 files, with up to 1 samples per shard\n"
     ]
    },
    {
     "name": "stderr",
     "output_type": "stream",
     "text": [
      "100%|██████████| 1/1 [00:00<00:00, 53.80it/s]"
     ]
    },
    {
     "name": "stdout",
     "output_type": "stream",
     "text": [
      "\n",
      "Wrote 1 elements to TFRecord\n"
     ]
    },
    {
     "name": "stderr",
     "output_type": "stream",
     "text": [
      "\n"
     ]
    },
    {
     "name": "stdout",
     "output_type": "stream",
     "text": [
      "MYD021KM-A2018096.0255\n",
      "MYD021KM-A2018096.0230\n",
      "(1, 512, 1024)\n",
      "(1, 512, 1024, 8)\n",
      "\n",
      "Using 1 shard(s) for 1 files, with up to 1 samples per shard\n"
     ]
    },
    {
     "name": "stderr",
     "output_type": "stream",
     "text": [
      "100%|██████████| 1/1 [00:00<00:00, 53.74it/s]"
     ]
    },
    {
     "name": "stdout",
     "output_type": "stream",
     "text": [
      "\n",
      "Wrote 1 elements to TFRecord\n"
     ]
    },
    {
     "name": "stderr",
     "output_type": "stream",
     "text": [
      "\n"
     ]
    },
    {
     "name": "stdout",
     "output_type": "stream",
     "text": [
      "MYD021KM-A2018096.0115\n",
      "MYD021KM-A2018096.2100\n",
      "MYD021KM-A2018096.1800\n",
      "MYD021KM-A2018096.1435\n",
      "MYD021KM-A2018096.0745\n",
      "MYD021KM-A2018096.1035\n",
      "(1, 512, 1024)\n",
      "(1, 512, 1024, 8)\n",
      "\n",
      "Using 1 shard(s) for 1 files, with up to 1 samples per shard\n"
     ]
    },
    {
     "name": "stderr",
     "output_type": "stream",
     "text": [
      "100%|██████████| 1/1 [00:00<00:00, 53.20it/s]"
     ]
    },
    {
     "name": "stdout",
     "output_type": "stream",
     "text": [
      "\n",
      "Wrote 1 elements to TFRecord\n"
     ]
    },
    {
     "name": "stderr",
     "output_type": "stream",
     "text": [
      "\n"
     ]
    },
    {
     "name": "stdout",
     "output_type": "stream",
     "text": [
      "MYD021KM-A2018096.1710\n",
      "(1, 512, 1024)\n",
      "(1, 512, 1024, 8)\n",
      "\n",
      "Using 1 shard(s) for 1 files, with up to 1 samples per shard\n"
     ]
    },
    {
     "name": "stderr",
     "output_type": "stream",
     "text": [
      "100%|██████████| 1/1 [00:00<00:00, 52.51it/s]"
     ]
    },
    {
     "name": "stdout",
     "output_type": "stream",
     "text": [
      "\n",
      "Wrote 1 elements to TFRecord\n"
     ]
    },
    {
     "name": "stderr",
     "output_type": "stream",
     "text": [
      "\n"
     ]
    },
    {
     "name": "stdout",
     "output_type": "stream",
     "text": [
      "MYD021KM-A2018096.1300\n",
      "MYD021KM-A2018096.2250\n",
      "MYD021KM-A2018096.1240\n",
      "(1, 512, 1024)\n",
      "(1, 512, 1024, 8)\n",
      "\n",
      "Using 1 shard(s) for 1 files, with up to 1 samples per shard\n"
     ]
    },
    {
     "name": "stderr",
     "output_type": "stream",
     "text": [
      "100%|██████████| 1/1 [00:00<00:00, 53.54it/s]"
     ]
    },
    {
     "name": "stdout",
     "output_type": "stream",
     "text": [
      "\n",
      "Wrote 1 elements to TFRecord\n"
     ]
    },
    {
     "name": "stderr",
     "output_type": "stream",
     "text": [
      "\n"
     ]
    },
    {
     "name": "stdout",
     "output_type": "stream",
     "text": [
      "MYD021KM-A2018096.1255\n",
      "MYD021KM-A2018096.0740\n",
      "(1, 512, 1024)\n",
      "(1, 512, 1024, 8)\n",
      "\n",
      "Using 1 shard(s) for 1 files, with up to 1 samples per shard\n"
     ]
    },
    {
     "name": "stderr",
     "output_type": "stream",
     "text": [
      "100%|██████████| 1/1 [00:00<00:00, 49.04it/s]"
     ]
    },
    {
     "name": "stdout",
     "output_type": "stream",
     "text": [
      "\n",
      "Wrote 1 elements to TFRecord\n"
     ]
    },
    {
     "name": "stderr",
     "output_type": "stream",
     "text": [
      "\n"
     ]
    },
    {
     "name": "stdout",
     "output_type": "stream",
     "text": [
      "MYD021KM-A2018096.0225\n",
      "(1, 512, 1024)\n",
      "(1, 512, 1024, 8)\n",
      "\n",
      "Using 1 shard(s) for 1 files, with up to 1 samples per shard\n"
     ]
    },
    {
     "name": "stderr",
     "output_type": "stream",
     "text": [
      "100%|██████████| 1/1 [00:00<00:00, 53.63it/s]"
     ]
    },
    {
     "name": "stdout",
     "output_type": "stream",
     "text": [
      "\n",
      "Wrote 1 elements to TFRecord\n"
     ]
    },
    {
     "name": "stderr",
     "output_type": "stream",
     "text": [
      "\n"
     ]
    },
    {
     "name": "stdout",
     "output_type": "stream",
     "text": [
      "MYD021KM-A2018096.1740\n",
      "MYD021KM-A2018096.0930\n",
      "MYD021KM-A2018096.0240\n",
      "(1, 512, 1024)\n",
      "(1, 512, 1024, 8)\n",
      "\n",
      "Using 1 shard(s) for 1 files, with up to 1 samples per shard\n"
     ]
    },
    {
     "name": "stderr",
     "output_type": "stream",
     "text": [
      "100%|██████████| 1/1 [00:00<00:00, 51.81it/s]"
     ]
    },
    {
     "name": "stdout",
     "output_type": "stream",
     "text": [
      "\n",
      "Wrote 1 elements to TFRecord\n"
     ]
    },
    {
     "name": "stderr",
     "output_type": "stream",
     "text": [
      "\n"
     ]
    },
    {
     "name": "stdout",
     "output_type": "stream",
     "text": [
      "MYD021KM-A2018096.0905\n",
      "MYD021KM-A2018096.1545\n",
      "(1, 512, 1024)\n",
      "(1, 512, 1024, 8)\n",
      "\n",
      "Using 1 shard(s) for 1 files, with up to 1 samples per shard\n"
     ]
    },
    {
     "name": "stderr",
     "output_type": "stream",
     "text": [
      "100%|██████████| 1/1 [00:00<00:00, 52.88it/s]"
     ]
    },
    {
     "name": "stdout",
     "output_type": "stream",
     "text": [
      "\n",
      "Wrote 1 elements to TFRecord\n"
     ]
    },
    {
     "name": "stderr",
     "output_type": "stream",
     "text": [
      "\n"
     ]
    },
    {
     "name": "stdout",
     "output_type": "stream",
     "text": [
      "MYD021KM-A2018096.1405\n",
      "(1, 512, 1024)\n",
      "(1, 512, 1024, 8)\n",
      "\n",
      "Using 1 shard(s) for 1 files, with up to 1 samples per shard\n"
     ]
    },
    {
     "name": "stderr",
     "output_type": "stream",
     "text": [
      "100%|██████████| 1/1 [00:00<00:00, 53.20it/s]"
     ]
    },
    {
     "name": "stdout",
     "output_type": "stream",
     "text": [
      "\n",
      "Wrote 1 elements to TFRecord\n"
     ]
    },
    {
     "name": "stderr",
     "output_type": "stream",
     "text": [
      "\n"
     ]
    },
    {
     "name": "stdout",
     "output_type": "stream",
     "text": [
      "MYD021KM-A2018096.0405\n",
      "MYD021KM-A2018096.1245\n",
      "MYD021KM-A2018101.0610\n",
      "(1, 512, 1024)\n",
      "(1, 512, 1024, 8)\n",
      "\n",
      "Using 1 shard(s) for 1 files, with up to 1 samples per shard\n"
     ]
    },
    {
     "name": "stderr",
     "output_type": "stream",
     "text": [
      "100%|██████████| 1/1 [00:00<00:00, 50.09it/s]"
     ]
    },
    {
     "name": "stdout",
     "output_type": "stream",
     "text": [
      "\n",
      "Wrote 1 elements to TFRecord\n"
     ]
    },
    {
     "name": "stderr",
     "output_type": "stream",
     "text": [
      "\n"
     ]
    },
    {
     "name": "stdout",
     "output_type": "stream",
     "text": [
      "MYD021KM-A2018101.2115\n",
      "MYD021KM-A2018101.0420\n",
      "(1, 512, 1024)\n",
      "(1, 512, 1024, 8)\n",
      "\n",
      "Using 1 shard(s) for 1 files, with up to 1 samples per shard\n"
     ]
    },
    {
     "name": "stderr",
     "output_type": "stream",
     "text": [
      "100%|██████████| 1/1 [00:00<00:00, 52.85it/s]"
     ]
    },
    {
     "name": "stdout",
     "output_type": "stream",
     "text": [
      "\n",
      "Wrote 1 elements to TFRecord\n"
     ]
    },
    {
     "name": "stderr",
     "output_type": "stream",
     "text": [
      "\n"
     ]
    },
    {
     "name": "stdout",
     "output_type": "stream",
     "text": [
      "MYD021KM-A2018101.0810\n",
      "MYD021KM-A2018101.0110\n",
      "(1, 512, 1024)\n",
      "(1, 512, 1024, 8)\n",
      "\n",
      "Using 1 shard(s) for 1 files, with up to 1 samples per shard\n"
     ]
    },
    {
     "name": "stderr",
     "output_type": "stream",
     "text": [
      "100%|██████████| 1/1 [00:00<00:00, 52.97it/s]"
     ]
    },
    {
     "name": "stdout",
     "output_type": "stream",
     "text": [
      "\n",
      "Wrote 1 elements to TFRecord\n"
     ]
    },
    {
     "name": "stderr",
     "output_type": "stream",
     "text": [
      "\n"
     ]
    },
    {
     "name": "stdout",
     "output_type": "stream",
     "text": [
      "MYD021KM-A2018101.1940\n",
      "MYD021KM-A2018101.1455\n",
      "MYD021KM-A2018101.0100\n",
      "(1, 512, 1024)\n",
      "(1, 512, 1024, 8)\n",
      "\n",
      "Using 1 shard(s) for 1 files, with up to 1 samples per shard\n"
     ]
    },
    {
     "name": "stderr",
     "output_type": "stream",
     "text": [
      "100%|██████████| 1/1 [00:00<00:00, 54.34it/s]"
     ]
    },
    {
     "name": "stdout",
     "output_type": "stream",
     "text": [
      "\n",
      "Wrote 1 elements to TFRecord\n"
     ]
    },
    {
     "name": "stderr",
     "output_type": "stream",
     "text": [
      "\n"
     ]
    },
    {
     "name": "stdout",
     "output_type": "stream",
     "text": [
      "MYD021KM-A2018101.0940\n",
      "(1, 512, 1024)\n",
      "(1, 512, 1024, 8)\n",
      "\n",
      "Using 1 shard(s) for 1 files, with up to 1 samples per shard\n"
     ]
    },
    {
     "name": "stderr",
     "output_type": "stream",
     "text": [
      "100%|██████████| 1/1 [00:00<00:00, 52.43it/s]"
     ]
    },
    {
     "name": "stdout",
     "output_type": "stream",
     "text": [
      "\n",
      "Wrote 1 elements to TFRecord\n"
     ]
    },
    {
     "name": "stderr",
     "output_type": "stream",
     "text": [
      "\n"
     ]
    },
    {
     "name": "stdout",
     "output_type": "stream",
     "text": [
      "MYD021KM-A2018101.0930\n",
      "(1, 512, 1024)\n",
      "(1, 512, 1024, 8)\n",
      "\n",
      "Using 1 shard(s) for 1 files, with up to 1 samples per shard\n"
     ]
    },
    {
     "name": "stderr",
     "output_type": "stream",
     "text": [
      "100%|██████████| 1/1 [00:00<00:00, 54.34it/s]"
     ]
    },
    {
     "name": "stdout",
     "output_type": "stream",
     "text": [
      "\n",
      "Wrote 1 elements to TFRecord\n"
     ]
    },
    {
     "name": "stderr",
     "output_type": "stream",
     "text": [
      "\n"
     ]
    },
    {
     "name": "stdout",
     "output_type": "stream",
     "text": [
      "MYD021KM-A2018101.1820\n",
      "MYD021KM-A2018101.1145\n",
      "MYD021KM-A2018101.1000\n",
      "MYD021KM-A2018101.0425\n",
      "(1, 512, 1024)\n",
      "(1, 512, 1024, 8)\n",
      "\n",
      "Using 1 shard(s) for 1 files, with up to 1 samples per shard\n"
     ]
    },
    {
     "name": "stderr",
     "output_type": "stream",
     "text": [
      "100%|██████████| 1/1 [00:00<00:00, 55.14it/s]"
     ]
    },
    {
     "name": "stdout",
     "output_type": "stream",
     "text": [
      "\n",
      "Wrote 1 elements to TFRecord\n"
     ]
    },
    {
     "name": "stderr",
     "output_type": "stream",
     "text": [
      "\n"
     ]
    },
    {
     "name": "stdout",
     "output_type": "stream",
     "text": [
      "MYD021KM-A2018101.2235\n",
      "MYD021KM-A2018101.0505\n",
      "MYD021KM-A2018101.0435\n",
      "(1, 512, 1024)\n",
      "(1, 512, 1024, 8)\n",
      "\n",
      "Using 1 shard(s) for 1 files, with up to 1 samples per shard\n"
     ]
    },
    {
     "name": "stderr",
     "output_type": "stream",
     "text": [
      "100%|██████████| 1/1 [00:00<00:00, 48.96it/s]"
     ]
    },
    {
     "name": "stdout",
     "output_type": "stream",
     "text": [
      "\n",
      "Wrote 1 elements to TFRecord\n"
     ]
    },
    {
     "name": "stderr",
     "output_type": "stream",
     "text": [
      "\n"
     ]
    },
    {
     "name": "stdout",
     "output_type": "stream",
     "text": [
      "MYD021KM-A2018101.1620\n",
      "MYD021KM-A2018101.0935\n",
      "(1, 512, 1024)\n",
      "(1, 512, 1024, 8)\n",
      "\n",
      "Using 1 shard(s) for 1 files, with up to 1 samples per shard\n"
     ]
    },
    {
     "name": "stderr",
     "output_type": "stream",
     "text": [
      "100%|██████████| 1/1 [00:00<00:00, 53.43it/s]"
     ]
    },
    {
     "name": "stdout",
     "output_type": "stream",
     "text": [
      "\n",
      "Wrote 1 elements to TFRecord\n"
     ]
    },
    {
     "name": "stderr",
     "output_type": "stream",
     "text": [
      "\n"
     ]
    },
    {
     "name": "stdout",
     "output_type": "stream",
     "text": [
      "MYD021KM-A2018101.0445\n",
      "(1, 512, 1024)\n",
      "(1, 512, 1024, 8)\n",
      "\n",
      "Using 1 shard(s) for 1 files, with up to 1 samples per shard\n"
     ]
    },
    {
     "name": "stderr",
     "output_type": "stream",
     "text": [
      "100%|██████████| 1/1 [00:00<00:00, 52.73it/s]"
     ]
    },
    {
     "name": "stdout",
     "output_type": "stream",
     "text": [
      "\n",
      "Wrote 1 elements to TFRecord\n"
     ]
    },
    {
     "name": "stderr",
     "output_type": "stream",
     "text": [
      "\n"
     ]
    },
    {
     "name": "stdout",
     "output_type": "stream",
     "text": [
      "MYD021KM-A2018101.2255\n",
      "MYD021KM-A2018101.1425\n",
      "MYD021KM-A2018101.1500\n",
      "MYD021KM-A2018101.0330\n",
      "MYD021KM-A2018101.0815\n",
      "MYD021KM-A2018101.0955\n",
      "MYD021KM-A2018101.1130\n",
      "MYD021KM-A2018101.1555\n",
      "(1, 512, 1024)\n",
      "(1, 512, 1024, 8)\n",
      "\n",
      "Using 1 shard(s) for 1 files, with up to 1 samples per shard\n"
     ]
    },
    {
     "name": "stderr",
     "output_type": "stream",
     "text": [
      "100%|██████████| 1/1 [00:00<00:00, 52.96it/s]"
     ]
    },
    {
     "name": "stdout",
     "output_type": "stream",
     "text": [
      "\n",
      "Wrote 1 elements to TFRecord\n"
     ]
    },
    {
     "name": "stderr",
     "output_type": "stream",
     "text": [
      "\n"
     ]
    },
    {
     "name": "stdout",
     "output_type": "stream",
     "text": [
      "MYD021KM-A2018101.0925\n",
      "MYD021KM-A2018101.1420\n",
      "(1, 512, 1024)\n",
      "(1, 512, 1024, 8)\n",
      "\n",
      "Using 1 shard(s) for 1 files, with up to 1 samples per shard\n"
     ]
    },
    {
     "name": "stderr",
     "output_type": "stream",
     "text": [
      "100%|██████████| 1/1 [00:00<00:00, 51.83it/s]"
     ]
    },
    {
     "name": "stdout",
     "output_type": "stream",
     "text": [
      "\n",
      "Wrote 1 elements to TFRecord\n"
     ]
    },
    {
     "name": "stderr",
     "output_type": "stream",
     "text": [
      "\n"
     ]
    },
    {
     "name": "stdout",
     "output_type": "stream",
     "text": [
      "MYD021KM-A2018101.0805\n",
      "MYD021KM-A2018101.0300\n",
      "(1, 512, 1024)\n",
      "(1, 512, 1024, 8)\n",
      "\n",
      "Using 1 shard(s) for 1 files, with up to 1 samples per shard\n"
     ]
    },
    {
     "name": "stderr",
     "output_type": "stream",
     "text": [
      "100%|██████████| 1/1 [00:00<00:00, 55.49it/s]"
     ]
    },
    {
     "name": "stdout",
     "output_type": "stream",
     "text": [
      "\n",
      "Wrote 1 elements to TFRecord\n"
     ]
    },
    {
     "name": "stderr",
     "output_type": "stream",
     "text": [
      "\n"
     ]
    },
    {
     "name": "stdout",
     "output_type": "stream",
     "text": [
      "MYD021KM-A2018101.2315\n",
      "MYD021KM-A2018101.1125\n",
      "MYD021KM-A2018101.1315\n",
      "MYD021KM-A2018101.1625\n",
      "MYD021KM-A2018101.1105\n",
      "(1, 512, 1024)\n",
      "(1, 512, 1024, 8)\n",
      "\n",
      "Using 1 shard(s) for 1 files, with up to 1 samples per shard\n"
     ]
    },
    {
     "name": "stderr",
     "output_type": "stream",
     "text": [
      "100%|██████████| 1/1 [00:00<00:00, 53.86it/s]"
     ]
    },
    {
     "name": "stdout",
     "output_type": "stream",
     "text": [
      "\n",
      "Wrote 1 elements to TFRecord\n"
     ]
    },
    {
     "name": "stderr",
     "output_type": "stream",
     "text": [
      "\n"
     ]
    },
    {
     "name": "stdout",
     "output_type": "stream",
     "text": [
      "MYD021KM-A2018101.0450\n",
      "MYD021KM-A2018101.1305\n",
      "MYD021KM-A2018101.2110\n",
      "(1, 512, 1024)\n",
      "(1, 512, 1024, 8)\n",
      "\n",
      "Using 1 shard(s) for 1 files, with up to 1 samples per shard\n"
     ]
    },
    {
     "name": "stderr",
     "output_type": "stream",
     "text": [
      "100%|██████████| 1/1 [00:00<00:00, 53.91it/s]"
     ]
    },
    {
     "name": "stdout",
     "output_type": "stream",
     "text": [
      "\n",
      "Wrote 1 elements to TFRecord\n"
     ]
    },
    {
     "name": "stderr",
     "output_type": "stream",
     "text": [
      "\n"
     ]
    },
    {
     "name": "stdout",
     "output_type": "stream",
     "text": [
      "MYD021KM-A2018101.2000\n",
      "MYD021KM-A2018101.0500\n",
      "MYD021KM-A2018101.2050\n",
      "(1, 512, 1024)\n",
      "(1, 512, 1024, 8)\n",
      "\n",
      "Using 1 shard(s) for 1 files, with up to 1 samples per shard\n"
     ]
    },
    {
     "name": "stderr",
     "output_type": "stream",
     "text": [
      "100%|██████████| 1/1 [00:00<00:00, 52.26it/s]"
     ]
    },
    {
     "name": "stdout",
     "output_type": "stream",
     "text": [
      "\n",
      "Wrote 1 elements to TFRecord\n"
     ]
    },
    {
     "name": "stderr",
     "output_type": "stream",
     "text": [
      "\n"
     ]
    },
    {
     "name": "stdout",
     "output_type": "stream",
     "text": [
      "MYD021KM-A2018101.0105\n",
      "(1, 512, 1024)\n",
      "(1, 512, 1024, 8)\n",
      "\n",
      "Using 1 shard(s) for 1 files, with up to 1 samples per shard\n"
     ]
    },
    {
     "name": "stderr",
     "output_type": "stream",
     "text": [
      "100%|██████████| 1/1 [00:00<00:00, 51.39it/s]"
     ]
    },
    {
     "name": "stdout",
     "output_type": "stream",
     "text": [
      "\n",
      "Wrote 1 elements to TFRecord\n"
     ]
    },
    {
     "name": "stderr",
     "output_type": "stream",
     "text": [
      "\n"
     ]
    },
    {
     "name": "stdout",
     "output_type": "stream",
     "text": [
      "MYD021KM-A2018101.2125\n",
      "MYD021KM-A2018101.0615\n",
      "(1, 512, 1024)\n",
      "(1, 512, 1024, 8)\n",
      "\n",
      "Using 1 shard(s) for 1 files, with up to 1 samples per shard\n"
     ]
    },
    {
     "name": "stderr",
     "output_type": "stream",
     "text": [
      "100%|██████████| 1/1 [00:00<00:00, 52.71it/s]"
     ]
    },
    {
     "name": "stdout",
     "output_type": "stream",
     "text": [
      "\n",
      "Wrote 1 elements to TFRecord\n"
     ]
    },
    {
     "name": "stderr",
     "output_type": "stream",
     "text": [
      "\n"
     ]
    },
    {
     "name": "stdout",
     "output_type": "stream",
     "text": [
      "MYD021KM-A2018101.1120\n",
      "(1, 512, 1024)\n",
      "(1, 512, 1024, 8)\n",
      "\n",
      "Using 1 shard(s) for 1 files, with up to 1 samples per shard\n"
     ]
    },
    {
     "name": "stderr",
     "output_type": "stream",
     "text": [
      "100%|██████████| 1/1 [00:00<00:00, 50.17it/s]"
     ]
    },
    {
     "name": "stdout",
     "output_type": "stream",
     "text": [
      "\n",
      "Wrote 1 elements to TFRecord\n"
     ]
    },
    {
     "name": "stderr",
     "output_type": "stream",
     "text": [
      "\n"
     ]
    },
    {
     "name": "stdout",
     "output_type": "stream",
     "text": [
      "MYD021KM-A2018101.1415\n",
      "MYD021KM-A2018101.0310\n",
      "MYD021KM-A2018101.0640\n",
      "MYD021KM-A2018101.1450\n",
      "MYD021KM-A2018101.1735\n",
      "MYD021KM-A2018101.0800\n",
      "(1, 512, 1024)\n",
      "(1, 512, 1024, 8)\n",
      "\n",
      "Using 1 shard(s) for 1 files, with up to 1 samples per shard\n"
     ]
    },
    {
     "name": "stderr",
     "output_type": "stream",
     "text": [
      "100%|██████████| 1/1 [00:00<00:00, 52.12it/s]"
     ]
    },
    {
     "name": "stdout",
     "output_type": "stream",
     "text": [
      "\n",
      "Wrote 1 elements to TFRecord\n"
     ]
    },
    {
     "name": "stderr",
     "output_type": "stream",
     "text": [
      "\n"
     ]
    },
    {
     "name": "stdout",
     "output_type": "stream",
     "text": [
      "MYD021KM-A2018101.2120\n",
      "MYD021KM-A2018101.1140\n",
      "MYD021KM-A2018101.0600\n",
      "(1, 512, 1024)\n",
      "(1, 512, 1024, 8)\n",
      "\n",
      "Using 1 shard(s) for 1 files, with up to 1 samples per shard\n"
     ]
    },
    {
     "name": "stderr",
     "output_type": "stream",
     "text": [
      "100%|██████████| 1/1 [00:00<00:00, 49.25it/s]"
     ]
    },
    {
     "name": "stdout",
     "output_type": "stream",
     "text": [
      "\n",
      "Wrote 1 elements to TFRecord\n"
     ]
    },
    {
     "name": "stderr",
     "output_type": "stream",
     "text": [
      "\n"
     ]
    },
    {
     "name": "stdout",
     "output_type": "stream",
     "text": [
      "MYD021KM-A2018101.0625\n",
      "MYD021KM-A2018101.1925\n",
      "(1, 512, 1024)\n",
      "(1, 512, 1024, 8)\n",
      "\n",
      "Using 1 shard(s) for 1 files, with up to 1 samples per shard\n"
     ]
    },
    {
     "name": "stderr",
     "output_type": "stream",
     "text": [
      "100%|██████████| 1/1 [00:00<00:00, 54.23it/s]"
     ]
    },
    {
     "name": "stdout",
     "output_type": "stream",
     "text": [
      "\n",
      "Wrote 1 elements to TFRecord\n"
     ]
    },
    {
     "name": "stderr",
     "output_type": "stream",
     "text": [
      "\n"
     ]
    },
    {
     "name": "stdout",
     "output_type": "stream",
     "text": [
      "MYD021KM-A2018101.2135\n",
      "MYD021KM-A2018101.1325\n",
      "MYD021KM-A2018101.0455\n",
      "MYD021KM-A2018101.1445\n",
      "MYD021KM-A2018101.2130\n",
      "MYD021KM-A2018101.0645\n",
      "MYD021KM-A2018101.1250\n",
      "(1, 512, 1024)\n",
      "(1, 512, 1024, 8)\n",
      "\n",
      "Using 1 shard(s) for 1 files, with up to 1 samples per shard\n"
     ]
    },
    {
     "name": "stderr",
     "output_type": "stream",
     "text": [
      "100%|██████████| 1/1 [00:00<00:00, 50.31it/s]"
     ]
    },
    {
     "name": "stdout",
     "output_type": "stream",
     "text": [
      "\n",
      "Wrote 1 elements to TFRecord\n"
     ]
    },
    {
     "name": "stderr",
     "output_type": "stream",
     "text": [
      "\n"
     ]
    },
    {
     "name": "stdout",
     "output_type": "stream",
     "text": [
      "MYD021KM-A2018101.1440\n",
      "MYD021KM-A2018101.2250\n",
      "(1, 512, 1024)\n",
      "(1, 512, 1024, 8)\n",
      "\n",
      "Using 1 shard(s) for 1 files, with up to 1 samples per shard\n"
     ]
    },
    {
     "name": "stderr",
     "output_type": "stream",
     "text": [
      "100%|██████████| 1/1 [00:00<00:00, 53.23it/s]"
     ]
    },
    {
     "name": "stdout",
     "output_type": "stream",
     "text": [
      "\n",
      "Wrote 1 elements to TFRecord\n"
     ]
    },
    {
     "name": "stderr",
     "output_type": "stream",
     "text": [
      "\n"
     ]
    },
    {
     "name": "stdout",
     "output_type": "stream",
     "text": [
      "MYD021KM-A2018101.1245\n",
      "(1, 512, 1024)\n",
      "(1, 512, 1024, 8)\n",
      "\n",
      "Using 1 shard(s) for 1 files, with up to 1 samples per shard\n"
     ]
    },
    {
     "name": "stderr",
     "output_type": "stream",
     "text": [
      "100%|██████████| 1/1 [00:00<00:00, 51.34it/s]"
     ]
    },
    {
     "name": "stdout",
     "output_type": "stream",
     "text": [
      "\n",
      "Wrote 1 elements to TFRecord\n"
     ]
    },
    {
     "name": "stderr",
     "output_type": "stream",
     "text": [
      "\n"
     ]
    },
    {
     "name": "stdout",
     "output_type": "stream",
     "text": [
      "MYD021KM-A2018101.0130\n",
      "MYD021KM-A2018101.1955\n",
      "MYD021KM-A2018101.0315\n",
      "MYD021KM-A2018101.0920\n",
      "(1, 512, 1024)\n",
      "(1, 512, 1024, 8)\n",
      "\n",
      "Using 1 shard(s) for 1 files, with up to 1 samples per shard\n"
     ]
    },
    {
     "name": "stderr",
     "output_type": "stream",
     "text": [
      "100%|██████████| 1/1 [00:00<00:00, 51.94it/s]"
     ]
    },
    {
     "name": "stdout",
     "output_type": "stream",
     "text": [
      "\n",
      "Wrote 1 elements to TFRecord\n"
     ]
    },
    {
     "name": "stderr",
     "output_type": "stream",
     "text": [
      "\n"
     ]
    },
    {
     "name": "stdout",
     "output_type": "stream",
     "text": [
      "MYD021KM-A2018101.1815\n",
      "MYD021KM-A2018101.2240\n",
      "(1, 512, 1024)\n",
      "(1, 512, 1024, 8)\n",
      "\n",
      "Using 1 shard(s) for 1 files, with up to 1 samples per shard\n"
     ]
    },
    {
     "name": "stderr",
     "output_type": "stream",
     "text": [
      "100%|██████████| 1/1 [00:00<00:00, 54.81it/s]"
     ]
    },
    {
     "name": "stdout",
     "output_type": "stream",
     "text": [
      "\n",
      "Wrote 1 elements to TFRecord\n"
     ]
    },
    {
     "name": "stderr",
     "output_type": "stream",
     "text": [
      "\n"
     ]
    },
    {
     "name": "stdout",
     "output_type": "stream",
     "text": [
      "MYD021KM-A2018101.1110\n",
      "(1, 512, 1024)\n",
      "(1, 512, 1024, 8)\n",
      "\n",
      "Using 1 shard(s) for 1 files, with up to 1 samples per shard\n"
     ]
    },
    {
     "name": "stderr",
     "output_type": "stream",
     "text": [
      "100%|██████████| 1/1 [00:00<00:00, 54.99it/s]"
     ]
    },
    {
     "name": "stdout",
     "output_type": "stream",
     "text": [
      "\n",
      "Wrote 1 elements to TFRecord\n"
     ]
    },
    {
     "name": "stderr",
     "output_type": "stream",
     "text": [
      "\n"
     ]
    },
    {
     "name": "stdout",
     "output_type": "stream",
     "text": [
      "MYD021KM-A2018101.1135\n",
      "MYD021KM-A2018101.1320\n",
      "MYD021KM-A2018101.2100\n",
      "(1, 512, 1024)\n",
      "(1, 512, 1024, 8)\n",
      "\n",
      "Using 1 shard(s) for 1 files, with up to 1 samples per shard\n"
     ]
    },
    {
     "name": "stderr",
     "output_type": "stream",
     "text": [
      "100%|██████████| 1/1 [00:00<00:00, 49.94it/s]"
     ]
    },
    {
     "name": "stdout",
     "output_type": "stream",
     "text": [
      "\n",
      "Wrote 1 elements to TFRecord\n"
     ]
    },
    {
     "name": "stderr",
     "output_type": "stream",
     "text": [
      "\n"
     ]
    },
    {
     "name": "stdout",
     "output_type": "stream",
     "text": [
      "MYD021KM-A2018101.1100\n",
      "MYD021KM-A2018101.0745\n",
      "(1, 512, 1024)\n",
      "(1, 512, 1024, 8)\n",
      "\n",
      "Using 1 shard(s) for 1 files, with up to 1 samples per shard\n"
     ]
    },
    {
     "name": "stderr",
     "output_type": "stream",
     "text": [
      "100%|██████████| 1/1 [00:00<00:00, 54.66it/s]"
     ]
    },
    {
     "name": "stdout",
     "output_type": "stream",
     "text": [
      "\n",
      "Wrote 1 elements to TFRecord\n"
     ]
    },
    {
     "name": "stderr",
     "output_type": "stream",
     "text": [
      "\n"
     ]
    },
    {
     "name": "stdout",
     "output_type": "stream",
     "text": [
      "MYD021KM-A2018101.1920\n",
      "(1, 512, 1024)\n",
      "(1, 512, 1024, 8)\n",
      "\n",
      "Using 1 shard(s) for 1 files, with up to 1 samples per shard\n"
     ]
    },
    {
     "name": "stderr",
     "output_type": "stream",
     "text": [
      "100%|██████████| 1/1 [00:00<00:00, 54.63it/s]"
     ]
    },
    {
     "name": "stdout",
     "output_type": "stream",
     "text": [
      "\n",
      "Wrote 1 elements to TFRecord\n"
     ]
    },
    {
     "name": "stderr",
     "output_type": "stream",
     "text": [
      "\n"
     ]
    },
    {
     "name": "stdout",
     "output_type": "stream",
     "text": [
      "MYD021KM-A2018101.1740\n",
      "(1, 512, 1024)\n",
      "(1, 512, 1024, 8)\n",
      "\n",
      "Using 1 shard(s) for 1 files, with up to 1 samples per shard\n"
     ]
    },
    {
     "name": "stderr",
     "output_type": "stream",
     "text": [
      "100%|██████████| 1/1 [00:00<00:00, 52.98it/s]"
     ]
    },
    {
     "name": "stdout",
     "output_type": "stream",
     "text": [
      "\n",
      "Wrote 1 elements to TFRecord\n"
     ]
    },
    {
     "name": "stderr",
     "output_type": "stream",
     "text": [
      "\n"
     ]
    },
    {
     "name": "stdout",
     "output_type": "stream",
     "text": [
      "MYD021KM-A2018101.1430\n",
      "(1, 512, 1024)\n",
      "(1, 512, 1024, 8)\n",
      "\n",
      "Using 1 shard(s) for 1 files, with up to 1 samples per shard\n"
     ]
    },
    {
     "name": "stderr",
     "output_type": "stream",
     "text": [
      "100%|██████████| 1/1 [00:00<00:00, 49.77it/s]"
     ]
    },
    {
     "name": "stdout",
     "output_type": "stream",
     "text": [
      "\n",
      "Wrote 1 elements to TFRecord\n"
     ]
    },
    {
     "name": "stderr",
     "output_type": "stream",
     "text": [
      "\n"
     ]
    },
    {
     "name": "stdout",
     "output_type": "stream",
     "text": [
      "MYD021KM-A2018101.1550\n",
      "(1, 512, 1024)\n",
      "(1, 512, 1024, 8)\n",
      "\n",
      "Using 1 shard(s) for 1 files, with up to 1 samples per shard\n"
     ]
    },
    {
     "name": "stderr",
     "output_type": "stream",
     "text": [
      "100%|██████████| 1/1 [00:00<00:00, 50.56it/s]"
     ]
    },
    {
     "name": "stdout",
     "output_type": "stream",
     "text": [
      "\n",
      "Wrote 1 elements to TFRecord\n"
     ]
    },
    {
     "name": "stderr",
     "output_type": "stream",
     "text": [
      "\n"
     ]
    },
    {
     "name": "stdout",
     "output_type": "stream",
     "text": [
      "MYD021KM-A2018101.1915\n",
      "(1, 512, 1024)\n",
      "(1, 512, 1024, 8)\n",
      "\n",
      "Using 1 shard(s) for 1 files, with up to 1 samples per shard\n"
     ]
    },
    {
     "name": "stderr",
     "output_type": "stream",
     "text": [
      "100%|██████████| 1/1 [00:00<00:00, 56.80it/s]"
     ]
    },
    {
     "name": "stdout",
     "output_type": "stream",
     "text": [
      "\n",
      "Wrote 1 elements to TFRecord\n"
     ]
    },
    {
     "name": "stderr",
     "output_type": "stream",
     "text": [
      "\n"
     ]
    },
    {
     "name": "stdout",
     "output_type": "stream",
     "text": [
      "MYD021KM-A2018101.0145\n",
      "MYD021KM-A2018101.1005\n",
      "MYD021KM-A2018101.0000\n",
      "MYD021KM-A2018101.2245\n",
      "(1, 512, 1024)\n",
      "(1, 512, 1024, 8)\n",
      "\n",
      "Using 1 shard(s) for 1 files, with up to 1 samples per shard\n"
     ]
    },
    {
     "name": "stderr",
     "output_type": "stream",
     "text": [
      "100%|██████████| 1/1 [00:00<00:00, 52.27it/s]"
     ]
    },
    {
     "name": "stdout",
     "output_type": "stream",
     "text": [
      "\n",
      "Wrote 1 elements to TFRecord\n"
     ]
    },
    {
     "name": "stderr",
     "output_type": "stream",
     "text": [
      "\n"
     ]
    },
    {
     "name": "stdout",
     "output_type": "stream",
     "text": [
      "MYD021KM-A2018101.1310\n",
      "MYD021KM-A2018101.1300\n",
      "MYD021KM-A2018101.1600\n",
      "(1, 512, 1024)\n",
      "(1, 512, 1024, 8)\n",
      "\n",
      "Using 1 shard(s) for 1 files, with up to 1 samples per shard\n"
     ]
    },
    {
     "name": "stderr",
     "output_type": "stream",
     "text": [
      "100%|██████████| 1/1 [00:00<00:00, 51.38it/s]"
     ]
    },
    {
     "name": "stdout",
     "output_type": "stream",
     "text": [
      "\n",
      "Wrote 1 elements to TFRecord\n"
     ]
    },
    {
     "name": "stderr",
     "output_type": "stream",
     "text": [
      "\n"
     ]
    },
    {
     "name": "stdout",
     "output_type": "stream",
     "text": [
      "MYD021KM-A2018101.0305\n",
      "(1, 512, 1024)\n",
      "(1, 512, 1024, 8)\n",
      "\n",
      "Using 1 shard(s) for 1 files, with up to 1 samples per shard\n"
     ]
    },
    {
     "name": "stderr",
     "output_type": "stream",
     "text": [
      "100%|██████████| 1/1 [00:00<00:00, 51.28it/s]"
     ]
    },
    {
     "name": "stdout",
     "output_type": "stream",
     "text": [
      "\n",
      "Wrote 1 elements to TFRecord\n"
     ]
    },
    {
     "name": "stderr",
     "output_type": "stream",
     "text": [
      "\n"
     ]
    },
    {
     "name": "stdout",
     "output_type": "stream",
     "text": [
      "MYD021KM-A2018101.0250\n",
      "(1, 512, 1024)\n",
      "(1, 512, 1024, 8)\n",
      "\n",
      "Using 1 shard(s) for 1 files, with up to 1 samples per shard\n"
     ]
    },
    {
     "name": "stderr",
     "output_type": "stream",
     "text": [
      "100%|██████████| 1/1 [00:00<00:00, 51.05it/s]"
     ]
    },
    {
     "name": "stdout",
     "output_type": "stream",
     "text": [
      "\n",
      "Wrote 1 elements to TFRecord\n"
     ]
    },
    {
     "name": "stderr",
     "output_type": "stream",
     "text": [
      "\n"
     ]
    },
    {
     "name": "stdout",
     "output_type": "stream",
     "text": [
      "MYD021KM-A2018101.1935\n",
      "(1, 512, 1024)\n",
      "(1, 512, 1024, 8)\n",
      "\n",
      "Using 1 shard(s) for 1 files, with up to 1 samples per shard\n"
     ]
    },
    {
     "name": "stderr",
     "output_type": "stream",
     "text": [
      "100%|██████████| 1/1 [00:00<00:00, 51.49it/s]"
     ]
    },
    {
     "name": "stdout",
     "output_type": "stream",
     "text": [
      "\n",
      "Wrote 1 elements to TFRecord\n"
     ]
    },
    {
     "name": "stderr",
     "output_type": "stream",
     "text": [
      "\n"
     ]
    },
    {
     "name": "stdout",
     "output_type": "stream",
     "text": [
      "MYD021KM-A2018101.0245\n",
      "(1, 512, 1024)\n",
      "(1, 512, 1024, 8)\n",
      "\n",
      "Using 1 shard(s) for 1 files, with up to 1 samples per shard\n"
     ]
    },
    {
     "name": "stderr",
     "output_type": "stream",
     "text": [
      "100%|██████████| 1/1 [00:00<00:00, 53.71it/s]"
     ]
    },
    {
     "name": "stdout",
     "output_type": "stream",
     "text": [
      "\n",
      "Wrote 1 elements to TFRecord\n"
     ]
    },
    {
     "name": "stderr",
     "output_type": "stream",
     "text": [
      "\n"
     ]
    },
    {
     "name": "stdout",
     "output_type": "stream",
     "text": [
      "MYD021KM-A2018101.0150\n",
      "MYD021KM-A2018101.1750\n",
      "(1, 512, 1024)\n",
      "(1, 512, 1024, 8)\n",
      "\n",
      "Using 1 shard(s) for 1 files, with up to 1 samples per shard\n"
     ]
    },
    {
     "name": "stderr",
     "output_type": "stream",
     "text": [
      "100%|██████████| 1/1 [00:00<00:00, 51.79it/s]"
     ]
    },
    {
     "name": "stdout",
     "output_type": "stream",
     "text": [
      "\n",
      "Wrote 1 elements to TFRecord\n"
     ]
    },
    {
     "name": "stderr",
     "output_type": "stream",
     "text": [
      "\n"
     ]
    },
    {
     "name": "stdout",
     "output_type": "stream",
     "text": [
      "MYD021KM-A2018101.1255\n",
      "(1, 512, 1024)\n",
      "(1, 512, 1024, 8)\n",
      "\n",
      "Using 1 shard(s) for 1 files, with up to 1 samples per shard\n"
     ]
    },
    {
     "name": "stderr",
     "output_type": "stream",
     "text": [
      "100%|██████████| 1/1 [00:00<00:00, 56.02it/s]"
     ]
    },
    {
     "name": "stdout",
     "output_type": "stream",
     "text": [
      "\n",
      "Wrote 1 elements to TFRecord\n"
     ]
    },
    {
     "name": "stderr",
     "output_type": "stream",
     "text": [
      "\n"
     ]
    },
    {
     "name": "stdout",
     "output_type": "stream",
     "text": [
      "MYD021KM-A2018101.1745\n",
      "(1, 512, 1024)\n",
      "(1, 512, 1024, 8)\n",
      "\n",
      "Using 1 shard(s) for 1 files, with up to 1 samples per shard\n"
     ]
    },
    {
     "name": "stderr",
     "output_type": "stream",
     "text": [
      "100%|██████████| 1/1 [00:00<00:00, 52.18it/s]"
     ]
    },
    {
     "name": "stdout",
     "output_type": "stream",
     "text": [
      "\n",
      "Wrote 1 elements to TFRecord\n"
     ]
    },
    {
     "name": "stderr",
     "output_type": "stream",
     "text": [
      "\n"
     ]
    },
    {
     "name": "stdout",
     "output_type": "stream",
     "text": [
      "MYD021KM-A2018101.0820\n",
      "MYD021KM-A2018101.0140\n",
      "MYD021KM-A2018101.1235\n",
      "MYD021KM-A2018101.1240\n",
      "MYD021KM-A2018101.0635\n",
      "MYD021KM-A2018101.0750\n",
      "(1, 512, 1024)\n",
      "(1, 512, 1024, 8)\n",
      "\n",
      "Using 1 shard(s) for 1 files, with up to 1 samples per shard\n"
     ]
    },
    {
     "name": "stderr",
     "output_type": "stream",
     "text": [
      "100%|██████████| 1/1 [00:00<00:00, 52.44it/s]"
     ]
    },
    {
     "name": "stdout",
     "output_type": "stream",
     "text": [
      "\n",
      "Wrote 1 elements to TFRecord\n"
     ]
    },
    {
     "name": "stderr",
     "output_type": "stream",
     "text": [
      "\n"
     ]
    },
    {
     "name": "stdout",
     "output_type": "stream",
     "text": [
      "MYD021KM-A2018101.0945\n",
      "MYD021KM-A2018101.0430\n",
      "(1, 512, 1024)\n",
      "(1, 512, 1024, 8)\n",
      "\n",
      "Using 1 shard(s) for 1 files, with up to 1 samples per shard\n"
     ]
    },
    {
     "name": "stderr",
     "output_type": "stream",
     "text": [
      "100%|██████████| 1/1 [00:00<00:00, 52.72it/s]"
     ]
    },
    {
     "name": "stdout",
     "output_type": "stream",
     "text": [
      "\n",
      "Wrote 1 elements to TFRecord\n"
     ]
    },
    {
     "name": "stderr",
     "output_type": "stream",
     "text": [
      "\n"
     ]
    },
    {
     "name": "stdout",
     "output_type": "stream",
     "text": [
      "MYD021KM-A2018101.1730\n",
      "(1, 512, 1024)\n",
      "(1, 512, 1024, 8)\n",
      "\n",
      "Using 1 shard(s) for 1 files, with up to 1 samples per shard\n"
     ]
    },
    {
     "name": "stderr",
     "output_type": "stream",
     "text": [
      "100%|██████████| 1/1 [00:00<00:00, 59.13it/s]"
     ]
    },
    {
     "name": "stdout",
     "output_type": "stream",
     "text": [
      "\n",
      "Wrote 1 elements to TFRecord\n"
     ]
    },
    {
     "name": "stderr",
     "output_type": "stream",
     "text": [
      "\n"
     ]
    },
    {
     "name": "stdout",
     "output_type": "stream",
     "text": [
      "MYD021KM-A2018101.0510\n",
      "MYD021KM-A2018101.0630\n",
      "MYD021KM-A2018101.0240\n",
      "(1, 512, 1024)\n",
      "(1, 512, 1024, 8)\n",
      "\n",
      "Using 1 shard(s) for 1 files, with up to 1 samples per shard\n"
     ]
    },
    {
     "name": "stderr",
     "output_type": "stream",
     "text": [
      "100%|██████████| 1/1 [00:00<00:00, 54.41it/s]"
     ]
    },
    {
     "name": "stdout",
     "output_type": "stream",
     "text": [
      "\n",
      "Wrote 1 elements to TFRecord\n"
     ]
    },
    {
     "name": "stderr",
     "output_type": "stream",
     "text": [
      "\n"
     ]
    },
    {
     "name": "stdout",
     "output_type": "stream",
     "text": [
      "MYD021KM-A2018101.0325\n",
      "MYD021KM-A2018101.1910\n",
      "(1, 512, 1024)\n",
      "(1, 512, 1024, 8)\n",
      "\n",
      "Using 1 shard(s) for 1 files, with up to 1 samples per shard\n"
     ]
    },
    {
     "name": "stderr",
     "output_type": "stream",
     "text": [
      "100%|██████████| 1/1 [00:00<00:00, 50.33it/s]"
     ]
    },
    {
     "name": "stdout",
     "output_type": "stream",
     "text": [
      "\n",
      "Wrote 1 elements to TFRecord\n"
     ]
    },
    {
     "name": "stderr",
     "output_type": "stream",
     "text": [
      "\n"
     ]
    },
    {
     "name": "stdout",
     "output_type": "stream",
     "text": [
      "MYD021KM-A2018101.1810\n",
      "MYD021KM-A2018101.0740\n",
      "(1, 512, 1024)\n",
      "(1, 512, 1024, 8)\n",
      "\n",
      "Using 1 shard(s) for 1 files, with up to 1 samples per shard\n"
     ]
    },
    {
     "name": "stderr",
     "output_type": "stream",
     "text": [
      "100%|██████████| 1/1 [00:00<00:00, 54.20it/s]"
     ]
    },
    {
     "name": "stdout",
     "output_type": "stream",
     "text": [
      "\n",
      "Wrote 1 elements to TFRecord\n"
     ]
    },
    {
     "name": "stderr",
     "output_type": "stream",
     "text": [
      "\n"
     ]
    },
    {
     "name": "stdout",
     "output_type": "stream",
     "text": [
      "MYD021KM-A2018101.0320\n",
      "MYD021KM-A2018101.0755\n",
      "(1, 512, 1024)\n",
      "(1, 512, 1024, 8)\n",
      "\n",
      "Using 1 shard(s) for 1 files, with up to 1 samples per shard\n"
     ]
    },
    {
     "name": "stderr",
     "output_type": "stream",
     "text": [
      "100%|██████████| 1/1 [00:00<00:00, 51.41it/s]"
     ]
    },
    {
     "name": "stdout",
     "output_type": "stream",
     "text": [
      "\n",
      "Wrote 1 elements to TFRecord\n"
     ]
    },
    {
     "name": "stderr",
     "output_type": "stream",
     "text": [
      "\n"
     ]
    },
    {
     "name": "stdout",
     "output_type": "stream",
     "text": [
      "MYD021KM-A2018101.0125\n",
      "(1, 512, 1024)\n",
      "(1, 512, 1024, 8)\n",
      "\n",
      "Using 1 shard(s) for 1 files, with up to 1 samples per shard\n"
     ]
    },
    {
     "name": "stderr",
     "output_type": "stream",
     "text": [
      "100%|██████████| 1/1 [00:00<00:00, 53.37it/s]"
     ]
    },
    {
     "name": "stdout",
     "output_type": "stream",
     "text": [
      "\n",
      "Wrote 1 elements to TFRecord\n"
     ]
    },
    {
     "name": "stderr",
     "output_type": "stream",
     "text": [
      "\n"
     ]
    },
    {
     "name": "stdout",
     "output_type": "stream",
     "text": [
      "MYD021KM-A2018101.2105\n",
      "(1, 512, 1024)\n",
      "(1, 512, 1024, 8)\n",
      "\n",
      "Using 1 shard(s) for 1 files, with up to 1 samples per shard\n"
     ]
    },
    {
     "name": "stderr",
     "output_type": "stream",
     "text": [
      "100%|██████████| 1/1 [00:00<00:00, 55.08it/s]"
     ]
    },
    {
     "name": "stdout",
     "output_type": "stream",
     "text": [
      "\n",
      "Wrote 1 elements to TFRecord\n"
     ]
    },
    {
     "name": "stderr",
     "output_type": "stream",
     "text": [
      "\n"
     ]
    },
    {
     "name": "stdout",
     "output_type": "stream",
     "text": [
      "MYD021KM-A2018101.1945\n",
      "MYD021KM-A2018101.0120\n",
      "(1, 512, 1024)\n",
      "(1, 512, 1024, 8)\n",
      "\n",
      "Using 1 shard(s) for 1 files, with up to 1 samples per shard\n"
     ]
    },
    {
     "name": "stderr",
     "output_type": "stream",
     "text": [
      "100%|██████████| 1/1 [00:00<00:00, 52.80it/s]"
     ]
    },
    {
     "name": "stdout",
     "output_type": "stream",
     "text": [
      "\n",
      "Wrote 1 elements to TFRecord\n"
     ]
    },
    {
     "name": "stderr",
     "output_type": "stream",
     "text": [
      "\n"
     ]
    },
    {
     "name": "stdout",
     "output_type": "stream",
     "text": [
      "MYD021KM-A2018101.1610\n",
      "MYD021KM-A2018101.0605\n",
      "MYD021KM-A2018101.1630\n",
      "MYD021KM-A2018101.1640\n",
      "MYD021KM-A2018101.0005\n",
      "MYD021KM-A2018101.0010\n",
      "MYD021KM-A2018101.0735\n",
      "(1, 512, 1024)\n",
      "(1, 512, 1024, 8)\n",
      "\n",
      "Using 1 shard(s) for 1 files, with up to 1 samples per shard\n"
     ]
    },
    {
     "name": "stderr",
     "output_type": "stream",
     "text": [
      "100%|██████████| 1/1 [00:00<00:00, 53.43it/s]"
     ]
    },
    {
     "name": "stdout",
     "output_type": "stream",
     "text": [
      "\n",
      "Wrote 1 elements to TFRecord\n"
     ]
    },
    {
     "name": "stderr",
     "output_type": "stream",
     "text": [
      "\n"
     ]
    },
    {
     "name": "stdout",
     "output_type": "stream",
     "text": [
      "MYD021KM-A2018101.1605\n",
      "(1, 512, 1024)\n",
      "(1, 512, 1024, 8)\n",
      "\n",
      "Using 1 shard(s) for 1 files, with up to 1 samples per shard\n"
     ]
    },
    {
     "name": "stderr",
     "output_type": "stream",
     "text": [
      "100%|██████████| 1/1 [00:00<00:00, 54.71it/s]"
     ]
    },
    {
     "name": "stdout",
     "output_type": "stream",
     "text": [
      "\n",
      "Wrote 1 elements to TFRecord\n"
     ]
    },
    {
     "name": "stderr",
     "output_type": "stream",
     "text": [
      "\n"
     ]
    },
    {
     "name": "stdout",
     "output_type": "stream",
     "text": [
      "MYD021KM-A2018101.1950\n",
      "MYD021KM-A2018101.1055\n",
      "(1, 512, 1024)\n",
      "(1, 512, 1024, 8)\n",
      "\n",
      "Using 1 shard(s) for 1 files, with up to 1 samples per shard\n"
     ]
    },
    {
     "name": "stderr",
     "output_type": "stream",
     "text": [
      "100%|██████████| 1/1 [00:00<00:00, 53.71it/s]"
     ]
    },
    {
     "name": "stdout",
     "output_type": "stream",
     "text": [
      "\n",
      "Wrote 1 elements to TFRecord\n"
     ]
    },
    {
     "name": "stderr",
     "output_type": "stream",
     "text": [
      "\n"
     ]
    },
    {
     "name": "stdout",
     "output_type": "stream",
     "text": [
      "MYD021KM-A2018101.0825\n",
      "MYD021KM-A2018101.1805\n",
      "MYD021KM-A2018101.2055\n",
      "MYD021KM-A2018101.0620\n",
      "(1, 512, 1024)\n",
      "(1, 512, 1024, 8)\n",
      "\n",
      "Using 1 shard(s) for 1 files, with up to 1 samples per shard\n"
     ]
    },
    {
     "name": "stderr",
     "output_type": "stream",
     "text": [
      "100%|██████████| 1/1 [00:00<00:00, 50.13it/s]"
     ]
    },
    {
     "name": "stdout",
     "output_type": "stream",
     "text": [
      "\n",
      "Wrote 1 elements to TFRecord\n"
     ]
    },
    {
     "name": "stderr",
     "output_type": "stream",
     "text": [
      "\n"
     ]
    },
    {
     "name": "stdout",
     "output_type": "stream",
     "text": [
      "MYD021KM-A2018101.0915\n",
      "(1, 512, 1024)\n",
      "(1, 512, 1024, 8)\n",
      "\n",
      "Using 1 shard(s) for 1 files, with up to 1 samples per shard\n"
     ]
    },
    {
     "name": "stderr",
     "output_type": "stream",
     "text": [
      "100%|██████████| 1/1 [00:00<00:00, 56.54it/s]"
     ]
    },
    {
     "name": "stdout",
     "output_type": "stream",
     "text": [
      "\n",
      "Wrote 1 elements to TFRecord\n"
     ]
    },
    {
     "name": "stderr",
     "output_type": "stream",
     "text": [
      "\n"
     ]
    },
    {
     "name": "stdout",
     "output_type": "stream",
     "text": [
      "MYD021KM-A2018101.1635\n",
      "MYD021KM-A2018101.0950\n",
      "MYD021KM-A2018101.1115\n",
      "MYD021KM-A2018101.2310\n",
      "MYD021KM-A2018101.0115\n",
      "(1, 512, 1024)\n",
      "(1, 512, 1024, 8)\n",
      "\n",
      "Using 1 shard(s) for 1 files, with up to 1 samples per shard\n"
     ]
    },
    {
     "name": "stderr",
     "output_type": "stream",
     "text": [
      "100%|██████████| 1/1 [00:00<00:00, 52.84it/s]"
     ]
    },
    {
     "name": "stdout",
     "output_type": "stream",
     "text": [
      "\n",
      "Wrote 1 elements to TFRecord\n"
     ]
    },
    {
     "name": "stderr",
     "output_type": "stream",
     "text": [
      "\n"
     ]
    },
    {
     "name": "stdout",
     "output_type": "stream",
     "text": [
      "MYD021KM-A2018101.1930\n",
      "(1, 512, 1024)\n",
      "(1, 512, 1024, 8)\n",
      "\n",
      "Using 1 shard(s) for 1 files, with up to 1 samples per shard\n"
     ]
    },
    {
     "name": "stderr",
     "output_type": "stream",
     "text": [
      "100%|██████████| 1/1 [00:00<00:00, 51.50it/s]"
     ]
    },
    {
     "name": "stdout",
     "output_type": "stream",
     "text": [
      "\n",
      "Wrote 1 elements to TFRecord\n"
     ]
    },
    {
     "name": "stderr",
     "output_type": "stream",
     "text": [
      "\n"
     ]
    },
    {
     "name": "stdout",
     "output_type": "stream",
     "text": [
      "MYD021KM-A2018101.2305\n",
      "MYD021KM-A2018101.2230\n",
      "(1, 512, 1024)\n",
      "(1, 512, 1024, 8)\n",
      "\n",
      "Using 1 shard(s) for 1 files, with up to 1 samples per shard\n"
     ]
    },
    {
     "name": "stderr",
     "output_type": "stream",
     "text": [
      "100%|██████████| 1/1 [00:00<00:00, 54.24it/s]"
     ]
    },
    {
     "name": "stdout",
     "output_type": "stream",
     "text": [
      "\n",
      "Wrote 1 elements to TFRecord\n"
     ]
    },
    {
     "name": "stderr",
     "output_type": "stream",
     "text": [
      "\n"
     ]
    },
    {
     "name": "stdout",
     "output_type": "stream",
     "text": [
      "MYD021KM-A2018101.1615\n",
      "(1, 512, 1024)\n",
      "(1, 512, 1024, 8)\n",
      "\n",
      "Using 1 shard(s) for 1 files, with up to 1 samples per shard\n"
     ]
    },
    {
     "name": "stderr",
     "output_type": "stream",
     "text": [
      "100%|██████████| 1/1 [00:00<00:00, 51.79it/s]"
     ]
    },
    {
     "name": "stdout",
     "output_type": "stream",
     "text": [
      "\n",
      "Wrote 1 elements to TFRecord\n"
     ]
    },
    {
     "name": "stderr",
     "output_type": "stream",
     "text": [
      "\n"
     ]
    },
    {
     "name": "stdout",
     "output_type": "stream",
     "text": [
      "MYD021KM-A2018101.2225\n",
      "(1, 512, 1024)\n",
      "(1, 512, 1024, 8)\n",
      "\n",
      "Using 1 shard(s) for 1 files, with up to 1 samples per shard\n"
     ]
    },
    {
     "name": "stderr",
     "output_type": "stream",
     "text": [
      "100%|██████████| 1/1 [00:00<00:00, 52.75it/s]"
     ]
    },
    {
     "name": "stdout",
     "output_type": "stream",
     "text": [
      "\n",
      "Wrote 1 elements to TFRecord\n"
     ]
    },
    {
     "name": "stderr",
     "output_type": "stream",
     "text": [
      "\n"
     ]
    },
    {
     "name": "stdout",
     "output_type": "stream",
     "text": [
      "MYD021KM-A2018101.2300\n",
      "MYD021KM-A2018101.1755\n",
      "(1, 512, 1024)\n",
      "(1, 512, 1024, 8)\n",
      "\n",
      "Using 1 shard(s) for 1 files, with up to 1 samples per shard\n"
     ]
    },
    {
     "name": "stderr",
     "output_type": "stream",
     "text": [
      "100%|██████████| 1/1 [00:00<00:00, 52.07it/s]"
     ]
    },
    {
     "name": "stdout",
     "output_type": "stream",
     "text": [
      "\n",
      "Wrote 1 elements to TFRecord\n"
     ]
    },
    {
     "name": "stderr",
     "output_type": "stream",
     "text": [
      "\n"
     ]
    },
    {
     "name": "stdout",
     "output_type": "stream",
     "text": [
      "MYD021KM-A2018101.0135\n",
      "MYD021KM-A2018101.0255\n",
      "(1, 512, 1024)\n",
      "(1, 512, 1024, 8)\n",
      "\n",
      "Using 1 shard(s) for 1 files, with up to 1 samples per shard\n"
     ]
    },
    {
     "name": "stderr",
     "output_type": "stream",
     "text": [
      "100%|██████████| 1/1 [00:00<00:00, 53.57it/s]"
     ]
    },
    {
     "name": "stdout",
     "output_type": "stream",
     "text": [
      "\n",
      "Wrote 1 elements to TFRecord\n"
     ]
    },
    {
     "name": "stderr",
     "output_type": "stream",
     "text": [
      "\n"
     ]
    },
    {
     "name": "stdout",
     "output_type": "stream",
     "text": [
      "MYD021KM-A2018101.0440\n",
      "(1, 512, 1024)\n",
      "(1, 512, 1024, 8)\n",
      "\n",
      "Using 1 shard(s) for 1 files, with up to 1 samples per shard\n"
     ]
    },
    {
     "name": "stderr",
     "output_type": "stream",
     "text": [
      "100%|██████████| 1/1 [00:00<00:00, 52.82it/s]"
     ]
    },
    {
     "name": "stdout",
     "output_type": "stream",
     "text": [
      "\n",
      "Wrote 1 elements to TFRecord\n"
     ]
    },
    {
     "name": "stderr",
     "output_type": "stream",
     "text": [
      "\n"
     ]
    },
    {
     "name": "stdout",
     "output_type": "stream",
     "text": [
      "MYD021KM-A2018101.1435\n",
      "(1, 512, 1024)\n",
      "(1, 512, 1024, 8)\n",
      "\n",
      "Using 1 shard(s) for 1 files, with up to 1 samples per shard\n"
     ]
    },
    {
     "name": "stderr",
     "output_type": "stream",
     "text": [
      "100%|██████████| 1/1 [00:00<00:00, 54.73it/s]"
     ]
    },
    {
     "name": "stdout",
     "output_type": "stream",
     "text": [
      "\n",
      "Wrote 1 elements to TFRecord\n"
     ]
    },
    {
     "name": "stderr",
     "output_type": "stream",
     "text": [
      "\n"
     ]
    },
    {
     "name": "stdout",
     "output_type": "stream",
     "text": [
      "MYD021KM-A2018101.1800\n",
      "MYD021KM-A2018102.0640\n",
      "(1, 512, 1024)\n",
      "(1, 512, 1024, 8)\n",
      "\n",
      "Using 1 shard(s) for 1 files, with up to 1 samples per shard\n"
     ]
    },
    {
     "name": "stderr",
     "output_type": "stream",
     "text": [
      "100%|██████████| 1/1 [00:00<00:00, 52.16it/s]"
     ]
    },
    {
     "name": "stdout",
     "output_type": "stream",
     "text": [
      "\n",
      "Wrote 1 elements to TFRecord\n"
     ]
    },
    {
     "name": "stderr",
     "output_type": "stream",
     "text": [
      "\n"
     ]
    },
    {
     "name": "stdout",
     "output_type": "stream",
     "text": [
      "MYD021KM-A2018102.0505\n",
      "(1, 512, 1024)\n",
      "(1, 512, 1024, 8)\n",
      "\n",
      "Using 1 shard(s) for 1 files, with up to 1 samples per shard\n"
     ]
    },
    {
     "name": "stderr",
     "output_type": "stream",
     "text": [
      "100%|██████████| 1/1 [00:00<00:00, 50.79it/s]"
     ]
    },
    {
     "name": "stdout",
     "output_type": "stream",
     "text": [
      "\n",
      "Wrote 1 elements to TFRecord\n"
     ]
    },
    {
     "name": "stderr",
     "output_type": "stream",
     "text": [
      "\n"
     ]
    },
    {
     "name": "stdout",
     "output_type": "stream",
     "text": [
      "MYD021KM-A2018102.0225\n",
      "MYD021KM-A2018102.1725\n",
      "MYD021KM-A2018102.2135\n",
      "(1, 512, 1024)\n",
      "(1, 512, 1024, 8)\n",
      "\n",
      "Using 1 shard(s) for 1 files, with up to 1 samples per shard\n"
     ]
    },
    {
     "name": "stderr",
     "output_type": "stream",
     "text": [
      "100%|██████████| 1/1 [00:00<00:00, 48.50it/s]"
     ]
    },
    {
     "name": "stdout",
     "output_type": "stream",
     "text": [
      "\n",
      "Wrote 1 elements to TFRecord\n"
     ]
    },
    {
     "name": "stderr",
     "output_type": "stream",
     "text": [
      "\n"
     ]
    },
    {
     "name": "stdout",
     "output_type": "stream",
     "text": [
      "MYD021KM-A2018102.2040\n",
      "MYD021KM-A2018102.0015\n",
      "(1, 512, 1024)\n",
      "(1, 512, 1024, 8)\n",
      "\n",
      "Using 1 shard(s) for 1 files, with up to 1 samples per shard\n"
     ]
    },
    {
     "name": "stderr",
     "output_type": "stream",
     "text": [
      "100%|██████████| 1/1 [00:00<00:00, 55.30it/s]"
     ]
    },
    {
     "name": "stdout",
     "output_type": "stream",
     "text": [
      "\n",
      "Wrote 1 elements to TFRecord\n"
     ]
    },
    {
     "name": "stderr",
     "output_type": "stream",
     "text": [
      "\n"
     ]
    },
    {
     "name": "stdout",
     "output_type": "stream",
     "text": [
      "MYD021KM-A2018102.0650\n",
      "(1, 512, 1024)\n",
      "(1, 512, 1024, 8)\n",
      "\n",
      "Using 1 shard(s) for 1 files, with up to 1 samples per shard\n"
     ]
    },
    {
     "name": "stderr",
     "output_type": "stream",
     "text": [
      "100%|██████████| 1/1 [00:00<00:00, 49.03it/s]"
     ]
    },
    {
     "name": "stdout",
     "output_type": "stream",
     "text": [
      "\n",
      "Wrote 1 elements to TFRecord\n"
     ]
    },
    {
     "name": "stderr",
     "output_type": "stream",
     "text": [
      "\n"
     ]
    },
    {
     "name": "stdout",
     "output_type": "stream",
     "text": [
      "MYD021KM-A2018102.0055\n",
      "MYD021KM-A2018102.0050\n",
      "MYD021KM-A2018102.0035\n",
      "MYD021KM-A2018102.2210\n",
      "MYD021KM-A2018102.2015\n",
      "(1, 512, 1024)\n",
      "(1, 512, 1024, 8)\n",
      "\n",
      "Using 1 shard(s) for 1 files, with up to 1 samples per shard\n"
     ]
    },
    {
     "name": "stderr",
     "output_type": "stream",
     "text": [
      "100%|██████████| 1/1 [00:00<00:00, 54.36it/s]"
     ]
    },
    {
     "name": "stdout",
     "output_type": "stream",
     "text": [
      "\n",
      "Wrote 1 elements to TFRecord\n"
     ]
    },
    {
     "name": "stderr",
     "output_type": "stream",
     "text": [
      "\n"
     ]
    },
    {
     "name": "stdout",
     "output_type": "stream",
     "text": [
      "MYD021KM-A2018102.2315\n",
      "(1, 512, 1024)\n",
      "(1, 512, 1024, 8)\n",
      "\n",
      "Using 1 shard(s) for 1 files, with up to 1 samples per shard\n"
     ]
    },
    {
     "name": "stderr",
     "output_type": "stream",
     "text": [
      "100%|██████████| 1/1 [00:00<00:00, 51.00it/s]"
     ]
    },
    {
     "name": "stdout",
     "output_type": "stream",
     "text": [
      "\n",
      "Wrote 1 elements to TFRecord\n"
     ]
    },
    {
     "name": "stderr",
     "output_type": "stream",
     "text": [
      "\n"
     ]
    },
    {
     "name": "stdout",
     "output_type": "stream",
     "text": [
      "MYD021KM-A2018102.0400\n",
      "MYD021KM-A2018102.0845\n",
      "(1, 512, 1024)\n",
      "(1, 512, 1024, 8)\n",
      "\n",
      "Using 1 shard(s) for 1 files, with up to 1 samples per shard\n"
     ]
    },
    {
     "name": "stderr",
     "output_type": "stream",
     "text": [
      "100%|██████████| 1/1 [00:00<00:00, 55.26it/s]"
     ]
    },
    {
     "name": "stdout",
     "output_type": "stream",
     "text": [
      "\n",
      "Wrote 1 elements to TFRecord\n"
     ]
    },
    {
     "name": "stderr",
     "output_type": "stream",
     "text": [
      "\n"
     ]
    },
    {
     "name": "stdout",
     "output_type": "stream",
     "text": [
      "MYD021KM-A2018102.0820\n",
      "(1, 512, 1024)\n",
      "(1, 512, 1024, 8)\n",
      "\n",
      "Using 1 shard(s) for 1 files, with up to 1 samples per shard\n"
     ]
    },
    {
     "name": "stderr",
     "output_type": "stream",
     "text": [
      "100%|██████████| 1/1 [00:00<00:00, 54.87it/s]"
     ]
    },
    {
     "name": "stdout",
     "output_type": "stream",
     "text": [
      "\n",
      "Wrote 1 elements to TFRecord\n"
     ]
    },
    {
     "name": "stderr",
     "output_type": "stream",
     "text": [
      "\n"
     ]
    },
    {
     "name": "stdout",
     "output_type": "stream",
     "text": [
      "MYD021KM-A2018102.0200\n",
      "(1, 512, 1024)\n",
      "(1, 512, 1024, 8)\n",
      "\n",
      "Using 1 shard(s) for 1 files, with up to 1 samples per shard\n"
     ]
    },
    {
     "name": "stderr",
     "output_type": "stream",
     "text": [
      "100%|██████████| 1/1 [00:00<00:00, 51.94it/s]"
     ]
    },
    {
     "name": "stdout",
     "output_type": "stream",
     "text": [
      "\n",
      "Wrote 1 elements to TFRecord\n"
     ]
    },
    {
     "name": "stderr",
     "output_type": "stream",
     "text": [
      "\n"
     ]
    },
    {
     "name": "stdout",
     "output_type": "stream",
     "text": [
      "MYD021KM-A2018102.1320\n",
      "MYD021KM-A2018102.0335\n",
      "(1, 512, 1024)\n",
      "(1, 512, 1024, 8)\n",
      "\n",
      "Using 1 shard(s) for 1 files, with up to 1 samples per shard\n"
     ]
    },
    {
     "name": "stderr",
     "output_type": "stream",
     "text": [
      "100%|██████████| 1/1 [00:00<00:00, 53.93it/s]"
     ]
    },
    {
     "name": "stdout",
     "output_type": "stream",
     "text": [
      "\n",
      "Wrote 1 elements to TFRecord\n"
     ]
    },
    {
     "name": "stderr",
     "output_type": "stream",
     "text": [
      "\n"
     ]
    },
    {
     "name": "stdout",
     "output_type": "stream",
     "text": [
      "MYD021KM-A2018102.2200\n",
      "MYD021KM-A2018102.0010\n",
      "(1, 512, 1024)\n",
      "(1, 512, 1024, 8)\n",
      "\n",
      "Using 1 shard(s) for 1 files, with up to 1 samples per shard\n"
     ]
    },
    {
     "name": "stderr",
     "output_type": "stream",
     "text": [
      "100%|██████████| 1/1 [00:00<00:00, 52.85it/s]"
     ]
    },
    {
     "name": "stdout",
     "output_type": "stream",
     "text": [
      "\n",
      "Wrote 1 elements to TFRecord\n"
     ]
    },
    {
     "name": "stderr",
     "output_type": "stream",
     "text": [
      "\n"
     ]
    },
    {
     "name": "stdout",
     "output_type": "stream",
     "text": [
      "MYD021KM-A2018102.0730\n",
      "MYD021KM-A2018102.1845\n",
      "MYD021KM-A2018102.0210\n",
      "(1, 512, 1024)\n",
      "(1, 512, 1024, 8)\n",
      "\n",
      "Using 1 shard(s) for 1 files, with up to 1 samples per shard\n"
     ]
    },
    {
     "name": "stderr",
     "output_type": "stream",
     "text": [
      "100%|██████████| 1/1 [00:00<00:00, 53.14it/s]"
     ]
    },
    {
     "name": "stdout",
     "output_type": "stream",
     "text": [
      "\n",
      "Wrote 1 elements to TFRecord\n"
     ]
    },
    {
     "name": "stderr",
     "output_type": "stream",
     "text": [
      "\n"
     ]
    },
    {
     "name": "stdout",
     "output_type": "stream",
     "text": [
      "MYD021KM-A2018102.2205\n",
      "MYD021KM-A2018102.0020\n",
      "(1, 512, 1024)\n",
      "(1, 512, 1024, 8)\n",
      "\n",
      "Using 1 shard(s) for 1 files, with up to 1 samples per shard\n"
     ]
    },
    {
     "name": "stderr",
     "output_type": "stream",
     "text": [
      "100%|██████████| 1/1 [00:00<00:00, 54.39it/s]"
     ]
    },
    {
     "name": "stdout",
     "output_type": "stream",
     "text": [
      "\n",
      "Wrote 1 elements to TFRecord\n"
     ]
    },
    {
     "name": "stderr",
     "output_type": "stream",
     "text": [
      "\n"
     ]
    },
    {
     "name": "stdout",
     "output_type": "stream",
     "text": [
      "MYD021KM-A2018102.1520\n",
      "(1, 512, 1024)\n",
      "(1, 512, 1024, 8)\n",
      "\n",
      "Using 1 shard(s) for 1 files, with up to 1 samples per shard\n"
     ]
    },
    {
     "name": "stderr",
     "output_type": "stream",
     "text": [
      "100%|██████████| 1/1 [00:00<00:00, 54.84it/s]"
     ]
    },
    {
     "name": "stdout",
     "output_type": "stream",
     "text": [
      "\n",
      "Wrote 1 elements to TFRecord\n"
     ]
    },
    {
     "name": "stderr",
     "output_type": "stream",
     "text": [
      "\n"
     ]
    },
    {
     "name": "stdout",
     "output_type": "stream",
     "text": [
      "MYD021KM-A2018102.1500\n",
      "(1, 512, 1024)\n",
      "(1, 512, 1024, 8)\n",
      "\n",
      "Using 1 shard(s) for 1 files, with up to 1 samples per shard\n"
     ]
    },
    {
     "name": "stderr",
     "output_type": "stream",
     "text": [
      "100%|██████████| 1/1 [00:00<00:00, 55.00it/s]"
     ]
    },
    {
     "name": "stdout",
     "output_type": "stream",
     "text": [
      "\n",
      "Wrote 1 elements to TFRecord\n"
     ]
    },
    {
     "name": "stderr",
     "output_type": "stream",
     "text": [
      "\n"
     ]
    },
    {
     "name": "stdout",
     "output_type": "stream",
     "text": [
      "MYD021KM-A2018102.0355\n",
      "MYD021KM-A2018102.1525\n",
      "MYD021KM-A2018102.0905\n",
      "MYD021KM-A2018102.2025\n",
      "MYD021KM-A2018102.1040\n",
      "MYD021KM-A2018102.1405\n",
      "MYD021KM-A2018102.2215\n",
      "MYD021KM-A2018102.2350\n",
      "MYD021KM-A2018102.0410\n",
      "MYD021KM-A2018102.1340\n",
      "(1, 512, 1024)\n",
      "(1, 512, 1024, 8)\n",
      "\n",
      "Using 1 shard(s) for 1 files, with up to 1 samples per shard\n"
     ]
    },
    {
     "name": "stderr",
     "output_type": "stream",
     "text": [
      "100%|██████████| 1/1 [00:00<00:00, 53.09it/s]"
     ]
    },
    {
     "name": "stdout",
     "output_type": "stream",
     "text": [
      "\n",
      "Wrote 1 elements to TFRecord\n"
     ]
    },
    {
     "name": "stderr",
     "output_type": "stream",
     "text": [
      "\n"
     ]
    },
    {
     "name": "stdout",
     "output_type": "stream",
     "text": [
      "MYD021KM-A2018102.1050\n",
      "MYD021KM-A2018102.1710\n",
      "MYD021KM-A2018102.1155\n",
      "(1, 512, 1024)\n",
      "(1, 512, 1024, 8)\n",
      "\n",
      "Using 1 shard(s) for 1 files, with up to 1 samples per shard\n"
     ]
    },
    {
     "name": "stderr",
     "output_type": "stream",
     "text": [
      "100%|██████████| 1/1 [00:00<00:00, 54.21it/s]"
     ]
    },
    {
     "name": "stdout",
     "output_type": "stream",
     "text": [
      "\n",
      "Wrote 1 elements to TFRecord\n"
     ]
    },
    {
     "name": "stderr",
     "output_type": "stream",
     "text": [
      "\n"
     ]
    },
    {
     "name": "stdout",
     "output_type": "stream",
     "text": [
      "MYD021KM-A2018102.0155\n",
      "(1, 512, 1024)\n",
      "(1, 512, 1024, 8)\n",
      "\n",
      "Using 1 shard(s) for 1 files, with up to 1 samples per shard\n"
     ]
    },
    {
     "name": "stderr",
     "output_type": "stream",
     "text": [
      "100%|██████████| 1/1 [00:00<00:00, 54.11it/s]"
     ]
    },
    {
     "name": "stdout",
     "output_type": "stream",
     "text": [
      "\n",
      "Wrote 1 elements to TFRecord\n"
     ]
    },
    {
     "name": "stderr",
     "output_type": "stream",
     "text": [
      "\n"
     ]
    },
    {
     "name": "stdout",
     "output_type": "stream",
     "text": [
      "MYD021KM-A2018102.1215\n",
      "MYD021KM-A2018102.0415\n",
      "MYD021KM-A2018102.0900\n",
      "MYD021KM-A2018102.0550\n",
      "MYD021KM-A2018102.1835\n",
      "(1, 512, 1024)\n",
      "(1, 512, 1024, 8)\n",
      "\n",
      "Using 1 shard(s) for 1 files, with up to 1 samples per shard\n"
     ]
    },
    {
     "name": "stderr",
     "output_type": "stream",
     "text": [
      "100%|██████████| 1/1 [00:00<00:00, 56.15it/s]"
     ]
    },
    {
     "name": "stdout",
     "output_type": "stream",
     "text": [
      "\n",
      "Wrote 1 elements to TFRecord\n"
     ]
    },
    {
     "name": "stderr",
     "output_type": "stream",
     "text": [
      "\n"
     ]
    },
    {
     "name": "stdout",
     "output_type": "stream",
     "text": [
      "MYD021KM-A2018102.0835\n",
      "(1, 512, 1024)\n",
      "(1, 512, 1024, 8)\n",
      "\n",
      "Using 1 shard(s) for 1 files, with up to 1 samples per shard\n"
     ]
    },
    {
     "name": "stderr",
     "output_type": "stream",
     "text": [
      "100%|██████████| 1/1 [00:00<00:00, 52.69it/s]"
     ]
    },
    {
     "name": "stdout",
     "output_type": "stream",
     "text": [
      "\n",
      "Wrote 1 elements to TFRecord\n"
     ]
    },
    {
     "name": "stderr",
     "output_type": "stream",
     "text": [
      "\n"
     ]
    },
    {
     "name": "stdout",
     "output_type": "stream",
     "text": [
      "MYD021KM-A2018102.1205\n",
      "MYD021KM-A2018102.1350\n",
      "MYD021KM-A2018102.0205\n",
      "(1, 512, 1024)\n",
      "(1, 512, 1024, 8)\n",
      "\n",
      "Using 1 shard(s) for 1 files, with up to 1 samples per shard\n"
     ]
    },
    {
     "name": "stderr",
     "output_type": "stream",
     "text": [
      "100%|██████████| 1/1 [00:00<00:00, 56.42it/s]"
     ]
    },
    {
     "name": "stdout",
     "output_type": "stream",
     "text": [
      "\n",
      "Wrote 1 elements to TFRecord\n"
     ]
    },
    {
     "name": "stderr",
     "output_type": "stream",
     "text": [
      "\n"
     ]
    },
    {
     "name": "stdout",
     "output_type": "stream",
     "text": [
      "MYD021KM-A2018102.0330\n",
      "(1, 512, 1024)\n",
      "(1, 512, 1024, 8)\n",
      "\n",
      "Using 1 shard(s) for 1 files, with up to 1 samples per shard\n"
     ]
    },
    {
     "name": "stderr",
     "output_type": "stream",
     "text": [
      "100%|██████████| 1/1 [00:00<00:00, 54.63it/s]"
     ]
    },
    {
     "name": "stdout",
     "output_type": "stream",
     "text": [
      "\n",
      "Wrote 1 elements to TFRecord\n"
     ]
    },
    {
     "name": "stderr",
     "output_type": "stream",
     "text": [
      "\n"
     ]
    },
    {
     "name": "stdout",
     "output_type": "stream",
     "text": [
      "MYD021KM-A2018102.1655\n",
      "(1, 512, 1024)\n",
      "(1, 512, 1024, 8)\n",
      "\n",
      "Using 1 shard(s) for 1 files, with up to 1 samples per shard\n"
     ]
    },
    {
     "name": "stderr",
     "output_type": "stream",
     "text": [
      "100%|██████████| 1/1 [00:00<00:00, 58.43it/s]"
     ]
    },
    {
     "name": "stdout",
     "output_type": "stream",
     "text": [
      "\n",
      "Wrote 1 elements to TFRecord\n"
     ]
    },
    {
     "name": "stderr",
     "output_type": "stream",
     "text": [
      "\n"
     ]
    },
    {
     "name": "stdout",
     "output_type": "stream",
     "text": [
      "MYD021KM-A2018102.0725\n",
      "MYD021KM-A2018102.2355\n",
      "MYD021KM-A2018102.1505\n",
      "(1, 512, 1024)\n",
      "(1, 512, 1024, 8)\n",
      "\n",
      "Using 1 shard(s) for 1 files, with up to 1 samples per shard\n"
     ]
    },
    {
     "name": "stderr",
     "output_type": "stream",
     "text": [
      "100%|██████████| 1/1 [00:00<00:00, 49.27it/s]"
     ]
    },
    {
     "name": "stdout",
     "output_type": "stream",
     "text": [
      "\n",
      "Wrote 1 elements to TFRecord\n"
     ]
    },
    {
     "name": "stderr",
     "output_type": "stream",
     "text": [
      "\n"
     ]
    },
    {
     "name": "stdout",
     "output_type": "stream",
     "text": [
      "MYD021KM-A2018102.0545\n",
      "MYD021KM-A2018102.0030\n",
      "(1, 512, 1024)\n",
      "(1, 512, 1024, 8)\n",
      "\n",
      "Using 1 shard(s) for 1 files, with up to 1 samples per shard\n"
     ]
    },
    {
     "name": "stderr",
     "output_type": "stream",
     "text": [
      "100%|██████████| 1/1 [00:00<00:00, 55.89it/s]"
     ]
    },
    {
     "name": "stdout",
     "output_type": "stream",
     "text": [
      "\n",
      "Wrote 1 elements to TFRecord\n"
     ]
    },
    {
     "name": "stderr",
     "output_type": "stream",
     "text": [
      "\n"
     ]
    },
    {
     "name": "stdout",
     "output_type": "stream",
     "text": [
      "MYD021KM-A2018102.1220\n",
      "MYD021KM-A2018102.2335\n",
      "(1, 512, 1024)\n",
      "(1, 512, 1024, 8)\n",
      "\n",
      "Using 1 shard(s) for 1 files, with up to 1 samples per shard\n"
     ]
    },
    {
     "name": "stderr",
     "output_type": "stream",
     "text": [
      "100%|██████████| 1/1 [00:00<00:00, 53.47it/s]"
     ]
    },
    {
     "name": "stdout",
     "output_type": "stream",
     "text": [
      "\n",
      "Wrote 1 elements to TFRecord\n"
     ]
    },
    {
     "name": "stderr",
     "output_type": "stream",
     "text": [
      "\n"
     ]
    },
    {
     "name": "stdout",
     "output_type": "stream",
     "text": [
      "MYD021KM-A2018102.0345\n",
      "(1, 512, 1024)\n",
      "(1, 512, 1024, 8)\n",
      "\n",
      "Using 1 shard(s) for 1 files, with up to 1 samples per shard\n"
     ]
    },
    {
     "name": "stderr",
     "output_type": "stream",
     "text": [
      "100%|██████████| 1/1 [00:00<00:00, 53.04it/s]"
     ]
    },
    {
     "name": "stdout",
     "output_type": "stream",
     "text": [
      "\n",
      "Wrote 1 elements to TFRecord\n"
     ]
    },
    {
     "name": "stderr",
     "output_type": "stream",
     "text": [
      "\n"
     ]
    },
    {
     "name": "stdout",
     "output_type": "stream",
     "text": [
      "MYD021KM-A2018102.1825\n",
      "(1, 512, 1024)\n",
      "(1, 512, 1024, 8)\n",
      "\n",
      "Using 1 shard(s) for 1 files, with up to 1 samples per shard\n"
     ]
    },
    {
     "name": "stderr",
     "output_type": "stream",
     "text": [
      "100%|██████████| 1/1 [00:00<00:00, 52.46it/s]"
     ]
    },
    {
     "name": "stdout",
     "output_type": "stream",
     "text": [
      "\n",
      "Wrote 1 elements to TFRecord\n"
     ]
    },
    {
     "name": "stderr",
     "output_type": "stream",
     "text": [
      "\n"
     ]
    },
    {
     "name": "stdout",
     "output_type": "stream",
     "text": [
      "MYD021KM-A2018102.1020\n",
      "(1, 512, 1024)\n",
      "(1, 512, 1024, 8)\n",
      "\n",
      "Using 1 shard(s) for 1 files, with up to 1 samples per shard\n"
     ]
    },
    {
     "name": "stderr",
     "output_type": "stream",
     "text": [
      "100%|██████████| 1/1 [00:00<00:00, 54.00it/s]"
     ]
    },
    {
     "name": "stdout",
     "output_type": "stream",
     "text": [
      "\n",
      "Wrote 1 elements to TFRecord\n"
     ]
    },
    {
     "name": "stderr",
     "output_type": "stream",
     "text": [
      "\n"
     ]
    },
    {
     "name": "stdout",
     "output_type": "stream",
     "text": [
      "MYD021KM-A2018102.0645\n",
      "MYD021KM-A2018102.1715\n",
      "MYD021KM-A2018102.2020\n",
      "MYD021KM-A2018102.1700\n",
      "(1, 512, 1024)\n",
      "(1, 512, 1024, 8)\n",
      "\n",
      "Using 1 shard(s) for 1 files, with up to 1 samples per shard\n"
     ]
    },
    {
     "name": "stderr",
     "output_type": "stream",
     "text": [
      "100%|██████████| 1/1 [00:00<00:00, 52.88it/s]"
     ]
    },
    {
     "name": "stdout",
     "output_type": "stream",
     "text": [
      "\n",
      "Wrote 1 elements to TFRecord\n"
     ]
    },
    {
     "name": "stderr",
     "output_type": "stream",
     "text": [
      "\n"
     ]
    },
    {
     "name": "stdout",
     "output_type": "stream",
     "text": [
      "MYD021KM-A2018102.1330\n",
      "(1, 512, 1024)\n",
      "(1, 512, 1024, 8)\n",
      "\n",
      "Using 1 shard(s) for 1 files, with up to 1 samples per shard\n"
     ]
    },
    {
     "name": "stderr",
     "output_type": "stream",
     "text": [
      "100%|██████████| 1/1 [00:00<00:00, 54.63it/s]"
     ]
    },
    {
     "name": "stdout",
     "output_type": "stream",
     "text": [
      "\n",
      "Wrote 1 elements to TFRecord\n"
     ]
    },
    {
     "name": "stderr",
     "output_type": "stream",
     "text": [
      "\n"
     ]
    },
    {
     "name": "stdout",
     "output_type": "stream",
     "text": [
      "MYD021KM-A2018102.0830\n",
      "(1, 512, 1024)\n",
      "(1, 512, 1024, 8)\n",
      "\n",
      "Using 1 shard(s) for 1 files, with up to 1 samples per shard\n"
     ]
    },
    {
     "name": "stderr",
     "output_type": "stream",
     "text": [
      "100%|██████████| 1/1 [00:00<00:00, 55.41it/s]"
     ]
    },
    {
     "name": "stdout",
     "output_type": "stream",
     "text": [
      "\n",
      "Wrote 1 elements to TFRecord\n"
     ]
    },
    {
     "name": "stderr",
     "output_type": "stream",
     "text": [
      "\n"
     ]
    },
    {
     "name": "stdout",
     "output_type": "stream",
     "text": [
      "MYD021KM-A2018102.2150\n",
      "(1, 512, 1024)\n",
      "(1, 512, 1024, 8)\n",
      "\n",
      "Using 1 shard(s) for 1 files, with up to 1 samples per shard\n"
     ]
    },
    {
     "name": "stderr",
     "output_type": "stream",
     "text": [
      "100%|██████████| 1/1 [00:00<00:00, 50.84it/s]"
     ]
    },
    {
     "name": "stdout",
     "output_type": "stream",
     "text": [
      "\n",
      "Wrote 1 elements to TFRecord\n"
     ]
    },
    {
     "name": "stderr",
     "output_type": "stream",
     "text": [
      "\n"
     ]
    },
    {
     "name": "stdout",
     "output_type": "stream",
     "text": [
      "MYD021KM-A2018102.1705\n",
      "MYD021KM-A2018102.2220\n",
      "MYD021KM-A2018102.1210\n",
      "MYD021KM-A2018102.1955\n",
      "MYD021KM-A2018102.0405\n",
      "MYD021KM-A2018102.1355\n",
      "MYD021KM-A2018102.1225\n",
      "MYD021KM-A2018102.0715\n",
      "MYD021KM-A2018102.0510\n",
      "(1, 512, 1024)\n",
      "(1, 512, 1024, 8)\n",
      "\n",
      "Using 1 shard(s) for 1 files, with up to 1 samples per shard\n"
     ]
    },
    {
     "name": "stderr",
     "output_type": "stream",
     "text": [
      "100%|██████████| 1/1 [00:00<00:00, 50.62it/s]"
     ]
    },
    {
     "name": "stdout",
     "output_type": "stream",
     "text": [
      "\n",
      "Wrote 1 elements to TFRecord\n"
     ]
    },
    {
     "name": "stderr",
     "output_type": "stream",
     "text": [
      "\n"
     ]
    },
    {
     "name": "stdout",
     "output_type": "stream",
     "text": [
      "MYD021KM-A2018102.0850\n",
      "MYD021KM-A2018102.0235\n",
      "MYD021KM-A2018102.1150\n",
      "(1, 512, 1024)\n",
      "(1, 512, 1024, 8)\n",
      "\n",
      "Using 1 shard(s) for 1 files, with up to 1 samples per shard\n"
     ]
    },
    {
     "name": "stderr",
     "output_type": "stream",
     "text": [
      "100%|██████████| 1/1 [00:00<00:00, 52.13it/s]"
     ]
    },
    {
     "name": "stdout",
     "output_type": "stream",
     "text": [
      "\n",
      "Wrote 1 elements to TFRecord\n"
     ]
    },
    {
     "name": "stderr",
     "output_type": "stream",
     "text": [
      "\n"
     ]
    },
    {
     "name": "stdout",
     "output_type": "stream",
     "text": [
      "MYD021KM-A2018102.1515\n",
      "MYD021KM-A2018102.0535\n",
      "MYD021KM-A2018102.1400\n",
      "MYD021KM-A2018102.0215\n",
      "MYD021KM-A2018102.1850\n",
      "MYD021KM-A2018102.1650\n",
      "(1, 512, 1024)\n",
      "(1, 512, 1024, 8)\n",
      "\n",
      "Using 1 shard(s) for 1 files, with up to 1 samples per shard\n"
     ]
    },
    {
     "name": "stderr",
     "output_type": "stream",
     "text": [
      "100%|██████████| 1/1 [00:00<00:00, 52.38it/s]"
     ]
    },
    {
     "name": "stdout",
     "output_type": "stream",
     "text": [
      "\n",
      "Wrote 1 elements to TFRecord\n"
     ]
    },
    {
     "name": "stderr",
     "output_type": "stream",
     "text": [
      "\n"
     ]
    },
    {
     "name": "stdout",
     "output_type": "stream",
     "text": [
      "MYD021KM-A2018102.1000\n",
      "(1, 512, 1024)\n",
      "(1, 512, 1024, 8)\n",
      "\n",
      "Using 1 shard(s) for 1 files, with up to 1 samples per shard\n"
     ]
    },
    {
     "name": "stderr",
     "output_type": "stream",
     "text": [
      "100%|██████████| 1/1 [00:00<00:00, 52.35it/s]"
     ]
    },
    {
     "name": "stdout",
     "output_type": "stream",
     "text": [
      "\n",
      "Wrote 1 elements to TFRecord\n"
     ]
    },
    {
     "name": "stderr",
     "output_type": "stream",
     "text": [
      "\n"
     ]
    },
    {
     "name": "stdout",
     "output_type": "stream",
     "text": [
      "MYD021KM-A2018102.1010\n",
      "(1, 512, 1024)\n",
      "(1, 512, 1024, 8)\n",
      "\n",
      "Using 1 shard(s) for 1 files, with up to 1 samples per shard\n"
     ]
    },
    {
     "name": "stderr",
     "output_type": "stream",
     "text": [
      "100%|██████████| 1/1 [00:00<00:00, 53.17it/s]"
     ]
    },
    {
     "name": "stdout",
     "output_type": "stream",
     "text": [
      "\n",
      "Wrote 1 elements to TFRecord\n"
     ]
    },
    {
     "name": "stderr",
     "output_type": "stream",
     "text": [
      "\n"
     ]
    },
    {
     "name": "stdout",
     "output_type": "stream",
     "text": [
      "MYD021KM-A2018102.2010\n",
      "(1, 512, 1024)\n",
      "(1, 512, 1024, 8)\n",
      "\n",
      "Using 1 shard(s) for 1 files, with up to 1 samples per shard\n"
     ]
    },
    {
     "name": "stderr",
     "output_type": "stream",
     "text": [
      "100%|██████████| 1/1 [00:00<00:00, 53.28it/s]"
     ]
    },
    {
     "name": "stdout",
     "output_type": "stream",
     "text": [
      "\n",
      "Wrote 1 elements to TFRecord\n"
     ]
    },
    {
     "name": "stderr",
     "output_type": "stream",
     "text": [
      "\n"
     ]
    },
    {
     "name": "stdout",
     "output_type": "stream",
     "text": [
      "MYD021KM-A2018102.1200\n",
      "(1, 512, 1024)\n",
      "(1, 512, 1024, 8)\n",
      "\n",
      "Using 1 shard(s) for 1 files, with up to 1 samples per shard\n"
     ]
    },
    {
     "name": "stderr",
     "output_type": "stream",
     "text": [
      "100%|██████████| 1/1 [00:00<00:00, 50.15it/s]"
     ]
    },
    {
     "name": "stdout",
     "output_type": "stream",
     "text": [
      "\n",
      "Wrote 1 elements to TFRecord\n"
     ]
    },
    {
     "name": "stderr",
     "output_type": "stream",
     "text": [
      "\n"
     ]
    },
    {
     "name": "stdout",
     "output_type": "stream",
     "text": [
      "MYD021KM-A2018102.2325\n",
      "(1, 512, 1024)\n",
      "(1, 512, 1024, 8)\n",
      "\n",
      "Using 1 shard(s) for 1 files, with up to 1 samples per shard\n"
     ]
    },
    {
     "name": "stderr",
     "output_type": "stream",
     "text": [
      "100%|██████████| 1/1 [00:00<00:00, 51.61it/s]"
     ]
    },
    {
     "name": "stdout",
     "output_type": "stream",
     "text": [
      "\n",
      "Wrote 1 elements to TFRecord\n"
     ]
    },
    {
     "name": "stderr",
     "output_type": "stream",
     "text": [
      "\n"
     ]
    },
    {
     "name": "stdout",
     "output_type": "stream",
     "text": [
      "MYD021KM-A2018102.0515\n",
      "(1, 512, 1024)\n",
      "(1, 512, 1024, 8)\n",
      "\n",
      "Using 1 shard(s) for 1 files, with up to 1 samples per shard\n"
     ]
    },
    {
     "name": "stderr",
     "output_type": "stream",
     "text": [
      "100%|██████████| 1/1 [00:00<00:00, 51.17it/s]"
     ]
    },
    {
     "name": "stdout",
     "output_type": "stream",
     "text": [
      "\n",
      "Wrote 1 elements to TFRecord\n"
     ]
    },
    {
     "name": "stderr",
     "output_type": "stream",
     "text": [
      "\n"
     ]
    },
    {
     "name": "stdout",
     "output_type": "stream",
     "text": [
      "MYD021KM-A2018102.1535\n",
      "MYD021KM-A2018102.1335\n",
      "(1, 512, 1024)\n",
      "(1, 512, 1024, 8)\n",
      "\n",
      "Using 1 shard(s) for 1 files, with up to 1 samples per shard\n"
     ]
    },
    {
     "name": "stderr",
     "output_type": "stream",
     "text": [
      "100%|██████████| 1/1 [00:00<00:00, 53.23it/s]"
     ]
    },
    {
     "name": "stdout",
     "output_type": "stream",
     "text": [
      "\n",
      "Wrote 1 elements to TFRecord\n"
     ]
    },
    {
     "name": "stderr",
     "output_type": "stream",
     "text": [
      "\n"
     ]
    },
    {
     "name": "stdout",
     "output_type": "stream",
     "text": [
      "MYD021KM-A2018102.1325\n",
      "(1, 512, 1024)\n",
      "(1, 512, 1024, 8)\n",
      "\n",
      "Using 1 shard(s) for 1 files, with up to 1 samples per shard\n"
     ]
    },
    {
     "name": "stderr",
     "output_type": "stream",
     "text": [
      "100%|██████████| 1/1 [00:00<00:00, 55.47it/s]"
     ]
    },
    {
     "name": "stdout",
     "output_type": "stream",
     "text": [
      "\n",
      "Wrote 1 elements to TFRecord\n"
     ]
    },
    {
     "name": "stderr",
     "output_type": "stream",
     "text": [
      "\n"
     ]
    },
    {
     "name": "stdout",
     "output_type": "stream",
     "text": [
      "MYD021KM-A2018102.0520\n",
      "(1, 512, 1024)\n",
      "(1, 512, 1024, 8)\n",
      "\n",
      "Using 1 shard(s) for 1 files, with up to 1 samples per shard\n"
     ]
    },
    {
     "name": "stderr",
     "output_type": "stream",
     "text": [
      "100%|██████████| 1/1 [00:00<00:00, 49.35it/s]"
     ]
    },
    {
     "name": "stdout",
     "output_type": "stream",
     "text": [
      "\n",
      "Wrote 1 elements to TFRecord\n"
     ]
    },
    {
     "name": "stderr",
     "output_type": "stream",
     "text": [
      "\n"
     ]
    },
    {
     "name": "stdout",
     "output_type": "stream",
     "text": [
      "MYD021KM-A2018102.0220\n"
     ]
    }
   ],
   "source": [
    "#################################################################\n",
    "# Check why sometimes images are full of nans\n",
    "# double check mask names (used for save names)  align (masks and images align at least)\n",
    "##################################################################\n",
    "\n",
    "fileList=tf.io.gfile.glob([save_TFrecord_path + '*.tfrecords'])\n",
    "cnt = 0\n",
    "\n",
    "for image, mask in image_ds:\n",
    "    sample_image, sample_mask = image, mask\n",
    "    filename = mask_list[cnt][-36:-14]\n",
    "    print(filename)\n",
    "    cnt+=1\n",
    "    \n",
    "    #skip file if file already exists or nans/inf values are in images\n",
    "    if save_TFrecord_path+'1_1' + filename + '.tfrecords' in fileList:\n",
    "        continue\n",
    "    if np.any(np.isnan(sample_image)) or np.any(np.isinf(sample_image)):\n",
    "        #print('img')\n",
    "        continue #sys.exit()\n",
    "    if np.any(np.isnan(sample_mask)) or np.any(np.isinf(sample_mask)):\n",
    "        #print('mask')\n",
    "        continue #sys.exit()\n",
    "        \n",
    "        \n",
    "        \n",
    "    #find coordinates of all nonzero coordinates\n",
    "    nonzero =np.asarray(np.nonzero(np.float32(sample_image[:,:,0]))).T\n",
    "\n",
    "    #extract convexhull coordinates, first point and last point must be the same. \n",
    "    hull = ConvexHull(nonzero)\n",
    "    hull = np.vstack((nonzero[hull.vertices,0],nonzero[hull.vertices,1])).T\n",
    "    hull = np.vstack((hull,hull[0,:]))\n",
    "\n",
    "    #calculate angle of rotation for minimum bounding rectangle\n",
    "    angle, barea, bwidth, bheight, center_point, corner_points = minBoundingRect(hull)\n",
    "    \n",
    "    rotated_image, y_min, y_max, x_min, x_max = rotate_img(sample_image, angle=90-angle*180/np.pi)\n",
    "    rotated_labels, _, _, _, _ = rotate_img(sample_mask, angle=90-angle*180/np.pi)\n",
    "    \n",
    "    w = x_max-x_min\n",
    "    h = y_max-y_min\n",
    "    \n",
    "    #determine min/max dimensions\n",
    "    maxCaseDim = np.max([w,h])\n",
    "    minCaseDim = np.min([w,h])\n",
    "\n",
    "    #rotate 90 degrees to make width the bigger side if needed\n",
    "    if h > w:\n",
    "        rotated_image, y_min, y_max, x_min, x_max = rotate_img(rotated_image, angle=90)\n",
    "        rotated_image_zoom = rotated_image[y_min:y_max,x_min:x_max]\n",
    "        rotated_labels, _, _, _, _ = rotate_img(rotated_labels, angle=90)\n",
    "        rotated_labels_zoom = rotated_labels[y_min:y_max,x_min:x_max]\n",
    "    else:\n",
    "        rotated_image_zoom = rotated_image[y_min:y_max,x_min:x_max]\n",
    "        rotated_labels_zoom = rotated_labels[y_min:y_max,x_min:x_max]\n",
    " \n",
    "    #make images and mask have same h x w (2048,4096)\n",
    "    mask = np.zeros((2048,4096,1), dtype = float)\n",
    "    mask[0:rotated_labels_zoom.shape[0], 0:rotated_labels_zoom.shape[1]] += rotated_labels_zoom\n",
    "    img_test = np.zeros((2048,4096,8), dtype = float)\n",
    "    img_test[0:rotated_image_zoom.shape[0], 0:rotated_image_zoom.shape[1], :7] += rotated_image_zoom\n",
    "\n",
    "    # set 8th channel (valid channel) to 1 for the pixels containing part of the satellite image (keep 0 for the blank pixels)\n",
    "    img_test[img_test[:,:,6] > 0 ,7] = 1 \n",
    "\n",
    "    #check min and max shapes of channels\n",
    "    '''\n",
    "    c1rng = Rng_Extremes(img_test[:,:,0],c1rng)\n",
    "    c2rng = Rng_Extremes(img_test[:,:,1],c2rng)\n",
    "    c3rng = Rng_Extremes(img_test[:,:,2],c3rng)\n",
    "    c4rng = Rng_Extremes(img_test[:,:,3],c4rng)\n",
    "    c5rng = Rng_Extremes(img_test[:,:,4],c5rng)\n",
    "    c6rng = Rng_Extremes(img_test[:,:,5],c6rng)\n",
    "    c7rng = Rng_Extremes(img_test[:,:,6],c7rng)\n",
    "    '''\n",
    "    \n",
    "    \n",
    "    \n",
    "    \n",
    "\n",
    "    img_test = np.float64(img_test)\n",
    "    #resize images to decreased resolution\n",
    "    img_test = cv2.resize(img_test, dsize=(1024, 512), interpolation=cv2.INTER_NEAREST)\n",
    "    mask = cv2.resize(mask, dsize=(1024, 512), interpolation=cv2.INTER_NEAREST)\n",
    "\n",
    "    #add missing dimensions\n",
    "    img_test = np.expand_dims(img_test, axis=0)\n",
    "    mask = np.expand_dims(mask, axis=0)\n",
    "\n",
    "    #set zeros to match min value in pixel range (min value is approximately 0 in first three channels)\n",
    "    tmp = img_test[:,:,:,3:]\n",
    "    tmp[tmp==0] = 17000\n",
    "    img_test[:,:,:,3:]=tmp\n",
    "    \n",
    "    #normalize img based on channel ranges and set mask to binary values identifying contrails\n",
    "    mask[mask>0.5]=1\n",
    "    mask[mask<=0.5]=0\n",
    "\n",
    "    BT_rng = np.float64([17000, 34000]) #this range is good for 4 upper channels. assuming range of 170-340 K (BT is multiplied by 100)\n",
    "    img_test[:,:,:,3:7] = (img_test[:,:,:,3:7]-np.mean(BT_rng)) / ((BT_rng[1]-BT_rng[0])/2) \n",
    "    BT_rng = np.float64([0, 66535]) #lower 3 channels have a much larger range.\n",
    "    img_test[:,:,:,:3] = (img_test[:,:,:,:3]-np.mean(BT_rng)) / ((BT_rng[1]-BT_rng[0])/2)\n",
    "    \n",
    "    #change type to decrease size\n",
    "    img_test = np.float16(img_test)\n",
    "    mask = np.int8(mask)\n",
    "    print(mask.shape)\n",
    "    print(img_test.shape)\n",
    "    write_images_to_tfr_long(img_test, mask, filename=filename, max_files=1, out_dir=save_TFrecord_path)\n",
    "\n",
    "\n",
    "    #display([img_test,mask])\n",
    "    \n",
    "\n"
   ]
  },
  {
   "cell_type": "code",
   "execution_count": null,
   "id": "841747f7-77f4-4126-9bf3-593cc2328f31",
   "metadata": {},
   "outputs": [],
   "source": []
  },
  {
   "cell_type": "code",
   "execution_count": null,
   "id": "2b23095e-6961-458e-8232-d84fb54d3172",
   "metadata": {},
   "outputs": [],
   "source": [
    "def display(display_list):\n",
    "    plt.figure(figsize=(15, 15))\n",
    "\n",
    "    title = ['Input Image', 'True Mask', 'Predicted Mask']\n",
    "\n",
    "    for i in range(len(display_list)):\n",
    "        plt.subplot(1, len(display_list), i+1)\n",
    "        plt.title(title[i])\n",
    "        print(i)\n",
    "        print(display_list[i].shape)\n",
    "        if i == 0:\n",
    "            plt.imshow(np.float32(display_list[i][0,:,:,5]-display_list[i][0,:,:,6]))\n",
    "        else:\n",
    "            plt.imshow(np.float32(1*display_list[i][0,:,:]))\n",
    "        plt.axis('off')\n",
    "    plt.show()\n",
    "\n",
    "print(img_test.shape)\n",
    "print(mask.shape)\n",
    "#mask[img_test[:,:,:,0] == 0] = 2\n",
    "#test = img_test[:,:,:,0] < .1\n",
    "print(img_test)\n",
    "display([img_test,mask])\n",
    "\n"
   ]
  }
 ],
 "metadata": {
  "kernelspec": {
   "display_name": "Python 3",
   "language": "python",
   "name": "python3"
  },
  "language_info": {
   "codemirror_mode": {
    "name": "ipython",
    "version": 3
   },
   "file_extension": ".py",
   "mimetype": "text/x-python",
   "name": "python",
   "nbconvert_exporter": "python",
   "pygments_lexer": "ipython3",
   "version": "3.9.7"
  }
 },
 "nbformat": 4,
 "nbformat_minor": 5
}
