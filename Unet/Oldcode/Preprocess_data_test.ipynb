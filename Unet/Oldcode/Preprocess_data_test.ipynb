{
 "cells": [
  {
   "cell_type": "markdown",
   "id": "d4ea7090-2a21-46f5-ae21-e3e50b2f77f2",
   "metadata": {},
   "source": [
    "<a name='1'></a>\n",
    "## Import Packages and load data"
   ]
  },
  {
   "cell_type": "code",
   "execution_count": 1,
   "id": "deb437a0-ae1e-4c58-83f8-4f78626be60d",
   "metadata": {},
   "outputs": [
    {
     "name": "stderr",
     "output_type": "stream",
     "text": [
      "2022-06-21 14:55:35.224876: I tensorflow/stream_executor/platform/default/dso_loader.cc:49] Successfully opened dynamic library libcudart.so.10.1\n"
     ]
    },
    {
     "name": "stdout",
     "output_type": "stream",
     "text": [
      "OrderedDict([('cpu_compiler', '/home/builder/ktietz/aggregate/tensorflow_recipes/ci_cpu/tensorflow-base_1614583966145/_build_env/bin/x86_64-conda_cos6-linux-gnu-gcc'), ('cuda_compute_capabilities', ['compute_35', 'compute_52', 'compute_60', 'compute_61', 'compute_70', 'compute_75']), ('cuda_version', '10.1'), ('cudnn_version', '7'), ('is_cuda_build', True), ('is_rocm_build', False)])\n",
      "cuda version:  10.1\n",
      "cudNN version:  7\n",
      "TF version:  2.4.1\n"
     ]
    }
   ],
   "source": [
    "### -*- coding: utf-8 -*-\n",
    "\"\"\"\n",
    "Created on Mon May 24 13:26:13 2021\n",
    "\n",
    "@author: kjsanche\n",
    "\n",
    "Description: \n",
    "A function to load the 5 minute granules from MODIS channel 1 \n",
    "(0.65 microns) and the contrail mask for ML with a CNN.\n",
    "\n",
    "To do:\n",
    "ASAP:\n",
    "-cut up images\n",
    "-separate testing data\n",
    "-plot testing data vs mask\n",
    "\n",
    "\n",
    "\n",
    "lower priority:\n",
    "-optimize image shape by transforming back to original satellite swath projection\n",
    "-save and set up to load data as tfrecord\n",
    "-organize/markdown/comment code\n",
    "\n",
    "\n",
    "Input:\n",
    "Path   (string)\n",
    "\n",
    "        \n",
    "        \n",
    "Output:\n",
    "MODISCh1 (2D uint32)\n",
    "MASK     (2D uint16)\n",
    "\"\"\"\n",
    "\n",
    "\n",
    "#from matplotlib import pyplot as plt\n",
    "#%matplotlib inline\n",
    "import numpy as np\n",
    "import struct\n",
    "import os\n",
    "import glob\n",
    "import cv2\n",
    "import gc\n",
    "from UNET_Functions import unet_model, summary\n",
    "from Sat_contrail_read import Extract_RawDef, extract_img, extract_mask, extract_imglist2, get_model_memory_usage\n",
    "from scipy.spatial import ConvexHull\n",
    "from scipy.ndimage import rotate\n",
    "from format_input import *\n",
    "from operator import itemgetter\n",
    "import tensorflow as tf\n",
    "import random\n",
    "\n",
    "sys_details = tf.sysconfig.get_build_info()\n",
    "print(sys_details)\n",
    "cudnn_version = sys_details[\"cudnn_version\"]\n",
    "cuda_version = sys_details[\"cuda_version\"]\n",
    "\n",
    "print('cuda version: ', cuda_version)\n",
    "print('cudNN version: ',cudnn_version)\n",
    "print('TF version: ', tf.version.VERSION)\n",
    "\n",
    "\n",
    "############# dataset settings ######################\n",
    "DVERSION = 'vMODIS7test' #iterate version number to keep track in spreadsheet\n",
    "NCHANNELS=7 #number of channels + 1 (3, 7 or 8)\n",
    "img_slice_size = 64 #pixel width/height per image slice\n",
    "TRAIN_SPLIT = 0.6 #portion of data used for training\n",
    "contrail_ratio = 1 #number of slices to keep without contrails:slices with contrails (2 = 2:1)\n",
    "pixel_threshold = 0#(img_slice_size**2)*0.001 #pixel threshold to determine if slice has a significant number of pixels labeled as contrail\n",
    "\n",
    "############### dataset type #######################\n",
    "#if both AUGMENT and BALANCE are False, the validation or test set will be created\n",
    "AUGMENT = False \n",
    "BALANCE = False\n",
    "# CREATE_VALIDATION_SET only matters if AUGMENT and BALANCE are both false\n",
    "CREATE_VALIDATION_SET = False  #if false create test set\n",
    "####################################################\n",
    "\n",
    "\n",
    "#tf.compat.v1.disable_eager_execution()\n",
    "#tf.compat.v1.experimental.output_all_intermediates(True) \n",
    "path = os.getcwd()\n",
    "proj_path = os.path.normpath(path + os.sep + os.pardir) #get parent directory\n",
    "image_path = '/home/kjsanche/Desktop/ExternalSSD/SatContrailData/' \n",
    "save_TFrecord_path = '/home/kjsanche/Desktop/TFrecords/' \n",
    "\n",
    "\n"
   ]
  },
  {
   "cell_type": "markdown",
   "id": "6a52ce04-b8fa-42c0-b1d6-bfa981c22de4",
   "metadata": {},
   "source": [
    "# extract data\n",
    "## randomize order and create train, validation or test dataset"
   ]
  },
  {
   "cell_type": "code",
   "execution_count": 2,
   "id": "b82e6f83-4b91-4521-92eb-0e42e0b2d2b7",
   "metadata": {},
   "outputs": [],
   "source": [
    "image0065, image0380, image0680, image0850, image1100, image1200, image1330, AUX_list, mask_list, newmask_list = extract_imglist2(image_path)\n",
    "\n",
    "random.Random(4).shuffle(image0065)\n",
    "random.Random(4).shuffle(image0380)\n",
    "random.Random(4).shuffle(image0680)\n",
    "random.Random(4).shuffle(image0850)\n",
    "random.Random(4).shuffle(image1100)\n",
    "random.Random(4).shuffle(image1200)\n",
    "random.Random(4).shuffle(image1330)\n",
    "random.Random(4).shuffle(AUX_list)\n",
    "random.Random(4).shuffle(mask_list)\n",
    "random.Random(4).shuffle(newmask_list)\n",
    "\n",
    "    \n",
    "data_split = range(0,int(len(image0065)*TRAIN_SPLIT))\n",
    "if not AUGMENT and not BALANCE:\n",
    "    if CREATE_VALIDATION_SET:\n",
    "        data_split = range(int(len(image0065)*TRAIN_SPLIT),int(len(image0065)*(TRAIN_SPLIT+(1-TRAIN_SPLIT)/2)))\n",
    "    else:\n",
    "        data_split = range(int(len(image0065)*(TRAIN_SPLIT+(1-TRAIN_SPLIT)/2)),int(len(image0065)))\n",
    "data_split = range(0,int(len(image0065)*1))\n",
    "image0065 = list(itemgetter(*data_split)(image0065))\n",
    "image0380 = list(itemgetter(*data_split)(image0380))\n",
    "image0680 = list(itemgetter(*data_split)(image0680))\n",
    "image0850 = list(itemgetter(*data_split)(image0850))\n",
    "image1100 = list(itemgetter(*data_split)(image1100))\n",
    "image1200 = list(itemgetter(*data_split)(image1200))\n",
    "image1330 = list(itemgetter(*data_split)(image1330))\n",
    "AUX_list = list(itemgetter(*data_split)(AUX_list))\n",
    "mask_list = list(itemgetter(*data_split)(mask_list))\n",
    "newmask_list = list(itemgetter(*data_split)(newmask_list))\n"
   ]
  },
  {
   "cell_type": "code",
   "execution_count": null,
   "id": "9d4bd06d-a215-4296-a132-82a8b7d3596a",
   "metadata": {},
   "outputs": [],
   "source": []
  },
  {
   "cell_type": "code",
   "execution_count": 3,
   "id": "26dcc2a7-b021-4555-97d5-c3dc548d19ee",
   "metadata": {},
   "outputs": [
    {
     "name": "stdout",
     "output_type": "stream",
     "text": [
      "['/home/kjsanche/Desktop/ExternalSSD/SatContrailData/2018MOD/091/A2018091.1705/01__1km.raw', '/home/kjsanche/Desktop/ExternalSSD/SatContrailData/2018MOD/091/A2018091.1150/01__1km.raw', '/home/kjsanche/Desktop/ExternalSSD/SatContrailData/2018MOD/091/A2018091.1345/01__1km.raw']\n",
      "['/home/kjsanche/Desktop/ExternalSSD/SatContrailData/2018MOD/091/A2018091.1705/01__1km.AUX', '/home/kjsanche/Desktop/ExternalSSD/SatContrailData/2018MOD/091/A2018091.1150/01__1km.AUX', '/home/kjsanche/Desktop/ExternalSSD/SatContrailData/2018MOD/091/A2018091.1345/01__1km.AUX']\n"
     ]
    }
   ],
   "source": [
    "print(image0065[1:4])\n",
    "print(AUX_list[1:4])"
   ]
  },
  {
   "cell_type": "markdown",
   "id": "3b38ec73-a0fb-44a8-9c96-c15a6e094d7d",
   "metadata": {},
   "source": [
    "## extract image dimensions"
   ]
  },
  {
   "cell_type": "code",
   "execution_count": 4,
   "id": "559d3ea0-5d48-4dd4-95d3-0a2a01463fb6",
   "metadata": {},
   "outputs": [],
   "source": [
    "dim = Extract_RawDef(AUX_list)"
   ]
  },
  {
   "cell_type": "raw",
   "id": "a37d8304-004f-48f0-8f6f-3d3d00aeb60c",
   "metadata": {},
   "source": [
    "for path in zip(img1100_list_ds.take(3), mask_list_ds.take(3)):\n",
    "    print(path)"
   ]
  },
  {
   "cell_type": "markdown",
   "id": "c2d5b6aa-f366-4cd9-b425-6357a187da43",
   "metadata": {},
   "source": [
    "## make dataset"
   ]
  },
  {
   "cell_type": "code",
   "execution_count": 5,
   "id": "b6e7d274-a27b-4cae-a890-740e141c1323",
   "metadata": {},
   "outputs": [
    {
     "name": "stdout",
     "output_type": "stream",
     "text": [
      "<TensorSliceDataset shapes: ((), (), (), (), (), (), (), (), (), (2,)), types: (tf.string, tf.string, tf.string, tf.string, tf.string, tf.string, tf.string, tf.string, tf.string, tf.int64)>\n"
     ]
    },
    {
     "name": "stderr",
     "output_type": "stream",
     "text": [
      "2022-06-21 14:55:36.820911: I tensorflow/compiler/jit/xla_cpu_device.cc:41] Not creating XLA devices, tf_xla_enable_xla_devices not set\n",
      "2022-06-21 14:55:36.821705: I tensorflow/stream_executor/platform/default/dso_loader.cc:49] Successfully opened dynamic library libcuda.so.1\n",
      "2022-06-21 14:55:36.856189: I tensorflow/core/common_runtime/gpu/gpu_device.cc:1720] Found device 0 with properties: \n",
      "pciBusID: 0000:21:00.0 name: Quadro P2000 computeCapability: 6.1\n",
      "coreClock: 1.4805GHz coreCount: 8 deviceMemorySize: 4.93GiB deviceMemoryBandwidth: 130.53GiB/s\n",
      "2022-06-21 14:55:36.856243: I tensorflow/stream_executor/platform/default/dso_loader.cc:49] Successfully opened dynamic library libcudart.so.10.1\n",
      "2022-06-21 14:55:36.857821: I tensorflow/stream_executor/platform/default/dso_loader.cc:49] Successfully opened dynamic library libcublas.so.10\n",
      "2022-06-21 14:55:36.857902: I tensorflow/stream_executor/platform/default/dso_loader.cc:49] Successfully opened dynamic library libcublasLt.so.10\n",
      "2022-06-21 14:55:36.859222: I tensorflow/stream_executor/platform/default/dso_loader.cc:49] Successfully opened dynamic library libcufft.so.10\n",
      "2022-06-21 14:55:36.859521: I tensorflow/stream_executor/platform/default/dso_loader.cc:49] Successfully opened dynamic library libcurand.so.10\n",
      "2022-06-21 14:55:36.860990: I tensorflow/stream_executor/platform/default/dso_loader.cc:49] Successfully opened dynamic library libcusolver.so.10\n",
      "2022-06-21 14:55:36.861804: I tensorflow/stream_executor/platform/default/dso_loader.cc:49] Successfully opened dynamic library libcusparse.so.10\n",
      "2022-06-21 14:55:36.864843: I tensorflow/stream_executor/platform/default/dso_loader.cc:49] Successfully opened dynamic library libcudnn.so.7\n",
      "2022-06-21 14:55:36.865252: I tensorflow/core/common_runtime/gpu/gpu_device.cc:1862] Adding visible gpu devices: 0\n",
      "2022-06-21 14:55:36.865841: I tensorflow/core/platform/cpu_feature_guard.cc:142] This TensorFlow binary is optimized with oneAPI Deep Neural Network Library (oneDNN) to use the following CPU instructions in performance-critical operations:  SSE4.1 SSE4.2 AVX AVX2 AVX512F FMA\n",
      "To enable them in other operations, rebuild TensorFlow with the appropriate compiler flags.\n",
      "2022-06-21 14:55:36.866461: I tensorflow/compiler/jit/xla_gpu_device.cc:99] Not creating XLA devices, tf_xla_enable_xla_devices not set\n",
      "2022-06-21 14:55:36.866717: I tensorflow/core/common_runtime/gpu/gpu_device.cc:1720] Found device 0 with properties: \n",
      "pciBusID: 0000:21:00.0 name: Quadro P2000 computeCapability: 6.1\n",
      "coreClock: 1.4805GHz coreCount: 8 deviceMemorySize: 4.93GiB deviceMemoryBandwidth: 130.53GiB/s\n",
      "2022-06-21 14:55:36.866753: I tensorflow/stream_executor/platform/default/dso_loader.cc:49] Successfully opened dynamic library libcudart.so.10.1\n",
      "2022-06-21 14:55:36.866770: I tensorflow/stream_executor/platform/default/dso_loader.cc:49] Successfully opened dynamic library libcublas.so.10\n",
      "2022-06-21 14:55:36.866783: I tensorflow/stream_executor/platform/default/dso_loader.cc:49] Successfully opened dynamic library libcublasLt.so.10\n",
      "2022-06-21 14:55:36.866796: I tensorflow/stream_executor/platform/default/dso_loader.cc:49] Successfully opened dynamic library libcufft.so.10\n",
      "2022-06-21 14:55:36.866809: I tensorflow/stream_executor/platform/default/dso_loader.cc:49] Successfully opened dynamic library libcurand.so.10\n",
      "2022-06-21 14:55:36.866822: I tensorflow/stream_executor/platform/default/dso_loader.cc:49] Successfully opened dynamic library libcusolver.so.10\n",
      "2022-06-21 14:55:36.866834: I tensorflow/stream_executor/platform/default/dso_loader.cc:49] Successfully opened dynamic library libcusparse.so.10\n",
      "2022-06-21 14:55:36.866847: I tensorflow/stream_executor/platform/default/dso_loader.cc:49] Successfully opened dynamic library libcudnn.so.7\n",
      "2022-06-21 14:55:36.867130: I tensorflow/core/common_runtime/gpu/gpu_device.cc:1862] Adding visible gpu devices: 0\n",
      "2022-06-21 14:55:36.867161: I tensorflow/stream_executor/platform/default/dso_loader.cc:49] Successfully opened dynamic library libcudart.so.10.1\n",
      "2022-06-21 14:55:37.232249: I tensorflow/core/common_runtime/gpu/gpu_device.cc:1261] Device interconnect StreamExecutor with strength 1 edge matrix:\n",
      "2022-06-21 14:55:37.232294: I tensorflow/core/common_runtime/gpu/gpu_device.cc:1267]      0 \n",
      "2022-06-21 14:55:37.232304: I tensorflow/core/common_runtime/gpu/gpu_device.cc:1280] 0:   N \n",
      "2022-06-21 14:55:37.232928: I tensorflow/core/common_runtime/gpu/gpu_device.cc:1406] Created TensorFlow device (/job:localhost/replica:0/task:0/device:GPU:0 with 4474 MB memory) -> physical GPU (device: 0, name: Quadro P2000, pci bus id: 0000:21:00.0, compute capability: 6.1)\n"
     ]
    }
   ],
   "source": [
    "img0065_filenames = tf.constant(image0065)\n",
    "img0380_filenames = tf.constant(image0380)\n",
    "img0680_filenames = tf.constant(image0680)\n",
    "img0850_filenames = tf.constant(image0850)\n",
    "img1100_filenames = tf.constant(image1100)\n",
    "img1200_filenames = tf.constant(image1200)\n",
    "img1330_filenames = tf.constant(image1330)\n",
    "\n",
    "masks_filenames = tf.constant(mask_list)\n",
    "newmasks_filenames = tf.constant(newmask_list)\n",
    "#print(masks_filenames)\n",
    "#print(newmasks_filenames)\n",
    "dataset = tf.data.Dataset.from_tensor_slices((img0065_filenames, img0380_filenames, img0680_filenames, img0850_filenames, img1100_filenames, img1200_filenames, img1330_filenames, masks_filenames, newmasks_filenames, dim))\n",
    "print(dataset)"
   ]
  },
  {
   "cell_type": "code",
   "execution_count": 6,
   "id": "4c91ac33-4329-4868-a728-f8fbd8c41682",
   "metadata": {},
   "outputs": [
    {
     "name": "stdout",
     "output_type": "stream",
     "text": [
      "<MapDataset shapes: ((4096, 4096, 6), (4096, 4096, 2)), types: (tf.float16, tf.int8)>\n"
     ]
    }
   ],
   "source": [
    "def process_path(img0065_path, img0380_path, img0680_path, img0850_path, img1100_path, img1200_path, img1330_path, mask_path, newmask_path, dim):\n",
    "# convert binary files to matrix of integers\n",
    "    if NCHANNELS >=3:\n",
    "        img5 = extract_img(str(img1100_path.numpy().decode('ascii')),int(dim[0].numpy()),int(dim[1].numpy()))\n",
    "        img6 = extract_img(str(img1200_path.numpy().decode('ascii')),int(dim[0].numpy()),int(dim[1].numpy()))\n",
    "        img = np.concatenate((img5, img6), axis=2)\n",
    "    if NCHANNELS >=7:\n",
    "        img2 = extract_img(str(img0380_path.numpy().decode('ascii')),int(dim[0].numpy()),int(dim[1].numpy()))\n",
    "        img3 = extract_img(str(img0680_path.numpy().decode('ascii')),int(dim[0].numpy()),int(dim[1].numpy()))\n",
    "        img4 = extract_img(str(img0850_path.numpy().decode('ascii')),int(dim[0].numpy()),int(dim[1].numpy()))\n",
    "        img7 = extract_img(str(img1330_path.numpy().decode('ascii')),int(dim[0].numpy()),int(dim[1].numpy()))\n",
    "        img = np.concatenate((img2, img3, img4, img7, img), axis=2)\n",
    "    if NCHANNELS ==8:\n",
    "        img1 = extract_img(str(img0065_path.numpy().decode('ascii')),int(dim[0].numpy()),int(dim[1].numpy()))\n",
    "        img = np.concatenate((img1, img), axis=2)\n",
    "\n",
    "\n",
    "\n",
    "    #img = np.concatenate((img1, img2, img3, img4, img7, img5, img6), axis=2)\n",
    "    \n",
    "    \n",
    "    \n",
    "    with open(str(newmask_path.numpy().decode('ascii')), 'rb') as f:\n",
    "        mask = np.zeros((4096,4096,1), dtype = int)\n",
    "        x = np.load(f)\n",
    "        mask[0:x.shape[0], 0:x.shape[1], 0] += x\n",
    "\n",
    "    mask2 = extract_mask(str(mask_path.numpy().decode('ascii')),int(dim[0].numpy()),int(dim[1].numpy()))\n",
    "    mask = np.concatenate((mask2, mask), axis=2)\n",
    "        \n",
    "    return tf.convert_to_tensor(img,dtype=tf.float16), tf.convert_to_tensor(mask,dtype=tf.int8)\n",
    "\n",
    "def _set_shapes(img, mask):\n",
    "    img.set_shape([4096, 4096, NCHANNELS-1])\n",
    "    mask.set_shape([4096, 4096, 2])\n",
    "\n",
    "    return img, mask \n",
    "\n",
    "#print(dataset)\n",
    "image_ds = dataset.map(lambda aa, bb, cc, dd, ee, ff, gg, hh, ii, jj: tf.py_function(process_path, [aa, bb, cc, dd, ee, ff, gg, hh, ii, jj], [tf.float16, tf.int8]))\n",
    "image_ds = image_ds.map(_set_shapes)\n",
    "print(image_ds)\n",
    "\n"
   ]
  },
  {
   "cell_type": "code",
   "execution_count": 7,
   "id": "c4073e92-44b2-451c-ab1a-3173fb9b4c7b",
   "metadata": {},
   "outputs": [],
   "source": [
    "def display(display_list):\n",
    "    plt.figure(figsize=(15, 15))\n",
    "\n",
    "    title = ['Input Image', 'True Mask', 'Predicted Mask']\n",
    "\n",
    "    for i in range(len(display_list)):\n",
    "        plt.subplot(1, len(display_list), i+1)\n",
    "        plt.title(title[i])\n",
    "        print(i)\n",
    "        print(display_list[i].shape)\n",
    "        if i == 0:\n",
    "            plt.imshow(np.float32(display_list[i][:,:,-3]-display_list[i][:,:,-2]), cmap = 'gray')\n",
    "        else:\n",
    "            plt.imshow(np.float32(1*display_list[i][:,:,0]), cmap = 'gray') \n",
    "        plt.axis('off')\n",
    "    plt.show()"
   ]
  },
  {
   "cell_type": "raw",
   "id": "873e94f3-e707-4206-9944-f947ea7e4f10",
   "metadata": {},
   "source": [
    "for image, mask in image_ds.take(20):\n",
    "    sample_image, sample_mask = image, mask\n",
    "    #print(mask.shape)\n",
    "    display([sample_image, sample_mask])\n",
    "print('mem usage: ', tf.config.experimental.get_memory_usage(\"GPU:0\"))"
   ]
  },
  {
   "cell_type": "code",
   "execution_count": 8,
   "id": "eb5a0955-6d0d-4d04-9121-699b51606b3c",
   "metadata": {},
   "outputs": [
    {
     "name": "stderr",
     "output_type": "stream",
     "text": [
      "2022-06-21 14:55:37.330850: I tensorflow/compiler/mlir/mlir_graph_optimization_pass.cc:116] None of the MLIR optimization passes are enabled (registered 2)\n",
      "2022-06-21 14:55:37.342550: I tensorflow/core/platform/profile_utils/cpu_utils.cc:112] CPU Frequency: 3600000000 Hz\n"
     ]
    },
    {
     "name": "stdout",
     "output_type": "stream",
     "text": [
      "(4096, 4096, 6)\n",
      "(4096, 4096, 2)\n"
     ]
    }
   ],
   "source": [
    "for image, mask in image_ds.take(5):\n",
    "    sample_image, sample_mask = image, mask\n",
    "print(sample_image.shape)\n",
    "print(sample_mask.shape)\n"
   ]
  },
  {
   "cell_type": "code",
   "execution_count": 9,
   "id": "3fd1a6d0-4c97-4d47-ace8-0ba0acb10ede",
   "metadata": {},
   "outputs": [],
   "source": [
    "def rotate_img(image, angle):\n",
    "    rotated_image =  rotate(np.float32(image), angle=angle, reshape=True, order=0)\n",
    "    #zoom into minimum bounding rectangle\n",
    "    if np.max(rotated_image)>0:\n",
    "        y_min, y_max, x_min, x_max = [np.min(np.nonzero(rotated_image)[0][:]), np.max(np.nonzero(rotated_image)[0][:]), np.min(np.nonzero(rotated_image)[1][:]), np.max(np.nonzero(rotated_image)[1][:])]\n",
    "        return rotated_image, y_min, y_max, x_min, x_max\n",
    "    return rotated_image, np.nan, np.nan, np.nan, np.nan"
   ]
  },
  {
   "cell_type": "code",
   "execution_count": 10,
   "id": "928579dd-2c7c-47a9-ad55-ac028566eb35",
   "metadata": {},
   "outputs": [],
   "source": [
    "#used to find range of values for each channel\n",
    "def Rng_Extremes(x, rng):\n",
    "    mx = np.max(np.max(x))\n",
    "    x[x==0]=99999\n",
    "    mn = np.min(np.min(x))\n",
    "    x[x==99999]=0\n",
    "    if rng == []:\n",
    "        return [mn, mx]\n",
    "    if mn<rng[0]: \n",
    "        mn = mn\n",
    "    else:\n",
    "        mn = rng[0]\n",
    "    if mx>rng[1]: \n",
    "        mx = mx\n",
    "    else:\n",
    "        mx = rng[1]\n",
    "    return [mn, mx]\n",
    "        \n",
    "c1rng =[]\n",
    "c2rng =[]\n",
    "c3rng =[]\n",
    "c4rng =[]\n",
    "c5rng =[]\n",
    "c6rng =[]\n",
    "c7rng =[]"
   ]
  },
  {
   "cell_type": "raw",
   "id": "bbd131a1-0e1c-4d25-8850-ade2eb479529",
   "metadata": {},
   "source": [
    "from tensorflow.keras import layers\n",
    "\n",
    "\n",
    "data_augmentation = tf.keras.Sequential([\n",
    "  layers.experimental.preprocessing.RandomFlip(\"horizontal_and_vertical\"),\n",
    "  tf.image.rot90(\n",
    "  #layers.experimental.preprocessing.RandomRotation(0.5, interpolation = \"nearest\"), \n",
    "  #layers.experimental.preprocessing.RandomContrast(0.5),\n",
    "])\n",
    "\n",
    "def augment_case(original_mask, img_test, multiplier):\n",
    "    mask = np.expand_dims(original_mask, axis=3)\n",
    "    case= np.concatenate((img_test, mask), axis=3)\n",
    "\n",
    "\n",
    "    for i in range(multiplier):\n",
    "        aug_img = data_augmentation(case)\n",
    "        mask = np.int8(np.rint(aug_img[:,:,:,-1]))\n",
    "        img_test = np.float16(aug_img[:,:,:,:-1])\n",
    "        mask[mask>0.5]=1\n",
    "        mask[mask<=0.5]=0\n",
    "        #make duplicates\n",
    "        write_images_to_tfr_long(img_test, mask, filename=filename+str(i), max_files=1, out_dir=save_TFrecord_path)\n",
    "    if sum(sum(mask)) > 50:\n",
    "        write_images_to_tfr_long(img_test, mask, filename=filename+str(i+2*multiplier), max_files=1, out_dir=save_TFrecord_path)\n",
    "    if sum(sum(mask)) > 100:\n",
    "        write_images_to_tfr_long(img_test, mask, filename=filename+str(i+3*multiplier), max_files=1, out_dir=save_TFrecord_path)\n",
    "    return"
   ]
  },
  {
   "cell_type": "code",
   "execution_count": 11,
   "id": "c6cfc562-396d-4799-b6f4-7be5ed252f59",
   "metadata": {},
   "outputs": [],
   "source": [
    "def blockshaped(arr, nrows, ncols):\n",
    "    \"\"\"\n",
    "    Return an array of shape (n, nrows, ncols) where\n",
    "    n * nrows * ncols = arr.size\n",
    "\n",
    "    If arr is a 2D array, the returned array should look like n subblocks with\n",
    "    each subblock preserving the \"physical\" layout of arr.\n",
    "    \"\"\"\n",
    "    h, w = arr.shape\n",
    "    assert h % nrows == 0, f\"{h} rows is not evenly divisible by {nrows}\"\n",
    "    assert w % ncols == 0, f\"{w} cols is not evenly divisible by {ncols}\"\n",
    "    return (arr.reshape(h//nrows, nrows, -1, ncols)\n",
    "               .swapaxes(1,2)\n",
    "               .reshape(-1, nrows, ncols))\n",
    "def unblockshaped(arr, h, w):\n",
    "    \"\"\"\n",
    "    Return an array of shape (h, w) where\n",
    "    h * w = arr.size\n",
    "\n",
    "    If arr is of shape (n, nrows, ncols), n sublocks of shape (nrows, ncols),\n",
    "    then the returned array preserves the \"physical\" layout of the sublocks.\n",
    "    \"\"\"\n",
    "    n, nrows, ncols = arr.shape\n",
    "    return (arr.reshape(h//nrows, -1, nrows, ncols)\n",
    "               .swapaxes(1,2)\n",
    "               .reshape(h, w))"
   ]
  },
  {
   "cell_type": "code",
   "execution_count": 12,
   "id": "b6b94db3-a4a2-459c-aace-2fba921fb2d4",
   "metadata": {},
   "outputs": [],
   "source": [
    "def augment_images(balanced_mask_slices, balanced_img_slices):\n",
    "    expanded_masks = np.expand_dims(balanced_mask_slices, axis=3)\n",
    "    aug_mask_img = np.concatenate((balanced_img_slices, expanded_masks), axis=3)\n",
    "\n",
    "        \n",
    "    for i in range(7):\n",
    "        if i == 3:\n",
    "            aug_mask_img = tf.image.flip_left_right(aug_mask_img)\n",
    "        else:\n",
    "            aug_mask_img = tf.image.rot90(aug_mask_img)\n",
    "\n",
    "        aug_masks = np.int8(np.rint(aug_mask_img[:,:,:,-1]))\n",
    "        aug_imgs = np.float16(aug_mask_img[:,:,:,:-1])\n",
    "        balanced_img_slices = np.concatenate((balanced_img_slices, aug_imgs),axis=0)\n",
    "        balanced_mask_slices = np.concatenate((balanced_mask_slices, aug_masks),axis=0)\n",
    "        #print(f\"number of mask slices = {balanced_mask_slices.shape[0]}\")\n",
    "        #print(f\"number of img slices = {balanced_img_slices.shape[0]}\")\n",
    "    \n",
    "    return balanced_mask_slices, balanced_img_slices"
   ]
  },
  {
   "cell_type": "code",
   "execution_count": 13,
   "id": "ce536e82-71cc-4b32-92f1-10c709f95c06",
   "metadata": {
    "tags": []
   },
   "outputs": [
    {
     "name": "stdout",
     "output_type": "stream",
     "text": [
      "MOD021KM-A2018091.0155vMODIS7test\n",
      "1\n",
      "\n",
      "Using 1 shard(s) for 2048 files, with up to 2048 samples per shard\n"
     ]
    },
    {
     "name": "stderr",
     "output_type": "stream",
     "text": [
      "100%|█████████████████████████████████████████████| 1/1 [00:00<00:00,  3.01it/s]\n"
     ]
    },
    {
     "name": "stdout",
     "output_type": "stream",
     "text": [
      "\n",
      "Wrote 2048 elements to TFRecord\n",
      "\n",
      "Using 1 shard(s) for 2048 files, with up to 2048 samples per shard\n"
     ]
    },
    {
     "name": "stderr",
     "output_type": "stream",
     "text": [
      "100%|█████████████████████████████████████████████| 1/1 [00:00<00:00,  3.03it/s]\n"
     ]
    },
    {
     "name": "stdout",
     "output_type": "stream",
     "text": [
      "\n",
      "Wrote 2048 elements to TFRecord\n",
      "MOD021KM-A2018091.1705vMODIS7test\n",
      "1\n",
      "\n",
      "Using 1 shard(s) for 2048 files, with up to 2048 samples per shard\n"
     ]
    },
    {
     "name": "stderr",
     "output_type": "stream",
     "text": [
      "100%|█████████████████████████████████████████████| 1/1 [00:00<00:00,  3.05it/s]\n"
     ]
    },
    {
     "name": "stdout",
     "output_type": "stream",
     "text": [
      "\n",
      "Wrote 2048 elements to TFRecord\n",
      "\n",
      "Using 1 shard(s) for 2048 files, with up to 2048 samples per shard\n"
     ]
    },
    {
     "name": "stderr",
     "output_type": "stream",
     "text": [
      "100%|█████████████████████████████████████████████| 1/1 [00:00<00:00,  3.06it/s]\n"
     ]
    },
    {
     "name": "stdout",
     "output_type": "stream",
     "text": [
      "\n",
      "Wrote 2048 elements to TFRecord\n",
      "MOD021KM-A2018091.1150vMODIS7test\n",
      "1\n",
      "\n",
      "Using 1 shard(s) for 2048 files, with up to 2048 samples per shard\n"
     ]
    },
    {
     "name": "stderr",
     "output_type": "stream",
     "text": [
      "100%|█████████████████████████████████████████████| 1/1 [00:00<00:00,  3.05it/s]\n"
     ]
    },
    {
     "name": "stdout",
     "output_type": "stream",
     "text": [
      "\n",
      "Wrote 2048 elements to TFRecord\n",
      "\n",
      "Using 1 shard(s) for 2048 files, with up to 2048 samples per shard\n"
     ]
    },
    {
     "name": "stderr",
     "output_type": "stream",
     "text": [
      "100%|█████████████████████████████████████████████| 1/1 [00:00<00:00,  3.02it/s]\n"
     ]
    },
    {
     "name": "stdout",
     "output_type": "stream",
     "text": [
      "\n",
      "Wrote 2048 elements to TFRecord\n",
      "MOD021KM-A2018091.1345vMODIS7test\n",
      "1\n",
      "\n",
      "Using 1 shard(s) for 2048 files, with up to 2048 samples per shard\n"
     ]
    },
    {
     "name": "stderr",
     "output_type": "stream",
     "text": [
      "100%|█████████████████████████████████████████████| 1/1 [00:00<00:00,  3.03it/s]\n"
     ]
    },
    {
     "name": "stdout",
     "output_type": "stream",
     "text": [
      "\n",
      "Wrote 2048 elements to TFRecord\n",
      "\n",
      "Using 1 shard(s) for 2048 files, with up to 2048 samples per shard\n"
     ]
    },
    {
     "name": "stderr",
     "output_type": "stream",
     "text": [
      "100%|█████████████████████████████████████████████| 1/1 [00:00<00:00,  3.05it/s]\n"
     ]
    },
    {
     "name": "stdout",
     "output_type": "stream",
     "text": [
      "\n",
      "Wrote 2048 elements to TFRecord\n",
      "MOD021KM-A2018091.0715vMODIS7test\n",
      "1\n",
      "\n",
      "Using 1 shard(s) for 2048 files, with up to 2048 samples per shard\n"
     ]
    },
    {
     "name": "stderr",
     "output_type": "stream",
     "text": [
      "100%|█████████████████████████████████████████████| 1/1 [00:00<00:00,  3.07it/s]\n"
     ]
    },
    {
     "name": "stdout",
     "output_type": "stream",
     "text": [
      "\n",
      "Wrote 2048 elements to TFRecord\n",
      "\n",
      "Using 1 shard(s) for 2048 files, with up to 2048 samples per shard\n"
     ]
    },
    {
     "name": "stderr",
     "output_type": "stream",
     "text": [
      "100%|█████████████████████████████████████████████| 1/1 [00:00<00:00,  3.08it/s]\n"
     ]
    },
    {
     "name": "stdout",
     "output_type": "stream",
     "text": [
      "\n",
      "Wrote 2048 elements to TFRecord\n",
      "MOD021KM-A2018091.1205vMODIS7test\n",
      "1\n",
      "\n",
      "Using 1 shard(s) for 2048 files, with up to 2048 samples per shard\n"
     ]
    },
    {
     "name": "stderr",
     "output_type": "stream",
     "text": [
      "100%|█████████████████████████████████████████████| 1/1 [00:00<00:00,  3.04it/s]\n"
     ]
    },
    {
     "name": "stdout",
     "output_type": "stream",
     "text": [
      "\n",
      "Wrote 2048 elements to TFRecord\n",
      "\n",
      "Using 1 shard(s) for 2048 files, with up to 2048 samples per shard\n"
     ]
    },
    {
     "name": "stderr",
     "output_type": "stream",
     "text": [
      "100%|█████████████████████████████████████████████| 1/1 [00:00<00:00,  3.06it/s]\n"
     ]
    },
    {
     "name": "stdout",
     "output_type": "stream",
     "text": [
      "\n",
      "Wrote 2048 elements to TFRecord\n",
      "MOD021KM-A2018091.1040vMODIS7test\n",
      "1\n",
      "\n",
      "Using 1 shard(s) for 2048 files, with up to 2048 samples per shard\n"
     ]
    },
    {
     "name": "stderr",
     "output_type": "stream",
     "text": [
      "100%|█████████████████████████████████████████████| 1/1 [00:00<00:00,  3.06it/s]\n"
     ]
    },
    {
     "name": "stdout",
     "output_type": "stream",
     "text": [
      "\n",
      "Wrote 2048 elements to TFRecord\n",
      "\n",
      "Using 1 shard(s) for 2048 files, with up to 2048 samples per shard\n"
     ]
    },
    {
     "name": "stderr",
     "output_type": "stream",
     "text": [
      "100%|█████████████████████████████████████████████| 1/1 [00:00<00:00,  3.01it/s]\n"
     ]
    },
    {
     "name": "stdout",
     "output_type": "stream",
     "text": [
      "\n",
      "Wrote 2048 elements to TFRecord\n",
      "MOD021KM-A2018091.0515vMODIS7test\n",
      "1\n",
      "\n",
      "Using 1 shard(s) for 2048 files, with up to 2048 samples per shard\n"
     ]
    },
    {
     "name": "stderr",
     "output_type": "stream",
     "text": [
      "100%|█████████████████████████████████████████████| 1/1 [00:00<00:00,  3.03it/s]\n"
     ]
    },
    {
     "name": "stdout",
     "output_type": "stream",
     "text": [
      "\n",
      "Wrote 2048 elements to TFRecord\n",
      "\n",
      "Using 1 shard(s) for 2048 files, with up to 2048 samples per shard\n"
     ]
    },
    {
     "name": "stderr",
     "output_type": "stream",
     "text": [
      "100%|█████████████████████████████████████████████| 1/1 [00:00<00:00,  3.03it/s]\n"
     ]
    },
    {
     "name": "stdout",
     "output_type": "stream",
     "text": [
      "\n",
      "Wrote 2048 elements to TFRecord\n",
      "MOD021KM-A2018091.1535vMODIS7test\n",
      "1\n",
      "\n",
      "Using 1 shard(s) for 2048 files, with up to 2048 samples per shard\n"
     ]
    },
    {
     "name": "stderr",
     "output_type": "stream",
     "text": [
      "100%|█████████████████████████████████████████████| 1/1 [00:00<00:00,  2.97it/s]\n"
     ]
    },
    {
     "name": "stdout",
     "output_type": "stream",
     "text": [
      "\n",
      "Wrote 2048 elements to TFRecord\n",
      "\n",
      "Using 1 shard(s) for 2048 files, with up to 2048 samples per shard\n"
     ]
    },
    {
     "name": "stderr",
     "output_type": "stream",
     "text": [
      "100%|█████████████████████████████████████████████| 1/1 [00:00<00:00,  3.03it/s]\n"
     ]
    },
    {
     "name": "stdout",
     "output_type": "stream",
     "text": [
      "\n",
      "Wrote 2048 elements to TFRecord\n",
      "MOD021KM-A2018091.0020vMODIS7test\n",
      "1\n",
      "\n",
      "Using 1 shard(s) for 2048 files, with up to 2048 samples per shard\n"
     ]
    },
    {
     "name": "stderr",
     "output_type": "stream",
     "text": [
      "100%|█████████████████████████████████████████████| 1/1 [00:00<00:00,  3.02it/s]\n"
     ]
    },
    {
     "name": "stdout",
     "output_type": "stream",
     "text": [
      "\n",
      "Wrote 2048 elements to TFRecord\n",
      "\n",
      "Using 1 shard(s) for 2048 files, with up to 2048 samples per shard\n"
     ]
    },
    {
     "name": "stderr",
     "output_type": "stream",
     "text": [
      "100%|█████████████████████████████████████████████| 1/1 [00:00<00:00,  3.00it/s]\n"
     ]
    },
    {
     "name": "stdout",
     "output_type": "stream",
     "text": [
      "\n",
      "Wrote 2048 elements to TFRecord\n",
      "MOD021KM-A2018091.0150vMODIS7test\n",
      "1\n",
      "\n",
      "Using 1 shard(s) for 2048 files, with up to 2048 samples per shard\n"
     ]
    },
    {
     "name": "stderr",
     "output_type": "stream",
     "text": [
      "100%|█████████████████████████████████████████████| 1/1 [00:00<00:00,  3.01it/s]\n"
     ]
    },
    {
     "name": "stdout",
     "output_type": "stream",
     "text": [
      "\n",
      "Wrote 2048 elements to TFRecord\n",
      "\n",
      "Using 1 shard(s) for 2048 files, with up to 2048 samples per shard\n"
     ]
    },
    {
     "name": "stderr",
     "output_type": "stream",
     "text": [
      "100%|█████████████████████████████████████████████| 1/1 [00:00<00:00,  3.05it/s]\n"
     ]
    },
    {
     "name": "stdout",
     "output_type": "stream",
     "text": [
      "\n",
      "Wrote 2048 elements to TFRecord\n",
      "MOD021KM-A2018091.1315vMODIS7test\n",
      "1\n",
      "\n",
      "Using 1 shard(s) for 2048 files, with up to 2048 samples per shard\n"
     ]
    },
    {
     "name": "stderr",
     "output_type": "stream",
     "text": [
      "100%|█████████████████████████████████████████████| 1/1 [00:00<00:00,  2.99it/s]\n"
     ]
    },
    {
     "name": "stdout",
     "output_type": "stream",
     "text": [
      "\n",
      "Wrote 2048 elements to TFRecord\n",
      "\n",
      "Using 1 shard(s) for 2048 files, with up to 2048 samples per shard\n"
     ]
    },
    {
     "name": "stderr",
     "output_type": "stream",
     "text": [
      "100%|█████████████████████████████████████████████| 1/1 [00:00<00:00,  2.96it/s]\n"
     ]
    },
    {
     "name": "stdout",
     "output_type": "stream",
     "text": [
      "\n",
      "Wrote 2048 elements to TFRecord\n",
      "MOD021KM-A2018091.0205vMODIS7test\n",
      "1\n",
      "\n",
      "Using 1 shard(s) for 2048 files, with up to 2048 samples per shard\n"
     ]
    },
    {
     "name": "stderr",
     "output_type": "stream",
     "text": [
      "100%|█████████████████████████████████████████████| 1/1 [00:00<00:00,  3.04it/s]\n"
     ]
    },
    {
     "name": "stdout",
     "output_type": "stream",
     "text": [
      "\n",
      "Wrote 2048 elements to TFRecord\n",
      "\n",
      "Using 1 shard(s) for 2048 files, with up to 2048 samples per shard\n"
     ]
    },
    {
     "name": "stderr",
     "output_type": "stream",
     "text": [
      "100%|█████████████████████████████████████████████| 1/1 [00:00<00:00,  3.00it/s]\n"
     ]
    },
    {
     "name": "stdout",
     "output_type": "stream",
     "text": [
      "\n",
      "Wrote 2048 elements to TFRecord\n",
      "MOD021KM-A2018091.1320vMODIS7test\n",
      "1\n",
      "\n",
      "Using 1 shard(s) for 2048 files, with up to 2048 samples per shard\n"
     ]
    },
    {
     "name": "stderr",
     "output_type": "stream",
     "text": [
      "100%|█████████████████████████████████████████████| 1/1 [00:00<00:00,  2.89it/s]\n"
     ]
    },
    {
     "name": "stdout",
     "output_type": "stream",
     "text": [
      "\n",
      "Wrote 2048 elements to TFRecord\n",
      "\n",
      "Using 1 shard(s) for 2048 files, with up to 2048 samples per shard\n"
     ]
    },
    {
     "name": "stderr",
     "output_type": "stream",
     "text": [
      "100%|█████████████████████████████████████████████| 1/1 [00:00<00:00,  2.86it/s]\n"
     ]
    },
    {
     "name": "stdout",
     "output_type": "stream",
     "text": [
      "\n",
      "Wrote 2048 elements to TFRecord\n",
      "MOD021KM-A2018091.1025vMODIS7test\n",
      "1\n",
      "\n",
      "Using 1 shard(s) for 2048 files, with up to 2048 samples per shard\n"
     ]
    },
    {
     "name": "stderr",
     "output_type": "stream",
     "text": [
      "100%|█████████████████████████████████████████████| 1/1 [00:00<00:00,  2.94it/s]\n"
     ]
    },
    {
     "name": "stdout",
     "output_type": "stream",
     "text": [
      "\n",
      "Wrote 2048 elements to TFRecord\n",
      "\n",
      "Using 1 shard(s) for 2048 files, with up to 2048 samples per shard\n"
     ]
    },
    {
     "name": "stderr",
     "output_type": "stream",
     "text": [
      "100%|█████████████████████████████████████████████| 1/1 [00:00<00:00,  2.93it/s]\n"
     ]
    },
    {
     "name": "stdout",
     "output_type": "stream",
     "text": [
      "\n",
      "Wrote 2048 elements to TFRecord\n",
      "MOD021KM-A2018091.1005vMODIS7test\n",
      "1\n",
      "\n",
      "Using 1 shard(s) for 2048 files, with up to 2048 samples per shard\n"
     ]
    },
    {
     "name": "stderr",
     "output_type": "stream",
     "text": [
      "100%|█████████████████████████████████████████████| 1/1 [00:00<00:00,  3.05it/s]\n"
     ]
    },
    {
     "name": "stdout",
     "output_type": "stream",
     "text": [
      "\n",
      "Wrote 2048 elements to TFRecord\n",
      "\n",
      "Using 1 shard(s) for 2048 files, with up to 2048 samples per shard\n"
     ]
    },
    {
     "name": "stderr",
     "output_type": "stream",
     "text": [
      "100%|█████████████████████████████████████████████| 1/1 [00:00<00:00,  3.03it/s]\n"
     ]
    },
    {
     "name": "stdout",
     "output_type": "stream",
     "text": [
      "\n",
      "Wrote 2048 elements to TFRecord\n",
      "MOD021KM-A2018091.1335vMODIS7test\n",
      "1\n",
      "\n",
      "Using 1 shard(s) for 2048 files, with up to 2048 samples per shard\n"
     ]
    },
    {
     "name": "stderr",
     "output_type": "stream",
     "text": [
      "100%|█████████████████████████████████████████████| 1/1 [00:00<00:00,  2.95it/s]\n"
     ]
    },
    {
     "name": "stdout",
     "output_type": "stream",
     "text": [
      "\n",
      "Wrote 2048 elements to TFRecord\n",
      "\n",
      "Using 1 shard(s) for 2048 files, with up to 2048 samples per shard\n"
     ]
    },
    {
     "name": "stderr",
     "output_type": "stream",
     "text": [
      "100%|█████████████████████████████████████████████| 1/1 [00:00<00:00,  2.98it/s]\n"
     ]
    },
    {
     "name": "stdout",
     "output_type": "stream",
     "text": [
      "\n",
      "Wrote 2048 elements to TFRecord\n",
      "MOD021KM-A2018091.0645vMODIS7test\n",
      "1\n",
      "\n",
      "Using 1 shard(s) for 2048 files, with up to 2048 samples per shard\n"
     ]
    },
    {
     "name": "stderr",
     "output_type": "stream",
     "text": [
      "100%|█████████████████████████████████████████████| 1/1 [00:00<00:00,  3.00it/s]\n"
     ]
    },
    {
     "name": "stdout",
     "output_type": "stream",
     "text": [
      "\n",
      "Wrote 2048 elements to TFRecord\n",
      "\n",
      "Using 1 shard(s) for 2048 files, with up to 2048 samples per shard\n"
     ]
    },
    {
     "name": "stderr",
     "output_type": "stream",
     "text": [
      "100%|█████████████████████████████████████████████| 1/1 [00:00<00:00,  2.98it/s]\n"
     ]
    },
    {
     "name": "stdout",
     "output_type": "stream",
     "text": [
      "\n",
      "Wrote 2048 elements to TFRecord\n",
      "MOD021KM-A2018091.0455vMODIS7test\n",
      "1\n",
      "\n",
      "Using 1 shard(s) for 2048 files, with up to 2048 samples per shard\n"
     ]
    },
    {
     "name": "stderr",
     "output_type": "stream",
     "text": [
      "100%|█████████████████████████████████████████████| 1/1 [00:00<00:00,  2.95it/s]\n"
     ]
    },
    {
     "name": "stdout",
     "output_type": "stream",
     "text": [
      "\n",
      "Wrote 2048 elements to TFRecord\n",
      "\n",
      "Using 1 shard(s) for 2048 files, with up to 2048 samples per shard\n"
     ]
    },
    {
     "name": "stderr",
     "output_type": "stream",
     "text": [
      "100%|█████████████████████████████████████████████| 1/1 [00:00<00:00,  2.96it/s]\n"
     ]
    },
    {
     "name": "stdout",
     "output_type": "stream",
     "text": [
      "\n",
      "Wrote 2048 elements to TFRecord\n",
      "MOD021KM-A2018091.0540vMODIS7test\n",
      "1\n",
      "\n",
      "Using 1 shard(s) for 2048 files, with up to 2048 samples per shard\n"
     ]
    },
    {
     "name": "stderr",
     "output_type": "stream",
     "text": [
      "100%|█████████████████████████████████████████████| 1/1 [00:00<00:00,  2.94it/s]\n"
     ]
    },
    {
     "name": "stdout",
     "output_type": "stream",
     "text": [
      "\n",
      "Wrote 2048 elements to TFRecord\n",
      "\n",
      "Using 1 shard(s) for 2048 files, with up to 2048 samples per shard\n"
     ]
    },
    {
     "name": "stderr",
     "output_type": "stream",
     "text": [
      "100%|█████████████████████████████████████████████| 1/1 [00:00<00:00,  2.90it/s]\n"
     ]
    },
    {
     "name": "stdout",
     "output_type": "stream",
     "text": [
      "\n",
      "Wrote 2048 elements to TFRecord\n",
      "MOD021KM-A2018091.0345vMODIS7test\n",
      "1\n",
      "\n",
      "Using 1 shard(s) for 2048 files, with up to 2048 samples per shard\n"
     ]
    },
    {
     "name": "stderr",
     "output_type": "stream",
     "text": [
      "100%|█████████████████████████████████████████████| 1/1 [00:00<00:00,  2.96it/s]\n"
     ]
    },
    {
     "name": "stdout",
     "output_type": "stream",
     "text": [
      "\n",
      "Wrote 2048 elements to TFRecord\n",
      "\n",
      "Using 1 shard(s) for 2048 files, with up to 2048 samples per shard\n"
     ]
    },
    {
     "name": "stderr",
     "output_type": "stream",
     "text": [
      "100%|█████████████████████████████████████████████| 1/1 [00:00<00:00,  2.97it/s]\n"
     ]
    },
    {
     "name": "stdout",
     "output_type": "stream",
     "text": [
      "\n",
      "Wrote 2048 elements to TFRecord\n",
      "MOD021KM-A2018091.0030vMODIS7test\n",
      "1\n",
      "\n",
      "Using 1 shard(s) for 2048 files, with up to 2048 samples per shard\n"
     ]
    },
    {
     "name": "stderr",
     "output_type": "stream",
     "text": [
      "100%|█████████████████████████████████████████████| 1/1 [00:00<00:00,  2.92it/s]\n"
     ]
    },
    {
     "name": "stdout",
     "output_type": "stream",
     "text": [
      "\n",
      "Wrote 2048 elements to TFRecord\n",
      "\n",
      "Using 1 shard(s) for 2048 files, with up to 2048 samples per shard\n"
     ]
    },
    {
     "name": "stderr",
     "output_type": "stream",
     "text": [
      "100%|█████████████████████████████████████████████| 1/1 [00:00<00:00,  2.99it/s]\n"
     ]
    },
    {
     "name": "stdout",
     "output_type": "stream",
     "text": [
      "\n",
      "Wrote 2048 elements to TFRecord\n",
      "MOD021KM-A2018091.1815vMODIS7test\n",
      "1\n",
      "\n",
      "Using 1 shard(s) for 2048 files, with up to 2048 samples per shard\n"
     ]
    },
    {
     "name": "stderr",
     "output_type": "stream",
     "text": [
      "100%|█████████████████████████████████████████████| 1/1 [00:00<00:00,  2.96it/s]\n"
     ]
    },
    {
     "name": "stdout",
     "output_type": "stream",
     "text": [
      "\n",
      "Wrote 2048 elements to TFRecord\n",
      "\n",
      "Using 1 shard(s) for 2048 files, with up to 2048 samples per shard\n"
     ]
    },
    {
     "name": "stderr",
     "output_type": "stream",
     "text": [
      "100%|█████████████████████████████████████████████| 1/1 [00:00<00:00,  2.91it/s]\n"
     ]
    },
    {
     "name": "stdout",
     "output_type": "stream",
     "text": [
      "\n",
      "Wrote 2048 elements to TFRecord\n",
      "MOD021KM-A2018091.0525vMODIS7test\n",
      "1\n",
      "\n",
      "Using 1 shard(s) for 2048 files, with up to 2048 samples per shard\n"
     ]
    },
    {
     "name": "stderr",
     "output_type": "stream",
     "text": [
      "100%|█████████████████████████████████████████████| 1/1 [00:00<00:00,  2.93it/s]\n"
     ]
    },
    {
     "name": "stdout",
     "output_type": "stream",
     "text": [
      "\n",
      "Wrote 2048 elements to TFRecord\n",
      "\n",
      "Using 1 shard(s) for 2048 files, with up to 2048 samples per shard\n"
     ]
    },
    {
     "name": "stderr",
     "output_type": "stream",
     "text": [
      "100%|█████████████████████████████████████████████| 1/1 [00:00<00:00,  2.96it/s]\n"
     ]
    },
    {
     "name": "stdout",
     "output_type": "stream",
     "text": [
      "\n",
      "Wrote 2048 elements to TFRecord\n",
      "MOD021KM-A2018091.1655vMODIS7test\n",
      "1\n",
      "\n",
      "Using 1 shard(s) for 2048 files, with up to 2048 samples per shard\n"
     ]
    },
    {
     "name": "stderr",
     "output_type": "stream",
     "text": [
      "100%|█████████████████████████████████████████████| 1/1 [00:00<00:00,  2.96it/s]\n"
     ]
    },
    {
     "name": "stdout",
     "output_type": "stream",
     "text": [
      "\n",
      "Wrote 2048 elements to TFRecord\n",
      "\n",
      "Using 1 shard(s) for 2048 files, with up to 2048 samples per shard\n"
     ]
    },
    {
     "name": "stderr",
     "output_type": "stream",
     "text": [
      "100%|█████████████████████████████████████████████| 1/1 [00:00<00:00,  2.97it/s]\n"
     ]
    },
    {
     "name": "stdout",
     "output_type": "stream",
     "text": [
      "\n",
      "Wrote 2048 elements to TFRecord\n",
      "MOD021KM-A2018091.0320vMODIS7test\n",
      "MOD021KM-A2018091.0220vMODIS7test\n",
      "1\n",
      "\n",
      "Using 1 shard(s) for 2048 files, with up to 2048 samples per shard\n"
     ]
    },
    {
     "name": "stderr",
     "output_type": "stream",
     "text": [
      "100%|█████████████████████████████████████████████| 1/1 [00:00<00:00,  2.98it/s]\n"
     ]
    },
    {
     "name": "stdout",
     "output_type": "stream",
     "text": [
      "\n",
      "Wrote 2048 elements to TFRecord\n",
      "\n",
      "Using 1 shard(s) for 2048 files, with up to 2048 samples per shard\n"
     ]
    },
    {
     "name": "stderr",
     "output_type": "stream",
     "text": [
      "100%|█████████████████████████████████████████████| 1/1 [00:00<00:00,  2.88it/s]\n"
     ]
    },
    {
     "name": "stdout",
     "output_type": "stream",
     "text": [
      "\n",
      "Wrote 2048 elements to TFRecord\n",
      "MOD021KM-A2018091.0720vMODIS7test\n",
      "MOD021KM-A2018091.1710vMODIS7test\n",
      "1\n",
      "\n",
      "Using 1 shard(s) for 2048 files, with up to 2048 samples per shard\n"
     ]
    },
    {
     "name": "stderr",
     "output_type": "stream",
     "text": [
      "100%|█████████████████████████████████████████████| 1/1 [00:00<00:00,  2.95it/s]\n"
     ]
    },
    {
     "name": "stdout",
     "output_type": "stream",
     "text": [
      "\n",
      "Wrote 2048 elements to TFRecord\n",
      "\n",
      "Using 1 shard(s) for 2048 files, with up to 2048 samples per shard\n"
     ]
    },
    {
     "name": "stderr",
     "output_type": "stream",
     "text": [
      "100%|█████████████████████████████████████████████| 1/1 [00:00<00:00,  2.94it/s]\n"
     ]
    },
    {
     "name": "stdout",
     "output_type": "stream",
     "text": [
      "\n",
      "Wrote 2048 elements to TFRecord\n",
      "MOD021KM-A2018091.0700vMODIS7test\n",
      "1\n",
      "\n",
      "Using 1 shard(s) for 2048 files, with up to 2048 samples per shard\n"
     ]
    },
    {
     "name": "stderr",
     "output_type": "stream",
     "text": [
      "100%|█████████████████████████████████████████████| 1/1 [00:00<00:00,  2.90it/s]\n"
     ]
    },
    {
     "name": "stdout",
     "output_type": "stream",
     "text": [
      "\n",
      "Wrote 2048 elements to TFRecord\n",
      "\n",
      "Using 1 shard(s) for 2048 files, with up to 2048 samples per shard\n"
     ]
    },
    {
     "name": "stderr",
     "output_type": "stream",
     "text": [
      "100%|█████████████████████████████████████████████| 1/1 [00:00<00:00,  3.01it/s]\n"
     ]
    },
    {
     "name": "stdout",
     "output_type": "stream",
     "text": [
      "\n",
      "Wrote 2048 elements to TFRecord\n",
      "MOD021KM-A2018091.1030vMODIS7test\n",
      "1\n",
      "\n",
      "Using 1 shard(s) for 2048 files, with up to 2048 samples per shard\n"
     ]
    },
    {
     "name": "stderr",
     "output_type": "stream",
     "text": [
      "100%|█████████████████████████████████████████████| 1/1 [00:00<00:00,  2.92it/s]\n"
     ]
    },
    {
     "name": "stdout",
     "output_type": "stream",
     "text": [
      "\n",
      "Wrote 2048 elements to TFRecord\n",
      "\n",
      "Using 1 shard(s) for 2048 files, with up to 2048 samples per shard\n"
     ]
    },
    {
     "name": "stderr",
     "output_type": "stream",
     "text": [
      "100%|█████████████████████████████████████████████| 1/1 [00:00<00:00,  2.92it/s]\n"
     ]
    },
    {
     "name": "stdout",
     "output_type": "stream",
     "text": [
      "\n",
      "Wrote 2048 elements to TFRecord\n",
      "MOD021KM-A2018091.0640vMODIS7test\n",
      "1\n",
      "\n",
      "Using 1 shard(s) for 2048 files, with up to 2048 samples per shard\n"
     ]
    },
    {
     "name": "stderr",
     "output_type": "stream",
     "text": [
      "100%|█████████████████████████████████████████████| 1/1 [00:00<00:00,  2.94it/s]\n"
     ]
    },
    {
     "name": "stdout",
     "output_type": "stream",
     "text": [
      "\n",
      "Wrote 2048 elements to TFRecord\n",
      "\n",
      "Using 1 shard(s) for 2048 files, with up to 2048 samples per shard\n"
     ]
    },
    {
     "name": "stderr",
     "output_type": "stream",
     "text": [
      "100%|█████████████████████████████████████████████| 1/1 [00:00<00:00,  2.89it/s]\n"
     ]
    },
    {
     "name": "stdout",
     "output_type": "stream",
     "text": [
      "\n",
      "Wrote 2048 elements to TFRecord\n",
      "MOD021KM-A2018091.0355vMODIS7test\n",
      "1\n",
      "\n",
      "Using 1 shard(s) for 2048 files, with up to 2048 samples per shard\n"
     ]
    },
    {
     "name": "stderr",
     "output_type": "stream",
     "text": [
      "100%|█████████████████████████████████████████████| 1/1 [00:00<00:00,  2.89it/s]\n"
     ]
    },
    {
     "name": "stdout",
     "output_type": "stream",
     "text": [
      "\n",
      "Wrote 2048 elements to TFRecord\n",
      "\n",
      "Using 1 shard(s) for 2048 files, with up to 2048 samples per shard\n"
     ]
    },
    {
     "name": "stderr",
     "output_type": "stream",
     "text": [
      "100%|█████████████████████████████████████████████| 1/1 [00:00<00:00,  2.92it/s]\n"
     ]
    },
    {
     "name": "stdout",
     "output_type": "stream",
     "text": [
      "\n",
      "Wrote 2048 elements to TFRecord\n",
      "MOD021KM-A2018091.0950vMODIS7test\n",
      "1\n",
      "\n",
      "Using 1 shard(s) for 2048 files, with up to 2048 samples per shard\n"
     ]
    },
    {
     "name": "stderr",
     "output_type": "stream",
     "text": [
      "100%|█████████████████████████████████████████████| 1/1 [00:00<00:00,  2.91it/s]\n"
     ]
    },
    {
     "name": "stdout",
     "output_type": "stream",
     "text": [
      "\n",
      "Wrote 2048 elements to TFRecord\n",
      "\n",
      "Using 1 shard(s) for 2048 files, with up to 2048 samples per shard\n"
     ]
    },
    {
     "name": "stderr",
     "output_type": "stream",
     "text": [
      "100%|█████████████████████████████████████████████| 1/1 [00:00<00:00,  2.97it/s]\n"
     ]
    },
    {
     "name": "stdout",
     "output_type": "stream",
     "text": [
      "\n",
      "Wrote 2048 elements to TFRecord\n",
      "MOD021KM-A2018091.0820vMODIS7test\n",
      "1\n",
      "\n",
      "Using 1 shard(s) for 2048 files, with up to 2048 samples per shard\n"
     ]
    },
    {
     "name": "stderr",
     "output_type": "stream",
     "text": [
      "100%|█████████████████████████████████████████████| 1/1 [00:00<00:00,  3.00it/s]\n"
     ]
    },
    {
     "name": "stdout",
     "output_type": "stream",
     "text": [
      "\n",
      "Wrote 2048 elements to TFRecord\n",
      "\n",
      "Using 1 shard(s) for 2048 files, with up to 2048 samples per shard\n"
     ]
    },
    {
     "name": "stderr",
     "output_type": "stream",
     "text": [
      "100%|█████████████████████████████████████████████| 1/1 [00:00<00:00,  2.99it/s]\n"
     ]
    },
    {
     "name": "stdout",
     "output_type": "stream",
     "text": [
      "\n",
      "Wrote 2048 elements to TFRecord\n",
      "MOD021KM-A2018091.1350vMODIS7test\n",
      "1\n",
      "\n",
      "Using 1 shard(s) for 2048 files, with up to 2048 samples per shard\n"
     ]
    },
    {
     "name": "stderr",
     "output_type": "stream",
     "text": [
      "100%|█████████████████████████████████████████████| 1/1 [00:00<00:00,  2.89it/s]\n"
     ]
    },
    {
     "name": "stdout",
     "output_type": "stream",
     "text": [
      "\n",
      "Wrote 2048 elements to TFRecord\n",
      "\n",
      "Using 1 shard(s) for 2048 files, with up to 2048 samples per shard\n"
     ]
    },
    {
     "name": "stderr",
     "output_type": "stream",
     "text": [
      "100%|█████████████████████████████████████████████| 1/1 [00:00<00:00,  2.98it/s]\n"
     ]
    },
    {
     "name": "stdout",
     "output_type": "stream",
     "text": [
      "\n",
      "Wrote 2048 elements to TFRecord\n",
      "MOD021KM-A2018091.0815vMODIS7test\n",
      "1\n",
      "\n",
      "Using 1 shard(s) for 2048 files, with up to 2048 samples per shard\n"
     ]
    },
    {
     "name": "stderr",
     "output_type": "stream",
     "text": [
      "100%|█████████████████████████████████████████████| 1/1 [00:00<00:00,  2.96it/s]\n"
     ]
    },
    {
     "name": "stdout",
     "output_type": "stream",
     "text": [
      "\n",
      "Wrote 2048 elements to TFRecord\n",
      "\n",
      "Using 1 shard(s) for 2048 files, with up to 2048 samples per shard\n"
     ]
    },
    {
     "name": "stderr",
     "output_type": "stream",
     "text": [
      "100%|█████████████████████████████████████████████| 1/1 [00:00<00:00,  3.02it/s]\n"
     ]
    },
    {
     "name": "stdout",
     "output_type": "stream",
     "text": [
      "\n",
      "Wrote 2048 elements to TFRecord\n",
      "MOD021KM-A2018091.0520vMODIS7test\n",
      "1\n",
      "\n",
      "Using 1 shard(s) for 2048 files, with up to 2048 samples per shard\n"
     ]
    },
    {
     "name": "stderr",
     "output_type": "stream",
     "text": [
      "100%|█████████████████████████████████████████████| 1/1 [00:00<00:00,  3.01it/s]\n"
     ]
    },
    {
     "name": "stdout",
     "output_type": "stream",
     "text": [
      "\n",
      "Wrote 2048 elements to TFRecord\n",
      "\n",
      "Using 1 shard(s) for 2048 files, with up to 2048 samples per shard\n"
     ]
    },
    {
     "name": "stderr",
     "output_type": "stream",
     "text": [
      "100%|█████████████████████████████████████████████| 1/1 [00:00<00:00,  3.03it/s]\n"
     ]
    },
    {
     "name": "stdout",
     "output_type": "stream",
     "text": [
      "\n",
      "Wrote 2048 elements to TFRecord\n",
      "MOD021KM-A2018091.1805vMODIS7test\n",
      "1\n",
      "\n",
      "Using 1 shard(s) for 2048 files, with up to 2048 samples per shard\n"
     ]
    },
    {
     "name": "stderr",
     "output_type": "stream",
     "text": [
      "100%|█████████████████████████████████████████████| 1/1 [00:00<00:00,  3.01it/s]\n"
     ]
    },
    {
     "name": "stdout",
     "output_type": "stream",
     "text": [
      "\n",
      "Wrote 2048 elements to TFRecord\n",
      "\n",
      "Using 1 shard(s) for 2048 files, with up to 2048 samples per shard\n"
     ]
    },
    {
     "name": "stderr",
     "output_type": "stream",
     "text": [
      "100%|█████████████████████████████████████████████| 1/1 [00:00<00:00,  3.01it/s]\n"
     ]
    },
    {
     "name": "stdout",
     "output_type": "stream",
     "text": [
      "\n",
      "Wrote 2048 elements to TFRecord\n",
      "MOD021KM-A2018091.0650vMODIS7test\n",
      "1\n",
      "\n",
      "Using 1 shard(s) for 2048 files, with up to 2048 samples per shard\n"
     ]
    },
    {
     "name": "stderr",
     "output_type": "stream",
     "text": [
      "100%|█████████████████████████████████████████████| 1/1 [00:00<00:00,  2.98it/s]\n"
     ]
    },
    {
     "name": "stdout",
     "output_type": "stream",
     "text": [
      "\n",
      "Wrote 2048 elements to TFRecord\n",
      "\n",
      "Using 1 shard(s) for 2048 files, with up to 2048 samples per shard\n"
     ]
    },
    {
     "name": "stderr",
     "output_type": "stream",
     "text": [
      "100%|█████████████████████████████████████████████| 1/1 [00:00<00:00,  2.98it/s]\n"
     ]
    },
    {
     "name": "stdout",
     "output_type": "stream",
     "text": [
      "\n",
      "Wrote 2048 elements to TFRecord\n",
      "MOD021KM-A2018091.0850vMODIS7test\n",
      "1\n",
      "\n",
      "Using 1 shard(s) for 2048 files, with up to 2048 samples per shard\n"
     ]
    },
    {
     "name": "stderr",
     "output_type": "stream",
     "text": [
      "100%|█████████████████████████████████████████████| 1/1 [00:00<00:00,  3.04it/s]\n"
     ]
    },
    {
     "name": "stdout",
     "output_type": "stream",
     "text": [
      "\n",
      "Wrote 2048 elements to TFRecord\n",
      "\n",
      "Using 1 shard(s) for 2048 files, with up to 2048 samples per shard\n"
     ]
    },
    {
     "name": "stderr",
     "output_type": "stream",
     "text": [
      "100%|█████████████████████████████████████████████| 1/1 [00:00<00:00,  3.02it/s]\n"
     ]
    },
    {
     "name": "stdout",
     "output_type": "stream",
     "text": [
      "\n",
      "Wrote 2048 elements to TFRecord\n",
      "MOD021KM-A2018091.1645vMODIS7test\n",
      "1\n",
      "\n",
      "Using 1 shard(s) for 2048 files, with up to 2048 samples per shard\n"
     ]
    },
    {
     "name": "stderr",
     "output_type": "stream",
     "text": [
      "100%|█████████████████████████████████████████████| 1/1 [00:00<00:00,  3.02it/s]\n"
     ]
    },
    {
     "name": "stdout",
     "output_type": "stream",
     "text": [
      "\n",
      "Wrote 2048 elements to TFRecord\n",
      "\n",
      "Using 1 shard(s) for 2048 files, with up to 2048 samples per shard\n"
     ]
    },
    {
     "name": "stderr",
     "output_type": "stream",
     "text": [
      "100%|█████████████████████████████████████████████| 1/1 [00:00<00:00,  3.02it/s]\n"
     ]
    },
    {
     "name": "stdout",
     "output_type": "stream",
     "text": [
      "\n",
      "Wrote 2048 elements to TFRecord\n",
      "MOD021KM-A2018091.1310vMODIS7test\n",
      "1\n",
      "\n",
      "Using 1 shard(s) for 2048 files, with up to 2048 samples per shard\n"
     ]
    },
    {
     "name": "stderr",
     "output_type": "stream",
     "text": [
      "100%|█████████████████████████████████████████████| 1/1 [00:00<00:00,  2.97it/s]\n"
     ]
    },
    {
     "name": "stdout",
     "output_type": "stream",
     "text": [
      "\n",
      "Wrote 2048 elements to TFRecord\n",
      "\n",
      "Using 1 shard(s) for 2048 files, with up to 2048 samples per shard\n"
     ]
    },
    {
     "name": "stderr",
     "output_type": "stream",
     "text": [
      "100%|█████████████████████████████████████████████| 1/1 [00:00<00:00,  3.00it/s]\n"
     ]
    },
    {
     "name": "stdout",
     "output_type": "stream",
     "text": [
      "\n",
      "Wrote 2048 elements to TFRecord\n",
      "MOD021KM-A2018091.0500vMODIS7test\n",
      "MOD021KM-A2018091.0530vMODIS7test\n",
      "1\n",
      "\n",
      "Using 1 shard(s) for 2048 files, with up to 2048 samples per shard\n"
     ]
    },
    {
     "name": "stderr",
     "output_type": "stream",
     "text": [
      "100%|█████████████████████████████████████████████| 1/1 [00:00<00:00,  3.02it/s]\n"
     ]
    },
    {
     "name": "stdout",
     "output_type": "stream",
     "text": [
      "\n",
      "Wrote 2048 elements to TFRecord\n",
      "\n",
      "Using 1 shard(s) for 2048 files, with up to 2048 samples per shard\n"
     ]
    },
    {
     "name": "stderr",
     "output_type": "stream",
     "text": [
      "100%|█████████████████████████████████████████████| 1/1 [00:00<00:00,  3.05it/s]\n"
     ]
    },
    {
     "name": "stdout",
     "output_type": "stream",
     "text": [
      "\n",
      "Wrote 2048 elements to TFRecord\n",
      "MOD021KM-A2018091.0630vMODIS7test\n",
      "1\n",
      "\n",
      "Using 1 shard(s) for 2048 files, with up to 2048 samples per shard\n"
     ]
    },
    {
     "name": "stderr",
     "output_type": "stream",
     "text": [
      "100%|█████████████████████████████████████████████| 1/1 [00:00<00:00,  3.03it/s]\n"
     ]
    },
    {
     "name": "stdout",
     "output_type": "stream",
     "text": [
      "\n",
      "Wrote 2048 elements to TFRecord\n",
      "\n",
      "Using 1 shard(s) for 2048 files, with up to 2048 samples per shard\n"
     ]
    },
    {
     "name": "stderr",
     "output_type": "stream",
     "text": [
      "100%|█████████████████████████████████████████████| 1/1 [00:00<00:00,  2.98it/s]\n"
     ]
    },
    {
     "name": "stdout",
     "output_type": "stream",
     "text": [
      "\n",
      "Wrote 2048 elements to TFRecord\n",
      "MOD021KM-A2018091.1530vMODIS7test\n",
      "1\n",
      "\n",
      "Using 1 shard(s) for 2048 files, with up to 2048 samples per shard\n"
     ]
    },
    {
     "name": "stderr",
     "output_type": "stream",
     "text": [
      "100%|█████████████████████████████████████████████| 1/1 [00:00<00:00,  2.99it/s]\n"
     ]
    },
    {
     "name": "stdout",
     "output_type": "stream",
     "text": [
      "\n",
      "Wrote 2048 elements to TFRecord\n",
      "\n",
      "Using 1 shard(s) for 2048 files, with up to 2048 samples per shard\n"
     ]
    },
    {
     "name": "stderr",
     "output_type": "stream",
     "text": [
      "100%|█████████████████████████████████████████████| 1/1 [00:00<00:00,  2.91it/s]\n"
     ]
    },
    {
     "name": "stdout",
     "output_type": "stream",
     "text": [
      "\n",
      "Wrote 2048 elements to TFRecord\n",
      "MOD021KM-A2018091.0010vMODIS7test\n",
      "1\n",
      "\n",
      "Using 1 shard(s) for 2048 files, with up to 2048 samples per shard\n"
     ]
    },
    {
     "name": "stderr",
     "output_type": "stream",
     "text": [
      "100%|█████████████████████████████████████████████| 1/1 [00:00<00:00,  3.02it/s]\n"
     ]
    },
    {
     "name": "stdout",
     "output_type": "stream",
     "text": [
      "\n",
      "Wrote 2048 elements to TFRecord\n",
      "\n",
      "Using 1 shard(s) for 2048 files, with up to 2048 samples per shard\n"
     ]
    },
    {
     "name": "stderr",
     "output_type": "stream",
     "text": [
      "100%|█████████████████████████████████████████████| 1/1 [00:00<00:00,  2.99it/s]\n"
     ]
    },
    {
     "name": "stdout",
     "output_type": "stream",
     "text": [
      "\n",
      "Wrote 2048 elements to TFRecord\n",
      "MOD021KM-A2018091.1510vMODIS7test\n",
      "1\n",
      "\n",
      "Using 1 shard(s) for 2048 files, with up to 2048 samples per shard\n"
     ]
    },
    {
     "name": "stderr",
     "output_type": "stream",
     "text": [
      "100%|█████████████████████████████████████████████| 1/1 [00:00<00:00,  3.00it/s]\n"
     ]
    },
    {
     "name": "stdout",
     "output_type": "stream",
     "text": [
      "\n",
      "Wrote 2048 elements to TFRecord\n",
      "\n",
      "Using 1 shard(s) for 2048 files, with up to 2048 samples per shard\n"
     ]
    },
    {
     "name": "stderr",
     "output_type": "stream",
     "text": [
      "100%|█████████████████████████████████████████████| 1/1 [00:00<00:00,  3.01it/s]\n"
     ]
    },
    {
     "name": "stdout",
     "output_type": "stream",
     "text": [
      "\n",
      "Wrote 2048 elements to TFRecord\n",
      "MOD021KM-A2018091.0400vMODIS7test\n",
      "1\n",
      "\n",
      "Using 1 shard(s) for 2048 files, with up to 2048 samples per shard\n"
     ]
    },
    {
     "name": "stderr",
     "output_type": "stream",
     "text": [
      "100%|█████████████████████████████████████████████| 1/1 [00:00<00:00,  3.00it/s]\n"
     ]
    },
    {
     "name": "stdout",
     "output_type": "stream",
     "text": [
      "\n",
      "Wrote 2048 elements to TFRecord\n",
      "\n",
      "Using 1 shard(s) for 2048 files, with up to 2048 samples per shard\n"
     ]
    },
    {
     "name": "stderr",
     "output_type": "stream",
     "text": [
      "100%|█████████████████████████████████████████████| 1/1 [00:00<00:00,  3.04it/s]\n"
     ]
    },
    {
     "name": "stdout",
     "output_type": "stream",
     "text": [
      "\n",
      "Wrote 2048 elements to TFRecord\n",
      "MOD021KM-A2018091.1215vMODIS7test\n",
      "1\n",
      "\n",
      "Using 1 shard(s) for 2048 files, with up to 2048 samples per shard\n"
     ]
    },
    {
     "name": "stderr",
     "output_type": "stream",
     "text": [
      "100%|█████████████████████████████████████████████| 1/1 [00:00<00:00,  3.05it/s]\n"
     ]
    },
    {
     "name": "stdout",
     "output_type": "stream",
     "text": [
      "\n",
      "Wrote 2048 elements to TFRecord\n",
      "\n",
      "Using 1 shard(s) for 2048 files, with up to 2048 samples per shard\n"
     ]
    },
    {
     "name": "stderr",
     "output_type": "stream",
     "text": [
      "100%|█████████████████████████████████████████████| 1/1 [00:00<00:00,  3.00it/s]\n"
     ]
    },
    {
     "name": "stdout",
     "output_type": "stream",
     "text": [
      "\n",
      "Wrote 2048 elements to TFRecord\n",
      "MOD021KM-A2018091.0330vMODIS7test\n",
      "1\n",
      "\n",
      "Using 1 shard(s) for 2048 files, with up to 2048 samples per shard\n"
     ]
    },
    {
     "name": "stderr",
     "output_type": "stream",
     "text": [
      "100%|█████████████████████████████████████████████| 1/1 [00:00<00:00,  3.00it/s]\n"
     ]
    },
    {
     "name": "stdout",
     "output_type": "stream",
     "text": [
      "\n",
      "Wrote 2048 elements to TFRecord\n",
      "\n",
      "Using 1 shard(s) for 2048 files, with up to 2048 samples per shard\n"
     ]
    },
    {
     "name": "stderr",
     "output_type": "stream",
     "text": [
      "100%|█████████████████████████████████████████████| 1/1 [00:00<00:00,  2.98it/s]\n"
     ]
    },
    {
     "name": "stdout",
     "output_type": "stream",
     "text": [
      "\n",
      "Wrote 2048 elements to TFRecord\n",
      "MOD021KM-A2018091.0855vMODIS7test\n",
      "1\n",
      "\n",
      "Using 1 shard(s) for 2048 files, with up to 2048 samples per shard\n"
     ]
    },
    {
     "name": "stderr",
     "output_type": "stream",
     "text": [
      "100%|█████████████████████████████████████████████| 1/1 [00:00<00:00,  3.04it/s]\n"
     ]
    },
    {
     "name": "stdout",
     "output_type": "stream",
     "text": [
      "\n",
      "Wrote 2048 elements to TFRecord\n",
      "\n",
      "Using 1 shard(s) for 2048 files, with up to 2048 samples per shard\n"
     ]
    },
    {
     "name": "stderr",
     "output_type": "stream",
     "text": [
      "100%|█████████████████████████████████████████████| 1/1 [00:00<00:00,  3.03it/s]\n"
     ]
    },
    {
     "name": "stdout",
     "output_type": "stream",
     "text": [
      "\n",
      "Wrote 2048 elements to TFRecord\n",
      "MOD021KM-A2018091.0015vMODIS7test\n",
      "1\n",
      "\n",
      "Using 1 shard(s) for 2048 files, with up to 2048 samples per shard\n"
     ]
    },
    {
     "name": "stderr",
     "output_type": "stream",
     "text": [
      "100%|█████████████████████████████████████████████| 1/1 [00:00<00:00,  2.99it/s]\n"
     ]
    },
    {
     "name": "stdout",
     "output_type": "stream",
     "text": [
      "\n",
      "Wrote 2048 elements to TFRecord\n",
      "\n",
      "Using 1 shard(s) for 2048 files, with up to 2048 samples per shard\n"
     ]
    },
    {
     "name": "stderr",
     "output_type": "stream",
     "text": [
      "100%|█████████████████████████████████████████████| 1/1 [00:00<00:00,  3.02it/s]\n"
     ]
    },
    {
     "name": "stdout",
     "output_type": "stream",
     "text": [
      "\n",
      "Wrote 2048 elements to TFRecord\n",
      "MOD021KM-A2018091.0045vMODIS7test\n",
      "1\n",
      "\n",
      "Using 1 shard(s) for 2048 files, with up to 2048 samples per shard\n"
     ]
    },
    {
     "name": "stderr",
     "output_type": "stream",
     "text": [
      "100%|█████████████████████████████████████████████| 1/1 [00:00<00:00,  2.99it/s]\n"
     ]
    },
    {
     "name": "stdout",
     "output_type": "stream",
     "text": [
      "\n",
      "Wrote 2048 elements to TFRecord\n",
      "\n",
      "Using 1 shard(s) for 2048 files, with up to 2048 samples per shard\n"
     ]
    },
    {
     "name": "stderr",
     "output_type": "stream",
     "text": [
      "100%|█████████████████████████████████████████████| 1/1 [00:00<00:00,  3.03it/s]\n"
     ]
    },
    {
     "name": "stdout",
     "output_type": "stream",
     "text": [
      "\n",
      "Wrote 2048 elements to TFRecord\n",
      "MOD021KM-A2018091.0350vMODIS7test\n",
      "1\n",
      "\n",
      "Using 1 shard(s) for 2048 files, with up to 2048 samples per shard\n"
     ]
    },
    {
     "name": "stderr",
     "output_type": "stream",
     "text": [
      "100%|█████████████████████████████████████████████| 1/1 [00:00<00:00,  3.00it/s]\n"
     ]
    },
    {
     "name": "stdout",
     "output_type": "stream",
     "text": [
      "\n",
      "Wrote 2048 elements to TFRecord\n",
      "\n",
      "Using 1 shard(s) for 2048 files, with up to 2048 samples per shard\n"
     ]
    },
    {
     "name": "stderr",
     "output_type": "stream",
     "text": [
      "100%|█████████████████████████████████████████████| 1/1 [00:00<00:00,  3.08it/s]\n"
     ]
    },
    {
     "name": "stdout",
     "output_type": "stream",
     "text": [
      "\n",
      "Wrote 2048 elements to TFRecord\n",
      "MOD021KM-A2018091.0810vMODIS7test\n",
      "1\n",
      "\n",
      "Using 1 shard(s) for 2048 files, with up to 2048 samples per shard\n"
     ]
    },
    {
     "name": "stderr",
     "output_type": "stream",
     "text": [
      "100%|█████████████████████████████████████████████| 1/1 [00:00<00:00,  3.00it/s]\n"
     ]
    },
    {
     "name": "stdout",
     "output_type": "stream",
     "text": [
      "\n",
      "Wrote 2048 elements to TFRecord\n",
      "\n",
      "Using 1 shard(s) for 2048 files, with up to 2048 samples per shard\n"
     ]
    },
    {
     "name": "stderr",
     "output_type": "stream",
     "text": [
      "100%|█████████████████████████████████████████████| 1/1 [00:00<00:00,  3.04it/s]\n"
     ]
    },
    {
     "name": "stdout",
     "output_type": "stream",
     "text": [
      "\n",
      "Wrote 2048 elements to TFRecord\n",
      "MOD021KM-A2018091.1155vMODIS7test\n",
      "1\n",
      "\n",
      "Using 1 shard(s) for 2048 files, with up to 2048 samples per shard\n"
     ]
    },
    {
     "name": "stderr",
     "output_type": "stream",
     "text": [
      "100%|█████████████████████████████████████████████| 1/1 [00:00<00:00,  3.09it/s]\n"
     ]
    },
    {
     "name": "stdout",
     "output_type": "stream",
     "text": [
      "\n",
      "Wrote 2048 elements to TFRecord\n",
      "\n",
      "Using 1 shard(s) for 2048 files, with up to 2048 samples per shard\n"
     ]
    },
    {
     "name": "stderr",
     "output_type": "stream",
     "text": [
      "100%|█████████████████████████████████████████████| 1/1 [00:00<00:00,  3.06it/s]\n"
     ]
    },
    {
     "name": "stdout",
     "output_type": "stream",
     "text": [
      "\n",
      "Wrote 2048 elements to TFRecord\n",
      "MOD021KM-A2018091.1340vMODIS7test\n",
      "1\n",
      "\n",
      "Using 1 shard(s) for 2048 files, with up to 2048 samples per shard\n"
     ]
    },
    {
     "name": "stderr",
     "output_type": "stream",
     "text": [
      "100%|█████████████████████████████████████████████| 1/1 [00:00<00:00,  2.92it/s]\n"
     ]
    },
    {
     "name": "stdout",
     "output_type": "stream",
     "text": [
      "\n",
      "Wrote 2048 elements to TFRecord\n",
      "\n",
      "Using 1 shard(s) for 2048 files, with up to 2048 samples per shard\n"
     ]
    },
    {
     "name": "stderr",
     "output_type": "stream",
     "text": [
      "100%|█████████████████████████████████████████████| 1/1 [00:00<00:00,  3.05it/s]\n"
     ]
    },
    {
     "name": "stdout",
     "output_type": "stream",
     "text": [
      "\n",
      "Wrote 2048 elements to TFRecord\n",
      "MOD021KM-A2018091.0225vMODIS7test\n",
      "1\n",
      "\n",
      "Using 1 shard(s) for 2048 files, with up to 2048 samples per shard\n"
     ]
    },
    {
     "name": "stderr",
     "output_type": "stream",
     "text": [
      "100%|█████████████████████████████████████████████| 1/1 [00:00<00:00,  2.93it/s]\n"
     ]
    },
    {
     "name": "stdout",
     "output_type": "stream",
     "text": [
      "\n",
      "Wrote 2048 elements to TFRecord\n",
      "\n",
      "Using 1 shard(s) for 2048 files, with up to 2048 samples per shard\n"
     ]
    },
    {
     "name": "stderr",
     "output_type": "stream",
     "text": [
      "100%|█████████████████████████████████████████████| 1/1 [00:00<00:00,  3.03it/s]\n"
     ]
    },
    {
     "name": "stdout",
     "output_type": "stream",
     "text": [
      "\n",
      "Wrote 2048 elements to TFRecord\n",
      "MOD021KM-A2018091.1505vMODIS7test\n",
      "1\n",
      "\n",
      "Using 1 shard(s) for 2048 files, with up to 2048 samples per shard\n"
     ]
    },
    {
     "name": "stderr",
     "output_type": "stream",
     "text": [
      "100%|█████████████████████████████████████████████| 1/1 [00:00<00:00,  3.00it/s]\n"
     ]
    },
    {
     "name": "stdout",
     "output_type": "stream",
     "text": [
      "\n",
      "Wrote 2048 elements to TFRecord\n",
      "\n",
      "Using 1 shard(s) for 2048 files, with up to 2048 samples per shard\n"
     ]
    },
    {
     "name": "stderr",
     "output_type": "stream",
     "text": [
      "100%|█████████████████████████████████████████████| 1/1 [00:00<00:00,  3.00it/s]\n"
     ]
    },
    {
     "name": "stdout",
     "output_type": "stream",
     "text": [
      "\n",
      "Wrote 2048 elements to TFRecord\n",
      "MOD021KM-A2018091.0535vMODIS7test\n",
      "MOD021KM-A2018091.1700vMODIS7test\n",
      "1\n",
      "\n",
      "Using 1 shard(s) for 2048 files, with up to 2048 samples per shard\n"
     ]
    },
    {
     "name": "stderr",
     "output_type": "stream",
     "text": [
      "100%|█████████████████████████████████████████████| 1/1 [00:00<00:00,  3.01it/s]\n"
     ]
    },
    {
     "name": "stdout",
     "output_type": "stream",
     "text": [
      "\n",
      "Wrote 2048 elements to TFRecord\n",
      "\n",
      "Using 1 shard(s) for 2048 files, with up to 2048 samples per shard\n"
     ]
    },
    {
     "name": "stderr",
     "output_type": "stream",
     "text": [
      "100%|█████████████████████████████████████████████| 1/1 [00:00<00:00,  3.05it/s]\n"
     ]
    },
    {
     "name": "stdout",
     "output_type": "stream",
     "text": [
      "\n",
      "Wrote 2048 elements to TFRecord\n",
      "MOD021KM-A2018091.0210vMODIS7test\n",
      "MOD021KM-A2018091.0635vMODIS7test\n",
      "1\n",
      "\n",
      "Using 1 shard(s) for 2048 files, with up to 2048 samples per shard\n"
     ]
    },
    {
     "name": "stderr",
     "output_type": "stream",
     "text": [
      "100%|█████████████████████████████████████████████| 1/1 [00:00<00:00,  2.90it/s]\n"
     ]
    },
    {
     "name": "stdout",
     "output_type": "stream",
     "text": [
      "\n",
      "Wrote 2048 elements to TFRecord\n",
      "\n",
      "Using 1 shard(s) for 2048 files, with up to 2048 samples per shard\n"
     ]
    },
    {
     "name": "stderr",
     "output_type": "stream",
     "text": [
      "100%|█████████████████████████████████████████████| 1/1 [00:00<00:00,  3.00it/s]\n"
     ]
    },
    {
     "name": "stdout",
     "output_type": "stream",
     "text": [
      "\n",
      "Wrote 2048 elements to TFRecord\n",
      "MOD021KM-A2018091.0710vMODIS7test\n",
      "1\n",
      "\n",
      "Using 1 shard(s) for 2048 files, with up to 2048 samples per shard\n"
     ]
    },
    {
     "name": "stderr",
     "output_type": "stream",
     "text": [
      "100%|█████████████████████████████████████████████| 1/1 [00:00<00:00,  3.00it/s]\n"
     ]
    },
    {
     "name": "stdout",
     "output_type": "stream",
     "text": [
      "\n",
      "Wrote 2048 elements to TFRecord\n",
      "\n",
      "Using 1 shard(s) for 2048 files, with up to 2048 samples per shard\n"
     ]
    },
    {
     "name": "stderr",
     "output_type": "stream",
     "text": [
      "100%|█████████████████████████████████████████████| 1/1 [00:00<00:00,  3.01it/s]\n"
     ]
    },
    {
     "name": "stdout",
     "output_type": "stream",
     "text": [
      "\n",
      "Wrote 2048 elements to TFRecord\n",
      "MOD021KM-A2018091.0000vMODIS7test\n",
      "1\n",
      "\n",
      "Using 1 shard(s) for 2048 files, with up to 2048 samples per shard\n"
     ]
    },
    {
     "name": "stderr",
     "output_type": "stream",
     "text": [
      "100%|█████████████████████████████████████████████| 1/1 [00:00<00:00,  2.97it/s]\n"
     ]
    },
    {
     "name": "stdout",
     "output_type": "stream",
     "text": [
      "\n",
      "Wrote 2048 elements to TFRecord\n",
      "\n",
      "Using 1 shard(s) for 2048 files, with up to 2048 samples per shard\n"
     ]
    },
    {
     "name": "stderr",
     "output_type": "stream",
     "text": [
      "100%|█████████████████████████████████████████████| 1/1 [00:00<00:00,  2.95it/s]\n"
     ]
    },
    {
     "name": "stdout",
     "output_type": "stream",
     "text": [
      "\n",
      "Wrote 2048 elements to TFRecord\n",
      "MOD021KM-A2018091.1035vMODIS7test\n",
      "1\n",
      "\n",
      "Using 1 shard(s) for 2048 files, with up to 2048 samples per shard\n"
     ]
    },
    {
     "name": "stderr",
     "output_type": "stream",
     "text": [
      "100%|█████████████████████████████████████████████| 1/1 [00:00<00:00,  3.01it/s]\n"
     ]
    },
    {
     "name": "stdout",
     "output_type": "stream",
     "text": [
      "\n",
      "Wrote 2048 elements to TFRecord\n",
      "\n",
      "Using 1 shard(s) for 2048 files, with up to 2048 samples per shard\n"
     ]
    },
    {
     "name": "stderr",
     "output_type": "stream",
     "text": [
      "100%|█████████████████████████████████████████████| 1/1 [00:00<00:00,  3.04it/s]\n"
     ]
    },
    {
     "name": "stdout",
     "output_type": "stream",
     "text": [
      "\n",
      "Wrote 2048 elements to TFRecord\n",
      "MOD021KM-A2018091.1810vMODIS7test\n",
      "1\n",
      "\n",
      "Using 1 shard(s) for 2048 files, with up to 2048 samples per shard\n"
     ]
    },
    {
     "name": "stderr",
     "output_type": "stream",
     "text": [
      "100%|█████████████████████████████████████████████| 1/1 [00:00<00:00,  3.01it/s]\n"
     ]
    },
    {
     "name": "stdout",
     "output_type": "stream",
     "text": [
      "\n",
      "Wrote 2048 elements to TFRecord\n",
      "\n",
      "Using 1 shard(s) for 2048 files, with up to 2048 samples per shard\n"
     ]
    },
    {
     "name": "stderr",
     "output_type": "stream",
     "text": [
      "100%|█████████████████████████████████████████████| 1/1 [00:00<00:00,  3.01it/s]\n"
     ]
    },
    {
     "name": "stdout",
     "output_type": "stream",
     "text": [
      "\n",
      "Wrote 2048 elements to TFRecord\n",
      "MOD021KM-A2018091.1640vMODIS7test\n",
      "1\n",
      "\n",
      "Using 1 shard(s) for 2048 files, with up to 2048 samples per shard\n"
     ]
    },
    {
     "name": "stderr",
     "output_type": "stream",
     "text": [
      "100%|█████████████████████████████████████████████| 1/1 [00:00<00:00,  2.97it/s]\n"
     ]
    },
    {
     "name": "stdout",
     "output_type": "stream",
     "text": [
      "\n",
      "Wrote 2048 elements to TFRecord\n",
      "\n",
      "Using 1 shard(s) for 2048 files, with up to 2048 samples per shard\n"
     ]
    },
    {
     "name": "stderr",
     "output_type": "stream",
     "text": [
      "100%|█████████████████████████████████████████████| 1/1 [00:00<00:00,  2.98it/s]\n"
     ]
    },
    {
     "name": "stdout",
     "output_type": "stream",
     "text": [
      "\n",
      "Wrote 2048 elements to TFRecord\n",
      "MOD021KM-A2018091.1650vMODIS7test\n",
      "1\n",
      "\n",
      "Using 1 shard(s) for 2048 files, with up to 2048 samples per shard\n"
     ]
    },
    {
     "name": "stderr",
     "output_type": "stream",
     "text": [
      "100%|█████████████████████████████████████████████| 1/1 [00:00<00:00,  3.06it/s]\n"
     ]
    },
    {
     "name": "stdout",
     "output_type": "stream",
     "text": [
      "\n",
      "Wrote 2048 elements to TFRecord\n",
      "\n",
      "Using 1 shard(s) for 2048 files, with up to 2048 samples per shard\n"
     ]
    },
    {
     "name": "stderr",
     "output_type": "stream",
     "text": [
      "100%|█████████████████████████████████████████████| 1/1 [00:00<00:00,  3.01it/s]\n"
     ]
    },
    {
     "name": "stdout",
     "output_type": "stream",
     "text": [
      "\n",
      "Wrote 2048 elements to TFRecord\n",
      "MOD021KM-A2018091.0215vMODIS7test\n",
      "1\n",
      "\n",
      "Using 1 shard(s) for 2048 files, with up to 2048 samples per shard\n"
     ]
    },
    {
     "name": "stderr",
     "output_type": "stream",
     "text": [
      "100%|█████████████████████████████████████████████| 1/1 [00:00<00:00,  3.01it/s]\n"
     ]
    },
    {
     "name": "stdout",
     "output_type": "stream",
     "text": [
      "\n",
      "Wrote 2048 elements to TFRecord\n",
      "\n",
      "Using 1 shard(s) for 2048 files, with up to 2048 samples per shard\n"
     ]
    },
    {
     "name": "stderr",
     "output_type": "stream",
     "text": [
      "100%|█████████████████████████████████████████████| 1/1 [00:00<00:00,  2.98it/s]\n"
     ]
    },
    {
     "name": "stdout",
     "output_type": "stream",
     "text": [
      "\n",
      "Wrote 2048 elements to TFRecord\n",
      "MOD021KM-A2018091.1820vMODIS7test\n",
      "1\n",
      "\n",
      "Using 1 shard(s) for 2048 files, with up to 2048 samples per shard\n"
     ]
    },
    {
     "name": "stderr",
     "output_type": "stream",
     "text": [
      "100%|█████████████████████████████████████████████| 1/1 [00:00<00:00,  3.00it/s]\n"
     ]
    },
    {
     "name": "stdout",
     "output_type": "stream",
     "text": [
      "\n",
      "Wrote 2048 elements to TFRecord\n",
      "\n",
      "Using 1 shard(s) for 2048 files, with up to 2048 samples per shard\n"
     ]
    },
    {
     "name": "stderr",
     "output_type": "stream",
     "text": [
      "100%|█████████████████████████████████████████████| 1/1 [00:00<00:00,  2.94it/s]\n"
     ]
    },
    {
     "name": "stdout",
     "output_type": "stream",
     "text": [
      "\n",
      "Wrote 2048 elements to TFRecord\n",
      "MOD021KM-A2018091.1450vMODIS7test\n",
      "1\n",
      "\n",
      "Using 1 shard(s) for 2048 files, with up to 2048 samples per shard\n"
     ]
    },
    {
     "name": "stderr",
     "output_type": "stream",
     "text": [
      "100%|█████████████████████████████████████████████| 1/1 [00:00<00:00,  2.95it/s]\n"
     ]
    },
    {
     "name": "stdout",
     "output_type": "stream",
     "text": [
      "\n",
      "Wrote 2048 elements to TFRecord\n",
      "\n",
      "Using 1 shard(s) for 2048 files, with up to 2048 samples per shard\n"
     ]
    },
    {
     "name": "stderr",
     "output_type": "stream",
     "text": [
      "100%|█████████████████████████████████████████████| 1/1 [00:00<00:00,  2.99it/s]\n"
     ]
    },
    {
     "name": "stdout",
     "output_type": "stream",
     "text": [
      "\n",
      "Wrote 2048 elements to TFRecord\n",
      "MOD021KM-A2018091.1455vMODIS7test\n",
      "1\n",
      "\n",
      "Using 1 shard(s) for 2048 files, with up to 2048 samples per shard\n"
     ]
    },
    {
     "name": "stderr",
     "output_type": "stream",
     "text": [
      "100%|█████████████████████████████████████████████| 1/1 [00:00<00:00,  3.00it/s]\n"
     ]
    },
    {
     "name": "stdout",
     "output_type": "stream",
     "text": [
      "\n",
      "Wrote 2048 elements to TFRecord\n",
      "\n",
      "Using 1 shard(s) for 2048 files, with up to 2048 samples per shard\n"
     ]
    },
    {
     "name": "stderr",
     "output_type": "stream",
     "text": [
      "100%|█████████████████████████████████████████████| 1/1 [00:00<00:00,  3.02it/s]\n"
     ]
    },
    {
     "name": "stdout",
     "output_type": "stream",
     "text": [
      "\n",
      "Wrote 2048 elements to TFRecord\n",
      "MOD021KM-A2018091.0315vMODIS7test\n",
      "1\n",
      "\n",
      "Using 1 shard(s) for 2048 files, with up to 2048 samples per shard\n"
     ]
    },
    {
     "name": "stderr",
     "output_type": "stream",
     "text": [
      "100%|█████████████████████████████████████████████| 1/1 [00:00<00:00,  2.90it/s]\n"
     ]
    },
    {
     "name": "stdout",
     "output_type": "stream",
     "text": [
      "\n",
      "Wrote 2048 elements to TFRecord\n",
      "\n",
      "Using 1 shard(s) for 2048 files, with up to 2048 samples per shard\n"
     ]
    },
    {
     "name": "stderr",
     "output_type": "stream",
     "text": [
      "100%|█████████████████████████████████████████████| 1/1 [00:00<00:00,  2.96it/s]\n"
     ]
    },
    {
     "name": "stdout",
     "output_type": "stream",
     "text": [
      "\n",
      "Wrote 2048 elements to TFRecord\n",
      "MOD021KM-A2018091.0035vMODIS7test\n",
      "1\n",
      "\n",
      "Using 1 shard(s) for 2048 files, with up to 2048 samples per shard\n"
     ]
    },
    {
     "name": "stderr",
     "output_type": "stream",
     "text": [
      "100%|█████████████████████████████████████████████| 1/1 [00:00<00:00,  2.95it/s]\n"
     ]
    },
    {
     "name": "stdout",
     "output_type": "stream",
     "text": [
      "\n",
      "Wrote 2048 elements to TFRecord\n",
      "\n",
      "Using 1 shard(s) for 2048 files, with up to 2048 samples per shard\n"
     ]
    },
    {
     "name": "stderr",
     "output_type": "stream",
     "text": [
      "100%|█████████████████████████████████████████████| 1/1 [00:00<00:00,  2.99it/s]\n"
     ]
    },
    {
     "name": "stdout",
     "output_type": "stream",
     "text": [
      "\n",
      "Wrote 2048 elements to TFRecord\n",
      "MOD021KM-A2018091.0340vMODIS7test\n",
      "1\n",
      "\n",
      "Using 1 shard(s) for 2048 files, with up to 2048 samples per shard\n"
     ]
    },
    {
     "name": "stderr",
     "output_type": "stream",
     "text": [
      "100%|█████████████████████████████████████████████| 1/1 [00:00<00:00,  2.85it/s]\n"
     ]
    },
    {
     "name": "stdout",
     "output_type": "stream",
     "text": [
      "\n",
      "Wrote 2048 elements to TFRecord\n",
      "\n",
      "Using 1 shard(s) for 2048 files, with up to 2048 samples per shard\n"
     ]
    },
    {
     "name": "stderr",
     "output_type": "stream",
     "text": [
      "100%|█████████████████████████████████████████████| 1/1 [00:00<00:00,  2.92it/s]\n"
     ]
    },
    {
     "name": "stdout",
     "output_type": "stream",
     "text": [
      "\n",
      "Wrote 2048 elements to TFRecord\n",
      "MOD021KM-A2018091.1325vMODIS7test\n",
      "1\n",
      "\n",
      "Using 1 shard(s) for 2048 files, with up to 2048 samples per shard\n"
     ]
    },
    {
     "name": "stderr",
     "output_type": "stream",
     "text": [
      "100%|█████████████████████████████████████████████| 1/1 [00:00<00:00,  3.00it/s]\n"
     ]
    },
    {
     "name": "stdout",
     "output_type": "stream",
     "text": [
      "\n",
      "Wrote 2048 elements to TFRecord\n",
      "\n",
      "Using 1 shard(s) for 2048 files, with up to 2048 samples per shard\n"
     ]
    },
    {
     "name": "stderr",
     "output_type": "stream",
     "text": [
      "100%|█████████████████████████████████████████████| 1/1 [00:00<00:00,  2.98it/s]\n"
     ]
    },
    {
     "name": "stdout",
     "output_type": "stream",
     "text": [
      "\n",
      "Wrote 2048 elements to TFRecord\n",
      "MOD021KM-A2018091.0040vMODIS7test\n",
      "1\n",
      "\n",
      "Using 1 shard(s) for 2048 files, with up to 2048 samples per shard\n"
     ]
    },
    {
     "name": "stderr",
     "output_type": "stream",
     "text": [
      "100%|█████████████████████████████████████████████| 1/1 [00:00<00:00,  3.01it/s]\n"
     ]
    },
    {
     "name": "stdout",
     "output_type": "stream",
     "text": [
      "\n",
      "Wrote 2048 elements to TFRecord\n",
      "\n",
      "Using 1 shard(s) for 2048 files, with up to 2048 samples per shard\n"
     ]
    },
    {
     "name": "stderr",
     "output_type": "stream",
     "text": [
      "100%|█████████████████████████████████████████████| 1/1 [00:00<00:00,  2.93it/s]\n"
     ]
    },
    {
     "name": "stdout",
     "output_type": "stream",
     "text": [
      "\n",
      "Wrote 2048 elements to TFRecord\n",
      "MOD021KM-A2018091.1715vMODIS7test\n",
      "1\n",
      "\n",
      "Using 1 shard(s) for 2048 files, with up to 2048 samples per shard\n"
     ]
    },
    {
     "name": "stderr",
     "output_type": "stream",
     "text": [
      "100%|█████████████████████████████████████████████| 1/1 [00:00<00:00,  2.95it/s]\n"
     ]
    },
    {
     "name": "stdout",
     "output_type": "stream",
     "text": [
      "\n",
      "Wrote 2048 elements to TFRecord\n",
      "\n",
      "Using 1 shard(s) for 2048 files, with up to 2048 samples per shard\n"
     ]
    },
    {
     "name": "stderr",
     "output_type": "stream",
     "text": [
      "100%|█████████████████████████████████████████████| 1/1 [00:00<00:00,  2.97it/s]\n"
     ]
    },
    {
     "name": "stdout",
     "output_type": "stream",
     "text": [
      "\n",
      "Wrote 2048 elements to TFRecord\n",
      "MOD021KM-A2018091.1000vMODIS7test\n",
      "1\n",
      "\n",
      "Using 1 shard(s) for 2048 files, with up to 2048 samples per shard\n"
     ]
    },
    {
     "name": "stderr",
     "output_type": "stream",
     "text": [
      "100%|█████████████████████████████████████████████| 1/1 [00:00<00:00,  2.94it/s]\n"
     ]
    },
    {
     "name": "stdout",
     "output_type": "stream",
     "text": [
      "\n",
      "Wrote 2048 elements to TFRecord\n",
      "\n",
      "Using 1 shard(s) for 2048 files, with up to 2048 samples per shard\n"
     ]
    },
    {
     "name": "stderr",
     "output_type": "stream",
     "text": [
      "100%|█████████████████████████████████████████████| 1/1 [00:00<00:00,  2.94it/s]\n"
     ]
    },
    {
     "name": "stdout",
     "output_type": "stream",
     "text": [
      "\n",
      "Wrote 2048 elements to TFRecord\n",
      "MOD021KM-A2018091.0135vMODIS7test\n",
      "1\n",
      "\n",
      "Using 1 shard(s) for 2048 files, with up to 2048 samples per shard\n"
     ]
    },
    {
     "name": "stderr",
     "output_type": "stream",
     "text": [
      "100%|█████████████████████████████████████████████| 1/1 [00:00<00:00,  2.89it/s]\n"
     ]
    },
    {
     "name": "stdout",
     "output_type": "stream",
     "text": [
      "\n",
      "Wrote 2048 elements to TFRecord\n",
      "\n",
      "Using 1 shard(s) for 2048 files, with up to 2048 samples per shard\n"
     ]
    },
    {
     "name": "stderr",
     "output_type": "stream",
     "text": [
      "100%|█████████████████████████████████████████████| 1/1 [00:00<00:00,  2.92it/s]\n"
     ]
    },
    {
     "name": "stdout",
     "output_type": "stream",
     "text": [
      "\n",
      "Wrote 2048 elements to TFRecord\n",
      "MOD021KM-A2018091.1355vMODIS7test\n",
      "1\n",
      "\n",
      "Using 1 shard(s) for 2048 files, with up to 2048 samples per shard\n"
     ]
    },
    {
     "name": "stderr",
     "output_type": "stream",
     "text": [
      "100%|█████████████████████████████████████████████| 1/1 [00:00<00:00,  2.90it/s]\n"
     ]
    },
    {
     "name": "stdout",
     "output_type": "stream",
     "text": [
      "\n",
      "Wrote 2048 elements to TFRecord\n",
      "\n",
      "Using 1 shard(s) for 2048 files, with up to 2048 samples per shard\n"
     ]
    },
    {
     "name": "stderr",
     "output_type": "stream",
     "text": [
      "100%|█████████████████████████████████████████████| 1/1 [00:00<00:00,  2.86it/s]\n"
     ]
    },
    {
     "name": "stdout",
     "output_type": "stream",
     "text": [
      "\n",
      "Wrote 2048 elements to TFRecord\n",
      "MOD021KM-A2018091.0200vMODIS7test\n",
      "1\n",
      "\n",
      "Using 1 shard(s) for 2048 files, with up to 2048 samples per shard\n"
     ]
    },
    {
     "name": "stderr",
     "output_type": "stream",
     "text": [
      "100%|█████████████████████████████████████████████| 1/1 [00:00<00:00,  2.91it/s]\n"
     ]
    },
    {
     "name": "stdout",
     "output_type": "stream",
     "text": [
      "\n",
      "Wrote 2048 elements to TFRecord\n",
      "\n",
      "Using 1 shard(s) for 2048 files, with up to 2048 samples per shard\n"
     ]
    },
    {
     "name": "stderr",
     "output_type": "stream",
     "text": [
      "100%|█████████████████████████████████████████████| 1/1 [00:00<00:00,  2.90it/s]\n"
     ]
    },
    {
     "name": "stdout",
     "output_type": "stream",
     "text": [
      "\n",
      "Wrote 2048 elements to TFRecord\n",
      "MOD021KM-A2018091.1020vMODIS7test\n",
      "1\n",
      "\n",
      "Using 1 shard(s) for 2048 files, with up to 2048 samples per shard\n"
     ]
    },
    {
     "name": "stderr",
     "output_type": "stream",
     "text": [
      "100%|█████████████████████████████████████████████| 1/1 [00:00<00:00,  2.93it/s]\n"
     ]
    },
    {
     "name": "stdout",
     "output_type": "stream",
     "text": [
      "\n",
      "Wrote 2048 elements to TFRecord\n",
      "\n",
      "Using 1 shard(s) for 2048 files, with up to 2048 samples per shard\n"
     ]
    },
    {
     "name": "stderr",
     "output_type": "stream",
     "text": [
      "100%|█████████████████████████████████████████████| 1/1 [00:00<00:00,  2.88it/s]\n"
     ]
    },
    {
     "name": "stdout",
     "output_type": "stream",
     "text": [
      "\n",
      "Wrote 2048 elements to TFRecord\n",
      "MOD021KM-A2018091.0335vMODIS7test\n",
      "1\n",
      "\n",
      "Using 1 shard(s) for 2048 files, with up to 2048 samples per shard\n"
     ]
    },
    {
     "name": "stderr",
     "output_type": "stream",
     "text": [
      "100%|█████████████████████████████████████████████| 1/1 [00:00<00:00,  2.88it/s]\n"
     ]
    },
    {
     "name": "stdout",
     "output_type": "stream",
     "text": [
      "\n",
      "Wrote 2048 elements to TFRecord\n",
      "\n",
      "Using 1 shard(s) for 2048 files, with up to 2048 samples per shard\n"
     ]
    },
    {
     "name": "stderr",
     "output_type": "stream",
     "text": [
      "100%|█████████████████████████████████████████████| 1/1 [00:00<00:00,  2.99it/s]\n"
     ]
    },
    {
     "name": "stdout",
     "output_type": "stream",
     "text": [
      "\n",
      "Wrote 2048 elements to TFRecord\n",
      "MOD021KM-A2018091.0825vMODIS7test\n",
      "1\n",
      "\n",
      "Using 1 shard(s) for 2048 files, with up to 2048 samples per shard\n"
     ]
    },
    {
     "name": "stderr",
     "output_type": "stream",
     "text": [
      "100%|█████████████████████████████████████████████| 1/1 [00:00<00:00,  2.93it/s]\n"
     ]
    },
    {
     "name": "stdout",
     "output_type": "stream",
     "text": [
      "\n",
      "Wrote 2048 elements to TFRecord\n",
      "\n",
      "Using 1 shard(s) for 2048 files, with up to 2048 samples per shard\n"
     ]
    },
    {
     "name": "stderr",
     "output_type": "stream",
     "text": [
      "100%|█████████████████████████████████████████████| 1/1 [00:00<00:00,  2.96it/s]\n"
     ]
    },
    {
     "name": "stdout",
     "output_type": "stream",
     "text": [
      "\n",
      "Wrote 2048 elements to TFRecord\n",
      "MOD021KM-A2018091.0705vMODIS7test\n",
      "1\n",
      "\n",
      "Using 1 shard(s) for 2048 files, with up to 2048 samples per shard\n"
     ]
    },
    {
     "name": "stderr",
     "output_type": "stream",
     "text": [
      "100%|█████████████████████████████████████████████| 1/1 [00:00<00:00,  2.88it/s]\n"
     ]
    },
    {
     "name": "stdout",
     "output_type": "stream",
     "text": [
      "\n",
      "Wrote 2048 elements to TFRecord\n",
      "\n",
      "Using 1 shard(s) for 2048 files, with up to 2048 samples per shard\n"
     ]
    },
    {
     "name": "stderr",
     "output_type": "stream",
     "text": [
      "100%|█████████████████████████████████████████████| 1/1 [00:00<00:00,  2.89it/s]\n"
     ]
    },
    {
     "name": "stdout",
     "output_type": "stream",
     "text": [
      "\n",
      "Wrote 2048 elements to TFRecord\n",
      "MOD021KM-A2018091.0145vMODIS7test\n",
      "1\n",
      "\n",
      "Using 1 shard(s) for 2048 files, with up to 2048 samples per shard\n"
     ]
    },
    {
     "name": "stderr",
     "output_type": "stream",
     "text": [
      "100%|█████████████████████████████████████████████| 1/1 [00:00<00:00,  3.02it/s]\n"
     ]
    },
    {
     "name": "stdout",
     "output_type": "stream",
     "text": [
      "\n",
      "Wrote 2048 elements to TFRecord\n",
      "\n",
      "Using 1 shard(s) for 2048 files, with up to 2048 samples per shard\n"
     ]
    },
    {
     "name": "stderr",
     "output_type": "stream",
     "text": [
      "100%|█████████████████████████████████████████████| 1/1 [00:00<00:00,  3.03it/s]\n"
     ]
    },
    {
     "name": "stdout",
     "output_type": "stream",
     "text": [
      "\n",
      "Wrote 2048 elements to TFRecord\n",
      "MOD021KM-A2018091.1200vMODIS7test\n",
      "1\n",
      "\n",
      "Using 1 shard(s) for 2048 files, with up to 2048 samples per shard\n"
     ]
    },
    {
     "name": "stderr",
     "output_type": "stream",
     "text": [
      "100%|█████████████████████████████████████████████| 1/1 [00:00<00:00,  2.91it/s]\n"
     ]
    },
    {
     "name": "stdout",
     "output_type": "stream",
     "text": [
      "\n",
      "Wrote 2048 elements to TFRecord\n",
      "\n",
      "Using 1 shard(s) for 2048 files, with up to 2048 samples per shard\n"
     ]
    },
    {
     "name": "stderr",
     "output_type": "stream",
     "text": [
      "100%|█████████████████████████████████████████████| 1/1 [00:00<00:00,  2.92it/s]\n"
     ]
    },
    {
     "name": "stdout",
     "output_type": "stream",
     "text": [
      "\n",
      "Wrote 2048 elements to TFRecord\n",
      "MOD021KM-A2018091.1515vMODIS7test\n",
      "1\n",
      "\n",
      "Using 1 shard(s) for 2048 files, with up to 2048 samples per shard\n"
     ]
    },
    {
     "name": "stderr",
     "output_type": "stream",
     "text": [
      "100%|█████████████████████████████████████████████| 1/1 [00:00<00:00,  3.03it/s]\n"
     ]
    },
    {
     "name": "stdout",
     "output_type": "stream",
     "text": [
      "\n",
      "Wrote 2048 elements to TFRecord\n",
      "\n",
      "Using 1 shard(s) for 2048 files, with up to 2048 samples per shard\n"
     ]
    },
    {
     "name": "stderr",
     "output_type": "stream",
     "text": [
      "100%|█████████████████████████████████████████████| 1/1 [00:00<00:00,  3.01it/s]\n"
     ]
    },
    {
     "name": "stdout",
     "output_type": "stream",
     "text": [
      "\n",
      "Wrote 2048 elements to TFRecord\n",
      "MOD021KM-A2018091.0655vMODIS7test\n",
      "1\n",
      "\n",
      "Using 1 shard(s) for 2048 files, with up to 2048 samples per shard\n"
     ]
    },
    {
     "name": "stderr",
     "output_type": "stream",
     "text": [
      "100%|█████████████████████████████████████████████| 1/1 [00:00<00:00,  2.99it/s]\n"
     ]
    },
    {
     "name": "stdout",
     "output_type": "stream",
     "text": [
      "\n",
      "Wrote 2048 elements to TFRecord\n",
      "\n",
      "Using 1 shard(s) for 2048 files, with up to 2048 samples per shard\n"
     ]
    },
    {
     "name": "stderr",
     "output_type": "stream",
     "text": [
      "100%|█████████████████████████████████████████████| 1/1 [00:00<00:00,  3.01it/s]\n"
     ]
    },
    {
     "name": "stdout",
     "output_type": "stream",
     "text": [
      "\n",
      "Wrote 2048 elements to TFRecord\n",
      "MOD021KM-A2018091.1445vMODIS7test\n",
      "1\n",
      "\n",
      "Using 1 shard(s) for 2048 files, with up to 2048 samples per shard\n"
     ]
    },
    {
     "name": "stderr",
     "output_type": "stream",
     "text": [
      "100%|█████████████████████████████████████████████| 1/1 [00:00<00:00,  2.97it/s]\n"
     ]
    },
    {
     "name": "stdout",
     "output_type": "stream",
     "text": [
      "\n",
      "Wrote 2048 elements to TFRecord\n",
      "\n",
      "Using 1 shard(s) for 2048 files, with up to 2048 samples per shard\n"
     ]
    },
    {
     "name": "stderr",
     "output_type": "stream",
     "text": [
      "100%|█████████████████████████████████████████████| 1/1 [00:00<00:00,  2.98it/s]\n"
     ]
    },
    {
     "name": "stdout",
     "output_type": "stream",
     "text": [
      "\n",
      "Wrote 2048 elements to TFRecord\n",
      "MOD021KM-A2018091.1330vMODIS7test\n",
      "1\n",
      "\n",
      "Using 1 shard(s) for 2048 files, with up to 2048 samples per shard\n"
     ]
    },
    {
     "name": "stderr",
     "output_type": "stream",
     "text": [
      "100%|█████████████████████████████████████████████| 1/1 [00:00<00:00,  2.98it/s]\n"
     ]
    },
    {
     "name": "stdout",
     "output_type": "stream",
     "text": [
      "\n",
      "Wrote 2048 elements to TFRecord\n",
      "\n",
      "Using 1 shard(s) for 2048 files, with up to 2048 samples per shard\n"
     ]
    },
    {
     "name": "stderr",
     "output_type": "stream",
     "text": [
      "100%|█████████████████████████████████████████████| 1/1 [00:00<00:00,  3.02it/s]\n"
     ]
    },
    {
     "name": "stdout",
     "output_type": "stream",
     "text": [
      "\n",
      "Wrote 2048 elements to TFRecord\n",
      "MOD021KM-A2018091.1520vMODIS7test\n",
      "1\n",
      "\n",
      "Using 1 shard(s) for 2048 files, with up to 2048 samples per shard\n"
     ]
    },
    {
     "name": "stderr",
     "output_type": "stream",
     "text": [
      "100%|█████████████████████████████████████████████| 1/1 [00:00<00:00,  2.98it/s]\n"
     ]
    },
    {
     "name": "stdout",
     "output_type": "stream",
     "text": [
      "\n",
      "Wrote 2048 elements to TFRecord\n",
      "\n",
      "Using 1 shard(s) for 2048 files, with up to 2048 samples per shard\n"
     ]
    },
    {
     "name": "stderr",
     "output_type": "stream",
     "text": [
      "100%|█████████████████████████████████████████████| 1/1 [00:00<00:00,  2.93it/s]\n"
     ]
    },
    {
     "name": "stdout",
     "output_type": "stream",
     "text": [
      "\n",
      "Wrote 2048 elements to TFRecord\n",
      "MOD021KM-A2018091.0900vMODIS7test\n",
      "1\n",
      "\n",
      "Using 1 shard(s) for 2048 files, with up to 2048 samples per shard\n"
     ]
    },
    {
     "name": "stderr",
     "output_type": "stream",
     "text": [
      "100%|█████████████████████████████████████████████| 1/1 [00:00<00:00,  2.98it/s]\n"
     ]
    },
    {
     "name": "stdout",
     "output_type": "stream",
     "text": [
      "\n",
      "Wrote 2048 elements to TFRecord\n",
      "\n",
      "Using 1 shard(s) for 2048 files, with up to 2048 samples per shard\n"
     ]
    },
    {
     "name": "stderr",
     "output_type": "stream",
     "text": [
      "100%|█████████████████████████████████████████████| 1/1 [00:00<00:00,  3.00it/s]\n"
     ]
    },
    {
     "name": "stdout",
     "output_type": "stream",
     "text": [
      "\n",
      "Wrote 2048 elements to TFRecord\n",
      "MOD021KM-A2018091.1625vMODIS7test\n",
      "1\n",
      "\n",
      "Using 1 shard(s) for 2048 files, with up to 2048 samples per shard\n"
     ]
    },
    {
     "name": "stderr",
     "output_type": "stream",
     "text": [
      "100%|█████████████████████████████████████████████| 1/1 [00:00<00:00,  3.04it/s]\n"
     ]
    },
    {
     "name": "stdout",
     "output_type": "stream",
     "text": [
      "\n",
      "Wrote 2048 elements to TFRecord\n",
      "\n",
      "Using 1 shard(s) for 2048 files, with up to 2048 samples per shard\n"
     ]
    },
    {
     "name": "stderr",
     "output_type": "stream",
     "text": [
      "100%|█████████████████████████████████████████████| 1/1 [00:00<00:00,  3.03it/s]\n"
     ]
    },
    {
     "name": "stdout",
     "output_type": "stream",
     "text": [
      "\n",
      "Wrote 2048 elements to TFRecord\n",
      "MOD021KM-A2018091.0505vMODIS7test\n",
      "1\n",
      "\n",
      "Using 1 shard(s) for 2048 files, with up to 2048 samples per shard\n"
     ]
    },
    {
     "name": "stderr",
     "output_type": "stream",
     "text": [
      "100%|█████████████████████████████████████████████| 1/1 [00:00<00:00,  2.93it/s]\n"
     ]
    },
    {
     "name": "stdout",
     "output_type": "stream",
     "text": [
      "\n",
      "Wrote 2048 elements to TFRecord\n",
      "\n",
      "Using 1 shard(s) for 2048 files, with up to 2048 samples per shard\n"
     ]
    },
    {
     "name": "stderr",
     "output_type": "stream",
     "text": [
      "100%|█████████████████████████████████████████████| 1/1 [00:00<00:00,  2.90it/s]\n"
     ]
    },
    {
     "name": "stdout",
     "output_type": "stream",
     "text": [
      "\n",
      "Wrote 2048 elements to TFRecord\n",
      "MOD021KM-A2018091.1010vMODIS7test\n",
      "1\n",
      "\n",
      "Using 1 shard(s) for 2048 files, with up to 2048 samples per shard\n"
     ]
    },
    {
     "name": "stderr",
     "output_type": "stream",
     "text": [
      "100%|█████████████████████████████████████████████| 1/1 [00:00<00:00,  2.94it/s]\n"
     ]
    },
    {
     "name": "stdout",
     "output_type": "stream",
     "text": [
      "\n",
      "Wrote 2048 elements to TFRecord\n",
      "\n",
      "Using 1 shard(s) for 2048 files, with up to 2048 samples per shard\n"
     ]
    },
    {
     "name": "stderr",
     "output_type": "stream",
     "text": [
      "100%|█████████████████████████████████████████████| 1/1 [00:00<00:00,  3.04it/s]\n"
     ]
    },
    {
     "name": "stdout",
     "output_type": "stream",
     "text": [
      "\n",
      "Wrote 2048 elements to TFRecord\n",
      "MOD021KM-A2018091.1220vMODIS7test\n",
      "1\n",
      "\n",
      "Using 1 shard(s) for 2048 files, with up to 2048 samples per shard\n"
     ]
    },
    {
     "name": "stderr",
     "output_type": "stream",
     "text": [
      "100%|█████████████████████████████████████████████| 1/1 [00:00<00:00,  2.95it/s]\n"
     ]
    },
    {
     "name": "stdout",
     "output_type": "stream",
     "text": [
      "\n",
      "Wrote 2048 elements to TFRecord\n",
      "\n",
      "Using 1 shard(s) for 2048 files, with up to 2048 samples per shard\n"
     ]
    },
    {
     "name": "stderr",
     "output_type": "stream",
     "text": [
      "100%|█████████████████████████████████████████████| 1/1 [00:00<00:00,  3.04it/s]\n"
     ]
    },
    {
     "name": "stdout",
     "output_type": "stream",
     "text": [
      "\n",
      "Wrote 2048 elements to TFRecord\n",
      "MOD021KM-A2018091.0510vMODIS7test\n",
      "1\n",
      "\n",
      "Using 1 shard(s) for 2048 files, with up to 2048 samples per shard\n"
     ]
    },
    {
     "name": "stderr",
     "output_type": "stream",
     "text": [
      "100%|█████████████████████████████████████████████| 1/1 [00:00<00:00,  2.88it/s]\n"
     ]
    },
    {
     "name": "stdout",
     "output_type": "stream",
     "text": [
      "\n",
      "Wrote 2048 elements to TFRecord\n",
      "\n",
      "Using 1 shard(s) for 2048 files, with up to 2048 samples per shard\n"
     ]
    },
    {
     "name": "stderr",
     "output_type": "stream",
     "text": [
      "100%|█████████████████████████████████████████████| 1/1 [00:00<00:00,  3.05it/s]\n"
     ]
    },
    {
     "name": "stdout",
     "output_type": "stream",
     "text": [
      "\n",
      "Wrote 2048 elements to TFRecord\n",
      "MOD021KM-A2018091.1630vMODIS7test\n",
      "1\n",
      "\n",
      "Using 1 shard(s) for 2048 files, with up to 2048 samples per shard\n"
     ]
    },
    {
     "name": "stderr",
     "output_type": "stream",
     "text": [
      "100%|█████████████████████████████████████████████| 1/1 [00:00<00:00,  3.01it/s]\n"
     ]
    },
    {
     "name": "stdout",
     "output_type": "stream",
     "text": [
      "\n",
      "Wrote 2048 elements to TFRecord\n",
      "\n",
      "Using 1 shard(s) for 2048 files, with up to 2048 samples per shard\n"
     ]
    },
    {
     "name": "stderr",
     "output_type": "stream",
     "text": [
      "100%|█████████████████████████████████████████████| 1/1 [00:00<00:00,  3.05it/s]\n"
     ]
    },
    {
     "name": "stdout",
     "output_type": "stream",
     "text": [
      "\n",
      "Wrote 2048 elements to TFRecord\n",
      "MOD021KM-A2018091.1135vMODIS7test\n",
      "1\n",
      "\n",
      "Using 1 shard(s) for 2048 files, with up to 2048 samples per shard\n"
     ]
    },
    {
     "name": "stderr",
     "output_type": "stream",
     "text": [
      "100%|█████████████████████████████████████████████| 1/1 [00:00<00:00,  3.04it/s]\n"
     ]
    },
    {
     "name": "stdout",
     "output_type": "stream",
     "text": [
      "\n",
      "Wrote 2048 elements to TFRecord\n",
      "\n",
      "Using 1 shard(s) for 2048 files, with up to 2048 samples per shard\n"
     ]
    },
    {
     "name": "stderr",
     "output_type": "stream",
     "text": [
      "100%|█████████████████████████████████████████████| 1/1 [00:00<00:00,  3.01it/s]\n"
     ]
    },
    {
     "name": "stdout",
     "output_type": "stream",
     "text": [
      "\n",
      "Wrote 2048 elements to TFRecord\n",
      "MOD021KM-A2018091.1145vMODIS7test\n",
      "1\n",
      "\n",
      "Using 1 shard(s) for 2048 files, with up to 2048 samples per shard\n"
     ]
    },
    {
     "name": "stderr",
     "output_type": "stream",
     "text": [
      "100%|█████████████████████████████████████████████| 1/1 [00:00<00:00,  2.95it/s]\n"
     ]
    },
    {
     "name": "stdout",
     "output_type": "stream",
     "text": [
      "\n",
      "Wrote 2048 elements to TFRecord\n",
      "\n",
      "Using 1 shard(s) for 2048 files, with up to 2048 samples per shard\n"
     ]
    },
    {
     "name": "stderr",
     "output_type": "stream",
     "text": [
      "100%|█████████████████████████████████████████████| 1/1 [00:00<00:00,  2.94it/s]"
     ]
    },
    {
     "name": "stdout",
     "output_type": "stream",
     "text": [
      "\n",
      "Wrote 2048 elements to TFRecord\n"
     ]
    },
    {
     "name": "stderr",
     "output_type": "stream",
     "text": [
      "\n"
     ]
    }
   ],
   "source": [
    "\n",
    "\n",
    "\n",
    "fileList=tf.io.gfile.glob([save_TFrecord_path + '*' + DVERSION +'.tfrecords'])\n",
    "cnt = 0\n",
    "maskTPcount=np.zeros(np.shape(mask_list), dtype = float)\n",
    "\n",
    "for image, mask in image_ds:\n",
    "    sample_image, sample_mask = image, mask\n",
    "    filename = mask_list[cnt][-36:-14] + DVERSION\n",
    "    #if NEWMASK:\n",
    "    #    filename=mask_list[cnt][-36-len('update'):-14-len('update')] + DVERSION #different names for cases with updatedmask\n",
    "    print(filename)\n",
    "    maskTPcount[cnt]= 0\n",
    "    cnt+=1\n",
    "    \n",
    "    #skip file if file already exists or nans/inf values are in images\n",
    "    #if save_TFrecord_path+'1_1' + filename + '.tfrecords' in fileList:\n",
    "    #    continue\n",
    "\n",
    "    if np.any(np.isnan(sample_image)) or np.any(np.isinf(sample_image)):\n",
    "        #seems some values in sample_image[:,:,0] are inf sometimes\n",
    "        continue #sys.exit()\n",
    "\n",
    "    if np.any(np.isnan(sample_mask)) or np.any(np.isinf(sample_mask)):\n",
    "        #print('mask')\n",
    "        continue #sys.exit()\n",
    "\n",
    "\n",
    "    #find coordinates of all nonzero coordinates\n",
    "    nonzero =np.asarray(np.nonzero(np.float32(sample_image[:,:,-2]))).T\n",
    "    if len(nonzero)==0:\n",
    "        #at least 1 case is all zeros and breaks code\n",
    "        continue\n",
    "\n",
    "    #extract convexhull coordinates, first point and last point must be the same. \n",
    "    hull = ConvexHull(nonzero)\n",
    "    hull = np.vstack((nonzero[hull.vertices,0],nonzero[hull.vertices,1])).T\n",
    "    hull = np.vstack((hull,hull[0,:]))\n",
    "\n",
    "    #calculate angle of rotation for minimum bounding rectangle\n",
    "    angle, barea, bwidth, bheight, center_point, corner_points = minBoundingRect(hull)\n",
    "    \n",
    "    rotated_image, y_min, y_max, x_min, x_max = rotate_img(sample_image, angle=90-angle*180/np.pi)\n",
    "    rotated_labels, _, _, _, _ = rotate_img(sample_mask, angle=90-angle*180/np.pi)\n",
    "    \n",
    "    w = x_max-x_min\n",
    "    h = y_max-y_min\n",
    "    \n",
    "    #determine min/max dimensions\n",
    "    maxCaseDim = np.max([w,h])\n",
    "    minCaseDim = np.min([w,h])\n",
    "\n",
    "    #rotate 90 degrees to make width the bigger side if needed\n",
    "    if h > w:\n",
    "        rotated_image, y_min, y_max, x_min, x_max = rotate_img(rotated_image, angle=90)\n",
    "        rotated_image_zoom = rotated_image[y_min:y_max,x_min:x_max]\n",
    "        rotated_labels, _, _, _, _ = rotate_img(rotated_labels, angle=90)\n",
    "        rotated_labels_zoom = rotated_labels[y_min:y_max,x_min:x_max]\n",
    "    else:\n",
    "        rotated_image_zoom = rotated_image[y_min:y_max,x_min:x_max]\n",
    "        rotated_labels_zoom = rotated_labels[y_min:y_max,x_min:x_max]\n",
    " \n",
    "    #make images and mask have same h x w (2048,4096)\n",
    "    mask = np.zeros((2048,4096,2), dtype = float)\n",
    "    mask[0:rotated_labels_zoom.shape[0], 0:rotated_labels_zoom.shape[1], :] += rotated_labels_zoom\n",
    "\n",
    "\n",
    "    img_rotated = np.zeros((2048,4096,NCHANNELS), dtype = float)\n",
    "    img_rotated[0:rotated_image_zoom.shape[0], 0:rotated_image_zoom.shape[1], :NCHANNELS-1] += rotated_image_zoom[:,:,1-NCHANNELS:]\n",
    "    # set last channel (valid channel) to 1 for the pixels containing part of the satellite image (keep 0 for the blank pixels)\n",
    "    img_rotated[img_rotated[:,:,-2] > 0 ,-1] = 1 \n",
    "\n",
    "    #check min and max values of channels\n",
    "    '''\n",
    "    c1rng = Rng_Extremes(img_test[:,:,0],c1rng)\n",
    "    c2rng = Rng_Extremes(img_test[:,:,1],c2rng)\n",
    "    c3rng = Rng_Extremes(img_test[:,:,2],c3rng)\n",
    "    c4rng = Rng_Extremes(img_test[:,:,3],c4rng)\n",
    "    c5rng = Rng_Extremes(img_test[:,:,4],c5rng)\n",
    "    c6rng = Rng_Extremes(img_test[:,:,5],c6rng)\n",
    "    c7rng = Rng_Extremes(img_test[:,:,6],c7rng)\n",
    "    '''\n",
    "   \n",
    "\n",
    "    img_rotated = np.float64(img_rotated)\n",
    "    #resize images to decreased resolution\n",
    "    #img_test = cv2.resize(img_test, dsize=(1024, 512), interpolation=cv2.INTER_NEAREST)\n",
    "    #mask = cv2.resize(mask, dsize=(1024, 512), interpolation=cv2.INTER_NEAREST)\n",
    "\n",
    "    #add missing dimensions\n",
    "    img_rotated = np.expand_dims(img_rotated, axis=0)\n",
    "    mask = np.expand_dims(mask, axis=0)\n",
    "\n",
    "    #set zeros to match min value in pixel range (min value is approximately 0 in first three channels)\n",
    "    if NCHANNELS-5>0:\n",
    "        tmp = img_rotated[:,:,:,NCHANNELS-5:]\n",
    "        tmp[tmp==0]=17000\n",
    "        img_rotated[:,:,:,NCHANNELS-5:]=tmp\n",
    "        BT_rng = np.float64([17000, 34000]) #this range is good for 4 upper channels. assuming range of 170-340 K (BT is multiplied by 100)\n",
    "        img_rotated[:,:,:,NCHANNELS-5:-1] = (img_rotated[:,:,:,NCHANNELS-5:-1]-np.mean(BT_rng)) / ((BT_rng[1]-BT_rng[0])/2) \n",
    "        BT_rng = np.float64([0, 66535]) #lower 3 channels have a much larger range.\n",
    "        img_rotated[:,:,:,:NCHANNELS-5] = (img_rotated[:,:,:,:NCHANNELS-5]-np.mean(BT_rng)) / ((BT_rng[1]-BT_rng[0])/2)\n",
    "    else:\n",
    "        img_rotated[img_rotated==0]=17000\n",
    "        BT_rng = np.float64([17000, 34000]) #this range is good for 4 upper channels. assuming range of 170-340 K (BT is multiplied by 100)\n",
    "        img_rotated[:,:,:,:-1] = (img_rotated[:,:,:,:-1]-np.mean(BT_rng)) / ((BT_rng[1]-BT_rng[0])/2) \n",
    "\n",
    "    \n",
    "    #normalize img based on channel ranges and set mask to binary values identifying contrails\n",
    "    # for resized image\n",
    "    #mask[mask>0.5]=1\n",
    "    #mask[mask<=0.5]=0\n",
    "    # for full resolution image\n",
    "\n",
    "    tmp=mask[:,:,:,1]\n",
    "    tmp[tmp<4]=0\n",
    "    tmp[tmp>=4]=1\n",
    "    mask[:,:,:,1] = tmp\n",
    "\n",
    "    del tmp\n",
    "    \n",
    "    #change type to decrease size\n",
    "    image = np.float16(img_rotated)\n",
    "    mask = np.int8(mask)\n",
    "    #cut up image to smaller pieces\n",
    "    print(np.max(np.max(mask)))\n",
    "    \n",
    "\n",
    "    \n",
    "    #augment and write images to file\n",
    "    maskTPcount[cnt-1]= sum(sum(mask))\n",
    "    \n",
    "    \n",
    "#    if sum(sum(mask))>0:\n",
    "#        write_images_to_tfr_long(img_test, mask, filename=filename, max_files=1, out_dir=save_TFrecord_path)\n",
    "#        augment_case(mask, img_test, 5)\n",
    "\n",
    "    \n",
    "    #create matrix with slices of granule of size \"img_slice_size\"\n",
    "    mask_slices = blockshaped(squeeze(mask[:,:,:,1]), img_slice_size, img_slice_size)\n",
    "    oldmask_slices = blockshaped(squeeze(mask[:,:,:,0]), img_slice_size, img_slice_size)\n",
    "\n",
    "    n_slices = mask_slices.shape[0]\n",
    "    for i in range(image.shape[3]):\n",
    "        img_1slice = blockshaped(squeeze(image[:,:,:,i]), img_slice_size, img_slice_size)\n",
    "\n",
    "        if i == 0:\n",
    "            img_slices = img_1slice\n",
    "        elif i == 1:\n",
    "            img_slices = np.stack((img_slices, img_1slice), axis=3)\n",
    "        else:\n",
    "            img_slices = np.concatenate((img_slices, img_1slice[:,:,:,np.newaxis]),axis=-1)\n",
    "    ContrailPixelCnt=np.sum(np.sum(mask_slices,axis=1),axis=1)\n",
    "    \n",
    "    \n",
    "\n",
    "    #balance data set by removing most cases where pixel_threshold is not met \n",
    "    if BALANCE == True:\n",
    "        indexContrail = np.argwhere(ContrailPixelCnt > pixel_threshold)\n",
    "        if len(indexContrail)*(contrail_ratio+1) < n_slices: \n",
    "            remove_num = n_slices-len(indexContrail)*(contrail_ratio+1)\n",
    "        else:\n",
    "            remove_num = 0\n",
    "        indexnocontrail = np.delete(range(n_slices), indexContrail, 0) #array of slice index with no contrail\n",
    "        random_indices = np.random.choice(indexnocontrail, size=remove_num, replace=False) \n",
    "        balanced_mask_slices = np.delete(mask_slices, arange(n_slices)[random_indices], 0)\n",
    "        balanced_oldmask_slices = np.delete(oldmask_slices, arange(n_slices)[random_indices], 0)\n",
    "        balanced_img_slices = np.delete(img_slices, arange(n_slices)[random_indices], 0)\n",
    "        if balanced_mask_slices.shape[0] == 0:\n",
    "            continue\n",
    "        print(f\"number of mask slices = {balanced_mask_slices.shape[0]}\")\n",
    "        print(f\"number of img slices = {balanced_img_slices.shape[0]}\")\n",
    "        if sum(sum(balanced_mask_slices))>0:\n",
    "            print(sum(sum(balanced_mask_slices)))\n",
    "            #plt.hist(ContrailPixelCnt.flatten())\n",
    "    else:\n",
    "        balanced_mask_slices = mask_slices\n",
    "        balanced_oldmask_slices = oldmask_slices\n",
    "        balanced_img_slices = img_slices\n",
    "    \n",
    "    balanced_img_slices2 = balanced_img_slices\n",
    "    # augment\n",
    "    if AUGMENT == True:\n",
    "        balanced_mask_slices, balanced_img_slices = augment_images(balanced_mask_slices, balanced_img_slices)\n",
    "        balanced_oldmask_slices, balanced_img_slices2 = augment_images(balanced_oldmask_slices, balanced_img_slices2)\n",
    "    \n",
    "    max_files = 2048\n",
    "    write_images_to_tfr_long(balanced_img_slices, balanced_mask_slices, filename=filename, max_files=max_files, out_dir=save_TFrecord_path)\n",
    "    \n",
    "    if not BALANCE and not AUGMENT:\n",
    "        write_images_to_tfr_long(balanced_img_slices2, balanced_oldmask_slices, filename=filename+'old_mask', max_files=max_files, out_dir=save_TFrecord_path)\n",
    "    \n",
    "    \n",
    "    #del balanced_img_slices, balanced_mask_slices, img_slices, mask_slices, img_rotated\n",
    "    #gc.collect()\n"
   ]
  },
  {
   "cell_type": "code",
   "execution_count": null,
   "id": "1386b01d-c0c9-4403-bd00-e47d334d1d6c",
   "metadata": {},
   "outputs": [],
   "source": []
  },
  {
   "cell_type": "code",
   "execution_count": null,
   "id": "db6c6287-6390-4b6c-82ae-a98ea1837738",
   "metadata": {},
   "outputs": [],
   "source": []
  },
  {
   "cell_type": "code",
   "execution_count": null,
   "id": "12030b35-5620-4d70-81db-4a23e5a65fd6",
   "metadata": {},
   "outputs": [],
   "source": []
  },
  {
   "cell_type": "raw",
   "id": "135671ad-2aeb-451b-9578-2ca0f494a799",
   "metadata": {},
   "source": [
    "mask = np.expand_dims(mask, axis=3)\n",
    "train_iter_5im = np.concatenate((img_test, mask), axis=3)\n",
    "\n",
    "\n",
    "plt.figure(figsize=(10, 10))\n",
    "\n",
    "for i in range(12):\n",
    "    plt.subplot(4, 3, i+1)\n",
    "    plt.xticks([])\n",
    "    plt.yticks([])\n",
    "    plt.grid(False)\n",
    "    aug_img = data_augmentation(train_iter_5im)\n",
    "    mask = aug_img[:,:,:,-1]\n",
    "    img_test = aug_img[:,:,:,:-1]\n",
    "    mask = np.int8(mask)\n",
    "    mask[mask>0.5]=1\n",
    "    mask[mask<=0.5]=0\n",
    "   \n",
    "    plt.imshow(aug_img[0,:,:,6], cmap='gray')\n",
    "    \n",
    "    #plt.xlabel(class_types [np.argmax(train_iter_5label)], fontsize=13)\n",
    "plt.tight_layout()    \n",
    "plt.show()\n",
    "plt.imshow(aug_img[0,:,:,4], cmap='gray')"
   ]
  },
  {
   "cell_type": "raw",
   "id": "9da6e006-01ec-4fca-8c24-b18156a2f280",
   "metadata": {},
   "source": [
    "def display(display_list):\n",
    "    plt.figure(figsize=(15, 15))\n",
    "\n",
    "    title = ['Input Image', 'True Mask', 'Predicted Mask']\n",
    "\n",
    "    for i in range(len(display_list)):\n",
    "        plt.subplot(1, len(display_list), i+1)\n",
    "        plt.title(title[i])\n",
    "        print(i)\n",
    "        print(display_list[i].shape)\n",
    "        if i == 0:\n",
    "            plt.imshow(np.float32(display_list[i][0,:,:,-3]-display_list[i][0,:,:,-2]))\n",
    "        else:\n",
    "            plt.imshow(np.float32(1*display_list[i][0,:,:]))\n",
    "        plt.axis('off')\n",
    "    plt.show()\n",
    "\n",
    "print(img_test.shape)\n",
    "print(mask.shape)\n",
    "#mask[img_test[:,:,:,0] == 0] = 2\n",
    "#test = img_test[:,:,:,0] < .1\n",
    "print(img_test)\n",
    "display([img_test,mask])\n",
    "\n"
   ]
  }
 ],
 "metadata": {
  "kernelspec": {
   "display_name": "Python 3 (ipykernel)",
   "language": "python",
   "name": "python3"
  },
  "language_info": {
   "codemirror_mode": {
    "name": "ipython",
    "version": 3
   },
   "file_extension": ".py",
   "mimetype": "text/x-python",
   "name": "python",
   "nbconvert_exporter": "python",
   "pygments_lexer": "ipython3",
   "version": "3.9.12"
  }
 },
 "nbformat": 4,
 "nbformat_minor": 5
}
