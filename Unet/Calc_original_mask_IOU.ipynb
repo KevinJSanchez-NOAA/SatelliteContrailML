{
 "cells": [
  {
   "cell_type": "code",
   "execution_count": 1,
   "id": "4262af1f-6d74-4f21-a8ed-f8db0533b2f9",
   "metadata": {},
   "outputs": [
    {
     "name": "stdout",
     "output_type": "stream",
     "text": [
      "OrderedDict([('cpu_compiler', '/home/builder/ktietz/aggregate/tensorflow_recipes/ci_cpu/tensorflow-base_1614583966145/_build_env/bin/x86_64-conda_cos6-linux-gnu-gcc'), ('cuda_compute_capabilities', ['compute_35', 'compute_52', 'compute_60', 'compute_61', 'compute_70', 'compute_75']), ('cuda_version', '10.1'), ('cudnn_version', '7'), ('is_cuda_build', True), ('is_rocm_build', False)])\n",
      "cuda version:  10.1\n",
      "cudNN version:  7\n",
      "TF version:  2.4.1\n",
      "105\n",
      "105\n"
     ]
    }
   ],
   "source": [
    "### -*- coding: utf-8 -*-\n",
    "\"\"\"\n",
    "Created on Mon May 24 13:26:13 2021\n",
    "\n",
    "@author: kjsanche\n",
    "\n",
    "Description: \n",
    "A function to load the 5 minute granules from MODIS channel 1 \n",
    "(0.65 microns) and the contrail mask for ML with a CNN.\n",
    "\n",
    "To do:\n",
    "ASAP:\n",
    "-cut up images\n",
    "-separate testing data\n",
    "-plot testing data vs mask\n",
    "\n",
    "\n",
    "\n",
    "lower priority:\n",
    "-optimize image shape by transforming back to original satellite swath projection\n",
    "-save and set up to load data as tfrecord\n",
    "-organize/markdown/comment code\n",
    "\n",
    "\n",
    "Input:\n",
    "Path   (string)\n",
    "\n",
    "        \n",
    "        \n",
    "Output:\n",
    "MODISCh1 (2D uint32)\n",
    "MASK     (2D uint16)\n",
    "\"\"\"\n",
    "\n",
    "\n",
    "from matplotlib import pyplot as plt\n",
    "%matplotlib inline\n",
    "import numpy as np\n",
    "import struct\n",
    "import os\n",
    "import glob\n",
    "import cv2\n",
    "import gc\n",
    "from itertools import compress\n",
    "from UNET_Functions import unet_model, summary\n",
    "from Sat_contrail_read import Extract_RawDef, extract_img, extract_mask, extract_imglist2, get_model_memory_usage\n",
    "from scipy.spatial import ConvexHull\n",
    "from scipy.ndimage import rotate\n",
    "from format_input import *\n",
    "import tensorflow as tf\n",
    "\n",
    "sys_details = tf.sysconfig.get_build_info()\n",
    "print(sys_details)\n",
    "cudnn_version = sys_details[\"cudnn_version\"]\n",
    "cuda_version = sys_details[\"cuda_version\"]\n",
    "\n",
    "print('cuda version: ', cuda_version)\n",
    "print('cudNN version: ',cudnn_version)\n",
    "print('TF version: ', tf.version.VERSION)\n",
    "\n",
    "\n",
    "NEWMASK = False # use updated masks?\n",
    "NCHANNELS=3 #number of channels + 1 (3, 7 or 8)\n",
    "DVERSION = 'v26' #\n",
    "#augment_amount = 0\n",
    "img_slice_size = 64\n",
    "contrail_ratio = 3 #number of slices to keep without contrails:slices with contrails (2 = 2:1)\n",
    "pixel_threshold = (img_slice_size**2)*0.005 #pixel threshold to determine if slice has a significant number of pixels labeled as contrail\n",
    "\n",
    "\n",
    "#tf.compat.v1.disable_eager_execution()\n",
    "#tf.compat.v1.experimental.output_all_intermediates(True) \n",
    "path = os.getcwd()\n",
    "proj_path = os.path.normpath(path + os.sep + os.pardir) #get parent directory\n",
    "image_path = '/home/kjsanche/Desktop/ExternalSSD/SatContrailData/' #os.path.join(proj_path, 'data/')\n",
    "save_TFrecord_path = '/home/kjsanche/Desktop/TFrecords/' \n",
    "\n",
    "\n",
    "image0065, image0380, image0680, image0850, image1100, image1200, image1330, AUX_list, mask_list, newmask_list = extract_imglist2(image_path)\n",
    "\n",
    "N = len(image1200)\n",
    "print(N)\n",
    "print(len(mask_list))"
   ]
  },
  {
   "cell_type": "code",
   "execution_count": null,
   "id": "6ded6251-73c3-4f2e-a055-d8a253e6073e",
   "metadata": {},
   "outputs": [],
   "source": []
  },
  {
   "cell_type": "markdown",
   "id": "48e690b7-0563-4b29-a714-b5e3067efd59",
   "metadata": {},
   "source": [
    "## extract image dimensions"
   ]
  },
  {
   "cell_type": "code",
   "execution_count": 2,
   "id": "d705fb9f-58bc-409d-9c88-5ec5cf7213eb",
   "metadata": {},
   "outputs": [],
   "source": [
    "dim = Extract_RawDef(AUX_list)"
   ]
  },
  {
   "cell_type": "markdown",
   "id": "e3672171-ab60-43d8-b825-c775264f9d12",
   "metadata": {},
   "source": [
    "## make dataset"
   ]
  },
  {
   "cell_type": "code",
   "execution_count": 3,
   "id": "4e78e37f-c6f3-44fc-93e4-fd612b832899",
   "metadata": {},
   "outputs": [
    {
     "name": "stdout",
     "output_type": "stream",
     "text": [
      "<TensorSliceDataset shapes: ((), (), (), (), (), (), (), (), (), (2,)), types: (tf.string, tf.string, tf.string, tf.string, tf.string, tf.string, tf.string, tf.string, tf.string, tf.int64)>\n"
     ]
    }
   ],
   "source": [
    "img0065_filenames = tf.constant(image0065)\n",
    "img0380_filenames = tf.constant(image0380)\n",
    "img0680_filenames = tf.constant(image0680)\n",
    "img0850_filenames = tf.constant(image0850)\n",
    "img1100_filenames = tf.constant(image1100)\n",
    "img1200_filenames = tf.constant(image1200)\n",
    "img1330_filenames = tf.constant(image1330)\n",
    "\n",
    "masks_filenames = tf.constant(mask_list)\n",
    "newmasks_filenames = tf.constant(newmask_list)\n",
    "#print(masks_filenames)\n",
    "#print(newmasks_filenames)\n",
    "dataset = tf.data.Dataset.from_tensor_slices((img0065_filenames, img0380_filenames, img0680_filenames, img0850_filenames, img1100_filenames, img1200_filenames, img1330_filenames, masks_filenames, newmasks_filenames, dim))\n",
    "print(dataset)"
   ]
  },
  {
   "cell_type": "code",
   "execution_count": 4,
   "id": "fe88f16f-71d0-481c-9f6d-3146e9091cf6",
   "metadata": {},
   "outputs": [
    {
     "name": "stdout",
     "output_type": "stream",
     "text": [
      "<MapDataset shapes: ((4096, 4096, 2), (4096, 4096, 2)), types: (tf.float16, tf.int8)>\n"
     ]
    }
   ],
   "source": [
    "def process_path(img0065_path, img0380_path, img0680_path, img0850_path, img1100_path, img1200_path, img1330_path, mask_path, newmask_path, dim):\n",
    "# convert binary files to matrix of integers\n",
    "    if NCHANNELS >=3:\n",
    "        img5 = extract_img(str(img1100_path.numpy().decode('ascii')),int(dim[0].numpy()),int(dim[1].numpy()))\n",
    "        img6 = extract_img(str(img1200_path.numpy().decode('ascii')),int(dim[0].numpy()),int(dim[1].numpy()))\n",
    "        img = np.concatenate((img5, img6), axis=2)\n",
    "    if NCHANNELS >=7:\n",
    "        img2 = extract_img(str(img0380_path.numpy().decode('ascii')),int(dim[0].numpy()),int(dim[1].numpy()))\n",
    "        img3 = extract_img(str(img0680_path.numpy().decode('ascii')),int(dim[0].numpy()),int(dim[1].numpy()))\n",
    "        img4 = extract_img(str(img0850_path.numpy().decode('ascii')),int(dim[0].numpy()),int(dim[1].numpy()))\n",
    "        img7 = extract_img(str(img1330_path.numpy().decode('ascii')),int(dim[0].numpy()),int(dim[1].numpy()))\n",
    "        img = np.concatenate((img2, img3, img4, img7, img), axis=2)\n",
    "    if NCHANNELS ==8:\n",
    "        img1 = extract_img(str(img0065_path.numpy().decode('ascii')),int(dim[0].numpy()),int(dim[1].numpy()))\n",
    "        img = np.concatenate((img1, img), axis=2)\n",
    "\n",
    "\n",
    "\n",
    "    #img = np.concatenate((img1, img2, img3, img4, img7, img5, img6), axis=2)\n",
    "    \n",
    "    \n",
    "    \n",
    "    with open(str(newmask_path.numpy().decode('ascii')), 'rb') as f:\n",
    "        mask = np.zeros((4096,4096,1), dtype = int)\n",
    "        x = np.load(f)\n",
    "        mask[0:x.shape[0], 0:x.shape[1], 0] += x\n",
    "\n",
    "    mask2 = extract_mask(str(mask_path.numpy().decode('ascii')),int(dim[0].numpy()),int(dim[1].numpy()))\n",
    "    mask = np.concatenate((mask2, mask), axis=2)\n",
    "        \n",
    "    return tf.convert_to_tensor(img,dtype=tf.float16), tf.convert_to_tensor(mask,dtype=tf.int8)\n",
    "\n",
    "def _set_shapes(img, mask):\n",
    "    img.set_shape([4096, 4096, NCHANNELS-1])\n",
    "    mask.set_shape([4096, 4096, 2])\n",
    "\n",
    "    return img, mask \n",
    "\n",
    "#print(dataset)\n",
    "image_ds = dataset.map(lambda aa, bb, cc, dd, ee, ff, gg, hh, ii, jj: tf.py_function(process_path, [aa, bb, cc, dd, ee, ff, gg, hh, ii, jj], [tf.float16, tf.int8]))\n",
    "image_ds = image_ds.map(_set_shapes)\n",
    "print(image_ds)\n",
    "\n"
   ]
  },
  {
   "cell_type": "raw",
   "id": "1b8c1c97-8374-4b6e-9c65-ce7b6bc5de90",
   "metadata": {},
   "source": [
    "def blockshaped(arr, nrows, ncols):\n",
    "    \"\"\"\n",
    "    Return an array of shape (n, nrows, ncols) where\n",
    "    n * nrows * ncols = arr.size\n",
    "\n",
    "    If arr is a 2D array, the returned array should look like n subblocks with\n",
    "    each subblock preserving the \"physical\" layout of arr.\n",
    "    \"\"\"\n",
    "    h, w = arr.shape\n",
    "    assert h % nrows == 0, f\"{h} rows is not evenly divisible by {nrows}\"\n",
    "    assert w % ncols == 0, f\"{w} cols is not evenly divisible by {ncols}\"\n",
    "    return (arr.reshape(h//nrows, nrows, -1, ncols)\n",
    "               .swapaxes(1,2)\n",
    "               .reshape(-1, nrows, ncols))\n",
    "def unblockshaped(arr, h, w):\n",
    "    \"\"\"\n",
    "    Return an array of shape (h, w) where\n",
    "    h * w = arr.size\n",
    "\n",
    "    If arr is of shape (n, nrows, ncols), n sublocks of shape (nrows, ncols),\n",
    "    then the returned array preserves the \"physical\" layout of the sublocks.\n",
    "    \"\"\"\n",
    "    n, nrows, ncols = arr.shape\n",
    "    return (arr.reshape(h//nrows, -1, nrows, ncols)\n",
    "               .swapaxes(1,2)\n",
    "               .reshape(h, w))"
   ]
  },
  {
   "cell_type": "code",
   "execution_count": 12,
   "id": "7d477979-b1c5-430f-b125-ee9ba60e42e0",
   "metadata": {},
   "outputs": [
    {
     "data": {
      "image/png": "[encoded data removed]",
      "text/plain": [
       "<Figure size 432x288 with 1 Axes>"
      ]
     },
     "metadata": {
      "needs_background": "light"
     },
     "output_type": "display_data"
    },
    {
     "data": {
      "image/png": "[encoded data removed]",
      "text/plain": [
       "<Figure size 432x288 with 1 Axes>"
      ]
     },
     "metadata": {
      "needs_background": "light"
     },
     "output_type": "display_data"
    },
    {
     "data": {
      "image/png": "[encoded data removed]",
      "text/plain": [
       "<Figure size 432x288 with 1 Axes>"
      ]
     },
     "metadata": {
      "needs_background": "light"
     },
     "output_type": "display_data"
    },
    {
     "data": {
      "image/png": "[encoded data removed]",
      "text/plain": [
       "<Figure size 432x288 with 1 Axes>"
      ]
     },
     "metadata": {
      "needs_background": "light"
     },
     "output_type": "display_data"
    },
    {
     "data": {
      "image/png": "[encoded data removed]",
      "text/plain": [
       "<Figure size 432x288 with 1 Axes>"
      ]
     },
     "metadata": {
      "needs_background": "light"
     },
     "output_type": "display_data"
    },
    {
     "data": {
      "image/png": "[encoded data removed]",
      "text/plain": [
       "<Figure size 432x288 with 1 Axes>"
      ]
     },
     "metadata": {
      "needs_background": "light"
     },
     "output_type": "display_data"
    },
    {
     "data": {
      "image/png": "[encoded data removed]",
      "text/plain": [
       "<Figure size 432x288 with 1 Axes>"
      ]
     },
     "metadata": {
      "needs_background": "light"
     },
     "output_type": "display_data"
    },
    {
     "data": {
      "image/png": "[encoded data removed]",
      "text/plain": [
       "<Figure size 432x288 with 1 Axes>"
      ]
     },
     "metadata": {
      "needs_background": "light"
     },
     "output_type": "display_data"
    },
    {
     "data": {
      "image/png": "[encoded data removed]",
      "text/plain": [
       "<Figure size 432x288 with 1 Axes>"
      ]
     },
     "metadata": {
      "needs_background": "light"
     },
     "output_type": "display_data"
    },
    {
     "data": {
      "image/png": "[encoded data removed]",
      "text/plain": [
       "<Figure size 432x288 with 1 Axes>"
      ]
     },
     "metadata": {
      "needs_background": "light"
     },
     "output_type": "display_data"
    }
   ],
   "source": [
    "for image, mask in image_ds.take(5):\n",
    "    sample_image, sample_mask = image, mask\n",
    "    fig = plt.figure()\n",
    "    satImgax = plt.imshow(mask[:,:,0], cmap = 'gray')\n",
    "    plt.show()\n",
    "    satImgax2 = plt.imshow(mask[:,:,1], cmap = 'gray')\n",
    "    plt.show()"
   ]
  },
  {
   "cell_type": "code",
   "execution_count": null,
   "id": "e85c10a1-603d-413e-97f4-c11669702a06",
   "metadata": {},
   "outputs": [
    {
     "data": {
      "text/plain": [
       "7"
      ]
     },
     "execution_count": 14,
     "metadata": {},
     "output_type": "execute_result"
    }
   ],
   "source": [
    "def image_IOU(mask1, mask2):\n",
    "    inter = 0\n",
    "    union = 0\n",
    "    #for _, mask in image_ds:\n",
    "    #mask = mask.numpy()\n",
    "    mask1[mask1>1]=1\n",
    "    mask2[mask2>1]=1\n",
    "    mask1[mask1<1]=0\n",
    "    mask2[mask2<1]=0\n",
    "\n",
    "    #create list of true indicies for both masks\n",
    "    a = list(compress(range(len(mask1[:,:].flatten())), mask1[:,:].flatten()))\n",
    "    b = list(compress(range(len(mask2[:,:].flatten())), mask2[:,:].flatten()))\n",
    "\n",
    "    IOU = len(list(set(a).intersection(b)))/(len(list(set(a).union(b)))+1e-6)\n",
    "    inter += len(list(set(a).intersection(b)))\n",
    "    union += len(list(set(a).union(b)))\n",
    "    #print(f\"intersection = {len(list(set(a).intersection(b)))}\")\n",
    "    #print(f\"union = {len(list(set(a).union(b)))}\")\n",
    "    print(f\"IOU ={IOU}\")\n",
    "    return inter, union, IOU"
   ]
  },
  {
   "cell_type": "code",
   "execution_count": 28,
   "id": "f67408fb-7845-41da-b9e7-585f85027d76",
   "metadata": {},
   "outputs": [
    {
     "ename": "ValueError",
     "evalue": "The truth value of an array with more than one element is ambiguous. Use a.any() or a.all()",
     "output_type": "error",
     "traceback": [
      "\u001b[0;31m---------------------------------------------------------------------------\u001b[0m",
      "\u001b[0;31mValueError\u001b[0m                                Traceback (most recent call last)",
      "\u001b[0;32m<ipython-input-28-ac65ff5fcf86>\u001b[0m in \u001b[0;36m<module>\u001b[0;34m\u001b[0m\n\u001b[1;32m      3\u001b[0m \u001b[0;32mfor\u001b[0m \u001b[0m_\u001b[0m\u001b[0;34m,\u001b[0m \u001b[0mmask\u001b[0m \u001b[0;32min\u001b[0m \u001b[0mimage_ds\u001b[0m\u001b[0;34m:\u001b[0m\u001b[0;34m\u001b[0m\u001b[0;34m\u001b[0m\u001b[0m\n\u001b[1;32m      4\u001b[0m     \u001b[0mmask\u001b[0m \u001b[0;34m=\u001b[0m \u001b[0mmask\u001b[0m\u001b[0;34m.\u001b[0m\u001b[0mnumpy\u001b[0m\u001b[0;34m(\u001b[0m\u001b[0;34m)\u001b[0m\u001b[0;34m\u001b[0m\u001b[0;34m\u001b[0m\u001b[0m\n\u001b[0;32m----> 5\u001b[0;31m     \u001b[0moldmask\u001b[0m\u001b[0;34m=\u001b[0m\u001b[0mbool\u001b[0m\u001b[0;34m(\u001b[0m\u001b[0mmask\u001b[0m\u001b[0;34m[\u001b[0m\u001b[0;34m:\u001b[0m\u001b[0;34m,\u001b[0m\u001b[0;34m:\u001b[0m\u001b[0;34m,\u001b[0m\u001b[0;36m1\u001b[0m\u001b[0;34m]\u001b[0m \u001b[0;34m==\u001b[0m \u001b[0;36m1\u001b[0m\u001b[0;34m)\u001b[0m\u001b[0;34m\u001b[0m\u001b[0;34m\u001b[0m\u001b[0m\n\u001b[0m\u001b[1;32m      6\u001b[0m     \u001b[0mnewmask\u001b[0m\u001b[0;34m=\u001b[0m\u001b[0mmask\u001b[0m\u001b[0;34m[\u001b[0m\u001b[0;34m:\u001b[0m\u001b[0;34m,\u001b[0m\u001b[0;34m:\u001b[0m\u001b[0;34m,\u001b[0m\u001b[0;36m0\u001b[0m\u001b[0;34m]\u001b[0m\u001b[0;34m==\u001b[0m\u001b[0;36m1\u001b[0m\u001b[0;34m\u001b[0m\u001b[0;34m\u001b[0m\u001b[0m\n\u001b[1;32m      7\u001b[0m     \u001b[0;31m#oldmask[oldmask>1]=1\u001b[0m\u001b[0;34m\u001b[0m\u001b[0;34m\u001b[0m\u001b[0m\n",
      "\u001b[0;31mValueError\u001b[0m: The truth value of an array with more than one element is ambiguous. Use a.any() or a.all()"
     ]
    }
   ],
   "source": [
    "#NOT WORKING ANYMORE.... not sure why\n",
    "\n",
    "inter = 0\n",
    "union = 0\n",
    "for _, mask in image_ds:\n",
    "    mask = mask.numpy()\n",
    "    mask1=mask[:,:,0]\n",
    "    mask2=mask[:,:,1]\n",
    "    mask1[mask1>1]=1\n",
    "    mask2[mask2>1]=1\n",
    "    mask1[mask1<1]=0\n",
    "    mask2[mask2<1]=0\n",
    "    #mask[mask>1]=1\n",
    "    \n",
    "    #create list of true indicies for both masks\n",
    "    a = list(compress(range(len(mask1[:,:].flatten())), mask1[:,:].flatten()))\n",
    "    b = list(compress(range(len(mask2[:,:].flatten())), mask2[:,:].flatten()))\n",
    "    print(len(a))\n",
    "    print(len(b))\n",
    "    print(len(newmask.flatten()))\n",
    "    print(len(oldmask.flatten()))\n",
    "    IOU = len(list(set(a).intersection(b)))/len(list(set(a).union(b)))\n",
    "    inter += len(list(set(a).intersection(b)))\n",
    "    union += len(list(set(a).union(b)))\n",
    "    #print(f\"intersection = {len(list(set(a).intersection(b)))}\")\n",
    "    #print(f\"union = {len(list(set(a).union(b)))}\")\n",
    "    print(f\"IOU ={IOU}\")\n",
    "    \n"
   ]
  },
  {
   "cell_type": "code",
   "execution_count": null,
   "id": "40530cc3-aaf8-44ee-95c4-7ca6277ad9ef",
   "metadata": {},
   "outputs": [],
   "source": [
    "meanIOU = inter/union\n",
    "print(meanIOU)"
   ]
  }
 ],
 "metadata": {
  "kernelspec": {
   "display_name": "Python 3 (ipykernel)",
   "language": "python",
   "name": "python3"
  },
  "language_info": {
   "codemirror_mode": {
    "name": "ipython",
    "version": 3
   },
   "file_extension": ".py",
   "mimetype": "text/x-python",
   "name": "python",
   "nbconvert_exporter": "python",
   "pygments_lexer": "ipython3",
   "version": "3.10.4"
  }
 },
 "nbformat": 4,
 "nbformat_minor": 5
}
