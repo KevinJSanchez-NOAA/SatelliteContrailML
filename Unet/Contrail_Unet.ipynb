{
 "cells": [
  {
   "cell_type": "code",
   "execution_count": 1,
   "id": "deb437a0-ae1e-4c58-83f8-4f78626be60d",
   "metadata": {},
   "outputs": [
    {
     "ename": "ModuleNotFoundError",
     "evalue": "No module named 'tensorflow'",
     "output_type": "error",
     "traceback": [
      "\u001b[0;31m---------------------------------------------------------------------------\u001b[0m",
      "\u001b[0;31mModuleNotFoundError\u001b[0m                       Traceback (most recent call last)",
      "\u001b[0;32m<ipython-input-1-8cc67b3b1232>\u001b[0m in \u001b[0;36m<module>\u001b[0;34m\u001b[0m\n\u001b[1;32m     27\u001b[0m \u001b[0;32mimport\u001b[0m \u001b[0mos\u001b[0m\u001b[0;34m\u001b[0m\u001b[0;34m\u001b[0m\u001b[0m\n\u001b[1;32m     28\u001b[0m \u001b[0;32mimport\u001b[0m \u001b[0mglob\u001b[0m\u001b[0;34m\u001b[0m\u001b[0;34m\u001b[0m\u001b[0m\n\u001b[0;32m---> 29\u001b[0;31m \u001b[0;32mfrom\u001b[0m \u001b[0mUNET_Functions\u001b[0m \u001b[0;32mimport\u001b[0m \u001b[0munet_model\u001b[0m\u001b[0;34m\u001b[0m\u001b[0;34m\u001b[0m\u001b[0m\n\u001b[0m\u001b[1;32m     30\u001b[0m \u001b[0;32mfrom\u001b[0m \u001b[0mutils\u001b[0m \u001b[0;32mimport\u001b[0m \u001b[0msummary\u001b[0m\u001b[0;34m\u001b[0m\u001b[0;34m\u001b[0m\u001b[0m\n\u001b[1;32m     31\u001b[0m \u001b[0;32mfrom\u001b[0m \u001b[0mSat_contrail_utils\u001b[0m \u001b[0;32mimport\u001b[0m \u001b[0mExtract_RawDef\u001b[0m\u001b[0;34m,\u001b[0m \u001b[0mextract_img\u001b[0m\u001b[0;34m,\u001b[0m \u001b[0mextract_mask\u001b[0m\u001b[0;34m\u001b[0m\u001b[0;34m\u001b[0m\u001b[0m\n",
      "\u001b[0;32m~/Desktop/Projects/Sat_Contrail_Unet/code/UNET_Functions.py\u001b[0m in \u001b[0;36m<module>\u001b[0;34m\u001b[0m\n\u001b[1;32m      5\u001b[0m \u001b[0mThis\u001b[0m \u001b[0;32mis\u001b[0m \u001b[0ma\u001b[0m \u001b[0mtemporary\u001b[0m \u001b[0mscript\u001b[0m \u001b[0mfile\u001b[0m\u001b[0;34m.\u001b[0m\u001b[0;34m\u001b[0m\u001b[0;34m\u001b[0m\u001b[0m\n\u001b[1;32m      6\u001b[0m \"\"\"\n\u001b[0;32m----> 7\u001b[0;31m \u001b[0;32mimport\u001b[0m \u001b[0mtensorflow\u001b[0m \u001b[0;32mas\u001b[0m \u001b[0mtf\u001b[0m\u001b[0;34m\u001b[0m\u001b[0;34m\u001b[0m\u001b[0m\n\u001b[0m\u001b[1;32m      8\u001b[0m \u001b[0;32mimport\u001b[0m \u001b[0mos\u001b[0m\u001b[0;34m\u001b[0m\u001b[0;34m\u001b[0m\u001b[0m\n\u001b[1;32m      9\u001b[0m \u001b[0;32mimport\u001b[0m \u001b[0mnumpy\u001b[0m \u001b[0;32mas\u001b[0m \u001b[0mnp\u001b[0m \u001b[0;31m# linear algebra\u001b[0m\u001b[0;34m\u001b[0m\u001b[0;34m\u001b[0m\u001b[0m\n",
      "\u001b[0;31mModuleNotFoundError\u001b[0m: No module named 'tensorflow'"
     ]
    }
   ],
   "source": [
    "### -*- coding: utf-8 -*-\n",
    "\"\"\"\n",
    "Created on Mon May 24 13:26:13 2021\n",
    "\n",
    "@author: kjsanche\n",
    "\n",
    "Description: \n",
    "A function to load the 5 minute granules from MODIS channel 1 \n",
    "(0.65 microns) and the contrail mask for plotting.\n",
    "    \n",
    "    \n",
    "Input:\n",
    "Path   (string)\n",
    "\n",
    "        \n",
    "        \n",
    "Output:\n",
    "MODISCh1 (2D uint32)\n",
    "MASK     (2D uint16)\n",
    "\"\"\"\n",
    "\n",
    "\n",
    "from matplotlib import pyplot as plt\n",
    "%matplotlib inline\n",
    "import numpy as np\n",
    "import struct\n",
    "import os\n",
    "import glob\n",
    "from UNET_Functions import unet_model, summary\n",
    "from Sat_contrail_read import Extract_RawDef, extract_img, extract_mask\n",
    "import tensorflow as tf\n",
    "\n",
    "path = os.getcwd()\n",
    "proj_path = os.path.normpath(path + os.sep + os.pardir) #get parent directory\n",
    "image_path = os.path.join(proj_path, 'data/')\n",
    "\n",
    "image_list = glob.glob(image_path + \"/**/01__1km.raw\", recursive = True)\n",
    "image_list2 = glob.glob(image_path + \"/**/32__1km.raw\", recursive = True)\n",
    "mask_list = glob.glob(image_path + \"/**/*.contrail-mask\", recursive = True)\n",
    "mask_list = [ x for x in mask_list if \"_sw\" not in x ]\n",
    "print(mask_list)\n",
    "\n",
    "\n"
   ]
  },
  {
   "cell_type": "code",
   "execution_count": 2,
   "id": "60ddbc87-e44d-4132-8962-bf45e337826b",
   "metadata": {},
   "outputs": [
    {
     "ename": "NameError",
     "evalue": "name 'image_path' is not defined",
     "output_type": "error",
     "traceback": [
      "\u001b[0;31m---------------------------------------------------------------------------\u001b[0m",
      "\u001b[0;31mNameError\u001b[0m                                 Traceback (most recent call last)",
      "\u001b[0;32m<ipython-input-2-9a7fe23f5e15>\u001b[0m in \u001b[0;36m<module>\u001b[0;34m\u001b[0m\n\u001b[0;32m----> 1\u001b[0;31m \u001b[0mf\u001b[0m \u001b[0;34m=\u001b[0m \u001b[0mopen\u001b[0m\u001b[0;34m(\u001b[0m\u001b[0mimage_path\u001b[0m \u001b[0;34m+\u001b[0m \u001b[0;34m\"/091/A2019091.1445/01__1km.AUX\"\u001b[0m\u001b[0;34m,\u001b[0m \u001b[0;34m\"r\"\u001b[0m\u001b[0;34m)\u001b[0m\u001b[0;34m\u001b[0m\u001b[0;34m\u001b[0m\u001b[0m\n\u001b[0m\u001b[1;32m      2\u001b[0m \u001b[0mprint\u001b[0m\u001b[0;34m(\u001b[0m\u001b[0mf\u001b[0m\u001b[0;34m.\u001b[0m\u001b[0mread\u001b[0m\u001b[0;34m(\u001b[0m\u001b[0;34m)\u001b[0m\u001b[0;34m)\u001b[0m\u001b[0;34m\u001b[0m\u001b[0;34m\u001b[0m\u001b[0m\n\u001b[1;32m      3\u001b[0m \u001b[0mf\u001b[0m \u001b[0;34m=\u001b[0m \u001b[0mopen\u001b[0m\u001b[0;34m(\u001b[0m\u001b[0mimage_path\u001b[0m \u001b[0;34m+\u001b[0m \u001b[0;34m\"/095/A2019095.1925/01__1km.AUX\"\u001b[0m\u001b[0;34m,\u001b[0m \u001b[0;34m\"r\"\u001b[0m\u001b[0;34m)\u001b[0m\u001b[0;34m\u001b[0m\u001b[0;34m\u001b[0m\u001b[0m\n\u001b[1;32m      4\u001b[0m \u001b[0mprint\u001b[0m\u001b[0;34m(\u001b[0m\u001b[0mf\u001b[0m\u001b[0;34m.\u001b[0m\u001b[0mread\u001b[0m\u001b[0;34m(\u001b[0m\u001b[0;34m)\u001b[0m\u001b[0;34m)\u001b[0m\u001b[0;34m\u001b[0m\u001b[0;34m\u001b[0m\u001b[0m\n\u001b[1;32m      5\u001b[0m \u001b[0;34m\u001b[0m\u001b[0m\n",
      "\u001b[0;31mNameError\u001b[0m: name 'image_path' is not defined"
     ]
    }
   ],
   "source": [
    "f = open(image_path + \"/091/A2019091.1445/01__1km.AUX\", \"r\")\n",
    "print(f.read())\n",
    "f = open(image_path + \"/095/A2019095.1925/01__1km.AUX\", \"r\")\n",
    "print(f.read())\n",
    "\n",
    "x=np.uintc((2212,3085)) #32bit long signed integer\n",
    "path = image_path + '/095/A2019095.1925/01__1km.raw'\n",
    "path2 = image_path + '/095/A2019095.1925/MYD021KM-A2019095.1925.contrail-mask'\n",
    "\n",
    "tmp = np.zeros((2,3087,2856), dtype = int)\n",
    "\n",
    "# Read an image file    \n",
    "with open(path, mode='rb') as file: # b is important -> binary\n",
    "    fileContent = file.read()\n",
    "    #z = np.reshape(struct.unpack(\"H\"*3060*2419, fileContent),(3060,2419))\n",
    "    x = np.uint32(np.reshape(struct.unpack(\"H\"*2856*1886 , fileContent),(1886,2856))) # hard coded numbers (for now) are from .AUX file... \n",
    "    tmp[0, 0:x.shape[0], 0:x.shape[1]] += x\n",
    "\n",
    "c = plt.imshow(x, cmap = 'gray')\n",
    "\n",
    "plt.colorbar(c)\n",
    "\n",
    "# Read a mask file\n",
    "with open(path2, mode='rb') as file: # b is important -> binary\n",
    "    fileContent = file.read()\n",
    "    #z = np.reshape(struct.unpack(\"H\"*3060*2419, fileContent),(3060,2419))\n",
    "    print(2856 *1886)\n",
    "    y = np.uint16(np.reshape(struct.unpack(\"B\"*2856 *1886 , fileContent),(1886 ,2856 )))\n",
    "\n",
    "\n",
    "c = plt.imshow(y, cmap = 'gray')\n",
    "plt.colorbar(c)\n",
    "\n",
    "\n"
   ]
  },
  {
   "cell_type": "code",
   "execution_count": 3,
   "id": "559d3ea0-5d48-4dd4-95d3-0a2a01463fb6",
   "metadata": {},
   "outputs": [
    {
     "name": "stdout",
     "output_type": "stream",
     "text": [
      "/home/kjsanche/Desktop/Projects/Sat_Contrail_Unet/data/091/A2019091.0345/01__1km.AUX\n",
      "/home/kjsanche/Desktop/Projects/Sat_Contrail_Unet/data/091/A2019091.0845/01__1km.AUX\n",
      "/home/kjsanche/Desktop/Projects/Sat_Contrail_Unet/data/091/A2019091.1445/01__1km.AUX\n",
      "/home/kjsanche/Desktop/Projects/Sat_Contrail_Unet/data/093/A2019093.1445/01__1km.AUX\n",
      "/home/kjsanche/Desktop/Projects/Sat_Contrail_Unet/data/095/A2019095.1925/01__1km.AUX\n",
      "3085\n",
      "[[2751 3087]\n",
      " [3060 2419]\n",
      " [2212 3085]\n",
      " [2463 2603]\n",
      " [2856 1886]]\n"
     ]
    }
   ],
   "source": [
    "AUX_list = glob.glob(image_path + \"/**/01__1km.AUX\", recursive = True)\n",
    "## obtain dimensions from .AUX files.\n",
    "\n",
    "\n",
    "dim = Extract_RawDef(AUX_list)\n",
    "\n",
    "print(dim[2,1])\n",
    "print(dim)"
   ]
  },
  {
   "cell_type": "code",
   "execution_count": 4,
   "id": "d67c53da-074b-4610-b90d-34d88591ce4a",
   "metadata": {},
   "outputs": [
    {
     "data": {
      "text/plain": [
       "(5, 3087, 3060)"
      ]
     },
     "execution_count": 4,
     "metadata": {},
     "output_type": "execute_result"
    }
   ],
   "source": [
    "maxdim = np.max(dim,axis=0)\n",
    "tmp = np.zeros((dim.shape[0],maxdim[1],maxdim[0]), dtype = int)\n",
    "tmp.shape"
   ]
  },
  {
   "cell_type": "code",
   "execution_count": 5,
   "id": "da967fb2-dc68-44bc-bf15-d09c46c89888",
   "metadata": {},
   "outputs": [
    {
     "name": "stdout",
     "output_type": "stream",
     "text": [
      "/home/kjsanche/Desktop/Projects/Sat_Contrail_Unet/data/091/A2019091.0345/01__1km.raw\n",
      "8492337\n",
      "/home/kjsanche/Desktop/Projects/Sat_Contrail_Unet/data/091/A2019091.0845/01__1km.raw\n",
      "7402140\n",
      "/home/kjsanche/Desktop/Projects/Sat_Contrail_Unet/data/091/A2019091.1445/01__1km.raw\n",
      "6824020\n",
      "/home/kjsanche/Desktop/Projects/Sat_Contrail_Unet/data/093/A2019093.1445/01__1km.raw\n",
      "6411189\n",
      "/home/kjsanche/Desktop/Projects/Sat_Contrail_Unet/data/095/A2019095.1925/01__1km.raw\n",
      "5386416\n",
      "/home/kjsanche/Desktop/Projects/Sat_Contrail_Unet/data/091/A2019091.0345/32__1km.raw\n",
      "8492337\n",
      "/home/kjsanche/Desktop/Projects/Sat_Contrail_Unet/data/091/A2019091.0845/32__1km.raw\n",
      "7402140\n",
      "/home/kjsanche/Desktop/Projects/Sat_Contrail_Unet/data/091/A2019091.1445/32__1km.raw\n",
      "6824020\n",
      "/home/kjsanche/Desktop/Projects/Sat_Contrail_Unet/data/093/A2019093.1445/32__1km.raw\n",
      "6411189\n",
      "/home/kjsanche/Desktop/Projects/Sat_Contrail_Unet/data/095/A2019095.1925/32__1km.raw\n",
      "5386416\n"
     ]
    },
    {
     "data": {
      "text/plain": [
       "<matplotlib.colorbar.Colorbar at 0x7f15277edcd0>"
      ]
     },
     "execution_count": 5,
     "metadata": {},
     "output_type": "execute_result"
    },
    {
     "data": {
      "image/png": "[encoded data removed]",
      "text/plain": [
       "<Figure size 432x288 with 2 Axes>"
      ]
     },
     "metadata": {
      "needs_background": "light"
     },
     "output_type": "display_data"
    }
   ],
   "source": [
    "\n",
    "\n",
    "    \n",
    "\n",
    "data = extract_img(image_list,tmp,dim)# convert binary files to matrix of integers\n",
    "data2 = extract_img(image_list2,tmp,dim)# convert binary files to matrix of integers\n",
    "newdata = np.stack([data,data2],axis = 3)\n",
    "data.shape\n",
    "c = plt.imshow(data[1,:,:], cmap = 'gray')\n",
    "\n",
    "plt.colorbar(c)\n",
    "#c.set_clim(1050000, 1800000)"
   ]
  },
  {
   "cell_type": "code",
   "execution_count": null,
   "id": "a18fd729-3e02-48e7-8987-25403a66979d",
   "metadata": {},
   "outputs": [],
   "source": [
    "\n"
   ]
  },
  {
   "cell_type": "code",
   "execution_count": 6,
   "id": "a20a3880-3591-4819-bad0-71b6ea709ea4",
   "metadata": {},
   "outputs": [
    {
     "name": "stdout",
     "output_type": "stream",
     "text": [
      "/home/kjsanche/Desktop/Projects/Sat_Contrail_Unet/data/091/A2019091.0345/MYD021KM-A2019091.0345.contrail-mask\n",
      "8492337\n",
      "/home/kjsanche/Desktop/Projects/Sat_Contrail_Unet/data/091/A2019091.0845/MYD021KM-A2019091.0845.contrail-mask\n",
      "7402140\n",
      "/home/kjsanche/Desktop/Projects/Sat_Contrail_Unet/data/091/A2019091.1445/MYD021KM-A2019091.1445.contrail-mask\n",
      "6824020\n",
      "/home/kjsanche/Desktop/Projects/Sat_Contrail_Unet/data/093/A2019093.1445/MYD021KM-A2019093.1445.contrail-mask\n",
      "6411189\n",
      "/home/kjsanche/Desktop/Projects/Sat_Contrail_Unet/data/095/A2019095.1925/MYD021KM-A2019095.1925.contrail-mask\n",
      "5386416\n"
     ]
    },
    {
     "data": {
      "image/png": "[encoded data removed]",
      "text/plain": [
       "<Figure size 432x288 with 2 Axes>"
      ]
     },
     "metadata": {
      "needs_background": "light"
     },
     "output_type": "display_data"
    }
   ],
   "source": [
    "\n",
    "\n",
    "tmp = np.zeros((dim.shape[0],maxdim[1],maxdim[0]), dtype = int)\n",
    "data3 = extract_mask(mask_list,tmp,dim)# convert binary files to matrix of integers\n",
    "c = plt.imshow(data3[1,:,:], cmap = 'gray')\n",
    "\n",
    "plt.colorbar(c)\n",
    "c.set_clim(0, 7)"
   ]
  },
  {
   "cell_type": "code",
   "execution_count": 7,
   "id": "55d3dbd0-10ac-444d-90f1-f3f40c844ff9",
   "metadata": {},
   "outputs": [
    {
     "name": "stdout",
     "output_type": "stream",
     "text": [
      "(5, 3087, 3060, 2)\n",
      "(5, 3087, 3060)\n"
     ]
    }
   ],
   "source": [
    "print(newdata.shape)\n",
    "print(data2.shape)\n"
   ]
  },
  {
   "cell_type": "code",
   "execution_count": 8,
   "id": "88974327-522c-4019-b1f7-f945ca720463",
   "metadata": {},
   "outputs": [
    {
     "name": "stdout",
     "output_type": "stream",
     "text": [
      "<TensorSliceDataset shapes: ((192, 192, 2), (192, 192)), types: (tf.int64, tf.int64)>\n"
     ]
    }
   ],
   "source": [
    "processed_data = tf.data.Dataset.from_tensor_slices((np.resize(newdata,(5,192, 192,2)), np.resize(data3,(5,192, 192))))\n",
    "print(processed_data)"
   ]
  },
  {
   "cell_type": "code",
   "execution_count": 9,
   "id": "d158a868-eee7-4ead-a31e-399a439eca29",
   "metadata": {},
   "outputs": [],
   "source": [
    "\n",
    "img_height = 192\n",
    "img_width = 192\n",
    "num_channels = 2\n",
    "\n",
    "unet = unet_model((img_height, img_width, num_channels))\n",
    "#unet.summary()\n",
    "unet.compile(optimizer='adam',\n",
    "              loss=tf.keras.losses.SparseCategoricalCrossentropy(from_logits=True),\n",
    "              metrics=['accuracy'])"
   ]
  },
  {
   "cell_type": "code",
   "execution_count": 10,
   "id": "e2b76f90-e07b-4920-917c-2f4e1dbe8a22",
   "metadata": {},
   "outputs": [
    {
     "name": "stdout",
     "output_type": "stream",
     "text": [
      "Epoch 1/5\n",
      "3/3 [==============================] - 2s 370ms/step - loss: 9655.9834 - accuracy: 0.4798\n",
      "Epoch 2/5\n",
      "3/3 [==============================] - 1s 364ms/step - loss: 11.6544 - accuracy: 0.9974\n",
      "Epoch 3/5\n",
      "3/3 [==============================] - 1s 369ms/step - loss: 2.9141e-04 - accuracy: 1.0000\n",
      "Epoch 4/5\n",
      "3/3 [==============================] - 1s 362ms/step - loss: 2.5127e-06 - accuracy: 1.0000\n",
      "Epoch 5/5\n",
      "3/3 [==============================] - 1s 371ms/step - loss: 1.4688e-07 - accuracy: 1.0000\n"
     ]
    }
   ],
   "source": [
    "EPOCHS = 5\n",
    "\n",
    "\n",
    "BATCH_SIZE = 2\n",
    "SHUFFLE_BUFFER_SIZE = 100 # ?????\n",
    "\n",
    "train_dataset = processed_data.shuffle(SHUFFLE_BUFFER_SIZE).batch(BATCH_SIZE)\n",
    "#test_dataset = test_dataset.batch(BATCH_SIZE)\n",
    "\n",
    "\n",
    "\n",
    "#print(processed_image_ds.element_spec)\n",
    "model_history = unet.fit(train_dataset, epochs=EPOCHS)"
   ]
  },
  {
   "cell_type": "code",
   "execution_count": 11,
   "id": "71dbf810-7398-46ca-914a-1c3537bb5040",
   "metadata": {},
   "outputs": [
    {
     "data": {
      "text/plain": [
       "[<matplotlib.lines.Line2D at 0x7f150d6a46a0>]"
      ]
     },
     "execution_count": 11,
     "metadata": {},
     "output_type": "execute_result"
    },
    {
     "data": {
      "image/png": "[encoded data removed]",
      "text/plain": [
       "<Figure size 432x288 with 1 Axes>"
      ]
     },
     "metadata": {
      "needs_background": "light"
     },
     "output_type": "display_data"
    }
   ],
   "source": [
    "plt.plot(model_history.history[\"accuracy\"])"
   ]
  }
 ],
 "metadata": {
  "kernelspec": {
   "display_name": "Python 3",
   "language": "python",
   "name": "python3"
  },
  "language_info": {
   "codemirror_mode": {
    "name": "ipython",
    "version": 3
   },
   "file_extension": ".py",
   "mimetype": "text/x-python",
   "name": "python",
   "nbconvert_exporter": "python",
   "pygments_lexer": "ipython3",
   "version": "3.9.5"
  }
 },
 "nbformat": 4,
 "nbformat_minor": 5
}
