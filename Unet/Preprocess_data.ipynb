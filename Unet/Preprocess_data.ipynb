{
 "cells": [
  {
   "cell_type": "markdown",
   "id": "d4ea7090-2a21-46f5-ae21-e3e50b2f77f2",
   "metadata": {},
   "source": [
    "<a name='1'></a>\n",
    "## Import Packages and load data"
   ]
  },
  {
   "cell_type": "code",
   "execution_count": 1,
   "id": "deb437a0-ae1e-4c58-83f8-4f78626be60d",
   "metadata": {},
   "outputs": [
    {
     "name": "stdout",
     "output_type": "stream",
     "text": [
      "OrderedDict([('cpu_compiler', '/home/builder/ktietz/aggregate/tensorflow_recipes/ci_cpu/tensorflow-base_1614583966145/_build_env/bin/x86_64-conda_cos6-linux-gnu-gcc'), ('cuda_compute_capabilities', ['compute_35', 'compute_52', 'compute_60', 'compute_61', 'compute_70', 'compute_75']), ('cuda_version', '10.1'), ('cudnn_version', '7'), ('is_cuda_build', True), ('is_rocm_build', False)])\n",
      "cuda version:  10.1\n",
      "cudNN version:  7\n",
      "TF version:  2.4.1\n",
      "105\n",
      "105\n"
     ]
    }
   ],
   "source": [
    "### -*- coding: utf-8 -*-\n",
    "\"\"\"\n",
    "Created on Mon May 24 13:26:13 2021\n",
    "\n",
    "@author: kjsanche\n",
    "\n",
    "Description: \n",
    "A function to load the 5 minute granules from MODIS channel 1 \n",
    "(0.65 microns) and the contrail mask for ML with a CNN.\n",
    "\n",
    "To do:\n",
    "ASAP:\n",
    "-cut up images\n",
    "-separate testing data\n",
    "-plot testing data vs mask\n",
    "\n",
    "\n",
    "\n",
    "lower priority:\n",
    "-optimize image shape by transforming back to original satellite swath projection\n",
    "-save and set up to load data as tfrecord\n",
    "-organize/markdown/comment code\n",
    "\n",
    "\n",
    "Input:\n",
    "Path   (string)\n",
    "\n",
    "        \n",
    "        \n",
    "Output:\n",
    "MODISCh1 (2D uint32)\n",
    "MASK     (2D uint16)\n",
    "\"\"\"\n",
    "\n",
    "\n",
    "from matplotlib import pyplot as plt\n",
    "%matplotlib inline\n",
    "import numpy as np\n",
    "import struct\n",
    "import os\n",
    "import glob\n",
    "import cv2\n",
    "import gc\n",
    "from UNET_Functions import unet_model, summary\n",
    "from Sat_contrail_read import Extract_RawDef, extract_img, extract_mask, extract_imglist, get_model_memory_usage\n",
    "from scipy.spatial import ConvexHull\n",
    "from scipy.ndimage import rotate\n",
    "from format_input import *\n",
    "import tensorflow as tf\n",
    "\n",
    "sys_details = tf.sysconfig.get_build_info()\n",
    "print(sys_details)\n",
    "cudnn_version = sys_details[\"cudnn_version\"]\n",
    "cuda_version = sys_details[\"cuda_version\"]\n",
    "\n",
    "print('cuda version: ', cuda_version)\n",
    "print('cudNN version: ',cudnn_version)\n",
    "print('TF version: ', tf.version.VERSION)\n",
    "\n",
    "\n",
    "NEWMASK = True # use updated masks?\n",
    "NCHANNELS=7 #number of channels + 1 (3, 7 or 8)\n",
    "DVERSION = 'v26' #v1 = 7 channels, old masks; v2 = 3 channels, old mask; v3 = 7 channels, new mask; v4 = 3 channels, new mask\n",
    "#augment_amount = 0\n",
    "img_slice_size = 64\n",
    "contrail_ratio = 3 #number of slices to keep without contrails:slices with contrails (2 = 2:1)\n",
    "pixel_threshold = (img_slice_size**2)*0.005 #pixel threshold to determine if slice has a significant number of pixels labeled as contrail\n",
    "\n",
    "\n",
    "#tf.compat.v1.disable_eager_execution()\n",
    "#tf.compat.v1.experimental.output_all_intermediates(True) \n",
    "path = os.getcwd()\n",
    "proj_path = os.path.normpath(path + os.sep + os.pardir) #get parent directory\n",
    "image_path = '/home/kjsanche/Desktop/ExternalSSD/SatContrailData/' #os.path.join(proj_path, 'data/')\n",
    "save_TFrecord_path = '/home/kjsanche/Desktop/ExternalSSD/SatContrailData/TFrecords/' \n",
    "\n",
    "\n",
    "image0065, image0380, image0680, image0850, image1100, image1200, image1330, AUX_list, mask_list = extract_imglist(image_path, NEWMASK, NCHANNELS)\n",
    "\n",
    "N = len(image1200)\n",
    "print(N)\n",
    "print(len(mask_list))"
   ]
  },
  {
   "cell_type": "markdown",
   "id": "3b38ec73-a0fb-44a8-9c96-c15a6e094d7d",
   "metadata": {},
   "source": [
    "## extract image dimensions"
   ]
  },
  {
   "cell_type": "code",
   "execution_count": 2,
   "id": "559d3ea0-5d48-4dd4-95d3-0a2a01463fb6",
   "metadata": {},
   "outputs": [],
   "source": [
    "dim = Extract_RawDef(AUX_list)"
   ]
  },
  {
   "cell_type": "raw",
   "id": "a37d8304-004f-48f0-8f6f-3d3d00aeb60c",
   "metadata": {},
   "source": [
    "for path in zip(img1100_list_ds.take(3), mask_list_ds.take(3)):\n",
    "    print(path)"
   ]
  },
  {
   "cell_type": "markdown",
   "id": "c2d5b6aa-f366-4cd9-b425-6357a187da43",
   "metadata": {},
   "source": [
    "## make dataset"
   ]
  },
  {
   "cell_type": "code",
   "execution_count": 3,
   "id": "b6e7d274-a27b-4cae-a890-740e141c1323",
   "metadata": {},
   "outputs": [
    {
     "name": "stdout",
     "output_type": "stream",
     "text": [
      "(105,)\n",
      "(105,)\n"
     ]
    }
   ],
   "source": [
    "img0065_filenames = tf.constant(image0065)\n",
    "img0380_filenames = tf.constant(image0380)\n",
    "img0680_filenames = tf.constant(image0680)\n",
    "img0850_filenames = tf.constant(image0850)\n",
    "img1100_filenames = tf.constant(image1100)\n",
    "img1200_filenames = tf.constant(image1200)\n",
    "img1330_filenames = tf.constant(image1330)\n",
    "\n",
    "masks_filenames = tf.constant(mask_list)\n",
    "print(img1100_filenames.shape)\n",
    "print(masks_filenames.shape)\n",
    "dataset = tf.data.Dataset.from_tensor_slices((img0065_filenames, img0380_filenames, img0680_filenames, img0850_filenames, img1100_filenames, img1200_filenames, img1330_filenames, masks_filenames, dim))\n",
    "#print(dataset)"
   ]
  },
  {
   "cell_type": "code",
   "execution_count": 4,
   "id": "4c91ac33-4329-4868-a728-f8fbd8c41682",
   "metadata": {},
   "outputs": [
    {
     "name": "stdout",
     "output_type": "stream",
     "text": [
      "<MapDataset shapes: ((4096, 4096, 6), (4096, 4096, 1)), types: (tf.float16, tf.int8)>\n"
     ]
    }
   ],
   "source": [
    "def process_path(img0065_path, img0380_path, img0680_path, img0850_path, img1100_path, img1200_path, img1330_path, mask_path,dim):\n",
    "# convert binary files to matrix of integers\n",
    "    if NCHANNELS >=3:\n",
    "        img5 = extract_img(str(img1100_path.numpy().decode('ascii')),int(dim[0].numpy()),int(dim[1].numpy()))\n",
    "        img6 = extract_img(str(img1200_path.numpy().decode('ascii')),int(dim[0].numpy()),int(dim[1].numpy()))\n",
    "        img = np.concatenate((img5, img6), axis=2)\n",
    "    if NCHANNELS >=7:\n",
    "        img2 = extract_img(str(img0380_path.numpy().decode('ascii')),int(dim[0].numpy()),int(dim[1].numpy()))\n",
    "        img3 = extract_img(str(img0680_path.numpy().decode('ascii')),int(dim[0].numpy()),int(dim[1].numpy()))\n",
    "        img4 = extract_img(str(img0850_path.numpy().decode('ascii')),int(dim[0].numpy()),int(dim[1].numpy()))\n",
    "        img7 = extract_img(str(img1330_path.numpy().decode('ascii')),int(dim[0].numpy()),int(dim[1].numpy()))\n",
    "        img = np.concatenate((img2, img3, img4, img7, img), axis=2)\n",
    "    if NCHANNELS ==8:\n",
    "        img1 = extract_img(str(img0065_path.numpy().decode('ascii')),int(dim[0].numpy()),int(dim[1].numpy()))\n",
    "        img = np.concatenate((img1, img), axis=2)\n",
    "\n",
    "\n",
    "\n",
    "    #img = np.concatenate((img1, img2, img3, img4, img7, img5, img6), axis=2)\n",
    "    \n",
    "    \n",
    "    if NEWMASK:\n",
    "        with open(str(mask_path.numpy().decode('ascii')), 'rb') as f:\n",
    "            mask = np.zeros((4096,4096,1), dtype = int)\n",
    "            x = np.load(f)\n",
    "            mask[0:x.shape[0], 0:x.shape[1], 0] += x\n",
    "    else:\n",
    "        mask = extract_mask(str(mask_path.numpy().decode('ascii')),int(dim[0].numpy()),int(dim[1].numpy()))\n",
    "        \n",
    "    return tf.convert_to_tensor(img,dtype=tf.float16), tf.convert_to_tensor(mask,dtype=tf.int8)\n",
    "\n",
    "def _set_shapes(img, mask):\n",
    "    img.set_shape([4096, 4096, NCHANNELS-1])\n",
    "    mask.set_shape([4096, 4096, 1])\n",
    "\n",
    "    return img, mask \n",
    "\n",
    "#print(dataset)\n",
    "image_ds = dataset.map(lambda aa, bb, cc, dd, ee, ff, gg, hh, ii: tf.py_function(process_path, [aa, bb, cc, dd, ee, ff, gg, hh, ii], [tf.float16, tf.int8]))\n",
    "image_ds = image_ds.map(_set_shapes)\n",
    "print(image_ds)\n",
    "\n"
   ]
  },
  {
   "cell_type": "code",
   "execution_count": 5,
   "id": "c4073e92-44b2-451c-ab1a-3173fb9b4c7b",
   "metadata": {},
   "outputs": [],
   "source": [
    "def display(display_list):\n",
    "    plt.figure(figsize=(15, 15))\n",
    "\n",
    "    title = ['Input Image', 'True Mask', 'Predicted Mask']\n",
    "\n",
    "    for i in range(len(display_list)):\n",
    "        plt.subplot(1, len(display_list), i+1)\n",
    "        plt.title(title[i])\n",
    "        print(i)\n",
    "        print(display_list[i].shape)\n",
    "        if i == 0:\n",
    "            plt.imshow(np.float32(display_list[i][:,:,-3]-display_list[i][:,:,-2]), cmap = 'gray')\n",
    "        else:\n",
    "            plt.imshow(np.float32(1*display_list[i][:,:,0]), cmap = 'gray') \n",
    "        plt.axis('off')\n",
    "    plt.show()"
   ]
  },
  {
   "cell_type": "raw",
   "id": "873e94f3-e707-4206-9944-f947ea7e4f10",
   "metadata": {},
   "source": [
    "for image, mask in image_ds.take(20):\n",
    "    sample_image, sample_mask = image, mask\n",
    "    #print(mask.shape)\n",
    "    display([sample_image, sample_mask])\n",
    "print('mem usage: ', tf.config.experimental.get_memory_usage(\"GPU:0\"))"
   ]
  },
  {
   "cell_type": "code",
   "execution_count": 6,
   "id": "eb5a0955-6d0d-4d04-9121-699b51606b3c",
   "metadata": {},
   "outputs": [
    {
     "name": "stdout",
     "output_type": "stream",
     "text": [
      "(4096, 4096, 6)\n",
      "(4096, 4096, 1)\n"
     ]
    }
   ],
   "source": [
    "for image, mask in image_ds.take(5):\n",
    "    sample_image, sample_mask = image, mask\n",
    "print(sample_image.shape)\n",
    "print(sample_mask.shape)\n"
   ]
  },
  {
   "cell_type": "code",
   "execution_count": 7,
   "id": "3fd1a6d0-4c97-4d47-ace8-0ba0acb10ede",
   "metadata": {},
   "outputs": [],
   "source": [
    "def rotate_img(image, angle):\n",
    "    rotated_image =  rotate(np.float32(image), angle=angle, reshape=True, order=0)\n",
    "    #zoom into minimum bounding rectangle\n",
    "    if np.max(rotated_image)>0:\n",
    "        y_min, y_max, x_min, x_max = [np.min(np.nonzero(rotated_image)[0][:]), np.max(np.nonzero(rotated_image)[0][:]), np.min(np.nonzero(rotated_image)[1][:]), np.max(np.nonzero(rotated_image)[1][:])]\n",
    "        return rotated_image, y_min, y_max, x_min, x_max\n",
    "    return rotated_image, np.nan, np.nan, np.nan, np.nan"
   ]
  },
  {
   "cell_type": "code",
   "execution_count": 8,
   "id": "928579dd-2c7c-47a9-ad55-ac028566eb35",
   "metadata": {},
   "outputs": [],
   "source": [
    "#used to find range of values for each channel\n",
    "def Rng_Extremes(x, rng):\n",
    "    mx = np.max(np.max(x))\n",
    "    x[x==0]=99999\n",
    "    mn = np.min(np.min(x))\n",
    "    x[x==99999]=0\n",
    "    if rng == []:\n",
    "        return [mn, mx]\n",
    "    if mn<rng[0]: \n",
    "        mn = mn\n",
    "    else:\n",
    "        mn = rng[0]\n",
    "    if mx>rng[1]: \n",
    "        mx = mx\n",
    "    else:\n",
    "        mx = rng[1]\n",
    "    return [mn, mx]\n",
    "        \n",
    "c1rng =[]\n",
    "c2rng =[]\n",
    "c3rng =[]\n",
    "c4rng =[]\n",
    "c5rng =[]\n",
    "c6rng =[]\n",
    "c7rng =[]"
   ]
  },
  {
   "cell_type": "raw",
   "id": "bbd131a1-0e1c-4d25-8850-ade2eb479529",
   "metadata": {},
   "source": [
    "from tensorflow.keras import layers\n",
    "\n",
    "\n",
    "data_augmentation = tf.keras.Sequential([\n",
    "  layers.experimental.preprocessing.RandomFlip(\"horizontal_and_vertical\"),\n",
    "  tf.image.rot90(\n",
    "  #layers.experimental.preprocessing.RandomRotation(0.5, interpolation = \"nearest\"), \n",
    "  #layers.experimental.preprocessing.RandomContrast(0.5),\n",
    "])\n",
    "\n",
    "def augment_case(original_mask, img_test, multiplier):\n",
    "    mask = np.expand_dims(original_mask, axis=3)\n",
    "    case= np.concatenate((img_test, mask), axis=3)\n",
    "\n",
    "\n",
    "    for i in range(multiplier):\n",
    "        aug_img = data_augmentation(case)\n",
    "        mask = np.int8(np.rint(aug_img[:,:,:,-1]))\n",
    "        img_test = np.float16(aug_img[:,:,:,:-1])\n",
    "        mask[mask>0.5]=1\n",
    "        mask[mask<=0.5]=0\n",
    "        #make duplicates\n",
    "        write_images_to_tfr_long(img_test, mask, filename=filename+str(i), max_files=1, out_dir=save_TFrecord_path)\n",
    "    if sum(sum(mask)) > 50:\n",
    "        write_images_to_tfr_long(img_test, mask, filename=filename+str(i+2*multiplier), max_files=1, out_dir=save_TFrecord_path)\n",
    "    if sum(sum(mask)) > 100:\n",
    "        write_images_to_tfr_long(img_test, mask, filename=filename+str(i+3*multiplier), max_files=1, out_dir=save_TFrecord_path)\n",
    "    return"
   ]
  },
  {
   "cell_type": "code",
   "execution_count": 9,
   "id": "c6cfc562-396d-4799-b6f4-7be5ed252f59",
   "metadata": {},
   "outputs": [],
   "source": [
    "def blockshaped(arr, nrows, ncols):\n",
    "    \"\"\"\n",
    "    Return an array of shape (n, nrows, ncols) where\n",
    "    n * nrows * ncols = arr.size\n",
    "\n",
    "    If arr is a 2D array, the returned array should look like n subblocks with\n",
    "    each subblock preserving the \"physical\" layout of arr.\n",
    "    \"\"\"\n",
    "    h, w = arr.shape\n",
    "    assert h % nrows == 0, f\"{h} rows is not evenly divisible by {nrows}\"\n",
    "    assert w % ncols == 0, f\"{w} cols is not evenly divisible by {ncols}\"\n",
    "    return (arr.reshape(h//nrows, nrows, -1, ncols)\n",
    "               .swapaxes(1,2)\n",
    "               .reshape(-1, nrows, ncols))\n",
    "def unblockshaped(arr, h, w):\n",
    "    \"\"\"\n",
    "    Return an array of shape (h, w) where\n",
    "    h * w = arr.size\n",
    "\n",
    "    If arr is of shape (n, nrows, ncols), n sublocks of shape (nrows, ncols),\n",
    "    then the returned array preserves the \"physical\" layout of the sublocks.\n",
    "    \"\"\"\n",
    "    n, nrows, ncols = arr.shape\n",
    "    return (arr.reshape(h//nrows, -1, nrows, ncols)\n",
    "               .swapaxes(1,2)\n",
    "               .reshape(h, w))"
   ]
  },
  {
   "cell_type": "code",
   "execution_count": 10,
   "id": "ce536e82-71cc-4b32-92f1-10c709f95c06",
   "metadata": {
    "tags": []
   },
   "outputs": [
    {
     "name": "stdout",
     "output_type": "stream",
     "text": [
      "MOD021KM-A2018091.1700v25\n",
      "MOD021KM-A2018091.0515v25\n",
      "MOD021KM-A2018091.1520v25\n",
      "number of mask slices = 342\n",
      "number of img slices = 342\n",
      "4648\n",
      "number of mask slices = 684\n",
      "number of img slices = 684\n",
      "number of mask slices = 1026\n",
      "number of img slices = 1026\n",
      "number of mask slices = 1368\n",
      "number of img slices = 1368\n",
      "number of mask slices = 1710\n",
      "number of img slices = 1710\n",
      "number of mask slices = 2052\n",
      "number of img slices = 2052\n",
      "number of mask slices = 2394\n",
      "number of img slices = 2394\n",
      "number of mask slices = 2736\n",
      "number of img slices = 2736\n",
      "\n",
      "Using 86 shard(s) for 2736 files, with up to 32 samples per shard\n"
     ]
    },
    {
     "name": "stderr",
     "output_type": "stream",
     "text": [
      "100%|██████████| 86/86 [00:00<00:00, 98.14it/s] \n"
     ]
    },
    {
     "name": "stdout",
     "output_type": "stream",
     "text": [
      "\n",
      "Wrote 2736 elements to TFRecord\n",
      "MOD021KM-A2018091.1000v25\n",
      "number of mask slices = 108\n",
      "number of img slices = 108\n",
      "1953\n",
      "number of mask slices = 216\n",
      "number of img slices = 216\n",
      "number of mask slices = 324\n",
      "number of img slices = 324\n",
      "number of mask slices = 432\n",
      "number of img slices = 432\n",
      "number of mask slices = 540\n",
      "number of img slices = 540\n",
      "number of mask slices = 648\n",
      "number of img slices = 648\n",
      "number of mask slices = 756\n",
      "number of img slices = 756\n",
      "number of mask slices = 864\n",
      "number of img slices = 864\n",
      "\n",
      "Using 27 shard(s) for 864 files, with up to 32 samples per shard\n"
     ]
    },
    {
     "name": "stderr",
     "output_type": "stream",
     "text": [
      "100%|██████████| 27/27 [00:00<00:00, 93.80it/s]\n"
     ]
    },
    {
     "name": "stdout",
     "output_type": "stream",
     "text": [
      "\n",
      "Wrote 864 elements to TFRecord\n",
      "MOD021KM-A2018091.0150v25\n",
      "number of mask slices = 48\n",
      "number of img slices = 48\n",
      "300\n",
      "number of mask slices = 96\n",
      "number of img slices = 96\n",
      "number of mask slices = 144\n",
      "number of img slices = 144\n",
      "number of mask slices = 192\n",
      "number of img slices = 192\n",
      "number of mask slices = 240\n",
      "number of img slices = 240\n",
      "number of mask slices = 288\n",
      "number of img slices = 288\n",
      "number of mask slices = 336\n",
      "number of img slices = 336\n",
      "number of mask slices = 384\n",
      "number of img slices = 384\n",
      "\n",
      "Using 12 shard(s) for 384 files, with up to 32 samples per shard\n"
     ]
    },
    {
     "name": "stderr",
     "output_type": "stream",
     "text": [
      "100%|██████████| 12/12 [00:00<00:00, 85.40it/s]\n"
     ]
    },
    {
     "name": "stdout",
     "output_type": "stream",
     "text": [
      "\n",
      "Wrote 384 elements to TFRecord\n",
      "MOD021KM-A2018091.0850v25\n",
      "number of mask slices = 150\n",
      "number of img slices = 150\n",
      "2995\n",
      "number of mask slices = 300\n",
      "number of img slices = 300\n",
      "number of mask slices = 450\n",
      "number of img slices = 450\n",
      "number of mask slices = 600\n",
      "number of img slices = 600\n",
      "number of mask slices = 750\n",
      "number of img slices = 750\n",
      "number of mask slices = 900\n",
      "number of img slices = 900\n",
      "number of mask slices = 1050\n",
      "number of img slices = 1050\n",
      "number of mask slices = 1200\n",
      "number of img slices = 1200\n",
      "\n",
      "Using 38 shard(s) for 1200 files, with up to 32 samples per shard\n"
     ]
    },
    {
     "name": "stderr",
     "output_type": "stream",
     "text": [
      "100%|██████████| 38/38 [00:00<00:00, 93.06it/s]\n"
     ]
    },
    {
     "name": "stdout",
     "output_type": "stream",
     "text": [
      "\n",
      "Wrote 1200 elements to TFRecord\n",
      "MOD021KM-A2018091.1710v25\n",
      "number of mask slices = 162\n",
      "number of img slices = 162\n",
      "3709\n",
      "number of mask slices = 324\n",
      "number of img slices = 324\n",
      "number of mask slices = 486\n",
      "number of img slices = 486\n",
      "number of mask slices = 648\n",
      "number of img slices = 648\n",
      "number of mask slices = 810\n",
      "number of img slices = 810\n",
      "number of mask slices = 972\n",
      "number of img slices = 972\n",
      "number of mask slices = 1134\n",
      "number of img slices = 1134\n",
      "number of mask slices = 1296\n",
      "number of img slices = 1296\n",
      "\n",
      "Using 41 shard(s) for 1296 files, with up to 32 samples per shard\n"
     ]
    },
    {
     "name": "stderr",
     "output_type": "stream",
     "text": [
      "100%|██████████| 41/41 [00:00<00:00, 89.90it/s]\n"
     ]
    },
    {
     "name": "stdout",
     "output_type": "stream",
     "text": [
      "\n",
      "Wrote 1296 elements to TFRecord\n",
      "MOD021KM-A2018091.1515v25\n",
      "number of mask slices = 30\n",
      "number of img slices = 30\n",
      "304\n",
      "number of mask slices = 60\n",
      "number of img slices = 60\n",
      "number of mask slices = 90\n",
      "number of img slices = 90\n",
      "number of mask slices = 120\n",
      "number of img slices = 120\n",
      "number of mask slices = 150\n",
      "number of img slices = 150\n",
      "number of mask slices = 180\n",
      "number of img slices = 180\n",
      "number of mask slices = 210\n",
      "number of img slices = 210\n",
      "number of mask slices = 240\n",
      "number of img slices = 240\n",
      "\n",
      "Using 8 shard(s) for 240 files, with up to 32 samples per shard\n"
     ]
    },
    {
     "name": "stderr",
     "output_type": "stream",
     "text": [
      "100%|██████████| 8/8 [00:00<00:00, 76.97it/s]"
     ]
    },
    {
     "name": "stdout",
     "output_type": "stream",
     "text": [
      "\n",
      "Wrote 240 elements to TFRecord\n"
     ]
    },
    {
     "name": "stderr",
     "output_type": "stream",
     "text": [
      "\n"
     ]
    },
    {
     "name": "stdout",
     "output_type": "stream",
     "text": [
      "MOD021KM-A2018091.0900v25\n",
      "MOD021KM-A2018091.0355v25\n",
      "number of mask slices = 60\n",
      "number of img slices = 60\n",
      "888\n",
      "number of mask slices = 120\n",
      "number of img slices = 120\n",
      "number of mask slices = 180\n",
      "number of img slices = 180\n",
      "number of mask slices = 240\n",
      "number of img slices = 240\n",
      "number of mask slices = 300\n",
      "number of img slices = 300\n",
      "number of mask slices = 360\n",
      "number of img slices = 360\n",
      "number of mask slices = 420\n",
      "number of img slices = 420\n",
      "number of mask slices = 480\n",
      "number of img slices = 480\n",
      "\n",
      "Using 15 shard(s) for 480 files, with up to 32 samples per shard\n"
     ]
    },
    {
     "name": "stderr",
     "output_type": "stream",
     "text": [
      "100%|██████████| 15/15 [00:00<00:00, 97.14it/s]\n"
     ]
    },
    {
     "name": "stdout",
     "output_type": "stream",
     "text": [
      "\n",
      "Wrote 480 elements to TFRecord\n",
      "MOD021KM-A2018091.0630v25\n",
      "MOD021KM-A2018091.1625v25\n",
      "MOD021KM-A2018091.0855v25\n",
      "number of mask slices = 12\n",
      "number of img slices = 12\n",
      "170\n",
      "number of mask slices = 24\n",
      "number of img slices = 24\n",
      "number of mask slices = 36\n",
      "number of img slices = 36\n",
      "number of mask slices = 48\n",
      "number of img slices = 48\n",
      "number of mask slices = 60\n",
      "number of img slices = 60\n",
      "number of mask slices = 72\n",
      "number of img slices = 72\n",
      "number of mask slices = 84\n",
      "number of img slices = 84\n",
      "number of mask slices = 96\n",
      "number of img slices = 96\n",
      "\n",
      "Using 3 shard(s) for 96 files, with up to 32 samples per shard\n"
     ]
    },
    {
     "name": "stderr",
     "output_type": "stream",
     "text": [
      "100%|██████████| 3/3 [00:00<00:00, 60.58it/s]"
     ]
    },
    {
     "name": "stdout",
     "output_type": "stream",
     "text": [
      "\n",
      "Wrote 96 elements to TFRecord\n"
     ]
    },
    {
     "name": "stderr",
     "output_type": "stream",
     "text": [
      "\n"
     ]
    },
    {
     "name": "stdout",
     "output_type": "stream",
     "text": [
      "MOD021KM-A2018091.1630v25\n",
      "MOD021KM-A2018091.0530v25\n",
      "MOD021KM-A2018091.1315v25\n",
      "number of mask slices = 234\n",
      "number of img slices = 234\n",
      "5005\n",
      "number of mask slices = 468\n",
      "number of img slices = 468\n",
      "number of mask slices = 702\n",
      "number of img slices = 702\n",
      "number of mask slices = 936\n",
      "number of img slices = 936\n",
      "number of mask slices = 1170\n",
      "number of img slices = 1170\n",
      "number of mask slices = 1404\n",
      "number of img slices = 1404\n",
      "number of mask slices = 1638\n",
      "number of img slices = 1638\n",
      "number of mask slices = 1872\n",
      "number of img slices = 1872\n",
      "\n",
      "Using 59 shard(s) for 1872 files, with up to 32 samples per shard\n"
     ]
    },
    {
     "name": "stderr",
     "output_type": "stream",
     "text": [
      "100%|██████████| 59/59 [00:00<00:00, 88.02it/s]\n"
     ]
    },
    {
     "name": "stdout",
     "output_type": "stream",
     "text": [
      "\n",
      "Wrote 1872 elements to TFRecord\n",
      "MOD021KM-A2018091.1310v25\n",
      "number of mask slices = 48\n",
      "number of img slices = 48\n",
      "1421\n",
      "number of mask slices = 96\n",
      "number of img slices = 96\n",
      "number of mask slices = 144\n",
      "number of img slices = 144\n",
      "number of mask slices = 192\n",
      "number of img slices = 192\n",
      "number of mask slices = 240\n",
      "number of img slices = 240\n",
      "number of mask slices = 288\n",
      "number of img slices = 288\n",
      "number of mask slices = 336\n",
      "number of img slices = 336\n",
      "number of mask slices = 384\n",
      "number of img slices = 384\n",
      "\n",
      "Using 12 shard(s) for 384 files, with up to 32 samples per shard\n"
     ]
    },
    {
     "name": "stderr",
     "output_type": "stream",
     "text": [
      "100%|██████████| 12/12 [00:00<00:00, 95.87it/s]"
     ]
    },
    {
     "name": "stdout",
     "output_type": "stream",
     "text": [
      "\n",
      "Wrote 384 elements to TFRecord\n"
     ]
    },
    {
     "name": "stderr",
     "output_type": "stream",
     "text": [
      "\n"
     ]
    },
    {
     "name": "stdout",
     "output_type": "stream",
     "text": [
      "MOD021KM-A2018091.0520v25\n",
      "number of mask slices = 18\n",
      "number of img slices = 18\n",
      "84\n",
      "number of mask slices = 36\n",
      "number of img slices = 36\n",
      "number of mask slices = 54\n",
      "number of img slices = 54\n",
      "number of mask slices = 72\n",
      "number of img slices = 72\n",
      "number of mask slices = 90\n",
      "number of img slices = 90\n",
      "number of mask slices = 108\n",
      "number of img slices = 108\n",
      "number of mask slices = 126\n",
      "number of img slices = 126\n",
      "number of mask slices = 144\n",
      "number of img slices = 144\n",
      "\n",
      "Using 5 shard(s) for 144 files, with up to 32 samples per shard\n"
     ]
    },
    {
     "name": "stderr",
     "output_type": "stream",
     "text": [
      "100%|██████████| 5/5 [00:00<00:00, 101.88it/s]"
     ]
    },
    {
     "name": "stdout",
     "output_type": "stream",
     "text": [
      "\n",
      "Wrote 144 elements to TFRecord\n"
     ]
    },
    {
     "name": "stderr",
     "output_type": "stream",
     "text": [
      "\n"
     ]
    },
    {
     "name": "stdout",
     "output_type": "stream",
     "text": [
      "MOD021KM-A2018091.1505v25\n",
      "MOD021KM-A2018091.0505v25\n",
      "number of mask slices = 228\n",
      "number of img slices = 228\n",
      "2853\n",
      "number of mask slices = 456\n",
      "number of img slices = 456\n",
      "number of mask slices = 684\n",
      "number of img slices = 684\n",
      "number of mask slices = 912\n",
      "number of img slices = 912\n",
      "number of mask slices = 1140\n",
      "number of img slices = 1140\n",
      "number of mask slices = 1368\n",
      "number of img slices = 1368\n",
      "number of mask slices = 1596\n",
      "number of img slices = 1596\n",
      "number of mask slices = 1824\n",
      "number of img slices = 1824\n",
      "\n",
      "Using 57 shard(s) for 1824 files, with up to 32 samples per shard\n"
     ]
    },
    {
     "name": "stderr",
     "output_type": "stream",
     "text": [
      "100%|██████████| 57/57 [00:00<00:00, 91.84it/s]\n"
     ]
    },
    {
     "name": "stdout",
     "output_type": "stream",
     "text": [
      "\n",
      "Wrote 1824 elements to TFRecord\n",
      "MOD021KM-A2018091.0720v25\n",
      "MOD021KM-A2018091.0340v25\n",
      "MOD021KM-A2018091.1020v25\n",
      "number of mask slices = 114\n",
      "number of img slices = 114\n",
      "2996\n",
      "number of mask slices = 228\n",
      "number of img slices = 228\n",
      "number of mask slices = 342\n",
      "number of img slices = 342\n",
      "number of mask slices = 456\n",
      "number of img slices = 456\n",
      "number of mask slices = 570\n",
      "number of img slices = 570\n",
      "number of mask slices = 684\n",
      "number of img slices = 684\n",
      "number of mask slices = 798\n",
      "number of img slices = 798\n",
      "number of mask slices = 912\n",
      "number of img slices = 912\n",
      "\n",
      "Using 29 shard(s) for 912 files, with up to 32 samples per shard\n"
     ]
    },
    {
     "name": "stderr",
     "output_type": "stream",
     "text": [
      "100%|██████████| 29/29 [00:00<00:00, 93.80it/s]\n"
     ]
    },
    {
     "name": "stdout",
     "output_type": "stream",
     "text": [
      "\n",
      "Wrote 912 elements to TFRecord\n",
      "MOD021KM-A2018091.0155v25\n",
      "number of mask slices = 36\n",
      "number of img slices = 36\n",
      "632\n",
      "number of mask slices = 72\n",
      "number of img slices = 72\n",
      "number of mask slices = 108\n",
      "number of img slices = 108\n",
      "number of mask slices = 144\n",
      "number of img slices = 144\n",
      "number of mask slices = 180\n",
      "number of img slices = 180\n",
      "number of mask slices = 216\n",
      "number of img slices = 216\n",
      "number of mask slices = 252\n",
      "number of img slices = 252\n",
      "number of mask slices = 288\n",
      "number of img slices = 288\n",
      "\n",
      "Using 9 shard(s) for 288 files, with up to 32 samples per shard\n"
     ]
    },
    {
     "name": "stderr",
     "output_type": "stream",
     "text": [
      "100%|██████████| 9/9 [00:00<00:00, 95.27it/s]"
     ]
    },
    {
     "name": "stdout",
     "output_type": "stream",
     "text": [
      "\n",
      "Wrote 288 elements to TFRecord\n"
     ]
    },
    {
     "name": "stderr",
     "output_type": "stream",
     "text": [
      "\n"
     ]
    },
    {
     "name": "stdout",
     "output_type": "stream",
     "text": [
      "MOD021KM-A2018091.1325v25\n",
      "MOD021KM-A2018091.1150v25\n",
      "MOD021KM-A2018091.0330v25\n",
      "MOD021KM-A2018091.0135v25\n",
      "MOD021KM-A2018091.1200v25\n",
      "number of mask slices = 192\n",
      "number of img slices = 192\n",
      "7882\n",
      "number of mask slices = 384\n",
      "number of img slices = 384\n",
      "number of mask slices = 576\n",
      "number of img slices = 576\n",
      "number of mask slices = 768\n",
      "number of img slices = 768\n",
      "number of mask slices = 960\n",
      "number of img slices = 960\n",
      "number of mask slices = 1152\n",
      "number of img slices = 1152\n",
      "number of mask slices = 1344\n",
      "number of img slices = 1344\n",
      "number of mask slices = 1536\n",
      "number of img slices = 1536\n",
      "\n",
      "Using 48 shard(s) for 1536 files, with up to 32 samples per shard\n"
     ]
    },
    {
     "name": "stderr",
     "output_type": "stream",
     "text": [
      "100%|██████████| 48/48 [00:00<00:00, 98.25it/s] \n"
     ]
    },
    {
     "name": "stdout",
     "output_type": "stream",
     "text": [
      "\n",
      "Wrote 1536 elements to TFRecord\n",
      "MOD021KM-A2018091.1805v25\n",
      "MOD021KM-A2018091.1145v25\n",
      "number of mask slices = 30\n",
      "number of img slices = 30\n",
      "234\n",
      "number of mask slices = 60\n",
      "number of img slices = 60\n",
      "number of mask slices = 90\n",
      "number of img slices = 90\n",
      "number of mask slices = 120\n",
      "number of img slices = 120\n",
      "number of mask slices = 150\n",
      "number of img slices = 150\n",
      "number of mask slices = 180\n",
      "number of img slices = 180\n",
      "number of mask slices = 210\n",
      "number of img slices = 210\n",
      "number of mask slices = 240\n",
      "number of img slices = 240\n",
      "\n",
      "Using 8 shard(s) for 240 files, with up to 32 samples per shard\n"
     ]
    },
    {
     "name": "stderr",
     "output_type": "stream",
     "text": [
      "100%|██████████| 8/8 [00:00<00:00, 104.27it/s]"
     ]
    },
    {
     "name": "stdout",
     "output_type": "stream",
     "text": [
      "\n",
      "Wrote 240 elements to TFRecord\n"
     ]
    },
    {
     "name": "stderr",
     "output_type": "stream",
     "text": [
      "\n"
     ]
    },
    {
     "name": "stdout",
     "output_type": "stream",
     "text": [
      "MOD021KM-A2018091.1640v25\n",
      "number of mask slices = 60\n",
      "number of img slices = 60\n",
      "525\n",
      "number of mask slices = 120\n",
      "number of img slices = 120\n",
      "number of mask slices = 180\n",
      "number of img slices = 180\n",
      "number of mask slices = 240\n",
      "number of img slices = 240\n",
      "number of mask slices = 300\n",
      "number of img slices = 300\n",
      "number of mask slices = 360\n",
      "number of img slices = 360\n",
      "number of mask slices = 420\n",
      "number of img slices = 420\n",
      "number of mask slices = 480\n",
      "number of img slices = 480\n",
      "\n",
      "Using 15 shard(s) for 480 files, with up to 32 samples per shard\n"
     ]
    },
    {
     "name": "stderr",
     "output_type": "stream",
     "text": [
      "100%|██████████| 15/15 [00:00<00:00, 93.41it/s]\n"
     ]
    },
    {
     "name": "stdout",
     "output_type": "stream",
     "text": [
      "\n",
      "Wrote 480 elements to TFRecord\n",
      "MOD021KM-A2018091.0015v25\n",
      "number of mask slices = 96\n",
      "number of img slices = 96\n",
      "1327\n",
      "number of mask slices = 192\n",
      "number of img slices = 192\n",
      "number of mask slices = 288\n",
      "number of img slices = 288\n",
      "number of mask slices = 384\n",
      "number of img slices = 384\n",
      "number of mask slices = 480\n",
      "number of img slices = 480\n",
      "number of mask slices = 576\n",
      "number of img slices = 576\n",
      "number of mask slices = 672\n",
      "number of img slices = 672\n",
      "number of mask slices = 768\n",
      "number of img slices = 768\n",
      "\n",
      "Using 24 shard(s) for 768 files, with up to 32 samples per shard\n"
     ]
    },
    {
     "name": "stderr",
     "output_type": "stream",
     "text": [
      "100%|██████████| 24/24 [00:00<00:00, 90.74it/s]\n"
     ]
    },
    {
     "name": "stdout",
     "output_type": "stream",
     "text": [
      "\n",
      "Wrote 768 elements to TFRecord\n",
      "MOD021KM-A2018091.1355v25\n",
      "MOD021KM-A2018091.0040v25\n",
      "number of mask slices = 42\n",
      "number of img slices = 42\n",
      "921\n",
      "number of mask slices = 84\n",
      "number of img slices = 84\n",
      "number of mask slices = 126\n",
      "number of img slices = 126\n",
      "number of mask slices = 168\n",
      "number of img slices = 168\n",
      "number of mask slices = 210\n",
      "number of img slices = 210\n",
      "number of mask slices = 252\n",
      "number of img slices = 252\n",
      "number of mask slices = 294\n",
      "number of img slices = 294\n",
      "number of mask slices = 336\n",
      "number of img slices = 336\n",
      "\n",
      "Using 11 shard(s) for 336 files, with up to 32 samples per shard\n"
     ]
    },
    {
     "name": "stderr",
     "output_type": "stream",
     "text": [
      "100%|██████████| 11/11 [00:00<00:00, 98.85it/s]"
     ]
    },
    {
     "name": "stdout",
     "output_type": "stream",
     "text": [
      "\n",
      "Wrote 336 elements to TFRecord\n"
     ]
    },
    {
     "name": "stderr",
     "output_type": "stream",
     "text": [
      "\n"
     ]
    },
    {
     "name": "stdout",
     "output_type": "stream",
     "text": [
      "MOD021KM-A2018091.0335v25\n",
      "number of mask slices = 6\n",
      "number of img slices = 6\n",
      "11\n",
      "number of mask slices = 12\n",
      "number of img slices = 12\n",
      "number of mask slices = 18\n",
      "number of img slices = 18\n",
      "number of mask slices = 24\n",
      "number of img slices = 24\n",
      "number of mask slices = 30\n",
      "number of img slices = 30\n",
      "number of mask slices = 36\n",
      "number of img slices = 36\n",
      "number of mask slices = 42\n",
      "number of img slices = 42\n",
      "number of mask slices = 48\n",
      "number of img slices = 48\n",
      "\n",
      "Using 2 shard(s) for 48 files, with up to 32 samples per shard\n"
     ]
    },
    {
     "name": "stderr",
     "output_type": "stream",
     "text": [
      "100%|██████████| 2/2 [00:00<00:00, 116.27it/s]"
     ]
    },
    {
     "name": "stdout",
     "output_type": "stream",
     "text": [
      "\n",
      "Wrote 48 elements to TFRecord\n"
     ]
    },
    {
     "name": "stderr",
     "output_type": "stream",
     "text": [
      "\n"
     ]
    },
    {
     "name": "stdout",
     "output_type": "stream",
     "text": [
      "MOD021KM-A2018091.0225v25\n",
      "number of mask slices = 24\n",
      "number of img slices = 24\n",
      "76\n",
      "number of mask slices = 48\n",
      "number of img slices = 48\n",
      "number of mask slices = 72\n",
      "number of img slices = 72\n",
      "number of mask slices = 96\n",
      "number of img slices = 96\n",
      "number of mask slices = 120\n",
      "number of img slices = 120\n",
      "number of mask slices = 144\n",
      "number of img slices = 144\n",
      "number of mask slices = 168\n",
      "number of img slices = 168\n",
      "number of mask slices = 192\n",
      "number of img slices = 192\n",
      "\n",
      "Using 6 shard(s) for 192 files, with up to 32 samples per shard\n"
     ]
    },
    {
     "name": "stderr",
     "output_type": "stream",
     "text": [
      "100%|██████████| 6/6 [00:00<00:00, 99.17it/s]"
     ]
    },
    {
     "name": "stdout",
     "output_type": "stream",
     "text": [
      "\n",
      "Wrote 192 elements to TFRecord\n"
     ]
    },
    {
     "name": "stderr",
     "output_type": "stream",
     "text": [
      "\n"
     ]
    },
    {
     "name": "stdout",
     "output_type": "stream",
     "text": [
      "MOD021KM-A2018091.0655v25\n",
      "MOD021KM-A2018091.1135v25\n",
      "number of mask slices = 6\n",
      "number of img slices = 6\n",
      "11\n",
      "number of mask slices = 12\n",
      "number of img slices = 12\n",
      "number of mask slices = 18\n",
      "number of img slices = 18\n",
      "number of mask slices = 24\n",
      "number of img slices = 24\n",
      "number of mask slices = 30\n",
      "number of img slices = 30\n",
      "number of mask slices = 36\n",
      "number of img slices = 36\n",
      "number of mask slices = 42\n",
      "number of img slices = 42\n",
      "number of mask slices = 48\n",
      "number of img slices = 48\n",
      "\n",
      "Using 2 shard(s) for 48 files, with up to 32 samples per shard\n"
     ]
    },
    {
     "name": "stderr",
     "output_type": "stream",
     "text": [
      "100%|██████████| 2/2 [00:00<00:00, 100.57it/s]"
     ]
    },
    {
     "name": "stdout",
     "output_type": "stream",
     "text": [
      "\n",
      "Wrote 48 elements to TFRecord\n"
     ]
    },
    {
     "name": "stderr",
     "output_type": "stream",
     "text": [
      "\n"
     ]
    },
    {
     "name": "stdout",
     "output_type": "stream",
     "text": [
      "MOD021KM-A2018091.0035v25\n",
      "number of mask slices = 30\n",
      "number of img slices = 30\n",
      "165\n",
      "number of mask slices = 60\n",
      "number of img slices = 60\n",
      "number of mask slices = 90\n",
      "number of img slices = 90\n",
      "number of mask slices = 120\n",
      "number of img slices = 120\n",
      "number of mask slices = 150\n",
      "number of img slices = 150\n",
      "number of mask slices = 180\n",
      "number of img slices = 180\n",
      "number of mask slices = 210\n",
      "number of img slices = 210\n",
      "number of mask slices = 240\n",
      "number of img slices = 240\n",
      "\n",
      "Using 8 shard(s) for 240 files, with up to 32 samples per shard\n"
     ]
    },
    {
     "name": "stderr",
     "output_type": "stream",
     "text": [
      "100%|██████████| 8/8 [00:00<00:00, 99.38it/s]"
     ]
    },
    {
     "name": "stdout",
     "output_type": "stream",
     "text": [
      "\n",
      "Wrote 240 elements to TFRecord\n"
     ]
    },
    {
     "name": "stderr",
     "output_type": "stream",
     "text": [
      "\n"
     ]
    },
    {
     "name": "stdout",
     "output_type": "stream",
     "text": [
      "MOD021KM-A2018091.0525v25\n",
      "MOD021KM-A2018091.0650v25\n",
      "MOD021KM-A2018091.1705v25\n",
      "number of mask slices = 1740\n",
      "number of img slices = 1740\n",
      "41671\n",
      "number of mask slices = 3480\n",
      "number of img slices = 3480\n",
      "number of mask slices = 5220\n",
      "number of img slices = 5220\n",
      "number of mask slices = 6960\n",
      "number of img slices = 6960\n",
      "number of mask slices = 8700\n",
      "number of img slices = 8700\n",
      "number of mask slices = 10440\n",
      "number of img slices = 10440\n",
      "number of mask slices = 12180\n",
      "number of img slices = 12180\n",
      "number of mask slices = 13920\n",
      "number of img slices = 13920\n",
      "\n",
      "Using 435 shard(s) for 13920 files, with up to 32 samples per shard\n"
     ]
    },
    {
     "name": "stderr",
     "output_type": "stream",
     "text": [
      "100%|██████████| 435/435 [00:04<00:00, 89.12it/s]\n"
     ]
    },
    {
     "name": "stdout",
     "output_type": "stream",
     "text": [
      "\n",
      "Wrote 13920 elements to TFRecord\n",
      "MOD021KM-A2018091.0320v25\n",
      "MOD021KM-A2018091.1340v25\n",
      "number of mask slices = 540\n",
      "number of img slices = 540\n",
      "7978\n",
      "number of mask slices = 1080\n",
      "number of img slices = 1080\n",
      "number of mask slices = 1620\n",
      "number of img slices = 1620\n",
      "number of mask slices = 2160\n",
      "number of img slices = 2160\n",
      "number of mask slices = 2700\n",
      "number of img slices = 2700\n",
      "number of mask slices = 3240\n",
      "number of img slices = 3240\n",
      "number of mask slices = 3780\n",
      "number of img slices = 3780\n",
      "number of mask slices = 4320\n",
      "number of img slices = 4320\n",
      "\n",
      "Using 135 shard(s) for 4320 files, with up to 32 samples per shard\n"
     ]
    },
    {
     "name": "stderr",
     "output_type": "stream",
     "text": [
      "100%|██████████| 135/135 [00:01<00:00, 88.92it/s]\n"
     ]
    },
    {
     "name": "stdout",
     "output_type": "stream",
     "text": [
      "\n",
      "Wrote 4320 elements to TFRecord\n",
      "MOD021KM-A2018091.0825v25\n",
      "number of mask slices = 132\n",
      "number of img slices = 132\n",
      "1610\n",
      "number of mask slices = 264\n",
      "number of img slices = 264\n",
      "number of mask slices = 396\n",
      "number of img slices = 396\n",
      "number of mask slices = 528\n",
      "number of img slices = 528\n",
      "number of mask slices = 660\n",
      "number of img slices = 660\n",
      "number of mask slices = 792\n",
      "number of img slices = 792\n",
      "number of mask slices = 924\n",
      "number of img slices = 924\n",
      "number of mask slices = 1056\n",
      "number of img slices = 1056\n",
      "\n",
      "Using 33 shard(s) for 1056 files, with up to 32 samples per shard\n"
     ]
    },
    {
     "name": "stderr",
     "output_type": "stream",
     "text": [
      "100%|██████████| 33/33 [00:00<00:00, 90.57it/s]\n"
     ]
    },
    {
     "name": "stdout",
     "output_type": "stream",
     "text": [
      "\n",
      "Wrote 1056 elements to TFRecord\n",
      "MOD021KM-A2018091.1455v25\n",
      "number of mask slices = 258\n",
      "number of img slices = 258\n",
      "3200\n",
      "number of mask slices = 516\n",
      "number of img slices = 516\n",
      "number of mask slices = 774\n",
      "number of img slices = 774\n",
      "number of mask slices = 1032\n",
      "number of img slices = 1032\n",
      "number of mask slices = 1290\n",
      "number of img slices = 1290\n",
      "number of mask slices = 1548\n",
      "number of img slices = 1548\n",
      "number of mask slices = 1806\n",
      "number of img slices = 1806\n",
      "number of mask slices = 2064\n",
      "number of img slices = 2064\n",
      "\n",
      "Using 65 shard(s) for 2064 files, with up to 32 samples per shard\n"
     ]
    },
    {
     "name": "stderr",
     "output_type": "stream",
     "text": [
      "100%|██████████| 65/65 [00:00<00:00, 91.57it/s]\n"
     ]
    },
    {
     "name": "stdout",
     "output_type": "stream",
     "text": [
      "\n",
      "Wrote 2064 elements to TFRecord\n",
      "MOD021KM-A2018091.0045v25\n",
      "number of mask slices = 90\n",
      "number of img slices = 90\n",
      "1271\n",
      "number of mask slices = 180\n",
      "number of img slices = 180\n",
      "number of mask slices = 270\n",
      "number of img slices = 270\n",
      "number of mask slices = 360\n",
      "number of img slices = 360\n",
      "number of mask slices = 450\n",
      "number of img slices = 450\n",
      "number of mask slices = 540\n",
      "number of img slices = 540\n",
      "number of mask slices = 630\n",
      "number of img slices = 630\n",
      "number of mask slices = 720\n",
      "number of img slices = 720\n",
      "\n",
      "Using 23 shard(s) for 720 files, with up to 32 samples per shard\n"
     ]
    },
    {
     "name": "stderr",
     "output_type": "stream",
     "text": [
      "100%|██████████| 23/23 [00:00<00:00, 94.84it/s]\n"
     ]
    },
    {
     "name": "stdout",
     "output_type": "stream",
     "text": [
      "\n",
      "Wrote 720 elements to TFRecord\n",
      "MOD021KM-A2018091.0215v25\n",
      "number of mask slices = 360\n",
      "number of img slices = 360\n",
      "8087\n",
      "number of mask slices = 720\n",
      "number of img slices = 720\n",
      "number of mask slices = 1080\n",
      "number of img slices = 1080\n",
      "number of mask slices = 1440\n",
      "number of img slices = 1440\n",
      "number of mask slices = 1800\n",
      "number of img slices = 1800\n",
      "number of mask slices = 2160\n",
      "number of img slices = 2160\n",
      "number of mask slices = 2520\n",
      "number of img slices = 2520\n",
      "number of mask slices = 2880\n",
      "number of img slices = 2880\n",
      "\n",
      "Using 90 shard(s) for 2880 files, with up to 32 samples per shard\n"
     ]
    },
    {
     "name": "stderr",
     "output_type": "stream",
     "text": [
      "100%|██████████| 90/90 [00:00<00:00, 92.55it/s]\n"
     ]
    },
    {
     "name": "stdout",
     "output_type": "stream",
     "text": [
      "\n",
      "Wrote 2880 elements to TFRecord\n",
      "MOD021KM-A2018091.1220v25\n",
      "number of mask slices = 72\n",
      "number of img slices = 72\n",
      "2561\n",
      "number of mask slices = 144\n",
      "number of img slices = 144\n",
      "number of mask slices = 216\n",
      "number of img slices = 216\n",
      "number of mask slices = 288\n",
      "number of img slices = 288\n",
      "number of mask slices = 360\n",
      "number of img slices = 360\n",
      "number of mask slices = 432\n",
      "number of img slices = 432\n",
      "number of mask slices = 504\n",
      "number of img slices = 504\n",
      "number of mask slices = 576\n",
      "number of img slices = 576\n",
      "\n",
      "Using 18 shard(s) for 576 files, with up to 32 samples per shard\n"
     ]
    },
    {
     "name": "stderr",
     "output_type": "stream",
     "text": [
      "100%|██████████| 18/18 [00:00<00:00, 91.29it/s]\n"
     ]
    },
    {
     "name": "stdout",
     "output_type": "stream",
     "text": [
      "\n",
      "Wrote 576 elements to TFRecord\n",
      "MOD021KM-A2018091.1330v25\n",
      "number of mask slices = 24\n",
      "number of img slices = 24\n",
      "65\n",
      "number of mask slices = 48\n",
      "number of img slices = 48\n",
      "number of mask slices = 72\n",
      "number of img slices = 72\n",
      "number of mask slices = 96\n",
      "number of img slices = 96\n",
      "number of mask slices = 120\n",
      "number of img slices = 120\n",
      "number of mask slices = 144\n",
      "number of img slices = 144\n",
      "number of mask slices = 168\n",
      "number of img slices = 168\n",
      "number of mask slices = 192\n",
      "number of img slices = 192\n",
      "\n",
      "Using 6 shard(s) for 192 files, with up to 32 samples per shard\n"
     ]
    },
    {
     "name": "stderr",
     "output_type": "stream",
     "text": [
      "100%|██████████| 6/6 [00:00<00:00, 95.97it/s]"
     ]
    },
    {
     "name": "stdout",
     "output_type": "stream",
     "text": [
      "\n",
      "Wrote 192 elements to TFRecord\n"
     ]
    },
    {
     "name": "stderr",
     "output_type": "stream",
     "text": [
      "\n"
     ]
    },
    {
     "name": "stdout",
     "output_type": "stream",
     "text": [
      "MOD021KM-A2018091.0640v25\n",
      "number of mask slices = 18\n",
      "number of img slices = 18\n",
      "184\n",
      "number of mask slices = 36\n",
      "number of img slices = 36\n",
      "number of mask slices = 54\n",
      "number of img slices = 54\n",
      "number of mask slices = 72\n",
      "number of img slices = 72\n",
      "number of mask slices = 90\n",
      "number of img slices = 90\n",
      "number of mask slices = 108\n",
      "number of img slices = 108\n",
      "number of mask slices = 126\n",
      "number of img slices = 126\n",
      "number of mask slices = 144\n",
      "number of img slices = 144\n",
      "\n",
      "Using 5 shard(s) for 144 files, with up to 32 samples per shard\n"
     ]
    },
    {
     "name": "stderr",
     "output_type": "stream",
     "text": [
      "100%|██████████| 5/5 [00:00<00:00, 104.23it/s]"
     ]
    },
    {
     "name": "stdout",
     "output_type": "stream",
     "text": [
      "\n",
      "Wrote 144 elements to TFRecord\n"
     ]
    },
    {
     "name": "stderr",
     "output_type": "stream",
     "text": [
      "\n"
     ]
    },
    {
     "name": "stdout",
     "output_type": "stream",
     "text": [
      "MOD021KM-A2018091.0020v25\n",
      "MOD021KM-A2018091.0350v25\n",
      "number of mask slices = 66\n",
      "number of img slices = 66\n",
      "898\n",
      "number of mask slices = 132\n",
      "number of img slices = 132\n",
      "number of mask slices = 198\n",
      "number of img slices = 198\n",
      "number of mask slices = 264\n",
      "number of img slices = 264\n",
      "number of mask slices = 330\n",
      "number of img slices = 330\n",
      "number of mask slices = 396\n",
      "number of img slices = 396\n",
      "number of mask slices = 462\n",
      "number of img slices = 462\n",
      "number of mask slices = 528\n",
      "number of img slices = 528\n",
      "\n",
      "Using 17 shard(s) for 528 files, with up to 32 samples per shard\n"
     ]
    },
    {
     "name": "stderr",
     "output_type": "stream",
     "text": [
      "100%|██████████| 17/17 [00:00<00:00, 95.76it/s]\n"
     ]
    },
    {
     "name": "stdout",
     "output_type": "stream",
     "text": [
      "\n",
      "Wrote 528 elements to TFRecord\n",
      "MOD021KM-A2018091.0345v25\n",
      "MOD021KM-A2018091.1155v25\n",
      "number of mask slices = 12\n",
      "number of img slices = 12\n",
      "24\n",
      "number of mask slices = 24\n",
      "number of img slices = 24\n",
      "number of mask slices = 36\n",
      "number of img slices = 36\n",
      "number of mask slices = 48\n",
      "number of img slices = 48\n",
      "number of mask slices = 60\n",
      "number of img slices = 60\n",
      "number of mask slices = 72\n",
      "number of img slices = 72\n",
      "number of mask slices = 84\n",
      "number of img slices = 84\n",
      "number of mask slices = 96\n",
      "number of img slices = 96\n",
      "\n",
      "Using 3 shard(s) for 96 files, with up to 32 samples per shard\n"
     ]
    },
    {
     "name": "stderr",
     "output_type": "stream",
     "text": [
      "100%|██████████| 3/3 [00:00<00:00, 88.92it/s]"
     ]
    },
    {
     "name": "stdout",
     "output_type": "stream",
     "text": [
      "\n",
      "Wrote 96 elements to TFRecord\n"
     ]
    },
    {
     "name": "stderr",
     "output_type": "stream",
     "text": [
      "\n"
     ]
    },
    {
     "name": "stdout",
     "output_type": "stream",
     "text": [
      "MOD021KM-A2018091.0500v25\n",
      "MOD021KM-A2018091.0535v25\n",
      "MOD021KM-A2018091.1025v25\n",
      "number of mask slices = 744\n",
      "number of img slices = 744\n",
      "19265\n",
      "number of mask slices = 1488\n",
      "number of img slices = 1488\n",
      "number of mask slices = 2232\n",
      "number of img slices = 2232\n",
      "number of mask slices = 2976\n",
      "number of img slices = 2976\n",
      "number of mask slices = 3720\n",
      "number of img slices = 3720\n",
      "number of mask slices = 4464\n",
      "number of img slices = 4464\n",
      "number of mask slices = 5208\n",
      "number of img slices = 5208\n",
      "number of mask slices = 5952\n",
      "number of img slices = 5952\n",
      "\n",
      "Using 186 shard(s) for 5952 files, with up to 32 samples per shard\n"
     ]
    },
    {
     "name": "stderr",
     "output_type": "stream",
     "text": [
      "100%|██████████| 186/186 [00:02<00:00, 88.76it/s]\n"
     ]
    },
    {
     "name": "stdout",
     "output_type": "stream",
     "text": [
      "\n",
      "Wrote 5952 elements to TFRecord\n",
      "MOD021KM-A2018091.0000v25\n",
      "MOD021KM-A2018091.1010v25\n",
      "number of mask slices = 6\n",
      "number of img slices = 6\n",
      "14\n",
      "number of mask slices = 12\n",
      "number of img slices = 12\n",
      "number of mask slices = 18\n",
      "number of img slices = 18\n",
      "number of mask slices = 24\n",
      "number of img slices = 24\n",
      "number of mask slices = 30\n",
      "number of img slices = 30\n",
      "number of mask slices = 36\n",
      "number of img slices = 36\n",
      "number of mask slices = 42\n",
      "number of img slices = 42\n",
      "number of mask slices = 48\n",
      "number of img slices = 48\n",
      "\n",
      "Using 2 shard(s) for 48 files, with up to 32 samples per shard\n"
     ]
    },
    {
     "name": "stderr",
     "output_type": "stream",
     "text": [
      "100%|██████████| 2/2 [00:00<00:00, 113.32it/s]"
     ]
    },
    {
     "name": "stdout",
     "output_type": "stream",
     "text": [
      "\n",
      "Wrote 48 elements to TFRecord\n"
     ]
    },
    {
     "name": "stderr",
     "output_type": "stream",
     "text": [
      "\n"
     ]
    },
    {
     "name": "stdout",
     "output_type": "stream",
     "text": [
      "MOD021KM-A2018091.1320v25\n",
      "number of mask slices = 48\n",
      "number of img slices = 48\n",
      "623\n",
      "number of mask slices = 96\n",
      "number of img slices = 96\n",
      "number of mask slices = 144\n",
      "number of img slices = 144\n",
      "number of mask slices = 192\n",
      "number of img slices = 192\n",
      "number of mask slices = 240\n",
      "number of img slices = 240\n",
      "number of mask slices = 288\n",
      "number of img slices = 288\n",
      "number of mask slices = 336\n",
      "number of img slices = 336\n",
      "number of mask slices = 384\n",
      "number of img slices = 384\n",
      "\n",
      "Using 12 shard(s) for 384 files, with up to 32 samples per shard\n"
     ]
    },
    {
     "name": "stderr",
     "output_type": "stream",
     "text": [
      "100%|██████████| 12/12 [00:00<00:00, 97.41it/s]"
     ]
    },
    {
     "name": "stdout",
     "output_type": "stream",
     "text": [
      "\n",
      "Wrote 384 elements to TFRecord\n"
     ]
    },
    {
     "name": "stderr",
     "output_type": "stream",
     "text": [
      "\n"
     ]
    },
    {
     "name": "stdout",
     "output_type": "stream",
     "text": [
      "MOD021KM-A2018091.0400v25\n",
      "number of mask slices = 114\n",
      "number of img slices = 114\n",
      "991\n",
      "number of mask slices = 228\n",
      "number of img slices = 228\n",
      "number of mask slices = 342\n",
      "number of img slices = 342\n",
      "number of mask slices = 456\n",
      "number of img slices = 456\n",
      "number of mask slices = 570\n",
      "number of img slices = 570\n",
      "number of mask slices = 684\n",
      "number of img slices = 684\n",
      "number of mask slices = 798\n",
      "number of img slices = 798\n",
      "number of mask slices = 912\n",
      "number of img slices = 912\n",
      "\n",
      "Using 29 shard(s) for 912 files, with up to 32 samples per shard\n"
     ]
    },
    {
     "name": "stderr",
     "output_type": "stream",
     "text": [
      "100%|██████████| 29/29 [00:00<00:00, 96.71it/s]\n"
     ]
    },
    {
     "name": "stdout",
     "output_type": "stream",
     "text": [
      "\n",
      "Wrote 912 elements to TFRecord\n",
      "MOD021KM-A2018091.1650v25\n",
      "MOD021KM-A2018091.1040v25\n",
      "MOD021KM-A2018091.0145v25\n",
      "number of mask slices = 522\n",
      "number of img slices = 522\n",
      "7402\n",
      "number of mask slices = 1044\n",
      "number of img slices = 1044\n",
      "number of mask slices = 1566\n",
      "number of img slices = 1566\n",
      "number of mask slices = 2088\n",
      "number of img slices = 2088\n",
      "number of mask slices = 2610\n",
      "number of img slices = 2610\n",
      "number of mask slices = 3132\n",
      "number of img slices = 3132\n",
      "number of mask slices = 3654\n",
      "number of img slices = 3654\n",
      "number of mask slices = 4176\n",
      "number of img slices = 4176\n",
      "\n",
      "Using 131 shard(s) for 4176 files, with up to 32 samples per shard\n"
     ]
    },
    {
     "name": "stderr",
     "output_type": "stream",
     "text": [
      "100%|██████████| 131/131 [00:01<00:00, 93.70it/s]\n"
     ]
    },
    {
     "name": "stdout",
     "output_type": "stream",
     "text": [
      "\n",
      "Wrote 4176 elements to TFRecord\n",
      "MOD021KM-A2018091.1535v25\n",
      "MOD021KM-A2018091.0705v25\n",
      "number of mask slices = 84\n",
      "number of img slices = 84\n",
      "1131\n",
      "number of mask slices = 168\n",
      "number of img slices = 168\n",
      "number of mask slices = 252\n",
      "number of img slices = 252\n",
      "number of mask slices = 336\n",
      "number of img slices = 336\n",
      "number of mask slices = 420\n",
      "number of img slices = 420\n",
      "number of mask slices = 504\n",
      "number of img slices = 504\n",
      "number of mask slices = 588\n",
      "number of img slices = 588\n",
      "number of mask slices = 672\n",
      "number of img slices = 672\n",
      "\n",
      "Using 21 shard(s) for 672 files, with up to 32 samples per shard\n"
     ]
    },
    {
     "name": "stderr",
     "output_type": "stream",
     "text": [
      "100%|██████████| 21/21 [00:00<00:00, 89.41it/s]\n"
     ]
    },
    {
     "name": "stdout",
     "output_type": "stream",
     "text": [
      "\n",
      "Wrote 672 elements to TFRecord\n",
      "MOD021KM-A2018091.1035v25\n",
      "MOD021KM-A2018091.1445v25\n",
      "number of mask slices = 72\n",
      "number of img slices = 72\n",
      "1537\n",
      "number of mask slices = 144\n",
      "number of img slices = 144\n",
      "number of mask slices = 216\n",
      "number of img slices = 216\n",
      "number of mask slices = 288\n",
      "number of img slices = 288\n",
      "number of mask slices = 360\n",
      "number of img slices = 360\n",
      "number of mask slices = 432\n",
      "number of img slices = 432\n",
      "number of mask slices = 504\n",
      "number of img slices = 504\n",
      "number of mask slices = 576\n",
      "number of img slices = 576\n",
      "\n",
      "Using 18 shard(s) for 576 files, with up to 32 samples per shard\n"
     ]
    },
    {
     "name": "stderr",
     "output_type": "stream",
     "text": [
      "100%|██████████| 18/18 [00:00<00:00, 92.24it/s]\n"
     ]
    },
    {
     "name": "stdout",
     "output_type": "stream",
     "text": [
      "\n",
      "Wrote 576 elements to TFRecord\n",
      "MOD021KM-A2018091.0030v25\n",
      "number of mask slices = 204\n",
      "number of img slices = 204\n",
      "3282\n",
      "number of mask slices = 408\n",
      "number of img slices = 408\n",
      "number of mask slices = 612\n",
      "number of img slices = 612\n",
      "number of mask slices = 816\n",
      "number of img slices = 816\n",
      "number of mask slices = 1020\n",
      "number of img slices = 1020\n",
      "number of mask slices = 1224\n",
      "number of img slices = 1224\n",
      "number of mask slices = 1428\n",
      "number of img slices = 1428\n",
      "number of mask slices = 1632\n",
      "number of img slices = 1632\n",
      "\n",
      "Using 51 shard(s) for 1632 files, with up to 32 samples per shard\n"
     ]
    },
    {
     "name": "stderr",
     "output_type": "stream",
     "text": [
      "100%|██████████| 51/51 [00:00<00:00, 88.06it/s]\n"
     ]
    },
    {
     "name": "stdout",
     "output_type": "stream",
     "text": [
      "\n",
      "Wrote 1632 elements to TFRecord\n",
      "MOD021KM-A2018091.1335v25\n",
      "MOD021KM-A2018091.0635v25\n",
      "MOD021KM-A2018091.0220v25\n",
      "number of mask slices = 6\n",
      "number of img slices = 6\n",
      "12\n",
      "number of mask slices = 12\n",
      "number of img slices = 12\n",
      "number of mask slices = 18\n",
      "number of img slices = 18\n",
      "number of mask slices = 24\n",
      "number of img slices = 24\n",
      "number of mask slices = 30\n",
      "number of img slices = 30\n",
      "number of mask slices = 36\n",
      "number of img slices = 36\n",
      "number of mask slices = 42\n",
      "number of img slices = 42\n",
      "number of mask slices = 48\n",
      "number of img slices = 48\n",
      "\n",
      "Using 2 shard(s) for 48 files, with up to 32 samples per shard\n"
     ]
    },
    {
     "name": "stderr",
     "output_type": "stream",
     "text": [
      "100%|██████████| 2/2 [00:00<00:00, 103.54it/s]"
     ]
    },
    {
     "name": "stdout",
     "output_type": "stream",
     "text": [
      "\n",
      "Wrote 48 elements to TFRecord\n"
     ]
    },
    {
     "name": "stderr",
     "output_type": "stream",
     "text": [
      "\n"
     ]
    },
    {
     "name": "stdout",
     "output_type": "stream",
     "text": [
      "MOD021KM-A2018091.0455v25\n",
      "MOD021KM-A2018091.1030v25\n",
      "number of mask slices = 456\n",
      "number of img slices = 456\n",
      "15277\n",
      "number of mask slices = 912\n",
      "number of img slices = 912\n",
      "number of mask slices = 1368\n",
      "number of img slices = 1368\n",
      "number of mask slices = 1824\n",
      "number of img slices = 1824\n",
      "number of mask slices = 2280\n",
      "number of img slices = 2280\n",
      "number of mask slices = 2736\n",
      "number of img slices = 2736\n",
      "number of mask slices = 3192\n",
      "number of img slices = 3192\n",
      "number of mask slices = 3648\n",
      "number of img slices = 3648\n",
      "\n",
      "Using 114 shard(s) for 3648 files, with up to 32 samples per shard\n"
     ]
    },
    {
     "name": "stderr",
     "output_type": "stream",
     "text": [
      "100%|██████████| 114/114 [00:01<00:00, 92.84it/s]\n"
     ]
    },
    {
     "name": "stdout",
     "output_type": "stream",
     "text": [
      "\n",
      "Wrote 3648 elements to TFRecord\n",
      "MOD021KM-A2018091.0950v25\n",
      "MOD021KM-A2018091.1345v25\n",
      "number of mask slices = 516\n",
      "number of img slices = 516\n",
      "15349\n",
      "number of mask slices = 1032\n",
      "number of img slices = 1032\n",
      "number of mask slices = 1548\n",
      "number of img slices = 1548\n",
      "number of mask slices = 2064\n",
      "number of img slices = 2064\n",
      "number of mask slices = 2580\n",
      "number of img slices = 2580\n",
      "number of mask slices = 3096\n",
      "number of img slices = 3096\n",
      "number of mask slices = 3612\n",
      "number of img slices = 3612\n",
      "number of mask slices = 4128\n",
      "number of img slices = 4128\n",
      "\n",
      "Using 129 shard(s) for 4128 files, with up to 32 samples per shard\n"
     ]
    },
    {
     "name": "stderr",
     "output_type": "stream",
     "text": [
      "100%|██████████| 129/129 [00:01<00:00, 92.79it/s]\n"
     ]
    },
    {
     "name": "stdout",
     "output_type": "stream",
     "text": [
      "\n",
      "Wrote 4128 elements to TFRecord\n",
      "MOD021KM-A2018091.1350v25\n",
      "number of mask slices = 18\n",
      "number of img slices = 18\n",
      "139\n",
      "number of mask slices = 36\n",
      "number of img slices = 36\n",
      "number of mask slices = 54\n",
      "number of img slices = 54\n",
      "number of mask slices = 72\n",
      "number of img slices = 72\n",
      "number of mask slices = 90\n",
      "number of img slices = 90\n",
      "number of mask slices = 108\n",
      "number of img slices = 108\n",
      "number of mask slices = 126\n",
      "number of img slices = 126\n",
      "number of mask slices = 144\n",
      "number of img slices = 144\n",
      "\n",
      "Using 5 shard(s) for 144 files, with up to 32 samples per shard\n"
     ]
    },
    {
     "name": "stderr",
     "output_type": "stream",
     "text": [
      "100%|██████████| 5/5 [00:00<00:00, 105.56it/s]"
     ]
    },
    {
     "name": "stdout",
     "output_type": "stream",
     "text": [
      "\n",
      "Wrote 144 elements to TFRecord\n"
     ]
    },
    {
     "name": "stderr",
     "output_type": "stream",
     "text": [
      "\n"
     ]
    },
    {
     "name": "stdout",
     "output_type": "stream",
     "text": [
      "MOD021KM-A2018091.0815v25\n",
      "number of mask slices = 24\n",
      "number of img slices = 24\n",
      "201\n",
      "number of mask slices = 48\n",
      "number of img slices = 48\n",
      "number of mask slices = 72\n",
      "number of img slices = 72\n",
      "number of mask slices = 96\n",
      "number of img slices = 96\n",
      "number of mask slices = 120\n",
      "number of img slices = 120\n",
      "number of mask slices = 144\n",
      "number of img slices = 144\n",
      "number of mask slices = 168\n",
      "number of img slices = 168\n",
      "number of mask slices = 192\n",
      "number of img slices = 192\n",
      "\n",
      "Using 6 shard(s) for 192 files, with up to 32 samples per shard\n"
     ]
    },
    {
     "name": "stderr",
     "output_type": "stream",
     "text": [
      "100%|██████████| 6/6 [00:00<00:00, 101.68it/s]"
     ]
    },
    {
     "name": "stdout",
     "output_type": "stream",
     "text": [
      "\n",
      "Wrote 192 elements to TFRecord\n"
     ]
    },
    {
     "name": "stderr",
     "output_type": "stream",
     "text": [
      "\n"
     ]
    },
    {
     "name": "stdout",
     "output_type": "stream",
     "text": [
      "MOD021KM-A2018091.1005v25\n",
      "number of mask slices = 270\n",
      "number of img slices = 270\n",
      "4584\n",
      "number of mask slices = 540\n",
      "number of img slices = 540\n",
      "number of mask slices = 810\n",
      "number of img slices = 810\n",
      "number of mask slices = 1080\n",
      "number of img slices = 1080\n",
      "number of mask slices = 1350\n",
      "number of img slices = 1350\n",
      "number of mask slices = 1620\n",
      "number of img slices = 1620\n",
      "number of mask slices = 1890\n",
      "number of img slices = 1890\n",
      "number of mask slices = 2160\n",
      "number of img slices = 2160\n",
      "\n",
      "Using 68 shard(s) for 2160 files, with up to 32 samples per shard\n"
     ]
    },
    {
     "name": "stderr",
     "output_type": "stream",
     "text": [
      "100%|██████████| 68/68 [00:00<00:00, 93.92it/s] \n"
     ]
    },
    {
     "name": "stdout",
     "output_type": "stream",
     "text": [
      "\n",
      "Wrote 2160 elements to TFRecord\n",
      "MOD021KM-A2018091.1215v25\n",
      "number of mask slices = 18\n",
      "number of img slices = 18\n",
      "150\n",
      "number of mask slices = 36\n",
      "number of img slices = 36\n",
      "number of mask slices = 54\n",
      "number of img slices = 54\n",
      "number of mask slices = 72\n",
      "number of img slices = 72\n",
      "number of mask slices = 90\n",
      "number of img slices = 90\n",
      "number of mask slices = 108\n",
      "number of img slices = 108\n",
      "number of mask slices = 126\n",
      "number of img slices = 126\n",
      "number of mask slices = 144\n",
      "number of img slices = 144\n",
      "\n",
      "Using 5 shard(s) for 144 files, with up to 32 samples per shard\n"
     ]
    },
    {
     "name": "stderr",
     "output_type": "stream",
     "text": [
      "100%|██████████| 5/5 [00:00<00:00, 146.37it/s]"
     ]
    },
    {
     "name": "stdout",
     "output_type": "stream",
     "text": [
      "\n",
      "Wrote 144 elements to TFRecord\n"
     ]
    },
    {
     "name": "stderr",
     "output_type": "stream",
     "text": [
      "\n"
     ]
    },
    {
     "name": "stdout",
     "output_type": "stream",
     "text": [
      "MOD021KM-A2018091.1715v25\n",
      "MOD021KM-A2018091.0005v25\n",
      "number of mask slices = 168\n",
      "number of img slices = 168\n",
      "2568\n",
      "number of mask slices = 336\n",
      "number of img slices = 336\n",
      "number of mask slices = 504\n",
      "number of img slices = 504\n",
      "number of mask slices = 672\n",
      "number of img slices = 672\n",
      "number of mask slices = 840\n",
      "number of img slices = 840\n",
      "number of mask slices = 1008\n",
      "number of img slices = 1008\n",
      "number of mask slices = 1176\n",
      "number of img slices = 1176\n",
      "number of mask slices = 1344\n",
      "number of img slices = 1344\n",
      "\n",
      "Using 42 shard(s) for 1344 files, with up to 32 samples per shard\n"
     ]
    },
    {
     "name": "stderr",
     "output_type": "stream",
     "text": [
      "100%|██████████| 42/42 [00:00<00:00, 97.07it/s] \n"
     ]
    },
    {
     "name": "stdout",
     "output_type": "stream",
     "text": [
      "\n",
      "Wrote 1344 elements to TFRecord\n",
      "MOD021KM-A2018091.0700v25\n",
      "MOD021KM-A2018091.1810v25\n",
      "MOD021KM-A2018091.0710v25\n",
      "number of mask slices = 336\n",
      "number of img slices = 336\n",
      "4717\n",
      "number of mask slices = 672\n",
      "number of img slices = 672\n",
      "number of mask slices = 1008\n",
      "number of img slices = 1008\n",
      "number of mask slices = 1344\n",
      "number of img slices = 1344\n",
      "number of mask slices = 1680\n",
      "number of img slices = 1680\n",
      "number of mask slices = 2016\n",
      "number of img slices = 2016\n",
      "number of mask slices = 2352\n",
      "number of img slices = 2352\n",
      "number of mask slices = 2688\n",
      "number of img slices = 2688\n",
      "\n",
      "Using 84 shard(s) for 2688 files, with up to 32 samples per shard\n"
     ]
    },
    {
     "name": "stderr",
     "output_type": "stream",
     "text": [
      "100%|██████████| 84/84 [00:00<00:00, 92.14it/s]\n"
     ]
    },
    {
     "name": "stdout",
     "output_type": "stream",
     "text": [
      "\n",
      "Wrote 2688 elements to TFRecord\n",
      "MOD021KM-A2018091.0645v25\n",
      "MOD021KM-A2018091.0205v25\n",
      "MOD021KM-A2018091.1510v25\n",
      "MOD021KM-A2018091.1530v25\n",
      "number of mask slices = 192\n",
      "number of img slices = 192\n",
      "2644\n",
      "number of mask slices = 384\n",
      "number of img slices = 384\n",
      "number of mask slices = 576\n",
      "number of img slices = 576\n",
      "number of mask slices = 768\n",
      "number of img slices = 768\n",
      "number of mask slices = 960\n",
      "number of img slices = 960\n",
      "number of mask slices = 1152\n",
      "number of img slices = 1152\n",
      "number of mask slices = 1344\n",
      "number of img slices = 1344\n",
      "number of mask slices = 1536\n",
      "number of img slices = 1536\n",
      "\n",
      "Using 48 shard(s) for 1536 files, with up to 32 samples per shard\n"
     ]
    },
    {
     "name": "stderr",
     "output_type": "stream",
     "text": [
      "100%|██████████| 48/48 [00:00<00:00, 94.07it/s]\n"
     ]
    },
    {
     "name": "stdout",
     "output_type": "stream",
     "text": [
      "\n",
      "Wrote 1536 elements to TFRecord\n",
      "MOD021KM-A2018091.1205v25\n",
      "number of mask slices = 1578\n",
      "number of img slices = 1578\n",
      "51851\n",
      "number of mask slices = 3156\n",
      "number of img slices = 3156\n",
      "number of mask slices = 4734\n",
      "number of img slices = 4734\n",
      "number of mask slices = 6312\n",
      "number of img slices = 6312\n",
      "number of mask slices = 7890\n",
      "number of img slices = 7890\n",
      "number of mask slices = 9468\n",
      "number of img slices = 9468\n",
      "number of mask slices = 11046\n",
      "number of img slices = 11046\n",
      "number of mask slices = 12624\n",
      "number of img slices = 12624\n",
      "\n",
      "Using 395 shard(s) for 12624 files, with up to 32 samples per shard\n"
     ]
    },
    {
     "name": "stderr",
     "output_type": "stream",
     "text": [
      "100%|██████████| 395/395 [00:04<00:00, 97.95it/s] \n"
     ]
    },
    {
     "name": "stdout",
     "output_type": "stream",
     "text": [
      "\n",
      "Wrote 12624 elements to TFRecord\n",
      "MOD021KM-A2018091.0510v25\n",
      "number of mask slices = 24\n",
      "number of img slices = 24\n",
      "213\n",
      "number of mask slices = 48\n",
      "number of img slices = 48\n",
      "number of mask slices = 72\n",
      "number of img slices = 72\n",
      "number of mask slices = 96\n",
      "number of img slices = 96\n",
      "number of mask slices = 120\n",
      "number of img slices = 120\n",
      "number of mask slices = 144\n",
      "number of img slices = 144\n",
      "number of mask slices = 168\n",
      "number of img slices = 168\n",
      "number of mask slices = 192\n",
      "number of img slices = 192\n",
      "\n",
      "Using 6 shard(s) for 192 files, with up to 32 samples per shard\n"
     ]
    },
    {
     "name": "stderr",
     "output_type": "stream",
     "text": [
      "100%|██████████| 6/6 [00:00<00:00, 105.87it/s]"
     ]
    },
    {
     "name": "stdout",
     "output_type": "stream",
     "text": [
      "\n",
      "Wrote 192 elements to TFRecord\n"
     ]
    },
    {
     "name": "stderr",
     "output_type": "stream",
     "text": [
      "\n"
     ]
    },
    {
     "name": "stdout",
     "output_type": "stream",
     "text": [
      "MOD021KM-A2018091.1815v25\n",
      "number of mask slices = 168\n",
      "number of img slices = 168\n",
      "4235\n",
      "number of mask slices = 336\n",
      "number of img slices = 336\n",
      "number of mask slices = 504\n",
      "number of img slices = 504\n",
      "number of mask slices = 672\n",
      "number of img slices = 672\n",
      "number of mask slices = 840\n",
      "number of img slices = 840\n",
      "number of mask slices = 1008\n",
      "number of img slices = 1008\n",
      "number of mask slices = 1176\n",
      "number of img slices = 1176\n",
      "number of mask slices = 1344\n",
      "number of img slices = 1344\n",
      "\n",
      "Using 42 shard(s) for 1344 files, with up to 32 samples per shard\n"
     ]
    },
    {
     "name": "stderr",
     "output_type": "stream",
     "text": [
      "100%|██████████| 42/42 [00:00<00:00, 96.95it/s]\n"
     ]
    },
    {
     "name": "stdout",
     "output_type": "stream",
     "text": [
      "\n",
      "Wrote 1344 elements to TFRecord\n",
      "MOD021KM-A2018091.0715v25\n",
      "number of mask slices = 108\n",
      "number of img slices = 108\n",
      "1470\n",
      "number of mask slices = 216\n",
      "number of img slices = 216\n",
      "number of mask slices = 324\n",
      "number of img slices = 324\n",
      "number of mask slices = 432\n",
      "number of img slices = 432\n",
      "number of mask slices = 540\n",
      "number of img slices = 540\n",
      "number of mask slices = 648\n",
      "number of img slices = 648\n",
      "number of mask slices = 756\n",
      "number of img slices = 756\n",
      "number of mask slices = 864\n",
      "number of img slices = 864\n",
      "\n",
      "Using 27 shard(s) for 864 files, with up to 32 samples per shard\n"
     ]
    },
    {
     "name": "stderr",
     "output_type": "stream",
     "text": [
      "100%|██████████| 27/27 [00:00<00:00, 98.24it/s] \n"
     ]
    },
    {
     "name": "stdout",
     "output_type": "stream",
     "text": [
      "\n",
      "Wrote 864 elements to TFRecord\n",
      "MOD021KM-A2018091.1645v25\n",
      "number of mask slices = 54\n",
      "number of img slices = 54\n",
      "524\n",
      "number of mask slices = 108\n",
      "number of img slices = 108\n",
      "number of mask slices = 162\n",
      "number of img slices = 162\n",
      "number of mask slices = 216\n",
      "number of img slices = 216\n",
      "number of mask slices = 270\n",
      "number of img slices = 270\n",
      "number of mask slices = 324\n",
      "number of img slices = 324\n",
      "number of mask slices = 378\n",
      "number of img slices = 378\n",
      "number of mask slices = 432\n",
      "number of img slices = 432\n",
      "\n",
      "Using 14 shard(s) for 432 files, with up to 32 samples per shard\n"
     ]
    },
    {
     "name": "stderr",
     "output_type": "stream",
     "text": [
      "100%|██████████| 14/14 [00:00<00:00, 95.37it/s]\n"
     ]
    },
    {
     "name": "stdout",
     "output_type": "stream",
     "text": [
      "\n",
      "Wrote 432 elements to TFRecord\n",
      "MOD021KM-A2018091.1655v25\n",
      "number of mask slices = 108\n",
      "number of img slices = 108\n",
      "1881\n",
      "number of mask slices = 216\n",
      "number of img slices = 216\n",
      "number of mask slices = 324\n",
      "number of img slices = 324\n",
      "number of mask slices = 432\n",
      "number of img slices = 432\n",
      "number of mask slices = 540\n",
      "number of img slices = 540\n",
      "number of mask slices = 648\n",
      "number of img slices = 648\n",
      "number of mask slices = 756\n",
      "number of img slices = 756\n",
      "number of mask slices = 864\n",
      "number of img slices = 864\n",
      "\n",
      "Using 27 shard(s) for 864 files, with up to 32 samples per shard\n"
     ]
    },
    {
     "name": "stderr",
     "output_type": "stream",
     "text": [
      "100%|██████████| 27/27 [00:00<00:00, 96.86it/s] \n"
     ]
    },
    {
     "name": "stdout",
     "output_type": "stream",
     "text": [
      "\n",
      "Wrote 864 elements to TFRecord\n",
      "MOD021KM-A2018091.1450v25\n",
      "number of mask slices = 180\n",
      "number of img slices = 180\n",
      "2285\n",
      "number of mask slices = 360\n",
      "number of img slices = 360\n",
      "number of mask slices = 540\n",
      "number of img slices = 540\n",
      "number of mask slices = 720\n",
      "number of img slices = 720\n",
      "number of mask slices = 900\n",
      "number of img slices = 900\n",
      "number of mask slices = 1080\n",
      "number of img slices = 1080\n",
      "number of mask slices = 1260\n",
      "number of img slices = 1260\n",
      "number of mask slices = 1440\n",
      "number of img slices = 1440\n",
      "\n",
      "Using 45 shard(s) for 1440 files, with up to 32 samples per shard\n"
     ]
    },
    {
     "name": "stderr",
     "output_type": "stream",
     "text": [
      "100%|██████████| 45/45 [00:00<00:00, 97.25it/s]\n"
     ]
    },
    {
     "name": "stdout",
     "output_type": "stream",
     "text": [
      "\n",
      "Wrote 1440 elements to TFRecord\n",
      "MOD021KM-A2018091.0810v25\n",
      "MOD021KM-A2018091.0540v25\n",
      "number of mask slices = 12\n",
      "number of img slices = 12\n",
      "11\n",
      "number of mask slices = 24\n",
      "number of img slices = 24\n",
      "number of mask slices = 36\n",
      "number of img slices = 36\n",
      "number of mask slices = 48\n",
      "number of img slices = 48\n",
      "number of mask slices = 60\n",
      "number of img slices = 60\n",
      "number of mask slices = 72\n",
      "number of img slices = 72\n",
      "number of mask slices = 84\n",
      "number of img slices = 84\n",
      "number of mask slices = 96\n",
      "number of img slices = 96\n",
      "\n",
      "Using 3 shard(s) for 96 files, with up to 32 samples per shard\n"
     ]
    },
    {
     "name": "stderr",
     "output_type": "stream",
     "text": [
      "100%|██████████| 3/3 [00:00<00:00, 105.57it/s]"
     ]
    },
    {
     "name": "stdout",
     "output_type": "stream",
     "text": [
      "\n",
      "Wrote 96 elements to TFRecord\n"
     ]
    },
    {
     "name": "stderr",
     "output_type": "stream",
     "text": [
      "\n"
     ]
    },
    {
     "name": "stdout",
     "output_type": "stream",
     "text": [
      "MOD021KM-A2018091.0010v25\n",
      "number of mask slices = 324\n",
      "number of img slices = 324\n",
      "5193\n",
      "number of mask slices = 648\n",
      "number of img slices = 648\n",
      "number of mask slices = 972\n",
      "number of img slices = 972\n",
      "number of mask slices = 1296\n",
      "number of img slices = 1296\n",
      "number of mask slices = 1620\n",
      "number of img slices = 1620\n",
      "number of mask slices = 1944\n",
      "number of img slices = 1944\n",
      "number of mask slices = 2268\n",
      "number of img slices = 2268\n",
      "number of mask slices = 2592\n",
      "number of img slices = 2592\n",
      "\n",
      "Using 81 shard(s) for 2592 files, with up to 32 samples per shard\n"
     ]
    },
    {
     "name": "stderr",
     "output_type": "stream",
     "text": [
      "100%|██████████| 81/81 [00:00<00:00, 92.89it/s]\n"
     ]
    },
    {
     "name": "stdout",
     "output_type": "stream",
     "text": [
      "\n",
      "Wrote 2592 elements to TFRecord\n",
      "MOD021KM-A2018091.0315v25\n",
      "MOD021KM-A2018091.0200v25\n",
      "number of mask slices = 12\n",
      "number of img slices = 12\n",
      "31\n",
      "number of mask slices = 24\n",
      "number of img slices = 24\n",
      "number of mask slices = 36\n",
      "number of img slices = 36\n",
      "number of mask slices = 48\n",
      "number of img slices = 48\n",
      "number of mask slices = 60\n",
      "number of img slices = 60\n",
      "number of mask slices = 72\n",
      "number of img slices = 72\n",
      "number of mask slices = 84\n",
      "number of img slices = 84\n",
      "number of mask slices = 96\n",
      "number of img slices = 96\n",
      "\n",
      "Using 3 shard(s) for 96 files, with up to 32 samples per shard\n"
     ]
    },
    {
     "name": "stderr",
     "output_type": "stream",
     "text": [
      "100%|██████████| 3/3 [00:00<00:00, 94.04it/s]"
     ]
    },
    {
     "name": "stdout",
     "output_type": "stream",
     "text": [
      "\n",
      "Wrote 96 elements to TFRecord\n"
     ]
    },
    {
     "name": "stderr",
     "output_type": "stream",
     "text": [
      "\n"
     ]
    },
    {
     "name": "stdout",
     "output_type": "stream",
     "text": [
      "MOD021KM-A2018091.0210v25\n",
      "MOD021KM-A2018091.0820v25\n",
      "number of mask slices = 36\n",
      "number of img slices = 36\n",
      "240\n",
      "number of mask slices = 72\n",
      "number of img slices = 72\n",
      "number of mask slices = 108\n",
      "number of img slices = 108\n",
      "number of mask slices = 144\n",
      "number of img slices = 144\n",
      "number of mask slices = 180\n",
      "number of img slices = 180\n",
      "number of mask slices = 216\n",
      "number of img slices = 216\n",
      "number of mask slices = 252\n",
      "number of img slices = 252\n",
      "number of mask slices = 288\n",
      "number of img slices = 288\n",
      "\n",
      "Using 9 shard(s) for 288 files, with up to 32 samples per shard\n"
     ]
    },
    {
     "name": "stderr",
     "output_type": "stream",
     "text": [
      "100%|██████████| 9/9 [00:00<00:00, 94.15it/s]"
     ]
    },
    {
     "name": "stdout",
     "output_type": "stream",
     "text": [
      "\n",
      "Wrote 288 elements to TFRecord\n"
     ]
    },
    {
     "name": "stderr",
     "output_type": "stream",
     "text": [
      "\n"
     ]
    }
   ],
   "source": [
    "\n",
    "\n",
    "\n",
    "fileList=tf.io.gfile.glob([save_TFrecord_path + '*' + DVERSION +'.tfrecords'])\n",
    "cnt = 0\n",
    "maskTPcount=np.zeros(np.shape(mask_list), dtype = float)\n",
    "\n",
    "for image, mask in image_ds:\n",
    "    sample_image, sample_mask = image, mask\n",
    "    filename = mask_list[cnt][-36:-14] + DVERSION\n",
    "    if NEWMASK:\n",
    "        filename=mask_list[cnt][-36-len('update'):-14-len('update')] + DVERSION #different names for cases with updatedmask\n",
    "    print(filename)\n",
    "    maskTPcount[cnt]= 0\n",
    "    cnt+=1\n",
    "    \n",
    "    #skip file if file already exists or nans/inf values are in images\n",
    "    if save_TFrecord_path+'1_1' + filename + '.tfrecords' in fileList:\n",
    "        continue\n",
    "\n",
    "    if np.any(np.isnan(sample_image)) or np.any(np.isinf(sample_image)):\n",
    "        #seems some values in sample_image[:,:,0] are inf sometimes\n",
    "        continue #sys.exit()\n",
    "\n",
    "    if np.any(np.isnan(sample_mask)) or np.any(np.isinf(sample_mask)):\n",
    "        #print('mask')\n",
    "        continue #sys.exit()\n",
    "\n",
    "\n",
    "    #find coordinates of all nonzero coordinates\n",
    "    nonzero =np.asarray(np.nonzero(np.float32(sample_image[:,:,-2]))).T\n",
    "    if len(nonzero)==0:\n",
    "        #at least 1 case is all zeros and breaks code\n",
    "        continue\n",
    "\n",
    "    #extract convexhull coordinates, first point and last point must be the same. \n",
    "    hull = ConvexHull(nonzero)\n",
    "    hull = np.vstack((nonzero[hull.vertices,0],nonzero[hull.vertices,1])).T\n",
    "    hull = np.vstack((hull,hull[0,:]))\n",
    "\n",
    "    #calculate angle of rotation for minimum bounding rectangle\n",
    "    angle, barea, bwidth, bheight, center_point, corner_points = minBoundingRect(hull)\n",
    "    \n",
    "    rotated_image, y_min, y_max, x_min, x_max = rotate_img(sample_image, angle=90-angle*180/np.pi)\n",
    "    rotated_labels, _, _, _, _ = rotate_img(sample_mask, angle=90-angle*180/np.pi)\n",
    "    \n",
    "    w = x_max-x_min\n",
    "    h = y_max-y_min\n",
    "    \n",
    "    #determine min/max dimensions\n",
    "    maxCaseDim = np.max([w,h])\n",
    "    minCaseDim = np.min([w,h])\n",
    "\n",
    "    #rotate 90 degrees to make width the bigger side if needed\n",
    "    if h > w:\n",
    "        rotated_image, y_min, y_max, x_min, x_max = rotate_img(rotated_image, angle=90)\n",
    "        rotated_image_zoom = rotated_image[y_min:y_max,x_min:x_max]\n",
    "        rotated_labels, _, _, _, _ = rotate_img(rotated_labels, angle=90)\n",
    "        rotated_labels_zoom = rotated_labels[y_min:y_max,x_min:x_max]\n",
    "    else:\n",
    "        rotated_image_zoom = rotated_image[y_min:y_max,x_min:x_max]\n",
    "        rotated_labels_zoom = rotated_labels[y_min:y_max,x_min:x_max]\n",
    " \n",
    "    #make images and mask have same h x w (2048,4096)\n",
    "    mask = np.zeros((2048,4096,1), dtype = float)\n",
    "    mask[0:rotated_labels_zoom.shape[0], 0:rotated_labels_zoom.shape[1]] += rotated_labels_zoom\n",
    "\n",
    "\n",
    "    img_rotated = np.zeros((2048,4096,NCHANNELS), dtype = float)\n",
    "    img_rotated[0:rotated_image_zoom.shape[0], 0:rotated_image_zoom.shape[1], :NCHANNELS-1] += rotated_image_zoom[:,:,1-NCHANNELS:]\n",
    "    # set last channel (valid channel) to 1 for the pixels containing part of the satellite image (keep 0 for the blank pixels)\n",
    "    img_rotated[img_rotated[:,:,-2] > 0 ,-1] = 1 \n",
    "\n",
    "    #check min and max values of channels\n",
    "    '''\n",
    "    c1rng = Rng_Extremes(img_test[:,:,0],c1rng)\n",
    "    c2rng = Rng_Extremes(img_test[:,:,1],c2rng)\n",
    "    c3rng = Rng_Extremes(img_test[:,:,2],c3rng)\n",
    "    c4rng = Rng_Extremes(img_test[:,:,3],c4rng)\n",
    "    c5rng = Rng_Extremes(img_test[:,:,4],c5rng)\n",
    "    c6rng = Rng_Extremes(img_test[:,:,5],c6rng)\n",
    "    c7rng = Rng_Extremes(img_test[:,:,6],c7rng)\n",
    "    '''\n",
    "   \n",
    "\n",
    "    img_rotated = np.float64(img_rotated)\n",
    "    #resize images to decreased resolution\n",
    "    #img_test = cv2.resize(img_test, dsize=(1024, 512), interpolation=cv2.INTER_NEAREST)\n",
    "    #mask = cv2.resize(mask, dsize=(1024, 512), interpolation=cv2.INTER_NEAREST)\n",
    "\n",
    "    #add missing dimensions\n",
    "    img_rotated = np.expand_dims(img_rotated, axis=0)\n",
    "    mask = np.expand_dims(mask, axis=0)\n",
    "\n",
    "    #set zeros to match min value in pixel range (min value is approximately 0 in first three channels)\n",
    "    if NCHANNELS-5>0:\n",
    "        tmp = img_rotated[:,:,:,NCHANNELS-5:]\n",
    "        tmp[tmp==0]=17000\n",
    "        img_rotated[:,:,:,NCHANNELS-5:]=tmp\n",
    "        BT_rng = np.float64([17000, 34000]) #this range is good for 4 upper channels. assuming range of 170-340 K (BT is multiplied by 100)\n",
    "        img_rotated[:,:,:,NCHANNELS-5:-1] = (img_rotated[:,:,:,NCHANNELS-5:-1]-np.mean(BT_rng)) / ((BT_rng[1]-BT_rng[0])/2) \n",
    "        BT_rng = np.float64([0, 66535]) #lower 3 channels have a much larger range.\n",
    "        img_rotated[:,:,:,:NCHANNELS-5] = (img_rotated[:,:,:,:NCHANNELS-5]-np.mean(BT_rng)) / ((BT_rng[1]-BT_rng[0])/2)\n",
    "    else:\n",
    "        img_rotated[img_rotated==0]=17000\n",
    "        BT_rng = np.float64([17000, 34000]) #this range is good for 4 upper channels. assuming range of 170-340 K (BT is multiplied by 100)\n",
    "        img_rotated[:,:,:,:-1] = (img_rotated[:,:,:,:-1]-np.mean(BT_rng)) / ((BT_rng[1]-BT_rng[0])/2) \n",
    "\n",
    "    \n",
    "    #normalize img based on channel ranges and set mask to binary values identifying contrails\n",
    "    # for resized image\n",
    "    #mask[mask>0.5]=1\n",
    "    #mask[mask<=0.5]=0\n",
    "    # for full resolution image\n",
    "    mask[mask>1]=1\n",
    "    \n",
    "    #change type to decrease size\n",
    "    image = np.float16(img_rotated)\n",
    "    mask = np.int8(mask)\n",
    "    #cut up image to smaller pieces\n",
    "    \n",
    "    \n",
    "\n",
    "    \n",
    "    #augment and write images to file\n",
    "    maskTPcount[cnt-1]= sum(sum(mask))\n",
    "    \n",
    "    \n",
    "#    if sum(sum(mask))>0:\n",
    "#        write_images_to_tfr_long(img_test, mask, filename=filename, max_files=1, out_dir=save_TFrecord_path)\n",
    "#        augment_case(mask, img_test, 5)\n",
    "\n",
    "    \n",
    "    #create matrix with slices of granule of size \"img_slice_size\"\n",
    "    mask_slices = blockshaped(squeeze(mask), img_slice_size, img_slice_size)\n",
    "\n",
    "    n_slices = mask_slices.shape[0]\n",
    "    for i in range(image.shape[3]):\n",
    "        img_1slice = blockshaped(squeeze(image[:,:,:,i]), img_slice_size, img_slice_size)\n",
    "\n",
    "        if i == 0:\n",
    "            img_slices = img_1slice\n",
    "        elif i == 1:\n",
    "            img_slices = np.stack((img_slices, img_1slice), axis=3)\n",
    "        else:\n",
    "            img_slices = np.concatenate((img_slices, img_1slice[:,:,:,np.newaxis]),axis=-1)\n",
    "    ContrailPixelCnt=np.sum(np.sum(mask_slices,axis=1),axis=1)\n",
    "    \n",
    "    \n",
    "\n",
    "    #balance data set by removing most cases where pixel_threshold is not met \n",
    "    indexContrail = np.argwhere(ContrailPixelCnt > pixel_threshold)\n",
    "    if len(indexContrail)*contrail_ratio < len(ContrailPixelCnt): \n",
    "        remove_num = n_slices-len(indexContrail)*(contrail_ratio+1)\n",
    "    else:\n",
    "        remove_num = 0\n",
    "    number_of_imgs = n_slices-len(indexContrail)\n",
    "    indexnocontrail = np.delete(range(n_slices), indexContrail, 0) #array of slice index with no contrail\n",
    "    random_indices = np.random.choice(indexnocontrail, size=remove_num, replace=False) \n",
    "    balanced_mask_slices = np.delete(mask_slices, arange(n_slices)[random_indices], 0)\n",
    "    balanced_img_slices = np.delete(img_slices, arange(n_slices)[random_indices], 0)\n",
    "    if balanced_mask_slices.shape[0] == 0:\n",
    "        continue\n",
    "    print(f\"number of mask slices = {balanced_mask_slices.shape[0]}\")\n",
    "    print(f\"number of img slices = {balanced_img_slices.shape[0]}\")\n",
    "    if sum(sum(balanced_mask_slices))>0:\n",
    "        print(sum(sum(balanced_mask_slices)))\n",
    "        #plt.hist(ContrailPixelCnt.flatten())\n",
    "    \n",
    "\n",
    "\n",
    "  \n",
    "    # augment\n",
    "    \n",
    "    expanded_masks = np.expand_dims(balanced_mask_slices, axis=3)\n",
    "    case = np.concatenate((balanced_img_slices, expanded_masks), axis=3)\n",
    "    \n",
    "        \n",
    "    for i in range(7):\n",
    "        aug_mask_img = case\n",
    "        if i == 3:\n",
    "            aug_mask_img = tf.image.flip_left_right(aug_mask_img)\n",
    "        else:\n",
    "            aug_mask_img = tf.image.rot90(aug_mask_img)\n",
    "\n",
    "        aug_masks = np.int8(np.rint(aug_mask_img[:,:,:,-1]))\n",
    "        aug_imgs = np.float16(aug_mask_img[:,:,:,:-1])\n",
    "        balanced_img_slices = np.concatenate((balanced_img_slices, aug_imgs),axis=0)\n",
    "        balanced_mask_slices = np.concatenate((balanced_mask_slices, aug_masks),axis=0)\n",
    "        print(f\"number of mask slices = {balanced_mask_slices.shape[0]}\")\n",
    "        print(f\"number of img slices = {balanced_img_slices.shape[0]}\")\n",
    "    \n",
    "\n",
    "#    for i in range(augment_amount):\n",
    "#        aug_mask_img = data_augmentation(case)\n",
    "#        aug_masks = np.int8(np.rint(aug_mask_img[:,:,:,-1]))\n",
    "#        aug_imgs = np.float16(aug_mask_img[:,:,:,:-1])\n",
    "#        balanced_img_slices = np.concatenate((balanced_img_slices, aug_imgs),axis=0)\n",
    "#        balanced_mask_slices = np.concatenate((balanced_mask_slices, aug_masks),axis=0)\n",
    "#        print(f\"number of mask slices = {balanced_mask_slices.shape[0]}\")\n",
    "#        print(f\"number of img slices = {balanced_img_slices.shape[0]}\")\n",
    "        \n",
    "    write_images_to_tfr_long(balanced_img_slices, balanced_mask_slices, filename=filename, max_files=32, out_dir=save_TFrecord_path)\n",
    "    \n",
    "    \n",
    "    del balanced_img_slices, balanced_mask_slices, img_slices, mask_slices, img_rotated\n",
    "    gc.collect()\n"
   ]
  },
  {
   "cell_type": "code",
   "execution_count": 11,
   "id": "171a15fd-dc9f-40ef-ad01-f19e1e25526b",
   "metadata": {},
   "outputs": [
    {
     "ename": "NameError",
     "evalue": "name 'img_test' is not defined",
     "output_type": "error",
     "traceback": [
      "\u001b[0;31m---------------------------------------------------------------------------\u001b[0m",
      "\u001b[0;31mNameError\u001b[0m                                 Traceback (most recent call last)",
      "\u001b[0;32m<ipython-input-11-5f039b2780e9>\u001b[0m in \u001b[0;36m<module>\u001b[0;34m\u001b[0m\n\u001b[1;32m      1\u001b[0m \u001b[0mmask\u001b[0m \u001b[0;34m=\u001b[0m \u001b[0mnp\u001b[0m\u001b[0;34m.\u001b[0m\u001b[0mexpand_dims\u001b[0m\u001b[0;34m(\u001b[0m\u001b[0mmask\u001b[0m\u001b[0;34m,\u001b[0m \u001b[0maxis\u001b[0m\u001b[0;34m=\u001b[0m\u001b[0;36m3\u001b[0m\u001b[0;34m)\u001b[0m\u001b[0;34m\u001b[0m\u001b[0;34m\u001b[0m\u001b[0m\n\u001b[0;32m----> 2\u001b[0;31m \u001b[0mtrain_iter_5im\u001b[0m \u001b[0;34m=\u001b[0m \u001b[0mnp\u001b[0m\u001b[0;34m.\u001b[0m\u001b[0mconcatenate\u001b[0m\u001b[0;34m(\u001b[0m\u001b[0;34m(\u001b[0m\u001b[0mimg_test\u001b[0m\u001b[0;34m,\u001b[0m \u001b[0mmask\u001b[0m\u001b[0;34m)\u001b[0m\u001b[0;34m,\u001b[0m \u001b[0maxis\u001b[0m\u001b[0;34m=\u001b[0m\u001b[0;36m3\u001b[0m\u001b[0;34m)\u001b[0m\u001b[0;34m\u001b[0m\u001b[0;34m\u001b[0m\u001b[0m\n\u001b[0m\u001b[1;32m      3\u001b[0m \u001b[0;34m\u001b[0m\u001b[0m\n\u001b[1;32m      4\u001b[0m \u001b[0;34m\u001b[0m\u001b[0m\n\u001b[1;32m      5\u001b[0m \u001b[0mplt\u001b[0m\u001b[0;34m.\u001b[0m\u001b[0mfigure\u001b[0m\u001b[0;34m(\u001b[0m\u001b[0mfigsize\u001b[0m\u001b[0;34m=\u001b[0m\u001b[0;34m(\u001b[0m\u001b[0;36m10\u001b[0m\u001b[0;34m,\u001b[0m \u001b[0;36m10\u001b[0m\u001b[0;34m)\u001b[0m\u001b[0;34m)\u001b[0m\u001b[0;34m\u001b[0m\u001b[0;34m\u001b[0m\u001b[0m\n",
      "\u001b[0;31mNameError\u001b[0m: name 'img_test' is not defined"
     ]
    }
   ],
   "source": [
    "mask = np.expand_dims(mask, axis=3)\n",
    "train_iter_5im = np.concatenate((img_test, mask), axis=3)\n",
    "\n",
    "\n",
    "plt.figure(figsize=(10, 10))\n",
    "\n",
    "for i in range(12):\n",
    "    plt.subplot(4, 3, i+1)\n",
    "    plt.xticks([])\n",
    "    plt.yticks([])\n",
    "    plt.grid(False)\n",
    "    aug_img = data_augmentation(train_iter_5im)\n",
    "    mask = aug_img[:,:,:,-1]\n",
    "    img_test = aug_img[:,:,:,:-1]\n",
    "    mask = np.int8(mask)\n",
    "    mask[mask>0.5]=1\n",
    "    mask[mask<=0.5]=0\n",
    "   \n",
    "    plt.imshow(aug_img[0,:,:,6], cmap='gray')\n",
    "    \n",
    "    #plt.xlabel(class_types [np.argmax(train_iter_5label)], fontsize=13)\n",
    "plt.tight_layout()    \n",
    "plt.show()\n",
    "plt.imshow(aug_img[0,:,:,4], cmap='gray')"
   ]
  },
  {
   "cell_type": "code",
   "execution_count": null,
   "id": "841747f7-77f4-4126-9bf3-593cc2328f31",
   "metadata": {},
   "outputs": [],
   "source": [
    "plt.hist(maskTPcount,100)"
   ]
  },
  {
   "cell_type": "code",
   "execution_count": null,
   "id": "b6a050e8-74bc-4a85-bde9-029a2e1b90bf",
   "metadata": {},
   "outputs": [],
   "source": [
    "print(np.shape(x))\n",
    "y= np.concatenate((x, x), axis=2)\n",
    "z= np.concatenate((x, y), axis=2)\n",
    "print(np.shape(y))\n",
    "print(np.shape(z))"
   ]
  },
  {
   "cell_type": "code",
   "execution_count": null,
   "id": "75afad52-6e18-44bf-bb6b-180293936391",
   "metadata": {},
   "outputs": [],
   "source": [
    "np.shape(mask_list)"
   ]
  },
  {
   "cell_type": "code",
   "execution_count": null,
   "id": "6c388144-c108-4ae3-a414-5fb61966b55a",
   "metadata": {},
   "outputs": [],
   "source": [
    "sum(maskTPcount>100)"
   ]
  },
  {
   "cell_type": "code",
   "execution_count": null,
   "id": "2b23095e-6961-458e-8232-d84fb54d3172",
   "metadata": {},
   "outputs": [],
   "source": [
    "def display(display_list):\n",
    "    plt.figure(figsize=(15, 15))\n",
    "\n",
    "    title = ['Input Image', 'True Mask', 'Predicted Mask']\n",
    "\n",
    "    for i in range(len(display_list)):\n",
    "        plt.subplot(1, len(display_list), i+1)\n",
    "        plt.title(title[i])\n",
    "        print(i)\n",
    "        print(display_list[i].shape)\n",
    "        if i == 0:\n",
    "            plt.imshow(np.float32(display_list[i][0,:,:,-3]-display_list[i][0,:,:,-2]))\n",
    "        else:\n",
    "            plt.imshow(np.float32(1*display_list[i][0,:,:]))\n",
    "        plt.axis('off')\n",
    "    plt.show()\n",
    "\n",
    "print(img_test.shape)\n",
    "print(mask.shape)\n",
    "#mask[img_test[:,:,:,0] == 0] = 2\n",
    "#test = img_test[:,:,:,0] < .1\n",
    "print(img_test)\n",
    "display([img_test,mask])\n",
    "\n"
   ]
  }
 ],
 "metadata": {
  "kernelspec": {
   "display_name": "Python 3",
   "language": "python",
   "name": "python3"
  },
  "language_info": {
   "codemirror_mode": {
    "name": "ipython",
    "version": 3
   },
   "file_extension": ".py",
   "mimetype": "text/x-python",
   "name": "python",
   "nbconvert_exporter": "python",
   "pygments_lexer": "ipython3",
   "version": "3.9.7"
  }
 },
 "nbformat": 4,
 "nbformat_minor": 5
}
