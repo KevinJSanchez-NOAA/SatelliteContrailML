{
 "cells": [
  {
   "cell_type": "markdown",
   "id": "cf5a4b82-5b2f-4f6b-8fee-5de509857f2e",
   "metadata": {},
   "source": [
    "This code writes data into tf native format which is quick for loading. \n",
    "\n",
    "-need to make code to find minimum area bound rectangle and rotate images\n",
    "-then need to have this code loop through all images and save them for faster loading into training code."
   ]
  },
  {
   "cell_type": "code",
   "execution_count": 5,
   "id": "78ac7921-d866-4e73-abbc-06b0c220b2ec",
   "metadata": {},
   "outputs": [],
   "source": [
    "from format_input import *\n",
    "import numpy as np\n"
   ]
  },
  {
   "cell_type": "code",
   "execution_count": 6,
   "id": "b9703994-dd02-4dac-9ee8-ffca0749f545",
   "metadata": {},
   "outputs": [],
   "source": [
    "image_large_shape = (1024,1024*2,7)\n",
    "number_of_images_large = 2 #constraining to x number of files here, to not outgrow RAM capacities\n",
    "\n",
    "images_large = np.random.randint(low=0, high=256, size=(number_of_images_large, *image_large_shape), dtype=np.int16)\n",
    "labels_large = np.random.randint(low=0, high=256, size=(number_of_images_large, *(1024,1024*2)), dtype=np.int16)"
   ]
  },
  {
   "cell_type": "code",
   "execution_count": 7,
   "id": "a083b03c-6082-4ff5-93b8-27d576c30f9f",
   "metadata": {},
   "outputs": [
    {
     "name": "stdout",
     "output_type": "stream",
     "text": [
      "(2, 1024, 2048, 7)\n"
     ]
    }
   ],
   "source": [
    "print(images_large.shape)"
   ]
  },
  {
   "cell_type": "code",
   "execution_count": 3,
   "id": "6e751d65-c906-422b-99a8-769cd78e1466",
   "metadata": {},
   "outputs": [
    {
     "name": "stdout",
     "output_type": "stream",
     "text": [
      "\n",
      "Using 2 shard(s) for 2 files, with up to 1 samples per shard\n"
     ]
    },
    {
     "name": "stderr",
     "output_type": "stream",
     "text": [
      "100%|██████████| 2/2 [00:00<00:00,  3.10it/s]"
     ]
    },
    {
     "name": "stdout",
     "output_type": "stream",
     "text": [
      "\n",
      "Wrote 2 elements to TFRecord\n"
     ]
    },
    {
     "name": "stderr",
     "output_type": "stream",
     "text": [
      "\n"
     ]
    },
    {
     "data": {
      "text/plain": [
       "2"
      ]
     },
     "execution_count": 3,
     "metadata": {},
     "output_type": "execute_result"
    }
   ],
   "source": [
    "write_images_to_tfr_long(images_large, labels_large, filename=\"large_images\", max_files=1)\n"
   ]
  },
  {
   "cell_type": "code",
   "execution_count": 4,
   "id": "a392f03f-a565-4e8e-823c-e81ae4063fda",
   "metadata": {},
   "outputs": [
    {
     "name": "stdout",
     "output_type": "stream",
     "text": [
      "WARNING:tensorflow:AutoGraph could not transform <function parse_tfr_element at 0x7f0789097e50> and will run it as-is.\n",
      "Please report this to the TensorFlow team. When filing the bug, set the verbosity to 10 (on Linux, `export AUTOGRAPH_VERBOSITY=10`) and attach the full output.\n",
      "Cause: module 'gast' has no attribute 'Index'\n",
      "To silence this warning, decorate the function with @tf.autograph.experimental.do_not_convert\n",
      "WARNING: AutoGraph could not transform <function parse_tfr_element at 0x7f0789097e50> and will run it as-is.\n",
      "Please report this to the TensorFlow team. When filing the bug, set the verbosity to 10 (on Linux, `export AUTOGRAPH_VERBOSITY=10`) and attach the full output.\n",
      "Cause: module 'gast' has no attribute 'Index'\n",
      "To silence this warning, decorate the function with @tf.autograph.experimental.do_not_convert\n",
      "h =  1024\n",
      "<MapDataset shapes: ((1024, 2048, None), (1024, 2048)), types: (tf.int16, tf.int16)>\n",
      "(1024, 2048, 7)\n",
      "(1024, 2048)\n",
      "(1024, 2048, 7)\n",
      "(1024, 2048)\n"
     ]
    }
   ],
   "source": [
    "\n",
    "dataset_large = get_dataset_large()\n",
    "print(dataset_large)\n",
    "for sample in dataset_large.take(3):\n",
    "    print(sample[0].shape)\n",
    "    print(sample[1].shape)"
   ]
  }
 ],
 "metadata": {
  "kernelspec": {
   "display_name": "Python 3",
   "language": "python",
   "name": "python3"
  },
  "language_info": {
   "codemirror_mode": {
    "name": "ipython",
    "version": 3
   },
   "file_extension": ".py",
   "mimetype": "text/x-python",
   "name": "python",
   "nbconvert_exporter": "python",
   "pygments_lexer": "ipython3",
   "version": "3.9.7"
  }
 },
 "nbformat": 4,
 "nbformat_minor": 5
}
